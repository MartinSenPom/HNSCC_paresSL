{
 "cells": [
  {
   "cell_type": "markdown",
   "id": "329c5826-6b16-4608-8ea8-497cbef3375e",
   "metadata": {},
   "source": [
    "# Creación de las firmas de genes requeridas por muchos GSEA de tipo FCS\n",
    "```\n",
    "Autor: Martín Sende Pombo\n",
    "Fecha de creación: 31-12-2023\n",
    "Fecha de última modificación: 14-01-2024\n",
    "```"
   ]
  },
  {
   "cell_type": "markdown",
   "id": "87ed4fb4-cc2c-41a2-8bae-3e6a1192f086",
   "metadata": {},
   "source": [
    "Para efectuar un análisis de enriquecimiento de conjuntos de genes ([GSEA](https://en.wikipedia.org/wiki/Gene_set_enrichment_analysis)) o análisis de enriquecimiento funcional, empleando un método tipo [FCS](https://doi.org/10.3389/fgene.2020.00654) (puntuación de la clase funcional) como son [blitzGSEA](https://doi.org/10.1093/bioinformatics/btac076) y [CERNO](https://doi.org/10.1093/bioinformatics/btz447), se requiere una biblioteca de conjuntos de genes y una firma de expresión génica (otros métodos FCS parten de un conjunto de datos de expresión).\n",
    "\n",
    "La función de este cuardeno de Jupyter es generar dichas firmas de genes en [formato .rnk](https://software.broadinstitute.org/cancer/software/gsea/wiki/index.php/Data_formats#Ranked_Gene_Lists), para poder utilizarlas como datos de entrada para las herramientas mencionadas, a partir de los libros de Excel obtenidos tras ejecutar cualquiera de los flujos de trabajo contenidos en la carpeta \"Example_workflows\" de la SL-Cloud-es."
   ]
  },
  {
   "cell_type": "code",
   "execution_count": 1,
   "id": "4d4d5f41-7bb7-4519-98fd-692c03544ea3",
   "metadata": {
    "tags": []
   },
   "outputs": [
    {
     "name": "stdout",
     "output_type": "stream",
     "text": [
      "Defaulting to user installation because normal site-packages is not writeable\n",
      "Requirement already satisfied: pandas in d:\\anaconda3\\lib\\site-packages (2.0.3)\n",
      "Requirement already satisfied: python-dateutil>=2.8.2 in d:\\anaconda3\\lib\\site-packages (from pandas) (2.8.2)\n",
      "Requirement already satisfied: pytz>=2020.1 in d:\\anaconda3\\lib\\site-packages (from pandas) (2023.3.post1)\n",
      "Requirement already satisfied: tzdata>=2022.1 in d:\\anaconda3\\lib\\site-packages (from pandas) (2023.3)\n",
      "Requirement already satisfied: numpy>=1.21.0 in d:\\anaconda3\\lib\\site-packages (from pandas) (1.24.3)\n",
      "Requirement already satisfied: six>=1.5 in d:\\anaconda3\\lib\\site-packages (from python-dateutil>=2.8.2->pandas) (1.16.0)\n"
     ]
    }
   ],
   "source": [
    "# Posiblemente ya tenga esta biblioteca instalda por defecto, pero si no es el caso, ejecute este bloque de código.\n",
    "!pip3 install pandas"
   ]
  },
  {
   "cell_type": "markdown",
   "id": "6cc66b3e-bcaa-4c15-b6a1-68c90d7b2cd9",
   "metadata": {},
   "source": [
    "## Generación de los archivos .rnk temporales\n",
    "Los siguientes bloques de código generan archivos .rnk incompletos, pues les falta una fila correspondiente al gen para el que se buscaron los pares SL que contiene cada uno. Aún así, son necesarios y además puede utilizarlos como firmas de expresión génica para el GSEA, siempre que no quiera incluir en el análisis los genes de búsqueda. \n",
    "\n",
    "Dichos archivos son almacenados en el subdirectorio denominado \"Provisionales\" de esta misma carpeta y, posteriormente, podrá copiarlos y/o eliminarlos según conveniencia. No obstante, tenga en cuenta que si corre este código más de una vez seguida (sin ejecutar también los siguientes pasos), para leer hojas de cálculo creadas a partir de listas de genes con elementos repetidos, los archivos de lista ordenada (RNK) derivados de esas coincidencias se sobreescribirán con el más reciente."
   ]
  },
  {
   "cell_type": "markdown",
   "id": "37c54b6c-327e-4a0a-a90b-00234bb3598a",
   "metadata": {
    "tags": []
   },
   "source": [
    "### Para tablas de 5 columnas con la siguiente disposición:\n",
    "* Columna A -> **Inactive**: El gen de entrada del usuario.\n",
    "\n",
    "* Columna B -> **SL_Candidate/SDL_Candidate**: El par \"SL\" o \"SDL\" candidato. \n",
    "\n",
    "* Columna C -> **PValue0 or FDR0**: El valor p agregado o FDR obtenido con el método de Fisher, para PanCanAtlas o CRISPR. \n",
    "\n",
    "* Columna D -> **PValue1 or FDR1**: El valor p agregado o FDR obtenido con el método de Fisher, para CCLE o ARNhc.\n",
    "\n",
    "* Columna E -> **Tissue**: El/los tejido/s en el/los que se ha realizado el análisis.\n",
    "\n",
    "Si se modifica el nombre de las columnas en el código siguiente, estas pueden encontrarse en otro orden en la tabla, a excepción de la columna B (siempre debe ser la 2ª empezando por la izquierda)."
   ]
  },
  {
   "cell_type": "code",
   "execution_count": 38,
   "id": "c18e3849-a18b-47c2-8168-aadd0cb06458",
   "metadata": {
    "tags": []
   },
   "outputs": [
    {
     "name": "stdout",
     "output_type": "stream",
     "text": [
      "Proceso completado. Archivos .rnk incompletos guardados en la carpeta 'Provisionales'.\n"
     ]
    }
   ],
   "source": [
    "import os\n",
    "import pandas as pd\n",
    "\n",
    "def procesar_tabla(file_path):\n",
    "    # Leer el archivo .xlsx y almacenar la tabla en una variable\n",
    "    df = pd.read_excel(file_path)\n",
    "\n",
    "    # Obtener los nombres de las columnas\n",
    "    columna_E = df.columns[-1]\n",
    "    columna_C = df.columns[2]\n",
    "    columna_D = df.columns[3]\n",
    "    columna_A = df.columns[0]\n",
    "\n",
    "    # Eliminar la columna especificada\n",
    "    if columna_E in df.columns:\n",
    "        df = df.drop(columns=[columna_E])\n",
    "\n",
    "    # Procesar las columnas según las condiciones dadas\n",
    "    df[columna_D] = df.apply(lambda row: pd.NA if pd.isna(row[columna_D]) or (pd.notna(row[columna_C]) and row[columna_C] <= row[columna_D]) else row[columna_D], axis=1)\n",
    "    df[columna_C] = df.apply(lambda row: row[columna_D] if pd.isna(row[columna_C]) or (pd.notna(row[columna_D]) and row[columna_C] > row[columna_D]) else row[columna_C], axis=1)\n",
    "\n",
    "    # Eliminar la columna especificada\n",
    "    if columna_D in df.columns:\n",
    "        df = df.drop(columns=[columna_D])\n",
    "\n",
    "    # Crear una carpeta para los archivos .rnk si no existe\n",
    "    output_folder = 'Provisionales'\n",
    "    os.makedirs(output_folder, exist_ok=True)\n",
    "\n",
    "    # Guardar las filas en un archivo .rnk en la carpeta\n",
    "    grouped_by_inactive = df.groupby(columna_A)\n",
    "    for inactive_char, group in grouped_by_inactive:\n",
    "        output_file_path = os.path.join(output_folder, f'{inactive_char}.rnk')\n",
    "        if len(group) > 1:\n",
    "            group.drop(columns=[columna_A]).to_csv(output_file_path, sep='\\t', header=False, index=False)\n",
    "        else:\n",
    "            group.drop(columns=[columna_A]).to_csv(output_file_path, sep='\\t', header=False, index=False)\n",
    "\n",
    "# Uso del código con un archivo específico\n",
    "archivo_a_procesar = 'Listas_candidatos_SLoSDL/CEGP_SLoSDL_resultados.xlsx'\n",
    "procesar_tabla(archivo_a_procesar)\n",
    "\n",
    "print(\"Proceso completado. Archivos .rnk incompletos guardados en la carpeta 'Provisionales'.\")"
   ]
  },
  {
   "cell_type": "markdown",
   "id": "3324899d-956d-4ae9-97e0-a0343c7a34b6",
   "metadata": {
    "jp-MarkdownHeadingCollapsed": true,
    "tags": []
   },
   "source": [
    "#### Alternativa para tablas de 5 columnas\n",
    "Claro, puedo modificar el código para que sea más general y funcione con cualquier tabla que tenga una estructura similar. Aquí está el código modificado:"
   ]
  },
  {
   "cell_type": "code",
   "execution_count": 4,
   "id": "682c84d1-21ab-43a3-a26a-af8a68d92259",
   "metadata": {
    "tags": []
   },
   "outputs": [
    {
     "name": "stdout",
     "output_type": "stream",
     "text": [
      "Proceso completado. Archivos .rnk temporales guardados en la carpeta 'Provisionales'.\n"
     ]
    }
   ],
   "source": [
    "import os\n",
    "import pandas as pd\n",
    "\n",
    "def procesar_tabla(file_path):\n",
    "    # Leer el archivo .xlsx y almacenar la tabla en una variable\n",
    "    df = pd.read_excel(file_path)\n",
    "\n",
    "    # Eliminar la columna especificada (por ejemplo, \"Tissue\")\n",
    "    columna_eliminar = 'Tejido'\n",
    "    if columna_eliminar in df.columns:\n",
    "        df = df.drop(columns=[columna_eliminar])\n",
    "\n",
    "    # Procesar las columnas según las condiciones dadas\n",
    "    columna_3 = 'FDR0'\n",
    "    columna_4 = 'FDR1'\n",
    "    df[columna_4] = df.apply(lambda row: pd.NA if pd.isna(row[columna_4]) or (pd.notna(row[columna_3]) and row[columna_3] <= row[columna_4]) else row[columna_4], axis=1)\n",
    "    df[columna_3] = df.apply(lambda row: row[columna_4] if pd.isna(row[columna_3]) or (pd.notna(row[columna_4]) and row[columna_3] > row[columna_4]) else row[columna_3], axis=1)\n",
    "\n",
    "    # Eliminar la columna especificada (por ejemplo, \"FDR1\")\n",
    "    columna_eliminar = 'FDR1'\n",
    "    if columna_eliminar in df.columns:\n",
    "        df = df.drop(columns=[columna_eliminar])\n",
    "\n",
    "    # Crear una carpeta para los archivos .rnk si no existe\n",
    "    output_folder = 'Provisionales'\n",
    "    os.makedirs(output_folder, exist_ok=True)\n",
    "\n",
    "    # Guardar las filas en un archivo .rnk en la carpeta\n",
    "    columna_inactive = 'Inactivo'\n",
    "    grouped_by_inactive = df.groupby(columna_inactive)\n",
    "    for inactive_char, group in grouped_by_inactive:\n",
    "        output_file_path = os.path.join(output_folder, f'{inactive_char}.rnk')\n",
    "        if len(group) > 1:\n",
    "            group.drop(columns=[columna_inactive]).to_csv(output_file_path, sep='\\t', header=False, index=False)\n",
    "        else:\n",
    "            group.drop(columns=[columna_inactive]).to_csv(output_file_path, sep='\\t', header=False, index=False)\n",
    "\n",
    "# Uso del código con un archivo específico\n",
    "archivo_a_procesar = 'Listas_candidatos_SLoSDL/Cinco_columnas_ejemplo.xlsx'\n",
    "procesar_tabla(archivo_a_procesar)\n",
    "\n",
    "print(\"Proceso completado. Archivos .rnk incompletos guardados en la carpeta 'Provisionales'.\")"
   ]
  },
  {
   "cell_type": "markdown",
   "id": "99ae5b89-c1ee-456d-9cfc-1006052fcbb2",
   "metadata": {
    "tags": []
   },
   "source": [
    "### Para tablas de 4 columnas con la siguiente disposición:\n",
    "* Columna A -> **Inactive**: El gen de entrada del usuario.\n",
    "\n",
    "* Columna B -> **SL_Candidate/SDL_Candidate**: El par \"SL\" o \"SDL\" candidato. \n",
    "\n",
    "* Columna C -> **PValue0 or FDR0** o **PValue1 or FDR1**: El valor p agregado o FDR obtenido con el método de Fisher, para una base de datos o método de cribado funcional determinado. \n",
    "\n",
    "* Columna D -> **Tissue**: El/los tejido/s en el/los que se ha realizado el análisis.\n",
    "\n",
    "Si se modifica el nombre de las columnas en el código siguiente, estas pueden encontrarse en otro orden en la tabla, a excepción de la columna B (siempre debe ser la 2ª empezando por la izquierda)."
   ]
  },
  {
   "cell_type": "code",
   "execution_count": 24,
   "id": "92e554b3-9efd-4d8a-a07f-e81d1f72718c",
   "metadata": {
    "tags": []
   },
   "outputs": [
    {
     "name": "stdout",
     "output_type": "stream",
     "text": [
      "Proceso completado. Archivos .rnk incompletos guardados en la carpeta 'Provisionales'.\n"
     ]
    }
   ],
   "source": [
    "import os\n",
    "import pandas as pd\n",
    "\n",
    "def procesar_tabla(file_path):\n",
    "    # Leer el archivo .xlsx y almacenar la tabla en una variable\n",
    "    df = pd.read_excel(file_path)\n",
    "\n",
    "    # Obtener los nombres de las columnas\n",
    "    columna_D = df.columns[-1]\n",
    "    columna_A = df.columns[0]\n",
    "\n",
    "    # Eliminar la columna especificada\n",
    "    if columna_D in df.columns:\n",
    "        df = df.drop(columns=[columna_D])\n",
    "\n",
    "    # Crear una carpeta para los archivos .rnk si no existe\n",
    "    output_folder = 'Provisionales'\n",
    "    os.makedirs(output_folder, exist_ok=True)\n",
    "\n",
    "    # Guardar las filas en un archivo .rnk en la carpeta\n",
    "    grouped_by_inactive = df.groupby(columna_A)\n",
    "    for inactive_char, group in grouped_by_inactive:\n",
    "        output_file_path = os.path.join(output_folder, f'{inactive_char}.rnk')\n",
    "        if len(group) > 1:\n",
    "            group.drop(columns=[columna_A]).to_csv(output_file_path, sep='\\t', header=False, index=False)\n",
    "        else:\n",
    "            group.drop(columns=[columna_A]).to_csv(output_file_path, sep='\\t', header=False, index=False)\n",
    "\n",
    "# Uso del código con un archivo específico\n",
    "archivo_a_procesar = 'Listas_candidatos_SLoSDL/FunEx_SLoSDL_resultados.xlsx'\n",
    "procesar_tabla(archivo_a_procesar)\n",
    "\n",
    "print(\"Proceso completado. Archivos .rnk incompletos guardados en la carpeta 'Provisionales'.\")"
   ]
  },
  {
   "cell_type": "markdown",
   "id": "2f4f5a0a-6d54-4b88-92f0-4efe1a43e8a2",
   "metadata": {
    "tags": []
   },
   "source": [
    "#### Alternativa para tablas de 4 columnas\n",
    "Claro, puedo modificar el código para que sea más general y funcione con cualquier tabla que tenga una estructura similar. Aquí está el código modificado:"
   ]
  },
  {
   "cell_type": "code",
   "execution_count": 31,
   "id": "aa9673ab-1c43-4f57-bc6e-14f37f04d931",
   "metadata": {
    "tags": []
   },
   "outputs": [
    {
     "name": "stdout",
     "output_type": "stream",
     "text": [
      "Proceso completado. Archivos .rnk incompletos guardados en la carpeta 'Provisionales'.\n"
     ]
    }
   ],
   "source": [
    "import os\n",
    "import pandas as pd\n",
    "\n",
    "def procesar_tabla(file_path):\n",
    "    # Leer el archivo .xlsx y almacenar la tabla en una variable\n",
    "    df = pd.read_excel(file_path)\n",
    "\n",
    "    # Eliminar la columna especificada (por ejemplo, \"Tissue\")\n",
    "    columna_eliminar = 'Tissue'\n",
    "    if columna_eliminar in df.columns:\n",
    "        df = df.drop(columns=[columna_eliminar])\n",
    "\n",
    "    # Crear una carpeta para los archivos .rnk si no existe\n",
    "    output_folder = 'Provisionales'\n",
    "    os.makedirs(output_folder, exist_ok=True)\n",
    "\n",
    "    # Guardar las filas en un archivo .rnk en la carpeta\n",
    "    columna_inactive = 'Inactive'\n",
    "    grouped_by_inactive = df.groupby(columna_inactive)\n",
    "    for inactive_char, group in grouped_by_inactive:\n",
    "        output_file_path = os.path.join(output_folder, f'{inactive_char}.rnk')\n",
    "        if len(group) > 1:\n",
    "            group.drop(columns=[columna_inactive]).to_csv(output_file_path, sep='\\t', header=False, index=False)\n",
    "        else:\n",
    "            group.drop(columns=[columna_inactive]).to_csv(output_file_path, sep='\\t', header=False, index=False)\n",
    "\n",
    "# Uso del código con un archivo específico\n",
    "archivo_a_procesar = 'Listas_candidatos_SLoSDL/SoF_SLoSDL_resultados.xlsx'\n",
    "procesar_tabla(archivo_a_procesar)\n",
    "\n",
    "print(\"Proceso completado. Archivos .rnk incompletos guardados en la carpeta 'Provisionales'.\")"
   ]
  },
  {
   "cell_type": "markdown",
   "id": "71196e26-9680-4f1a-84cb-a5c28f56a3b9",
   "metadata": {
    "tags": []
   },
   "source": [
    "## Modificación de los archivos RNK temporales para ontener los definitivos\n",
    "Si los archivos .rnk de partida se encuentran en otro directorio, simplemente necesitas proporcionar la ruta de ese directorio en lugar de asumir que están en el directorio actual. Modificaré el código para que puedas especificar la ruta del directorio que contiene los archivos .rnk. Aquí está la versión actualizada:"
   ]
  },
  {
   "cell_type": "code",
   "execution_count": 39,
   "id": "06d160c0-5917-4bd2-ba4f-edc9c8558d9c",
   "metadata": {},
   "outputs": [
    {
     "name": "stdout",
     "output_type": "stream",
     "text": [
      "Proceso completado. Firmas de genes definitivas para GSEA guardadas en la carpeta 'Definitivas'.\n"
     ]
    }
   ],
   "source": [
    "import os\n",
    "\n",
    "# Ruta del directorio que contiene los archivos .rnk\n",
    "directorio_archivos = 'Provisionales'\n",
    "\n",
    "# Crear la carpeta si no existe\n",
    "definativas_folder = 'Definitivas'\n",
    "if not os.path.exists(definativas_folder):\n",
    "    os.makedirs(definativas_folder)\n",
    "\n",
    "# Obtener la lista de archivos .rnk en el directorio especificado\n",
    "archivos_rnk = [archivo for archivo in os.listdir(directorio_archivos) if archivo.endswith('.rnk')]\n",
    "\n",
    "# Función para realizar las modificaciones en cada archivo .rnk\n",
    "def modificar_archivo(rnk_filename):\n",
    "    ruta_completa = os.path.join(directorio_archivos, rnk_filename)\n",
    "    \n",
    "    with open(ruta_completa, 'r') as archivo:\n",
    "        lines = archivo.readlines()\n",
    "\n",
    "    # Obtener los valores de la segunda columna\n",
    "    valores_segunda_columna = [float(line.split('\\t')[1]) for line in lines]\n",
    "\n",
    "    # Encontrar el índice del valor mínimo\n",
    "    indice_valor_minimo = valores_segunda_columna.index(min(valores_segunda_columna))\n",
    "\n",
    "    # Obtener el nombre del archivo sin la extensión\n",
    "    nombre_archivo = os.path.splitext(rnk_filename)[0]\n",
    "\n",
    "    # Realizar las modificaciones según las condiciones\n",
    "    if indice_valor_minimo == 0:\n",
    "        nueva_fila = f\"{nombre_archivo}\\t0\\n\"\n",
    "        lines.insert(0, nueva_fila)\n",
    "    elif indice_valor_minimo == len(valores_segunda_columna) - 1:\n",
    "        nueva_fila = f\"{nombre_archivo}\\t0\\n\"\n",
    "        lines.append(nueva_fila)\n",
    "    else:\n",
    "        nueva_fila = f\"{nombre_archivo}\\t0\\n\"\n",
    "        lines.insert(0, nueva_fila)\n",
    "\n",
    "    # Guardar el archivo modificado en la carpeta Definitivas\n",
    "    nuevo_rnk_filename = os.path.join(definativas_folder, rnk_filename)\n",
    "    with open(nuevo_rnk_filename, 'w') as nuevo_archivo:\n",
    "        nuevo_archivo.writelines(lines)\n",
    "\n",
    "# Aplicar la modificación a cada archivo .rnk\n",
    "for archivo_rnk in archivos_rnk:\n",
    "    modificar_archivo(archivo_rnk)\n",
    "\n",
    "print(\"Proceso completado. Firmas de genes definitivas para GSEA guardadas en la carpeta 'Definitivas'.\")"
   ]
  },
  {
   "cell_type": "markdown",
   "id": "d522338e-0e36-4ef6-a0f5-9370f3f47af6",
   "metadata": {},
   "source": [
    "## Comprobación de la ausencia de valores de clasificación repetidos en los archivos RNK"
   ]
  },
  {
   "cell_type": "code",
   "execution_count": 40,
   "id": "6f2304a0-521c-4e86-9cea-28cbf4415e38",
   "metadata": {
    "tags": []
   },
   "outputs": [
    {
     "name": "stdout",
     "output_type": "stream",
     "text": [
      "Archivo afectado: AFMID.rnk\n",
      "Advertencia: Esta lista de genes ordenados contiene valores de clasificación duplicados. Esto puede dar lugar a una ordenación arbitraria de los genes y a resultados erróneos, por lo que debe corregirse antes del GSEA.\n",
      "El bloque de código que encontrará a continuación, le permitirá solventar este problema.\n",
      "El archivo AFMID.rnk ha sido movido a la carpeta 'Valores_duplicados'.\n",
      "No se encontraron valores de clasificación duplicados en ASPDH.rnk. Por tanto, si lo desea puede realizar el GSEA para esta firma de genes.\n",
      "No se encontraron valores de clasificación duplicados en HAAO.rnk. Por tanto, si lo desea puede realizar el GSEA para esta firma de genes.\n",
      "No se encontraron valores de clasificación duplicados en IDO1.rnk. Por tanto, si lo desea puede realizar el GSEA para esta firma de genes.\n",
      "No se encontraron valores de clasificación duplicados en IDO2.rnk. Por tanto, si lo desea puede realizar el GSEA para esta firma de genes.\n",
      "No se encontraron valores de clasificación duplicados en KMO.rnk. Por tanto, si lo desea puede realizar el GSEA para esta firma de genes.\n",
      "No se encontraron valores de clasificación duplicados en KYNU.rnk. Por tanto, si lo desea puede realizar el GSEA para esta firma de genes.\n",
      "No se encontraron valores de clasificación duplicados en NADSYN1.rnk. Por tanto, si lo desea puede realizar el GSEA para esta firma de genes.\n",
      "No se encontraron valores de clasificación duplicados en NAPRT.rnk. Por tanto, si lo desea puede realizar el GSEA para esta firma de genes.\n",
      "No se encontraron valores de clasificación duplicados en NAXD.rnk. Por tanto, si lo desea puede realizar el GSEA para esta firma de genes.\n",
      "No se encontraron valores de clasificación duplicados en NMNAT1.rnk. Por tanto, si lo desea puede realizar el GSEA para esta firma de genes.\n",
      "No se encontraron valores de clasificación duplicados en NMNAT2.rnk. Por tanto, si lo desea puede realizar el GSEA para esta firma de genes.\n",
      "No se encontraron valores de clasificación duplicados en NMNAT3.rnk. Por tanto, si lo desea puede realizar el GSEA para esta firma de genes.\n",
      "No se encontraron valores de clasificación duplicados en NMRK1.rnk. Por tanto, si lo desea puede realizar el GSEA para esta firma de genes.\n",
      "No se encontraron valores de clasificación duplicados en NMRK2.rnk. Por tanto, si lo desea puede realizar el GSEA para esta firma de genes.\n",
      "No se encontraron valores de clasificación duplicados en NNMT.rnk. Por tanto, si lo desea puede realizar el GSEA para esta firma de genes.\n",
      "Archivo afectado: NUDT12.rnk\n",
      "Advertencia: Esta lista de genes ordenados contiene valores de clasificación duplicados. Esto puede dar lugar a una ordenación arbitraria de los genes y a resultados erróneos, por lo que debe corregirse antes del GSEA.\n",
      "El bloque de código que encontrará a continuación, le permitirá solventar este problema.\n",
      "El archivo NUDT12.rnk ha sido movido a la carpeta 'Valores_duplicados'.\n",
      "Archivo afectado: PARP10.rnk\n",
      "Advertencia: Esta lista de genes ordenados contiene valores de clasificación duplicados. Esto puede dar lugar a una ordenación arbitraria de los genes y a resultados erróneos, por lo que debe corregirse antes del GSEA.\n",
      "El bloque de código que encontrará a continuación, le permitirá solventar este problema.\n",
      "El archivo PARP10.rnk ha sido movido a la carpeta 'Valores_duplicados'.\n",
      "No se encontraron valores de clasificación duplicados en PARP16.rnk. Por tanto, si lo desea puede realizar el GSEA para esta firma de genes.\n",
      "No se encontraron valores de clasificación duplicados en PARP9.rnk. Por tanto, si lo desea puede realizar el GSEA para esta firma de genes.\n",
      "No se encontraron valores de clasificación duplicados en PTGIS.rnk. Por tanto, si lo desea puede realizar el GSEA para esta firma de genes.\n",
      "No se encontraron valores de clasificación duplicados en QPRT.rnk. Por tanto, si lo desea puede realizar el GSEA para esta firma de genes.\n",
      "Archivo afectado: SLC22A13.rnk\n",
      "Advertencia: Esta lista de genes ordenados contiene valores de clasificación duplicados. Esto puede dar lugar a una ordenación arbitraria de los genes y a resultados erróneos, por lo que debe corregirse antes del GSEA.\n",
      "El bloque de código que encontrará a continuación, le permitirá solventar este problema.\n",
      "El archivo SLC22A13.rnk ha sido movido a la carpeta 'Valores_duplicados'.\n",
      "Archivo afectado: SLC5A8.rnk\n",
      "Advertencia: Esta lista de genes ordenados contiene valores de clasificación duplicados. Esto puede dar lugar a una ordenación arbitraria de los genes y a resultados erróneos, por lo que debe corregirse antes del GSEA.\n",
      "El bloque de código que encontrará a continuación, le permitirá solventar este problema.\n",
      "El archivo SLC5A8.rnk ha sido movido a la carpeta 'Valores_duplicados'.\n",
      "Comprobación finalizada.\n"
     ]
    }
   ],
   "source": [
    "import os\n",
    "from collections import defaultdict\n",
    "import shutil\n",
    "\n",
    "def verificar_archivos_rnk(carpeta):\n",
    "    carpeta_origen = \"Definitivas\"\n",
    "    carpeta_destino = \"Valores_duplicados\"\n",
    "    \n",
    "    if not os.path.exists(carpeta_destino):\n",
    "        os.makedirs(carpeta_destino)\n",
    "\n",
    "    archivos_rnk = [archivo for archivo in os.listdir(carpeta_origen) if archivo.endswith(\".rnk\")]\n",
    "\n",
    "    for archivo in archivos_rnk:\n",
    "        ruta_archivo = os.path.join(carpeta_origen, archivo)\n",
    "        genes_repetidos = encontrar_genes_repetidos(ruta_archivo)\n",
    "\n",
    "        if genes_repetidos:\n",
    "            print(f\"Archivo afectado: {archivo}\")\n",
    "            print(\"Advertencia: Esta lista de genes ordenados contiene valores de clasificación duplicados. Esto puede dar lugar a una ordenación arbitraria de los genes y a resultados erróneos, por lo que debe corregirse antes del GSEA.\")\n",
    "            print(\"El bloque de código que encontrará a continuación, le permitirá solventar este problema.\")\n",
    "\n",
    "            # Mover el archivo a la carpeta \"Valores_duplicados\"\n",
    "            destino_archivo = os.path.join(carpeta_destino, archivo)\n",
    "            shutil.move(ruta_archivo, destino_archivo)\n",
    "\n",
    "            print(f\"El archivo {archivo} ha sido movido a la carpeta 'Valores_duplicados'.\")\n",
    "        else:\n",
    "            print(f\"No se encontraron valores de clasificación duplicados en {archivo}. Por tanto, si lo desea puede realizar el GSEA para esta firma de genes.\")\n",
    "\n",
    "def encontrar_genes_repetidos(ruta_archivo):\n",
    "    genes_contador = defaultdict(int)\n",
    "\n",
    "    with open(ruta_archivo, 'r') as archivo:\n",
    "        for linea in archivo:\n",
    "            _, valor = linea.strip().split('\\t')\n",
    "            genes_contador[valor] += 1\n",
    "\n",
    "    genes_repetidos = [gen for gen, count in genes_contador.items() if count > 1]\n",
    "    return genes_repetidos\n",
    "\n",
    "# Cambia la ruta de la carpeta según donde tengas tus archivos .rnk\n",
    "carpeta_contenedora = 'Definitivas'\n",
    "verificar_archivos_rnk(carpeta_contenedora)\n",
    "\n",
    "print(\"Comprobación finalizada.\")"
   ]
  },
  {
   "cell_type": "markdown",
   "id": "bd755a0f-cba6-4148-a86c-92b4aadb3e32",
   "metadata": {},
   "source": [
    "## Corrección de archivos RNK con valores de clasificación duplicados"
   ]
  },
  {
   "cell_type": "code",
   "execution_count": 41,
   "id": "5c63a6d5-9584-42eb-8b87-4d8d65dbafc3",
   "metadata": {
    "tags": []
   },
   "outputs": [
    {
     "name": "stdout",
     "output_type": "stream",
     "text": [
      "Corrección efectuada.\n"
     ]
    }
   ],
   "source": [
    "import pandas as pd\n",
    "import os\n",
    "\n",
    "def procesar_archivos_rnk():\n",
    "    carpeta_origen = \"Valores_duplicados\"\n",
    "    carpeta_destino = \"Definitivas\"\n",
    "\n",
    "    if not os.path.exists(carpeta_destino):\n",
    "        os.makedirs(carpeta_destino)\n",
    "\n",
    "    for archivo_rnk in os.listdir(carpeta_origen):\n",
    "        if archivo_rnk.endswith(\".rnk\"):\n",
    "            rnk_path = os.path.join(carpeta_origen, archivo_rnk)\n",
    "            procesar_archivo_rnk_individual(rnk_path, carpeta_destino, archivo_rnk)\n",
    "\n",
    "def procesar_archivo_rnk_individual(rnk_path, carpeta_destino, nombre_archivo):\n",
    "    nombre_archivo = os.path.splitext(os.path.basename(rnk_path))[0]\n",
    "    xlsx_path = os.path.join(carpeta_destino, f\"{nombre_archivo}_2.xlsx\")\n",
    "\n",
    "    df = pd.read_csv(rnk_path, delimiter='\\t', header=None)\n",
    "    df.to_excel(xlsx_path, index=False, header=None)\n",
    "\n",
    "    while True:\n",
    "        duplicados = df[df.duplicated(subset=[1], keep=False)]\n",
    "\n",
    "        if duplicados.empty:\n",
    "            break\n",
    "\n",
    "        for i, fila in duplicados.iterrows():\n",
    "            valor_original = fila[1]\n",
    "            nueva_cifra_decimal = 10 ** -(len(str(valor_original).split('.')[1]) + 1)\n",
    "            df.at[i, 1] = valor_original + nueva_cifra_decimal * (i + 1)\n",
    "\n",
    "        df.to_excel(xlsx_path, index=False, header=None)\n",
    "\n",
    "    nuevo_rnk_path = os.path.join(carpeta_destino, f\"{nombre_archivo}_2.rnk\")\n",
    "    df.to_csv(nuevo_rnk_path, sep='\\t', index=False, header=None)\n",
    "\n",
    "    #respuesta_paso_7 = input(f\"¿Desea conservar el archivo {nombre_archivo} y el libro de Excel generado? (Sí/No): \")\n",
    "    #if respuesta_paso_7.lower() == 'sí' or respuesta_paso_7.lower() == 'si':\n",
    "        #print(f\"Se han conservado el archivo {nombre_archivo} y el libro de Excel creado\")\n",
    "        #return\n",
    "\n",
    "    \n",
    "    os.remove(xlsx_path)\n",
    "        \n",
    "    os.remove(rnk_path)\n",
    "        \n",
    "# Procesar todos los archivos .rnk en la carpeta \"Definitivas\"\n",
    "procesar_archivos_rnk()\n",
    "\n",
    "print(\"Corrección efectuada.\")"
   ]
  },
  {
   "cell_type": "markdown",
   "id": "e3af812b-681c-4cda-9b66-1645f2128018",
   "metadata": {},
   "source": [
    "## Conversión de archivos RNK a CSV\n",
    "Para poder analizar las firmas de expresión génica escogidas con [blitzGSEA](https://doi.org/10.1093/bioinformatics/btac076) es necesario convertir los arhivos .rnk en archivos .csv (con valores separados por comas). Por ese motivo, el siguiente bloque de código lleva a cabo dicho proceso y guardas los CSVs resultantes en la carpeta indicada."
   ]
  },
  {
   "cell_type": "code",
   "execution_count": 42,
   "id": "e8956f7b-f1de-4e9b-8ba4-898799492f27",
   "metadata": {
    "tags": []
   },
   "outputs": [
    {
     "name": "stdout",
     "output_type": "stream",
     "text": [
      "Conversión realizada.\n"
     ]
    }
   ],
   "source": [
    "import os\n",
    "\n",
    "def rnk_to_csv(input_folder, output_folder):\n",
    "    # Verificar y crear la carpeta de salida si no existe\n",
    "    if not os.path.exists(output_folder):\n",
    "        os.makedirs(output_folder)\n",
    "\n",
    "    # Obtener la lista de archivos en la carpeta de entrada\n",
    "    files = [f for f in os.listdir(input_folder) if f.endswith(\".rnk\")]\n",
    "\n",
    "    for file in files:\n",
    "        input_path = os.path.join(input_folder, file)\n",
    "        output_path = os.path.join(output_folder, file.replace(\".rnk\", \".csv\"))\n",
    "\n",
    "        # Procesar el archivo .rnk y escribir en el archivo .csv\n",
    "        with open(input_path, 'r') as input_file, open(output_path, 'w') as output_file:\n",
    "            # Agregar encabezados\n",
    "            output_file.write(\"0,1\\n\")\n",
    "\n",
    "            for line in input_file:\n",
    "                # Reemplazar tabulaciones por comas y escribir en el archivo de salida\n",
    "                output_file.write(line.replace('\\t', ','))\n",
    "\n",
    "if __name__ == \"__main__\":\n",
    "    # Rutas de las carpetas de entrada y salida\n",
    "    input_folder = \"Definitivas\"\n",
    "    output_folder = \"CSV\"\n",
    "\n",
    "    # Llamar a la función para convertir archivos .rnk a .csv\n",
    "    rnk_to_csv(input_folder, output_folder)\n",
    "    \n",
    "print(\"Conversión realizada.\")"
   ]
  },
  {
   "cell_type": "markdown",
   "id": "52d8e53c-6ae3-4464-aed9-faeae6f91e29",
   "metadata": {
    "tags": []
   },
   "source": [
    "## Herramientas de uso opcional:"
   ]
  },
  {
   "cell_type": "markdown",
   "id": "f68e2691-c122-459c-8096-fd3cb87407e4",
   "metadata": {
    "jp-MarkdownHeadingCollapsed": true,
    "tags": []
   },
   "source": [
    "### Eliminación de archivos RNK temporales"
   ]
  },
  {
   "cell_type": "code",
   "execution_count": 8,
   "id": "78d698ae-43ae-45f2-aa64-c78af7d6c7dd",
   "metadata": {},
   "outputs": [],
   "source": [
    "import os\n",
    "\n",
    "def eliminar_archivos_por_extension(carpeta, extension):\n",
    "    # Obtener la lista de archivos en la carpeta\n",
    "    archivos = os.listdir(carpeta)\n",
    "\n",
    "    # Filtrar los archivos por la extensión deseada y eliminarlos\n",
    "    for archivo in archivos:\n",
    "        if archivo.endswith(extension):\n",
    "            ruta_archivo = os.path.join(carpeta, archivo)\n",
    "            os.remove(ruta_archivo)\n",
    "\n",
    "# Ejemplo de uso para eliminar archivos con extensión .rnk\n",
    "carpeta_a_limpiar = 'Provisionales'\n",
    "extension_deseada = '.rnk'\n",
    "\n",
    "eliminar_archivos_por_extension(carpeta_a_limpiar, extension_deseada)\n",
    "\n",
    "print(\"Eliminación concluida.\")"
   ]
  },
  {
   "cell_type": "markdown",
   "id": "22e4f6ed-a80b-4dd7-9f71-b10bcf6e5f91",
   "metadata": {},
   "source": [
    "### Reubicación de archivos RNK definitivos"
   ]
  },
  {
   "cell_type": "markdown",
   "id": "3ff35e5e-b9b3-469c-8851-a82dc4bb0270",
   "metadata": {
    "jp-MarkdownHeadingCollapsed": true,
    "tags": []
   },
   "source": [
    "#### Copiado de archivos RNK"
   ]
  },
  {
   "cell_type": "code",
   "execution_count": 7,
   "id": "3ef3dbdd-0f54-455b-8708-cec8aec092fc",
   "metadata": {
    "tags": []
   },
   "outputs": [],
   "source": [
    "import os\n",
    "import shutil\n",
    "\n",
    "def descargar_archivos_por_extension(carpeta_origen, carpeta_destino, extension):\n",
    "    # Verificar si la carpeta de destino existe, si no, crearla\n",
    "    if not os.path.exists(carpeta_destino):\n",
    "        os.makedirs(carpeta_destino)\n",
    "\n",
    "    # Obtener la lista de archivos en la carpeta de origen\n",
    "    archivos = os.listdir(carpeta_origen)\n",
    "\n",
    "    # Filtrar los archivos por la extensión deseada\n",
    "    archivos_filtrados = [archivo for archivo in archivos if archivo.endswith(extension)]\n",
    "\n",
    "    # Iterar sobre los archivos filtrados y copiarlos a la carpeta de destino\n",
    "    for archivo in archivos_filtrados:\n",
    "        ruta_origen = os.path.join(carpeta_origen, archivo)\n",
    "        ruta_destino = os.path.join(carpeta_destino, archivo)\n",
    "        shutil.copy2(ruta_origen, ruta_destino)\n",
    "\n",
    "# Ejemplo de uso para archivos con extensión .rnk\n",
    "carpeta_origen = 'Definitivas'\n",
    "carpeta_destino = 'C:/Users/marti/STRING-es/Firmas_genes'\n",
    "extension_deseada = '.rnk'\n",
    "\n",
    "descargar_archivos_por_extension(carpeta_origen, carpeta_destino, extension_deseada)\n",
    "\n",
    "print(\"Proceso completado.\")"
   ]
  },
  {
   "cell_type": "markdown",
   "id": "752a7314-42ea-40e9-9cb7-ca5c205571f5",
   "metadata": {
    "tags": []
   },
   "source": [
    "#### Copiado y eliminación de archivos RNK"
   ]
  },
  {
   "cell_type": "code",
   "execution_count": 43,
   "id": "99e04f83-fc26-4433-8396-acd95cd14809",
   "metadata": {
    "tags": []
   },
   "outputs": [
    {
     "name": "stdout",
     "output_type": "stream",
     "text": [
      "Proceso completado.\n"
     ]
    }
   ],
   "source": [
    "import os\n",
    "import shutil\n",
    "\n",
    "def descargar_y_eliminar_archivos(carpeta_origen, carpeta_destino, extension):\n",
    "    # Verificar si la carpeta de destino existe, si no, crearla\n",
    "    if not os.path.exists(carpeta_destino):\n",
    "        os.makedirs(carpeta_destino)\n",
    "\n",
    "    # Obtener la lista de archivos en la carpeta de origen\n",
    "    archivos = os.listdir(carpeta_origen)\n",
    "\n",
    "    # Filtrar los archivos por la extensión deseada\n",
    "    archivos_filtrados = [archivo for archivo in archivos if archivo.endswith(extension)]\n",
    "\n",
    "    # Iterar sobre los archivos filtrados\n",
    "    for archivo in archivos_filtrados:\n",
    "        ruta_origen = os.path.join(carpeta_origen, archivo)\n",
    "        ruta_destino = os.path.join(carpeta_destino, archivo)\n",
    "\n",
    "        # Copiar el archivo a la carpeta de destino\n",
    "        shutil.copy2(ruta_origen, ruta_destino)\n",
    "\n",
    "        # Eliminar el archivo de la carpeta de origen\n",
    "        os.remove(ruta_origen)\n",
    "\n",
    "# Ejemplo de uso para archivos con extensión .rnk\n",
    "carpeta_origen = 'Definitivas'\n",
    "carpeta_destino = 'C:/Users/marti/STRING-es/Firmas_genes'\n",
    "extension_deseada = '.rnk'\n",
    "\n",
    "descargar_y_eliminar_archivos(carpeta_origen, carpeta_destino, extension_deseada)\n",
    "\n",
    "print(\"Proceso completado.\")"
   ]
  },
  {
   "cell_type": "markdown",
   "id": "4e215958-5368-436d-b760-f61ace7b8c94",
   "metadata": {},
   "source": [
    "### Reubicación de archivos CSV"
   ]
  },
  {
   "cell_type": "markdown",
   "id": "eccd7e7e-1d4c-4e20-a230-7894bffb78c1",
   "metadata": {
    "jp-MarkdownHeadingCollapsed": true,
    "tags": []
   },
   "source": [
    "#### Copiado de archivos CSV"
   ]
  },
  {
   "cell_type": "code",
   "execution_count": null,
   "id": "8318d119-13e8-453e-a55d-cef789bd11b3",
   "metadata": {},
   "outputs": [],
   "source": [
    "import os\n",
    "import shutil\n",
    "\n",
    "def descargar_archivos_por_extension(carpeta_origen, carpeta_destino, extension):\n",
    "    # Verificar si la carpeta de destino existe, si no, crearla\n",
    "    if not os.path.exists(carpeta_destino):\n",
    "        os.makedirs(carpeta_destino)\n",
    "\n",
    "    # Obtener la lista de archivos en la carpeta de origen\n",
    "    archivos = os.listdir(carpeta_origen)\n",
    "\n",
    "    # Filtrar los archivos por la extensión deseada\n",
    "    archivos_filtrados = [archivo for archivo in archivos if archivo.endswith(extension)]\n",
    "\n",
    "    # Iterar sobre los archivos filtrados y copiarlos a la carpeta de destino\n",
    "    for archivo in archivos_filtrados:\n",
    "        ruta_origen = os.path.join(carpeta_origen, archivo)\n",
    "        ruta_destino = os.path.join(carpeta_destino, archivo)\n",
    "        shutil.copy2(ruta_origen, ruta_destino)\n",
    "\n",
    "# Ejemplo de uso para archivos con extensión .rnk\n",
    "carpeta_origen = 'CSV'\n",
    "carpeta_destino = 'C:/Users/marti/STRING-es/Firmas_genes'\n",
    "extension_deseada = '.csv'\n",
    "\n",
    "descargar_archivos_por_extension(carpeta_origen, carpeta_destino, extension_deseada)\n",
    "\n",
    "print(\"Proceso completado.\")"
   ]
  },
  {
   "cell_type": "markdown",
   "id": "7641ef74-0a99-409a-8989-6f6dfc3e9b47",
   "metadata": {
    "jp-MarkdownHeadingCollapsed": true,
    "tags": []
   },
   "source": [
    "#### Copiado y borrado de archivos RNK"
   ]
  },
  {
   "cell_type": "code",
   "execution_count": null,
   "id": "49487752-0967-4e85-b1ef-4dea973ab7c7",
   "metadata": {},
   "outputs": [],
   "source": [
    "import os\n",
    "import shutil\n",
    "\n",
    "def descargar_y_eliminar_archivos(carpeta_origen, carpeta_destino, extension):\n",
    "    # Verificar si la carpeta de destino existe, si no, crearla\n",
    "    if not os.path.exists(carpeta_destino):\n",
    "        os.makedirs(carpeta_destino)\n",
    "\n",
    "    # Obtener la lista de archivos en la carpeta de origen\n",
    "    archivos = os.listdir(carpeta_origen)\n",
    "\n",
    "    # Filtrar los archivos por la extensión deseada\n",
    "    archivos_filtrados = [archivo for archivo in archivos if archivo.endswith(extension)]\n",
    "\n",
    "    # Iterar sobre los archivos filtrados\n",
    "    for archivo in archivos_filtrados:\n",
    "        ruta_origen = os.path.join(carpeta_origen, archivo)\n",
    "        ruta_destino = os.path.join(carpeta_destino, archivo)\n",
    "\n",
    "        # Copiar el archivo a la carpeta de destino\n",
    "        shutil.copy2(ruta_origen, ruta_destino)\n",
    "\n",
    "        # Eliminar el archivo de la carpeta de origen\n",
    "        os.remove(ruta_origen)\n",
    "\n",
    "# Ejemplo de uso para archivos con extensión .rnk\n",
    "carpeta_origen = 'CSV'\n",
    "carpeta_destino = 'C:/Users/marti/STRING-es/Firmas_genes'\n",
    "extension_deseada = '.csv'\n",
    "\n",
    "descargar_y_eliminar_archivos(carpeta_origen, carpeta_destino, extension_deseada)\n",
    "\n",
    "print(\"Proceso completado.\")"
   ]
  },
  {
   "cell_type": "markdown",
   "id": "f4930b02-b3c7-4e92-a0fe-d893ff203a54",
   "metadata": {},
   "source": [
    "### Vaciado de las carpetas de archivos\n",
    "Tras copiar los archivos que considere de interés a otra ubicación, puede ejecutar este código para borrar todos los archivos presentes en las carpetas indicadas en la \"Lista de las carpetas\"."
   ]
  },
  {
   "cell_type": "code",
   "execution_count": 44,
   "id": "e1605014-21f2-4af3-86cf-80564200d289",
   "metadata": {
    "tags": []
   },
   "outputs": [
    {
     "name": "stdout",
     "output_type": "stream",
     "text": [
      "Archivo Listas_candidatos_SLoSDL\\CEGP_SLoSDL_resultados.xlsx eliminado\n",
      "Archivo Provisionales\\AFMID.rnk eliminado\n",
      "Archivo Provisionales\\ASPDH.rnk eliminado\n",
      "Archivo Provisionales\\HAAO.rnk eliminado\n",
      "Archivo Provisionales\\IDO1.rnk eliminado\n",
      "Archivo Provisionales\\IDO2.rnk eliminado\n",
      "Archivo Provisionales\\KMO.rnk eliminado\n",
      "Archivo Provisionales\\KYNU.rnk eliminado\n",
      "Archivo Provisionales\\NADSYN1.rnk eliminado\n",
      "Archivo Provisionales\\NAPRT.rnk eliminado\n",
      "Archivo Provisionales\\NAXD.rnk eliminado\n",
      "Archivo Provisionales\\NMNAT1.rnk eliminado\n",
      "Archivo Provisionales\\NMNAT2.rnk eliminado\n",
      "Archivo Provisionales\\NMNAT3.rnk eliminado\n",
      "Archivo Provisionales\\NMRK1.rnk eliminado\n",
      "Archivo Provisionales\\NMRK2.rnk eliminado\n",
      "Archivo Provisionales\\NNMT.rnk eliminado\n",
      "Archivo Provisionales\\NUDT12.rnk eliminado\n",
      "Archivo Provisionales\\PARP10.rnk eliminado\n",
      "Archivo Provisionales\\PARP16.rnk eliminado\n",
      "Archivo Provisionales\\PARP9.rnk eliminado\n",
      "Archivo Provisionales\\PTGIS.rnk eliminado\n",
      "Archivo Provisionales\\QPRT.rnk eliminado\n",
      "Archivo Provisionales\\SLC22A13.rnk eliminado\n",
      "Archivo Provisionales\\SLC5A8.rnk eliminado\n",
      "Proceso finalizado.\n"
     ]
    }
   ],
   "source": [
    "import os\n",
    "\n",
    "# Lista de las carpetas\n",
    "carpetas = [\n",
    "    \"CSV\",\n",
    "    \"Definitivas\",\n",
    "    \"Listas_candidatos_SLoSDL\",\n",
    "    \"Provisionales\",\n",
    "    \"Valores_duplicados\"\n",
    "]\n",
    "\n",
    "def eliminar_archivos(carpeta):\n",
    "    # Listar todos los elementos en la carpeta\n",
    "    for filename in os.listdir(carpeta):\n",
    "        file_path = os.path.join(carpeta, filename)\n",
    "        try:\n",
    "            # Verificar si es un archivo y eliminarlo\n",
    "            if os.path.isfile(file_path) or os.path.islink(file_path):\n",
    "                os.unlink(file_path)\n",
    "                print(f'Archivo {file_path} eliminado')\n",
    "            # Si es un directorio, lo ignoramos\n",
    "        except Exception as e:\n",
    "            print(f'No se pudo eliminar {file_path}. Razón: {e}')\n",
    "\n",
    "# Eliminar archivos en cada carpeta\n",
    "for carpeta in carpetas:\n",
    "    eliminar_archivos(carpeta)\n",
    "\n",
    "print(\"Proceso finalizado.\")"
   ]
  },
  {
   "cell_type": "code",
   "execution_count": null,
   "id": "b0ea1987-7af0-4e79-a7fa-5e35f372458b",
   "metadata": {},
   "outputs": [],
   "source": []
  }
 ],
 "metadata": {
  "kernelspec": {
   "display_name": "Python 3 (ipykernel)",
   "language": "python",
   "name": "python3"
  },
  "language_info": {
   "codemirror_mode": {
    "name": "ipython",
    "version": 3
   },
   "file_extension": ".py",
   "mimetype": "text/x-python",
   "name": "python",
   "nbconvert_exporter": "python",
   "pygments_lexer": "ipython3",
   "version": "3.11.5"
  }
 },
 "nbformat": 4,
 "nbformat_minor": 5
}
