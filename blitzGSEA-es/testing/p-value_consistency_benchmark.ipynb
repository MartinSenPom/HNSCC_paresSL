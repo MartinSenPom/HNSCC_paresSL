{
 "cells": [
  {
   "cell_type": "markdown",
   "metadata": {},
   "source": [
    "# p-value consistency benchmark\n",
    "\n",
    "Test p-value consisency for GSEApy and blitzGSEA. "
   ]
  },
  {
   "cell_type": "code",
   "execution_count": 13,
   "metadata": {},
   "outputs": [],
   "source": [
    "%%capture\n",
    "!pip3 install -q --user --force git+https://github.com/MaayanLab/blitzgsea.git\n",
    "!pip3 install numpy==1.20"
   ]
  },
  {
   "cell_type": "code",
   "execution_count": 30,
   "metadata": {
    "scrolled": true
   },
   "outputs": [],
   "source": [
    "import importlib\n",
    "\n",
    "import blitzgsea as blitz\n",
    "importlib.reload(bgsea)\n",
    "\n",
    "import time\n",
    "import pandas as pd\n",
    "import numpy as np\n",
    "\n",
    "from matplotlib import pyplot as plt\n",
    "from matplotlib.lines import Line2D"
   ]
  },
  {
   "cell_type": "markdown",
   "metadata": {},
   "source": [
    "## Load signature and GMT\n",
    "\n",
    "The gene expression signature is calculated from GTEX samples comparing young vs old individuals. The gene set library is downloaded from Enrichr."
   ]
  },
  {
   "cell_type": "code",
   "execution_count": null,
   "metadata": {},
   "outputs": [],
   "source": [
    "# download example GMT file from Enrichr\n",
    "url = \"https://github.com/MaayanLab/blitzgsea/raw/main/testing/ageing_muscle_gtex.tsv\"\n",
    "urllib.request.urlretrieve(url, \"ageing_muscle_gtex.tsv\")\n",
    "\n",
    "# read signature as pandas dataframe\n",
    "signature = pd.read_csv(\"ageing_muscle_gtex.tsv\")\n",
    "\n",
    "# list available gene set libraries in Enrichr\n",
    "blitz.enrichr.print_libraries()\n",
    "\n",
    "# use enrichr submodule to retrieve gene set library\n",
    "library = blitz.enrichr.get_library(\"KEGG_2019_Mouse\")"
   ]
  },
  {
   "cell_type": "markdown",
   "metadata": {},
   "source": [
    "## Wrapper function to limit memory consumption of GSEApy\n",
    "\n",
    "The memory requirements of GSEApy exceed 32GB for larger gene set libraries. Limit the number of gene sets that are calculated at once."
   ]
  },
  {
   "cell_type": "code",
   "execution_count": 4,
   "metadata": {},
   "outputs": [],
   "source": [
    "import gseapy\n",
    "\n",
    "def chopped_gsea(rnk, gene_sets, processes, permutation_num=100, max_lib_size=100, outdir='test/prerank_report_kegg', format='png', seed=1):\n",
    "    library_keys = list(gene_sets.keys())\n",
    "    chunks = [library_keys[i:i+max_lib_size] for i in range(0, len(library_keys), max_lib_size)]\n",
    "    results = []\n",
    "    for chunk in chunks:\n",
    "        tlib = {}\n",
    "        for k in chunk:\n",
    "            tlib[k] = gene_sets[k]\n",
    "        pre_res = gseapy.prerank(rnk=rnk, gene_sets=tlib, processes=processes, permutation_num=permutation_num, outdir=outdir, format=format, seed=seed)\n",
    "        results.append(pre_res.res2d)\n",
    "    return pd.concat(results)\n",
    "\n",
    "sig = signature.sort_values(1, ascending=False)\n",
    "sig = signature[~signature.index.duplicated(keep='first')]\n"
   ]
  },
  {
   "cell_type": "markdown",
   "metadata": {},
   "source": [
    "## Calculate GSEA 10 times with random seeds\n",
    "\n",
    "GSEA is computed for several permutation numbers starting at 250 permutations and up to 2500. This step can take long (several hours) due to 100 repetitions."
   ]
  },
  {
   "cell_type": "code",
   "execution_count": 8,
   "metadata": {
    "scrolled": true
   },
   "outputs": [
    {
     "name": "stdout",
     "output_type": "stream",
     "text": [
      "1\n"
     ]
    },
    {
     "name": "stderr",
     "output_type": "stream",
     "text": [
      "Calibration: 100%|██████████| 21/21 [00:01<00:00, 16.19it/s]\n",
      "Enrichment : 100%|██████████| 302/302 [00:00<00:00, 878.76it/s] \n",
      "Calibration: 100%|██████████| 21/21 [00:01<00:00, 15.80it/s]\n",
      "Enrichment : 100%|██████████| 302/302 [00:00<00:00, 1168.16it/s]\n",
      "Calibration: 100%|██████████| 21/21 [00:01<00:00, 15.89it/s]\n",
      "Enrichment : 100%|██████████| 302/302 [00:00<00:00, 1180.50it/s]\n",
      "Calibration: 100%|██████████| 21/21 [00:01<00:00, 15.93it/s]\n",
      "Enrichment : 100%|██████████| 302/302 [00:00<00:00, 1178.59it/s]\n",
      "Calibration: 100%|██████████| 21/21 [00:01<00:00, 15.62it/s]\n",
      "Enrichment : 100%|██████████| 302/302 [00:00<00:00, 1185.31it/s]\n",
      "Calibration: 100%|██████████| 21/21 [00:01<00:00, 14.22it/s]\n",
      "Enrichment : 100%|██████████| 302/302 [00:00<00:00, 1178.71it/s]\n",
      "Calibration: 100%|██████████| 21/21 [00:01<00:00, 15.70it/s]\n",
      "Enrichment : 100%|██████████| 302/302 [00:00<00:00, 1147.18it/s]\n",
      "Calibration: 100%|██████████| 21/21 [00:01<00:00, 15.81it/s]\n",
      "Enrichment : 100%|██████████| 302/302 [00:00<00:00, 1170.22it/s]\n",
      "Calibration: 100%|██████████| 21/21 [00:01<00:00, 15.58it/s]\n",
      "Enrichment : 100%|██████████| 302/302 [00:00<00:00, 1150.48it/s]\n",
      "Calibration: 100%|██████████| 21/21 [00:01<00:00, 15.81it/s]\n",
      "Enrichment : 100%|██████████| 302/302 [00:00<00:00, 1150.77it/s]\n"
     ]
    },
    {
     "name": "stdout",
     "output_type": "stream",
     "text": [
      "2\n"
     ]
    },
    {
     "name": "stderr",
     "output_type": "stream",
     "text": [
      "Calibration: 100%|██████████| 21/21 [00:02<00:00,  8.02it/s]\n",
      "Enrichment : 100%|██████████| 302/302 [00:00<00:00, 1146.15it/s]\n",
      "Calibration: 100%|██████████| 21/21 [00:02<00:00,  8.12it/s]\n",
      "Enrichment : 100%|██████████| 302/302 [00:00<00:00, 1184.44it/s]\n",
      "Calibration: 100%|██████████| 21/21 [00:02<00:00,  8.09it/s]\n",
      "Enrichment : 100%|██████████| 302/302 [00:00<00:00, 1178.53it/s]\n",
      "Calibration: 100%|██████████| 21/21 [00:02<00:00,  8.15it/s]\n",
      "Enrichment : 100%|██████████| 302/302 [00:00<00:00, 1180.45it/s]\n",
      "Calibration: 100%|██████████| 21/21 [00:02<00:00,  8.12it/s]\n",
      "Enrichment : 100%|██████████| 302/302 [00:00<00:00, 1165.89it/s]\n",
      "Calibration: 100%|██████████| 21/21 [00:02<00:00,  8.06it/s]\n",
      "Enrichment : 100%|██████████| 302/302 [00:00<00:00, 1187.78it/s]\n",
      "Calibration: 100%|██████████| 21/21 [00:02<00:00,  7.99it/s]\n",
      "Enrichment : 100%|██████████| 302/302 [00:00<00:00, 1195.65it/s]\n",
      "Calibration: 100%|██████████| 21/21 [00:02<00:00,  8.13it/s]\n",
      "Enrichment : 100%|██████████| 302/302 [00:00<00:00, 1183.03it/s]\n",
      "Calibration: 100%|██████████| 21/21 [00:02<00:00,  8.11it/s]\n",
      "Enrichment : 100%|██████████| 302/302 [00:00<00:00, 1149.78it/s]\n",
      "Calibration: 100%|██████████| 21/21 [00:02<00:00,  7.87it/s]\n",
      "Enrichment : 100%|██████████| 302/302 [00:00<00:00, 1195.82it/s]\n"
     ]
    },
    {
     "name": "stdout",
     "output_type": "stream",
     "text": [
      "3\n"
     ]
    },
    {
     "name": "stderr",
     "output_type": "stream",
     "text": [
      "Calibration: 100%|██████████| 21/21 [00:03<00:00,  5.41it/s]\n",
      "Enrichment : 100%|██████████| 302/302 [00:00<00:00, 1170.13it/s]\n",
      "Calibration: 100%|██████████| 21/21 [00:03<00:00,  5.41it/s]\n",
      "Enrichment : 100%|██████████| 302/302 [00:00<00:00, 1157.72it/s]\n",
      "Calibration: 100%|██████████| 21/21 [00:03<00:00,  5.38it/s]\n",
      "Enrichment : 100%|██████████| 302/302 [00:00<00:00, 1169.11it/s]\n",
      "Calibration: 100%|██████████| 21/21 [00:03<00:00,  5.41it/s]\n",
      "Enrichment : 100%|██████████| 302/302 [00:00<00:00, 1174.29it/s]\n",
      "Calibration: 100%|██████████| 21/21 [00:03<00:00,  5.42it/s]\n",
      "Enrichment : 100%|██████████| 302/302 [00:00<00:00, 1144.27it/s]\n",
      "Calibration: 100%|██████████| 21/21 [00:03<00:00,  5.43it/s]\n",
      "Enrichment : 100%|██████████| 302/302 [00:00<00:00, 1164.89it/s]\n",
      "Calibration: 100%|██████████| 21/21 [00:03<00:00,  5.36it/s]\n",
      "Enrichment : 100%|██████████| 302/302 [00:00<00:00, 1175.51it/s]\n",
      "Calibration: 100%|██████████| 21/21 [00:03<00:00,  5.40it/s]\n",
      "Enrichment : 100%|██████████| 302/302 [00:00<00:00, 1187.94it/s]\n",
      "Calibration: 100%|██████████| 21/21 [00:03<00:00,  5.36it/s]\n",
      "Enrichment : 100%|██████████| 302/302 [00:00<00:00, 1145.43it/s]\n",
      "Calibration: 100%|██████████| 21/21 [00:03<00:00,  5.40it/s]\n",
      "Enrichment : 100%|██████████| 302/302 [00:00<00:00, 1177.32it/s]\n"
     ]
    },
    {
     "name": "stdout",
     "output_type": "stream",
     "text": [
      "4\n"
     ]
    },
    {
     "name": "stderr",
     "output_type": "stream",
     "text": [
      "Calibration: 100%|██████████| 21/21 [00:05<00:00,  4.04it/s]\n",
      "Enrichment : 100%|██████████| 302/302 [00:00<00:00, 1140.26it/s]\n",
      "Calibration: 100%|██████████| 21/21 [00:05<00:00,  4.06it/s]\n",
      "Enrichment : 100%|██████████| 302/302 [00:00<00:00, 1172.55it/s]\n",
      "Calibration: 100%|██████████| 21/21 [00:05<00:00,  4.04it/s]\n",
      "Enrichment : 100%|██████████| 302/302 [00:00<00:00, 1167.12it/s]\n",
      "Calibration: 100%|██████████| 21/21 [00:05<00:00,  4.08it/s]\n",
      "Enrichment : 100%|██████████| 302/302 [00:00<00:00, 1153.19it/s]\n",
      "Calibration: 100%|██████████| 21/21 [00:05<00:00,  4.02it/s]\n",
      "Enrichment : 100%|██████████| 302/302 [00:00<00:00, 1171.09it/s]\n",
      "Calibration: 100%|██████████| 21/21 [00:05<00:00,  4.04it/s]\n",
      "Enrichment : 100%|██████████| 302/302 [00:00<00:00, 1141.91it/s]\n",
      "Calibration: 100%|██████████| 21/21 [00:05<00:00,  4.09it/s]\n",
      "Enrichment : 100%|██████████| 302/302 [00:00<00:00, 1162.94it/s]\n",
      "Calibration: 100%|██████████| 21/21 [00:05<00:00,  4.04it/s]\n",
      "Enrichment : 100%|██████████| 302/302 [00:00<00:00, 1156.79it/s]\n",
      "Calibration: 100%|██████████| 21/21 [00:05<00:00,  4.05it/s]\n",
      "Enrichment : 100%|██████████| 302/302 [00:00<00:00, 1163.29it/s]\n",
      "Calibration: 100%|██████████| 21/21 [00:05<00:00,  4.00it/s]\n",
      "Enrichment : 100%|██████████| 302/302 [00:00<00:00, 1178.06it/s]\n"
     ]
    },
    {
     "name": "stdout",
     "output_type": "stream",
     "text": [
      "5\n"
     ]
    },
    {
     "name": "stderr",
     "output_type": "stream",
     "text": [
      "Calibration: 100%|██████████| 21/21 [00:06<00:00,  3.28it/s]\n",
      "Enrichment : 100%|██████████| 302/302 [00:00<00:00, 1155.28it/s]\n",
      "Calibration: 100%|██████████| 21/21 [00:06<00:00,  3.25it/s]\n",
      "Enrichment : 100%|██████████| 302/302 [00:00<00:00, 1163.32it/s]\n",
      "Calibration: 100%|██████████| 21/21 [00:06<00:00,  3.25it/s]\n",
      "Enrichment : 100%|██████████| 302/302 [00:00<00:00, 1158.62it/s]\n",
      "Calibration: 100%|██████████| 21/21 [00:06<00:00,  3.11it/s]\n",
      "Enrichment : 100%|██████████| 302/302 [00:00<00:00, 1166.65it/s]\n",
      "Calibration: 100%|██████████| 21/21 [00:06<00:00,  3.26it/s]\n",
      "Enrichment : 100%|██████████| 302/302 [00:00<00:00, 1161.61it/s]\n",
      "Calibration: 100%|██████████| 21/21 [00:06<00:00,  3.23it/s]\n",
      "Enrichment : 100%|██████████| 302/302 [00:00<00:00, 1173.07it/s]\n",
      "Calibration: 100%|██████████| 21/21 [00:06<00:00,  3.22it/s]\n",
      "Enrichment : 100%|██████████| 302/302 [00:00<00:00, 1169.69it/s]\n",
      "Calibration: 100%|██████████| 21/21 [00:06<00:00,  3.26it/s]\n",
      "Enrichment : 100%|██████████| 302/302 [00:00<00:00, 1158.72it/s]\n",
      "Calibration: 100%|██████████| 21/21 [00:06<00:00,  3.23it/s]\n",
      "Enrichment : 100%|██████████| 302/302 [00:00<00:00, 1190.11it/s]\n",
      "Calibration: 100%|██████████| 21/21 [00:06<00:00,  3.26it/s]\n",
      "Enrichment : 100%|██████████| 302/302 [00:00<00:00, 1171.60it/s]\n"
     ]
    },
    {
     "name": "stdout",
     "output_type": "stream",
     "text": [
      "6\n"
     ]
    },
    {
     "name": "stderr",
     "output_type": "stream",
     "text": [
      "Calibration: 100%|██████████| 21/21 [00:07<00:00,  2.67it/s]\n",
      "Enrichment : 100%|██████████| 302/302 [00:00<00:00, 1146.14it/s]\n",
      "Calibration: 100%|██████████| 21/21 [00:07<00:00,  2.71it/s]\n",
      "Enrichment : 100%|██████████| 302/302 [00:00<00:00, 1150.01it/s]\n",
      "Calibration: 100%|██████████| 21/21 [00:07<00:00,  2.72it/s]\n",
      "Enrichment : 100%|██████████| 302/302 [00:00<00:00, 1177.76it/s]\n",
      "Calibration: 100%|██████████| 21/21 [00:07<00:00,  2.70it/s]\n",
      "Enrichment : 100%|██████████| 302/302 [00:00<00:00, 1173.53it/s]\n",
      "Calibration: 100%|██████████| 21/21 [00:07<00:00,  2.72it/s]\n",
      "Enrichment : 100%|██████████| 302/302 [00:00<00:00, 1157.10it/s]\n",
      "Calibration: 100%|██████████| 21/21 [00:07<00:00,  2.74it/s]\n",
      "Enrichment : 100%|██████████| 302/302 [00:00<00:00, 1145.19it/s]\n",
      "Calibration: 100%|██████████| 21/21 [00:07<00:00,  2.70it/s]\n",
      "Enrichment : 100%|██████████| 302/302 [00:00<00:00, 1183.06it/s]\n",
      "Calibration: 100%|██████████| 21/21 [00:07<00:00,  2.72it/s]\n",
      "Enrichment : 100%|██████████| 302/302 [00:00<00:00, 1151.97it/s]\n",
      "Calibration: 100%|██████████| 21/21 [00:07<00:00,  2.72it/s]\n",
      "Enrichment : 100%|██████████| 302/302 [00:00<00:00, 1182.92it/s]\n",
      "Calibration: 100%|██████████| 21/21 [00:07<00:00,  2.70it/s]\n",
      "Enrichment : 100%|██████████| 302/302 [00:00<00:00, 1164.82it/s]\n"
     ]
    },
    {
     "name": "stdout",
     "output_type": "stream",
     "text": [
      "7\n"
     ]
    },
    {
     "name": "stderr",
     "output_type": "stream",
     "text": [
      "Calibration: 100%|██████████| 21/21 [00:09<00:00,  2.33it/s]\n",
      "Enrichment : 100%|██████████| 302/302 [00:00<00:00, 1186.76it/s]\n",
      "Calibration: 100%|██████████| 21/21 [00:09<00:00,  2.30it/s]\n",
      "Enrichment : 100%|██████████| 302/302 [00:00<00:00, 1184.38it/s]\n",
      "Calibration: 100%|██████████| 21/21 [00:09<00:00,  2.31it/s]\n",
      "Enrichment : 100%|██████████| 302/302 [00:00<00:00, 1171.18it/s]\n",
      "Calibration: 100%|██████████| 21/21 [00:09<00:00,  2.33it/s]\n",
      "Enrichment : 100%|██████████| 302/302 [00:00<00:00, 1165.70it/s]\n",
      "Calibration: 100%|██████████| 21/21 [00:08<00:00,  2.33it/s]\n",
      "Enrichment : 100%|██████████| 302/302 [00:00<00:00, 1160.32it/s]\n",
      "Calibration: 100%|██████████| 21/21 [00:09<00:00,  2.28it/s]\n",
      "Enrichment : 100%|██████████| 302/302 [00:00<00:00, 1195.37it/s]\n",
      "Calibration: 100%|██████████| 21/21 [00:09<00:00,  2.31it/s]\n",
      "Enrichment : 100%|██████████| 302/302 [00:00<00:00, 1172.35it/s]\n",
      "Calibration: 100%|██████████| 21/21 [00:09<00:00,  2.32it/s]\n",
      "Enrichment : 100%|██████████| 302/302 [00:00<00:00, 1143.51it/s]\n",
      "Calibration: 100%|██████████| 21/21 [00:08<00:00,  2.34it/s]\n",
      "Enrichment : 100%|██████████| 302/302 [00:00<00:00, 1181.66it/s]\n",
      "Calibration: 100%|██████████| 21/21 [00:09<00:00,  2.31it/s]\n",
      "Enrichment : 100%|██████████| 302/302 [00:00<00:00, 1148.39it/s]\n"
     ]
    },
    {
     "name": "stdout",
     "output_type": "stream",
     "text": [
      "8\n"
     ]
    },
    {
     "name": "stderr",
     "output_type": "stream",
     "text": [
      "Calibration: 100%|██████████| 21/21 [00:10<00:00,  2.03it/s]\n",
      "Enrichment : 100%|██████████| 302/302 [00:00<00:00, 1167.11it/s]\n",
      "Calibration: 100%|██████████| 21/21 [00:10<00:00,  2.04it/s]\n",
      "Enrichment : 100%|██████████| 302/302 [00:00<00:00, 1194.89it/s]\n",
      "Calibration: 100%|██████████| 21/21 [00:10<00:00,  2.02it/s]\n",
      "Enrichment : 100%|██████████| 302/302 [00:00<00:00, 1180.77it/s]\n",
      "Calibration: 100%|██████████| 21/21 [00:10<00:00,  2.02it/s]\n",
      "Enrichment : 100%|██████████| 302/302 [00:00<00:00, 1161.08it/s]\n",
      "Calibration: 100%|██████████| 21/21 [00:10<00:00,  2.03it/s]\n",
      "Enrichment : 100%|██████████| 302/302 [00:00<00:00, 1154.79it/s]\n",
      "Calibration: 100%|██████████| 21/21 [00:10<00:00,  2.02it/s]\n",
      "Enrichment : 100%|██████████| 302/302 [00:00<00:00, 1173.06it/s]\n",
      "Calibration: 100%|██████████| 21/21 [00:10<00:00,  2.02it/s]\n",
      "Enrichment : 100%|██████████| 302/302 [00:00<00:00, 1185.01it/s]\n",
      "Calibration: 100%|██████████| 21/21 [00:10<00:00,  2.05it/s]\n",
      "Enrichment : 100%|██████████| 302/302 [00:00<00:00, 1175.98it/s]\n",
      "Calibration: 100%|██████████| 21/21 [00:10<00:00,  2.03it/s]\n",
      "Enrichment : 100%|██████████| 302/302 [00:00<00:00, 1164.87it/s]\n",
      "Calibration: 100%|██████████| 21/21 [00:10<00:00,  2.03it/s]\n",
      "Enrichment : 100%|██████████| 302/302 [00:00<00:00, 1172.50it/s]\n"
     ]
    },
    {
     "name": "stdout",
     "output_type": "stream",
     "text": [
      "9\n"
     ]
    },
    {
     "name": "stderr",
     "output_type": "stream",
     "text": [
      "Calibration: 100%|██████████| 21/21 [00:11<00:00,  1.81it/s]\n",
      "Enrichment : 100%|██████████| 302/302 [00:00<00:00, 1168.29it/s]\n",
      "Calibration: 100%|██████████| 21/21 [00:11<00:00,  1.82it/s]\n",
      "Enrichment : 100%|██████████| 302/302 [00:00<00:00, 1178.99it/s]\n",
      "Calibration: 100%|██████████| 21/21 [00:11<00:00,  1.78it/s]\n",
      "Enrichment : 100%|██████████| 302/302 [00:00<00:00, 1166.46it/s]\n",
      "Calibration: 100%|██████████| 21/21 [00:11<00:00,  1.81it/s]\n",
      "Enrichment : 100%|██████████| 302/302 [00:00<00:00, 1165.41it/s]\n",
      "Calibration: 100%|██████████| 21/21 [00:11<00:00,  1.80it/s]\n",
      "Enrichment : 100%|██████████| 302/302 [00:00<00:00, 1174.73it/s]\n",
      "Calibration: 100%|██████████| 21/21 [00:11<00:00,  1.83it/s]\n",
      "Enrichment : 100%|██████████| 302/302 [00:00<00:00, 1165.55it/s]\n",
      "Calibration: 100%|██████████| 21/21 [00:11<00:00,  1.81it/s]\n",
      "Enrichment : 100%|██████████| 302/302 [00:00<00:00, 1162.53it/s]\n",
      "Calibration: 100%|██████████| 21/21 [00:11<00:00,  1.81it/s]\n",
      "Enrichment : 100%|██████████| 302/302 [00:00<00:00, 1169.01it/s]\n",
      "Calibration: 100%|██████████| 21/21 [00:11<00:00,  1.81it/s]\n",
      "Enrichment : 100%|██████████| 302/302 [00:00<00:00, 1165.86it/s]\n",
      "Calibration: 100%|██████████| 21/21 [00:11<00:00,  1.82it/s]\n",
      "Enrichment : 100%|██████████| 302/302 [00:00<00:00, 1170.09it/s]\n"
     ]
    },
    {
     "name": "stdout",
     "output_type": "stream",
     "text": [
      "10\n"
     ]
    },
    {
     "name": "stderr",
     "output_type": "stream",
     "text": [
      "Calibration: 100%|██████████| 21/21 [00:12<00:00,  1.63it/s]\n",
      "Enrichment : 100%|██████████| 302/302 [00:00<00:00, 1170.91it/s]\n",
      "Calibration: 100%|██████████| 21/21 [00:12<00:00,  1.64it/s]\n",
      "Enrichment : 100%|██████████| 302/302 [00:00<00:00, 1177.14it/s]\n",
      "Calibration: 100%|██████████| 21/21 [00:12<00:00,  1.64it/s]\n",
      "Enrichment : 100%|██████████| 302/302 [00:00<00:00, 1145.85it/s]\n",
      "Calibration: 100%|██████████| 21/21 [00:12<00:00,  1.64it/s]\n",
      "Enrichment : 100%|██████████| 302/302 [00:00<00:00, 1165.98it/s]\n",
      "Calibration: 100%|██████████| 21/21 [00:12<00:00,  1.63it/s]\n",
      "Enrichment : 100%|██████████| 302/302 [00:00<00:00, 1188.71it/s]\n",
      "Calibration: 100%|██████████| 21/21 [00:12<00:00,  1.63it/s]\n",
      "Enrichment : 100%|██████████| 302/302 [00:00<00:00, 1164.39it/s]\n",
      "Calibration: 100%|██████████| 21/21 [00:12<00:00,  1.64it/s]\n",
      "Enrichment : 100%|██████████| 302/302 [00:00<00:00, 1173.41it/s]\n",
      "Calibration: 100%|██████████| 21/21 [00:12<00:00,  1.64it/s]\n",
      "Enrichment : 100%|██████████| 302/302 [00:00<00:00, 1152.23it/s]\n",
      "Calibration: 100%|██████████| 21/21 [00:12<00:00,  1.63it/s]\n",
      "Enrichment : 100%|██████████| 302/302 [00:00<00:00, 1172.90it/s]\n",
      "Calibration: 100%|██████████| 21/21 [00:12<00:00,  1.62it/s]\n",
      "Enrichment : 100%|██████████| 302/302 [00:00<00:00, 1169.45it/s]\n"
     ]
    }
   ],
   "source": [
    "escores_old = []\n",
    "escores_new = []\n",
    "\n",
    "old_t = []\n",
    "new_t = []\n",
    "\n",
    "for i in range(1,11):\n",
    "    boot_old = []\n",
    "    boot_new = []\n",
    "    tto = []\n",
    "    ttn = []\n",
    "    print(i)\n",
    "    for j in range(1,11):\n",
    "        ii=i*250\n",
    "        st = time.time()\n",
    "        res = blitz.gsea(signature, library, permutations=ii, processes=6, seed=j*i, signature_cache=False)\n",
    "        ttn.append(time.time()-st)\n",
    "        st = time.time()\n",
    "        enrichment = chopped_gsea(sig, library, 3, permutation_num=ii, seed=i*j+j, max_lib_size=25)\n",
    "        tto.append(time.time()-st)\n",
    "        over = list(set(enrichment.index).intersection(set(res.index)))\n",
    "\n",
    "        boot_new.append(np.array(res.loc[over,\"pval\"]).astype(\"float\"))\n",
    "        boot_old.append(np.array(enrichment.loc[over,\"pval\"]).astype(\"float\"))\n",
    "    \n",
    "    escores_old.append(boot_old)\n",
    "    escores_new.append(boot_new)\n",
    "    old_t.append(tto)\n",
    "    new_t.append(ttn)"
   ]
  },
  {
   "cell_type": "markdown",
   "metadata": {},
   "source": [
    "## Save results\n",
    "\n",
    "Pickle the results for later reuse."
   ]
  },
  {
   "cell_type": "code",
   "execution_count": 9,
   "metadata": {},
   "outputs": [],
   "source": [
    "import pickle\n",
    "pickle.dump(escores_old, open(\"escores_old.pkl\", \"wb\"))\n",
    "pickle.dump(escores_new, open(\"escores_new.pkl\", \"wb\"))"
   ]
  },
  {
   "cell_type": "code",
   "execution_count": 9,
   "metadata": {},
   "outputs": [],
   "source": [
    "import pickle\n",
    "escores_old = pickle.load(open(\"escores_old.pkl\", 'rb'))\n",
    "escores_new = pickle.load(open(\"escores_new.pkl\", 'rb'))"
   ]
  },
  {
   "cell_type": "markdown",
   "metadata": {},
   "source": [
    "## Plot results\n",
    "\n",
    "Plot the error for GSEApy and blitzGSEA. The p-value error for fGSEA is computed in a separate notebook since it is running in a R environment."
   ]
  },
  {
   "cell_type": "code",
   "execution_count": 36,
   "metadata": {},
   "outputs": [
    {
     "data": {
      "image/png": "[encoded data removed]",
      "text/plain": [
       "<Figure size 648x432 with 1 Axes>"
      ]
     },
     "metadata": {
      "needs_background": "light"
     },
     "output_type": "display_data"
    }
   ],
   "source": [
    "fgsea_error = [0.00261250354614742,0.00274601095318889,0.00268698398862981,0.00254896856733903,0.0028239254670881,0.00255107983368626,0.00266219682016753,0.00248607221489015,0.00294916957896707,0.00300309821889459]\n",
    "\n",
    "error_new = []\n",
    "for ll in range(len(escores_new)):\n",
    "    ccc = np.log(pd.DataFrame(escores_new[ll])).T.corr()\n",
    "    np.fill_diagonal(ccc.values, np.nan)\n",
    "    error_new.append(1-ccc.mean())\n",
    "\n",
    "error_old = []\n",
    "for ll in range(len(escores_old)):\n",
    "    ccc = np.log(pd.DataFrame(escores_old[ll])).T.corr()\n",
    "    np.fill_diagonal(ccc.values, np.nan)\n",
    "    error_old.append(1-ccc.mean())\n",
    "\n",
    "fig = plt.figure(figsize =(9, 6))\n",
    "ax = fig.add_subplot(111)\n",
    "\n",
    "ax.hlines(np.mean(fgsea_error), -1, 12, color=\"red\",linestyle=\"dashed\", label=\"mean fGSEA error\")\n",
    "ax.set_xlim([0,11])\n",
    "\n",
    "b1 = ax.boxplot(error_new, labels=np.array(range(1,len(escores_new)+1))*250, patch_artist=True)\n",
    "b2 = ax.boxplot(error_old, labels=[\"\"]*len(escores_new), patch_artist=True)\n",
    "\n",
    "plt.xlabel(\"Perturbations\", fontsize=20)\n",
    "plt.ylabel(\"Error\", fontsize=20)\n",
    "\n",
    "for p in b1['boxes']:\n",
    "    p.set_facecolor(\"skyblue\")\n",
    "\n",
    "for p in b2['boxes']:\n",
    "    p.set_facecolor(\"moccasin\")\n",
    "\n",
    "ax.legend([b1[\"boxes\"][0], b2[\"boxes\"][0], Line2D([0], [0], color='r',linestyle=\"dashed\", lw=3, label='mean fGSEA error')], ['blitzGSEA', 'prerank GSEA / GSEApy', 'mean fGSEA error'], loc='upper right', fontsize=16, frameon=False)\n",
    "\n",
    "ax.tick_params(axis=\"x\", labelsize=16, rotation=90)\n",
    "ax.tick_params(axis=\"y\", labelsize=16)\n",
    "\n",
    "plt.savefig(\"figures/gsea_consistency_error.pdf\", bbox_inches='tight')"
   ]
  },
  {
   "cell_type": "markdown",
   "metadata": {},
   "source": [
    "## Plot p-value accuracy\n",
    "\n",
    "Plot the p-value comparison of GSEApy and blitzGSEA. This plot shows that GSEApy saturates p-values."
   ]
  },
  {
   "cell_type": "code",
   "execution_count": 9,
   "metadata": {},
   "outputs": [
    {
     "data": {
      "image/png": "[encoded data removed]",
      "text/plain": [
       "<Figure size 504x360 with 1 Axes>"
      ]
     },
     "metadata": {
      "needs_background": "light"
     },
     "output_type": "display_data"
    }
   ],
   "source": [
    "kk = 6\n",
    "\n",
    "pp_new = -np.log(pd.DataFrame(escores_new[kk]).T)\n",
    "ranks = pp_new.mean(axis=1).argsort()[::-1]\n",
    "\n",
    "pp_old = -np.log(pd.DataFrame(escores_old[kk]).T)\n",
    "\n",
    "\n",
    "fig = plt.figure(figsize =(7, 5))\n",
    "ax = fig.add_subplot(111)\n",
    "\n",
    "c = \"black\"\n",
    "rl1 = ax.boxplot(pp_new.T.iloc[:, ranks], showfliers=False, patch_artist=True,\n",
    "            boxprops=dict(facecolor=c, color=c),\n",
    "            capprops=dict(color=c),\n",
    "            whiskerprops=dict(color=c),\n",
    "            medianprops=dict(color=\"black\"), labels=[\"\"]*len(ranks))\n",
    "\n",
    "\n",
    "c = \"magenta\"\n",
    "rl2 = ax.boxplot(pp_old.T.iloc[:, ranks], showfliers=False, patch_artist=True,\n",
    "            boxprops=dict(facecolor=c, color=c),\n",
    "            capprops=dict(color=c),\n",
    "            whiskerprops=dict(color=c),\n",
    "            medianprops=dict(color=\"black\"), labels=[\"\"]*len(ranks))\n",
    "\n",
    "ax.hlines(np.max(np.max(pp_old.replace(np.inf, 0))), 0, pp_old.shape[0], color=\"grey\", linestyles=\"--\")\n",
    "ax.text(pp_old.shape[0], np.max(np.max(pp_old.replace(np.inf, 0))), \"min p-value GSEApy\", fontsize=14, horizontalalignment='right', verticalalignment='bottom',)\n",
    "\n",
    "ax.legend([rl1[\"boxes\"][0], rl2[\"boxes\"][0]], ['turboGSEA', 'prerank GSEA / GSEApy'], loc='upper right', fontsize=14, frameon=False)\n",
    "\n",
    "plt.xlabel(\"gene sets\", fontsize=22)\n",
    "plt.ylabel(\"-log(p-val)\", fontsize=22)\n",
    "\n",
    "ax.tick_params(axis=\"x\", labelsize=18, rotation=90)\n",
    "ax.tick_params(bottom=False)\n",
    "ax.tick_params(axis=\"y\", labelsize=18)\n",
    "\n",
    "plt.savefig(\"figures/pvalue_saturation.pdf\", bbox_inches='tight')"
   ]
  }
 ],
 "metadata": {
  "kernelspec": {
   "display_name": "Python 3",
   "language": "python",
   "name": "python3"
  },
  "language_info": {
   "codemirror_mode": {
    "name": "ipython",
    "version": 3
   },
   "file_extension": ".py",
   "mimetype": "text/x-python",
   "name": "python",
   "nbconvert_exporter": "python",
   "pygments_lexer": "ipython3",
   "version": "3.8.5"
  }
 },
 "nbformat": 4,
 "nbformat_minor": 4
}
