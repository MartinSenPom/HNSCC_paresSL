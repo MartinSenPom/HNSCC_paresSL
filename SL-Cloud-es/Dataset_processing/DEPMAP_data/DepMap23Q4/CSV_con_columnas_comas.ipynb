{
 "cells": [
  {
   "cell_type": "markdown",
   "id": "dd5defe7-91ea-42e2-9a36-5bad995a3f23",
   "metadata": {},
   "source": [
    "# CSV con Columnas Comas\n",
    "```\n",
    "Autor:  Martín Sende Pombo (email: martinsendepombo@outlook.com)\n",
    "Como asistente de programación se utilizó ChatGPT 3.5.\n",
    "Creado: 03-03-2024\n",
    "Propósito: Modificar el archivo CSV indicado para hacer que el delimitador sus columnas, pase de ser \";\" a \",\".\n",
    "```\n",
    "Copyright (C) 2024  Martín Sende Pombo\n",
    "\n",
    "    Este programa es software libre: puede redistribuirlo y/o modificarlo\n",
    "    bajo los términos de la Licencia Pública General GNU publicada por la\n",
    "    Free Software Foundation, ya sea la versión 3 de la Licencia,\n",
    "    o (a su elección) cualquier versión posterior.\n",
    "\n",
    "    Este programa se distribuye con la esperanza de que sea útil,\n",
    "    pero SIN NINGUNA GARANTÍA; ni siquiera la garantía implícita\n",
    "    de COMERCIABILIDAD o IDONEIDAD PARA UN PROPÓSITO PARTICULAR.\n",
    "    Consulte la Licencia Pública General GNU para más detalles.\n",
    "\n",
    "    Debería haber recibido una copia de la Licencia Pública General\n",
    "    GNU junto con este programa. Si no es así, consulte <https://www.gnu.org/licenses/>."
   ]
  },
  {
   "cell_type": "code",
   "execution_count": 1,
   "id": "9ada1c0e-fe5f-479b-90f0-9f1e27ad868d",
   "metadata": {
    "tags": []
   },
   "outputs": [
    {
     "name": "stdout",
     "output_type": "stream",
     "text": [
      "Archivo guardado con éxito con las columnas separadas por comas.\n"
     ]
    }
   ],
   "source": [
    "import pandas as pd\n",
    "\n",
    "# Leer el archivo CSV\n",
    "df = pd.read_csv(\"Model.csv\", sep=\";\")\n",
    "\n",
    "# Guardar el archivo con el nuevo delimitador \",\"\n",
    "df.to_csv(\"Model_con_comas.csv\", index=False)\n",
    "\n",
    "print(\"Archivo guardado con éxito con las columnas separadas por comas.\")"
   ]
  },
  {
   "cell_type": "markdown",
   "id": "01868654-d21e-4f4b-a5af-5961c4549fd1",
   "metadata": {},
   "source": [
    "Este código lee el archivo CSV llamado *Model.csv*, asumiendo que se encuentra en el mismo directorio que este *script* de Python. Luego, guarda el archivo con el nuevo nombre *Model_con_comas.csv* y las columnas separadas por comas. Se pueden ajustar los nombres de los archivos según las necesidades de cada caso."
   ]
  }
 ],
 "metadata": {
  "kernelspec": {
   "display_name": "Python 3 (ipykernel)",
   "language": "python",
   "name": "python3"
  },
  "language_info": {
   "codemirror_mode": {
    "name": "ipython",
    "version": 3
   },
   "file_extension": ".py",
   "mimetype": "text/x-python",
   "name": "python",
   "nbconvert_exporter": "python",
   "pygments_lexer": "ipython3",
   "version": "3.11.5"
  }
 },
 "nbformat": 4,
 "nbformat_minor": 5
}
