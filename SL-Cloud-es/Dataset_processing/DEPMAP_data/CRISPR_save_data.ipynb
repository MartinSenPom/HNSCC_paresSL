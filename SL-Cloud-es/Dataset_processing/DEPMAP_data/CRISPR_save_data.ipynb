{
 "cells": [
  {
   "cell_type": "markdown",
   "metadata": {},
   "source": [
    "# Guardar conjuntos de datos de DEPMAP20Q3 en tablas BigQuery \n",
    "```\n",
    "Título original: How to save DEPMAP20Q3 datasets in BigQuery Tables\n",
    "Autor:  Bahar Tercan\n",
    "Creado: 02-08-2022\n",
    "Cuaderno de Jupyter traducido y modificado por Martín Sende Pombo.\n",
    "Fecha de modificación: 24-02-2024\n",
    "Propósito: Descargar datos del proyecto DEPMAP20Q3 en tablas BigQuery. \n",
    "Notas: MyBinder puede reiniciar el kernel debido al largo tiempo de ejecución de este cuaderno, por lo que solo recomendamos la ejecución local para este cuaderno.\n",
    "```"
   ]
  },
  {
   "cell_type": "markdown",
   "metadata": {},
   "source": [
    "Este cuaderno proporciona código para guardar los datos de DepMap_public_20Q3 en tablas de bigquery.\n",
    "Los usuarios no necesitan ejecutar esta \"pipeline\" para obtener los datos, sino que esta tubería muestra como guardamos los datos en las tablas de bigquery.\n",
    "\n",
    "Por favor, póngase en contacto con Bahar Tercan, btercan@systemsbiology.org, si tiene más preguntas sobre este cuaderno."
   ]
  },
  {
   "cell_type": "markdown",
   "metadata": {},
   "source": [
    "## Instalación e importación de las bibliotecas requeridas"
   ]
  },
  {
   "cell_type": "code",
   "execution_count": null,
   "metadata": {},
   "outputs": [],
   "source": [
    "# Por favor, no ejecute este bloque de código si está corriendo el cuaderno en MyBinder.\n",
    "# Este bloque de código instala las dependencias. Por favor, descoméntelo y ejecútelo sólo una vez, la primera ocasión que ejecute este cuaderno en su ordenador.\n",
    "# (Si ya ha ejecutado este bloque para el \"pipeline\" shRNA_save_data, no necesita correrlo).\n",
    "#!pip3 install numpy\n",
    "#!pip3 install pandas\n",
    "#!pip3 install google.cloud\n",
    "#!pip3 install pandas_gbq\n",
    "#!pip3 install importlib"
   ]
  },
  {
   "cell_type": "code",
   "execution_count": null,
   "metadata": {},
   "outputs": [],
   "source": [
    "import numpy as np\n",
    "import sys\n",
    "sys.path.append('../../Scripts/')\n",
    "import importlib\n",
    "import BIGQUERY_operations\n",
    "importlib.reload(BIGQUERY_operations)\n",
    "from BIGQUERY_operations import *\n",
    "import DEPMAP_data_preprocessing\n",
    "importlib.reload(DEPMAP_data_preprocessing)\n",
    "from DEPMAP_data_preprocessing import *\n"
   ]
  },
  {
   "cell_type": "markdown",
   "metadata": {},
   "source": [
    "## Autenticación de Google\n",
    "El primer paso es autorizar el acceso a BigQuery y a Google Cloud. Para más información vea ['Quick Start Guide to ISB-CGC'](https://isb-cancer-genomics-cloud.readthedocs.io/en/latest/sections/HowToGetStartedonISB-CGC.html) y puede encontrar métodos de autentificación alternativos [aquí](https://googleapis.dev/python/google-api-core/latest/auth.html).\n",
    "\n",
    "Además necesita [crear un proyecto de Google Cloud](https://cloud.google.com/resource-manager/docs/creating-managing-projects#console) para poder ejecutar consultas BigQuery."
   ]
  },
  {
   "cell_type": "markdown",
   "metadata": {},
   "source": [
    "### * Si está ejecutando este cuaderno en un entorno de máquina virtual de Google (Compute Engine, App Engine, Cloud Run, Cloud Functions): \n",
    "La autenticación debería \"simplemente funcionar\"."
   ]
  },
  {
   "cell_type": "markdown",
   "metadata": {},
   "source": [
    "### * Si la ejecución se realiza en un entorno local: \n",
    "La forma más sencilla de autenticarse es emplear el SDK de Google Cloud."
   ]
  },
  {
   "cell_type": "code",
   "execution_count": null,
   "metadata": {},
   "outputs": [],
   "source": [
    "#Por favor, no ejecute este bloque de código si está corriendo el cuaderno en MyBinder.\n",
    "!gcloud auth application-default login"
   ]
  },
  {
   "cell_type": "markdown",
   "metadata": {
    "tags": []
   },
   "source": [
    "###"
   ]
  },
  {
   "cell_type": "code",
   "execution_count": null,
   "metadata": {},
   "outputs": [],
   "source": [
    "from google.cloud import bigquery"
   ]
  },
  {
   "cell_type": "code",
   "execution_count": null,
   "metadata": {},
   "outputs": [],
   "source": [
    "# Configurar la información del proyecto y el cliente bigquery.\n",
    "# Por favor, reemplace syntheticlethality por el ID de su propio proyecto.\n",
    "\n",
    "\n",
    "project_id='syntheticlethality'\n",
    "\n",
    "# Construir un objeto cliente BigQuery.\n",
    "client = bigquery.Client(project_id)"
   ]
  },
  {
   "cell_type": "markdown",
   "metadata": {},
   "source": [
    "## Definición del nombre y la descripción del conjunto de datos"
   ]
  },
  {
   "cell_type": "code",
   "execution_count": null,
   "metadata": {},
   "outputs": [],
   "source": [
    "dataset_name='DepMap_public_20Q3_backup'\n",
    "dataset_description=\"\"\"  \n",
    "Esta versión de DepMap contiene datos de cribados CRISPR knockout del proyecto Achilles, así como datos de caracterización genómica del proyecto CCLE.\n",
    "\n",
    "Referencias:\n",
    "Dempster, J.M., Rossen, J., Kazachkova, M., Pan, J., Kugener, G., Root, D.E., and Tsherniak, A. (2019). Extracting Biological Insights from the Project Achilles Genome-Scale CRISPR Screens in Cancer Cell Lines.\n",
    "\n",
    "Meyers, R.M., Bryan, J.G., McFarland, J.M., Weir, B.A., Sizemore, A.E., Xu, H., Dharia, N.V., Montgomery, P.G., Cowley, G.S., Pantel, S., et al. (2017). Computational correction of copy number effect improves specificity of CRISPR-Cas9 essentiality screens in cancer cells. Nat. Genet. 49, 1779–1784.\n",
    "\n",
    "Ghandi, M., Huang, F.W., Jané-Valbuena, J., Kryukov, G.V., Lo, C.C., McDonald, E.R., 3rd, Barretina, J., Gelfand, E.T., Bielski, C.M., Li, H., et al. (2019). Next-generation characterization of the Cancer Cell Line Encyclopedia. Nature 569, 503–508\n",
    "\"\"\"\n",
    "\n",
    "CreateDataSet(client, dataset_name, project_id, dataset_description)"
   ]
  },
  {
   "cell_type": "markdown",
   "metadata": {},
   "source": [
    "## Descarga de los conjuntos de datos DEPMAP20Q3 del portal DEPMAP"
   ]
  },
  {
   "cell_type": "code",
   "execution_count": null,
   "metadata": {},
   "outputs": [],
   "source": [
    "#CCLE_mutations.csv\n",
    "mutation_data=pd.read_csv(\"https://ndownloader.figshare.com/files/24613355\", sep=\"\\t\") \n",
    "#https://ndownloader.figshare.com/files/24613355\n",
    "\n",
    "#sample_info.csv\n",
    "sample_info=pd.read_csv(\"https://ndownloader.figshare.com/files/24613394\",  sep=\",\")\n",
    "#https://ndownloader.figshare.com/files/24613394\n",
    "\n",
    "#CCLE_gene_cn.csv\n",
    "cn_data=pd.read_csv(\"https://ndownloader.figshare.com/files/24613352\", index_col=0) #Índice: | ACH-000001\n",
    "#https://ndownloader.figshare.com/files/24613352\n",
    "\n",
    "#CCLE_expression.csv\n",
    "gene_exp_data=pd.read_csv(\"https://ndownloader.figshare.com/files/24613325\", index_col=0) #Índice: | ACH-001636\n",
    "#https://ndownloader.figshare.com/files/24613325\n",
    "\n",
    "#Achilles_gene_effect.csv\n",
    "achilles_gene_effect=pd.read_csv(\"https://ndownloader.figshare.com/files/24613292\", index_col=0) #Índice: DepMap_ID | ACH-000004\n",
    "#https://ndownloader.figshare.com/files/24613292\n"
   ]
  },
  {
   "cell_type": "markdown",
   "metadata": {},
   "source": [
    "## Lectura de las anotaciones creadas manualmente para las columnas de las tablas"
   ]
  },
  {
   "cell_type": "code",
   "execution_count": null,
   "metadata": {},
   "outputs": [],
   "source": [
    "# Obtener anotaciones del archivo excel\n",
    "depmap_annotations=pd.ExcelFile(\"../Depmap20Q3_annotation.xlsx\")"
   ]
  },
  {
   "cell_type": "code",
   "execution_count": null,
   "metadata": {},
   "outputs": [],
   "source": [
    "mutation_annotation=depmap_annotations.parse('CCLE_Mutations')\n",
    "sample_annotation=depmap_annotations.parse('Sample_Info')\n",
    "achilles_gene_effect_annotation=depmap_annotations.parse('Achilles_Gene_Effect')\n",
    "CCLE_expression_annotation=depmap_annotations.parse('CCLE_Gene_Expression')\n",
    "cnv_annotations=depmap_annotations.parse('CCLE_Copy_Number')"
   ]
  },
  {
   "cell_type": "markdown",
   "metadata": {},
   "source": [
    "## Creación del conjunto de datos de BigQuery en el proyecto de Google Cloud"
   ]
  },
  {
   "cell_type": "code",
   "execution_count": null,
   "metadata": {},
   "outputs": [],
   "source": [
    "dataset_name='DepMap_public_20Q3_backup'\n",
    "dataset_description=\"\"\"  \n",
    "Esta versión de DepMap contiene datos de cribados CRISPR knockout del proyecto Achilles, así como datos de caracterización genómica del proyecto CCLE.\n",
    "\n",
    "Referencias:\n",
    "Dempster, J.M., Rossen, J., Kazachkova, M., Pan, J., Kugener, G., Root, D.E., and Tsherniak, A. (2019). Extracting Biological Insights from the Project Achilles Genome-Scale CRISPR Screens in Cancer Cell Lines.\n",
    "\n",
    "Meyers, R.M., Bryan, J.G., McFarland, J.M., Weir, B.A., Sizemore, A.E., Xu, H., Dharia, N.V., Montgomery, P.G., Cowley, G.S., Pantel, S., et al. (2017). Computational correction of copy number effect improves specificity of CRISPR-Cas9 essentiality screens in cancer cells. Nat. Genet. 49, 1779–1784.\n",
    "\n",
    "Ghandi, M., Huang, F.W., Jané-Valbuena, J., Kryukov, G.V., Lo, C.C., McDonald, E.R., 3rd, Barretina, J., Gelfand, E.T., Bielski, C.M., Li, H., et al. (2019). Next-generation characterization of the Cancer Cell Line Encyclopedia. Nature 569, 503–508\n",
    "\"\"\"\n",
    "\n",
    "CreateDataSet(client, dataset_name, project_id, dataset_description)"
   ]
  },
  {
   "cell_type": "markdown",
   "metadata": {},
   "source": [
    "## Guardar los datos de mutación en una tabla de BigQuery"
   ]
  },
  {
   "cell_type": "code",
   "execution_count": null,
   "metadata": {},
   "outputs": [],
   "source": [
    "mutation_table_name='CCLE_mutation'\n",
    "mutation_table_desc='''Pipeline: MAF de las mutaciones genéticas. Archivo original: CCLE_mutations.csv\n",
    "Enlace de descarga: https://ndownloader.figshare.com/files/24613355.'''\n",
    "\n",
    "mutation_dict=mutation_annotation.to_dict('records')\n",
    "mutation_table=CreateTable(client, mutation_data, dataset_name, mutation_table_name, project_id,  mutation_table_desc, mutation_dict)"
   ]
  },
  {
   "cell_type": "markdown",
   "metadata": {},
   "source": [
    "## Guardar datos de información de las muestras en una tabla de BigQuery"
   ]
  },
  {
   "cell_type": "code",
   "execution_count": null,
   "metadata": {},
   "outputs": [],
   "source": [
    "sample_info_table_name=\"sample_info\"\n",
    "sample_info_table_desc='''Definiciones de información sobre líneas celulares. Archivo original: sample_info.csv \n",
    "Enlace de descarga: https://ndownloader.figshare.com/files/24613394'''\n",
    "\n",
    "sample_dict=sample_annotation.to_dict('records')\n",
    "CreateTable(client, sample_info, dataset_name, sample_info_table_name, project_id, sample_info_table_desc, sample_dict)"
   ]
  },
  {
   "cell_type": "markdown",
   "metadata": {},
   "source": [
    "## Guardar los datos del número de copia en una tabla de BigQuery"
   ]
  },
  {
   "cell_type": "code",
   "execution_count": null,
   "metadata": {},
   "outputs": [],
   "source": [
    "cn_table_desc='''Tubería: datos del número de copias a nivel de genes, transformados aplicando el log2 con un pseudoconteo de 1. Esto se genera mapeando los genes en las llamadas a nivel de segmento. \n",
    "Archivo original: WES_SNP_CN_data.csv Enlace de descarga: https://ndownloader.figshare.com/files/24613352.'''\n",
    "\n",
    "cnv_long_format=CRISPRPreprocess(cn_data, 'CNA')\n",
    "cnv_long_format['Entrez_ID']=pd.to_numeric(cnv_long_format['Entrez_ID'])\n",
    "cnv_table_name=\"CCLE_gene_cn\"\n",
    "cnv_dict=cnv_annotations.to_dict('records')\n",
    "CreateTable(client, cnv_long_format, dataset_name, cnv_table_name, project_id, cn_table_desc, cnv_dict)"
   ]
  },
  {
   "cell_type": "markdown",
   "metadata": {},
   "source": [
    "## Guardar los datos de expresión génica en una tabla de BigQuery"
   ]
  },
  {
   "cell_type": "code",
   "execution_count": null,
   "metadata": {},
   "outputs": [],
   "source": [
    "CCLE_expression_table_desc='''\n",
    "Pipeline: Datos de expresión génica de RNAseq TPM sólo para genes codificantes de proteínas utilizando RSEM. \n",
    "Transformación aplicando el Log2, utilizando un pseudoconteo de 1. Archivo original: CCLE_expression.csv \n",
    "Enlace de descarga: https://ndownloader.figshare.com/files/24613325'''\n",
    "\n",
    "CCLE_expression_long_format=CRISPRPreprocess(gene_exp_data, 'TPM')\n",
    "CCLE_expression_long_format['Entrez_ID']=pd.to_numeric(CCLE_expression_long_format['Entrez_ID'])\n",
    "CCLE_expression_table_name=\"CCLE_gene_expression\"\n",
    "CCLE_expression_dict=CCLE_expression_annotation.to_dict('records')\n",
    "CreateTable(client, CCLE_expression_long_format, dataset_name, CCLE_expression_table_name, project_id, CCLE_expression_table_desc, CCLE_expression_dict)\n",
    "\n",
    "\n"
   ]
  },
  {
   "cell_type": "markdown",
   "metadata": {},
   "source": [
    "## Guardar datos de efectos genéticos en una tabla de BigQuery"
   ]
  },
  {
   "cell_type": "code",
   "execution_count": null,
   "metadata": {},
   "outputs": [],
   "source": [
    "achilles_gene_effect_table_desc='''Tubería: Achilles_Post-CERES_ Datos CERES con componentes principales fuertemente relacionados con efectos de lote conocidos eliminados, luego desplazados y escalados por línea celular para que la mediana del efecto KO no esencial sea 0 y la mediana del efecto KO esencial sea -1.\n",
    "Archivo original: Achilles_gene_effect.csv \n",
    "Enlace de descarga: https://ndownloader.figshare.com/files/24613352\n",
    "'''\n",
    "achilles_gene_effect_long_format=CRISPRPreprocess(achilles_gene_effect, 'Gene_Effect')\n",
    "achilles_gene_effect_long_format['Entrez_ID']=pd.to_numeric(achilles_gene_effect_long_format['Entrez_ID'])\n",
    "achilles_gene_effect_table_name=\"Achilles_gene_effect\"\n",
    "achilles_gene_effect_dict=achilles_gene_effect_annotation.to_dict('records')\n",
    "CreateTable(client, achilles_gene_effect_long_format, dataset_name, achilles_gene_effect_table_name, project_id, achilles_gene_effect_table_desc, achilles_gene_effect_dict)\n",
    "\n"
   ]
  },
  {
   "cell_type": "code",
   "execution_count": null,
   "metadata": {},
   "outputs": [],
   "source": []
  }
 ],
 "metadata": {
  "kernelspec": {
   "display_name": "Python 3 (ipykernel)",
   "language": "python",
   "name": "python3"
  },
  "language_info": {
   "codemirror_mode": {
    "name": "ipython",
    "version": 3
   },
   "file_extension": ".py",
   "mimetype": "text/x-python",
   "name": "python",
   "nbconvert_exporter": "python",
   "pygments_lexer": "ipython3",
   "version": "3.11.5"
  }
 },
 "nbformat": 4,
 "nbformat_minor": 4
}
