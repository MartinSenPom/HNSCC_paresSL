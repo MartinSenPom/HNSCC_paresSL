{
 "cells": [
  {
   "cell_type": "markdown",
   "id": "f4921e22-00e3-4a54-b7f3-1dc8b9e20f3a",
   "metadata": {},
   "source": [
    "# Reorganización de los datos de los archivos procedentes de DepMap\n",
    "```\n",
    "Autor:  Martín Sende Pombo (email: martinsendepombo@outlook.com)\n",
    "Colaborador: Raúl José Salgado García\n",
    "Creado: 05-03-2024\n",
    "Fecha de la última modificación: 30-07-2024\n",
    "Propósito: Modificar la estructura de los datos de 3 archivos CSV procedentes de DepMap, para elaborar sus correspondientes tablas de BigQuery.\n",
    "```\n",
    "Copyright (C) 2024  Martín Sende Pombo\n",
    "\n",
    "    Este programa es software libre: puede redistribuirlo y/o modificarlo\n",
    "    bajo los términos de la Licencia Pública General de GNU publicada por la\n",
    "    Free Software Foundation, ya sea la versión 3 de la Licencia,\n",
    "    o (a su elección) cualquier versión posterior.\n",
    "\n",
    "    Este programa se distribuye con la esperanza de que sea útil,\n",
    "    pero SIN NINGUNA GARANTÍA; ni siquiera la garantía implícita\n",
    "    de COMERCIABILIDAD o IDONEIDAD PARA UN PROPÓSITO PARTICULAR.\n",
    "    Consulte la Licencia Pública General GNU para más detalles.\n",
    "\n",
    "    Debería haber recibido una copia de la Licencia Pública General\n",
    "    GNU junto con este programa. Si no es así, consulte <https://www.gnu.org/licenses/>."
   ]
  },
  {
   "cell_type": "markdown",
   "id": "2fab7695-e433-450b-ae22-edce9c0bd95f",
   "metadata": {},
   "source": [
    "## Para guardar después los datos del número de copia en una tabla de BigQuery"
   ]
  },
  {
   "cell_type": "code",
   "execution_count": 22,
   "id": "2c46aa38-015b-4b4d-aff8-34a001371ffe",
   "metadata": {
    "tags": []
   },
   "outputs": [
    {
     "name": "stdout",
     "output_type": "stream",
     "text": [
      "     DepMap_ID             Gene_Symbol         CNA\n",
      "0   ACH-000431         FAM87B (400728)    5.000000\n",
      "1   ACH-000431      LINC01128 (643837)   -0.918003\n",
      "2   ACH-000431         FAM41C (284593)    0.938003\n",
      "3   ACH-000431   LINC02593 (100130417)    0.948003\n",
      "4   ACH-000431           NOC2L (26155)    0.968003\n",
      "5   ACH-000431         KLHL17 (339451)    0.978003\n",
      "6   ACH-000431         PLEKHN1 (84069)    0.988003\n",
      "7   ACH-000431           PERM1 (84808)    0.998003\n",
      "8   ACH-000358         FAM87B (400728)    0.642543\n",
      "9   ACH-000358      LINC01128 (643837)    0.666204\n",
      "10  ACH-000358  AL669831.7 (107984850)    0.652543\n",
      "11  ACH-000358         FAM41C (284593)    0.662543\n",
      "12  ACH-000358   LINC02593 (100130417) -200.000000\n",
      "13  ACH-000358         SAMD11 (148398)    0.682543\n",
      "14  ACH-000358         PLEKHN1 (84069)   -0.000024\n",
      "15  ACH-000358           PERM1 (84808)    0.712543\n",
      "     DepMap_ID         CNA Hugo_Symbol  Entrez_ID\n",
      "0   ACH-000431    5.000000      FAM87B     400728\n",
      "1   ACH-000431   -0.918003   LINC01128     643837\n",
      "2   ACH-000431    0.938003      FAM41C     284593\n",
      "3   ACH-000431    0.948003   LINC02593  100130417\n",
      "4   ACH-000431    0.968003       NOC2L      26155\n",
      "5   ACH-000431    0.978003      KLHL17     339451\n",
      "6   ACH-000431    0.988003     PLEKHN1      84069\n",
      "7   ACH-000431    0.998003       PERM1      84808\n",
      "8   ACH-000358    0.642543      FAM87B     400728\n",
      "9   ACH-000358    0.666204   LINC01128     643837\n",
      "10  ACH-000358    0.652543  AL669831.7  107984850\n",
      "11  ACH-000358    0.662543      FAM41C     284593\n",
      "12  ACH-000358 -200.000000   LINC02593  100130417\n",
      "13  ACH-000358    0.682543      SAMD11     148398\n",
      "14  ACH-000358   -0.000024     PLEKHN1      84069\n",
      "15  ACH-000358    0.712543       PERM1      84808\n"
     ]
    }
   ],
   "source": [
    "import pandas as pd\n",
    "\n",
    "# Cargar el dataframe desde el archivo CSV\n",
    "df = pd.read_csv('DepMap23Q4/OmicsCNGene.csv', index_col=0)\n",
    "# Utiliza la función stack() para hacer la transformación\n",
    "nuevo_df = df.stack().reset_index()\n",
    "# nuevo_df contendrá el nuevo dataframe con las columnas DepMap_ID, Gene_Symbol y CNA\n",
    "nuevo_df.columns = ['DepMap_ID', 'Gene_Symbol', 'CNA']\n",
    "#print(nuevo_df)\n",
    "\n",
    "# Extraer Hugo_Symbol y Entrez_ID de la columna Gene_Symbol\n",
    "nuevo_df[['Hugo_Symbol', 'Entrez_ID']] = nuevo_df['Gene_Symbol'].str.extract(r'([^\\s]+) \\((\\d+)\\)')\n",
    "# Eliminar la columna Gene_Symbol original\n",
    "nuevo_df.drop(columns=['Gene_Symbol'], inplace=True)\n",
    "#print(nuevo_df)\n",
    "# Guardar el DataFrame modificado en un nuevo archivo CSV\n",
    "nuevo_df.to_csv('OmicsCNGene_tabla.csv', index=False)"
   ]
  },
  {
   "cell_type": "markdown",
   "id": "73e1ddcc-ac22-4ec6-9dbb-8b3de4202a57",
   "metadata": {},
   "source": [
    "## Para guardar después los datos de expresión génica en una tabla de BigQuery"
   ]
  },
  {
   "cell_type": "code",
   "execution_count": null,
   "id": "4ee3b3d1-5d39-4c6e-83df-e1f38109bdf5",
   "metadata": {},
   "outputs": [],
   "source": [
    "import pandas as pd\n",
    "\n",
    "# Cargar el dataframe desde el archivo CSV\n",
    "df = pd.read_csv('DepMap23Q4/OmicsExpressionProteinCodingGenesTPMLogp1.csv', index_col=0)\n",
    "# Utiliza la función stack() para hacer la transformación\n",
    "nuevo_df = df.stack().reset_index()\n",
    "# nuevo_df contendrá el nuevo dataframe con las columnas DepMap_ID, Gene_Symbol y CNA\n",
    "nuevo_df.columns = ['DepMap_ID', 'Gene_Symbol', 'TPM']\n",
    "#print(nuevo_df)\n",
    "\n",
    "# Extraer Hugo_Symbol y Entrez_ID de la columna Gene_Symbol\n",
    "nuevo_df[['Hugo_Symbol', 'Entrez_ID']] = nuevo_df['Gene_Symbol'].str.extract(r'([^\\s]+) \\((\\d+)\\)')\n",
    "# Eliminar la columna Gene_Symbol original\n",
    "nuevo_df.drop(columns=['Gene_Symbol'], inplace=True)\n",
    "#print(nuevo_df)\n",
    "# Guardar el DataFrame modificado en un nuevo archivo CSV\n",
    "nuevo_df.to_csv('OmicsExpressionProteinCodingGenesTPMLogp1_tabla.csv', index=False)"
   ]
  },
  {
   "cell_type": "markdown",
   "id": "7ae39d6e-6823-44ed-9468-3331d2909327",
   "metadata": {},
   "source": [
    "## Para guardar después los datos de efectos genéticos en una tabla de BigQuery"
   ]
  },
  {
   "cell_type": "code",
   "execution_count": null,
   "id": "1ed795ae-541a-4d0e-9348-b1fd2f51a9b5",
   "metadata": {},
   "outputs": [],
   "source": [
    "import pandas as pd\n",
    "\n",
    "# Cargar el dataframe desde el archivo CSV\n",
    "df = pd.read_csv('DepMap23Q4/CRISPRGeneEffect.csv', index_col=0)\n",
    "# Utiliza la función stack() para hacer la transformación\n",
    "nuevo_df = df.stack().reset_index()\n",
    "# nuevo_df contendrá el nuevo dataframe con las columnas DepMap_ID, Gene_Symbol y CNA\n",
    "nuevo_df.columns = ['DepMap_ID', 'Gene_Symbol', 'Gene_Effect']\n",
    "#print(nuevo_df)\n",
    "\n",
    "# Extraer Hugo_Symbol y Entrez_ID de la columna Gene_Symbol\n",
    "nuevo_df[['Hugo_Symbol', 'Entrez_ID']] = nuevo_df['Gene_Symbol'].str.extract(r'([^\\s]+) \\((\\d+)\\)')\n",
    "# Eliminar la columna Gene_Symbol original\n",
    "nuevo_df.drop(columns=['Gene_Symbol'], inplace=True)\n",
    "#print(nuevo_df)\n",
    "# Guardar el DataFrame modificado en un nuevo archivo CSV\n",
    "nuevo_df.to_csv('CRISPRGeneEffect_tabla.csv', index=False)"
   ]
  }
 ],
 "metadata": {
  "environment": {
   "kernel": "conda-root-py",
   "name": "workbench-notebooks.m117",
   "type": "gcloud",
   "uri": "us-docker.pkg.dev/deeplearning-platform-release/gcr.io/workbench-notebooks:m117"
  },
  "kernelspec": {
   "display_name": "Python 3 (ipykernel)",
   "language": "python",
   "name": "python3"
  },
  "language_info": {
   "codemirror_mode": {
    "name": "ipython",
    "version": 3
   },
   "file_extension": ".py",
   "mimetype": "text/x-python",
   "name": "python",
   "nbconvert_exporter": "python",
   "pygments_lexer": "ipython3",
   "version": "3.11.5"
  }
 },
 "nbformat": 4,
 "nbformat_minor": 5
}
