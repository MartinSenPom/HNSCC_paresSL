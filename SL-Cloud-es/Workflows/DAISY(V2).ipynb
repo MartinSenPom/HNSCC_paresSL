{
 "cells": [
  {
   "cell_type": "markdown",
   "metadata": {},
   "source": [
    "# DAISY - El proceso de minería de datos para la identificación de letalidad sintética\n",
    "```\n",
    "Título original: Data Mining Synthetic Lethality Identification Pipeline (DAISY)\n",
    "Autor: Bahar Tercan\n",
    "Fecha de creación: 02-07-2022\n",
    "Cuaderno de Jupyter traducido y modificado por Martín Sende Pombo.\n",
    "Fecha de modificación: 17-02-2024\n",
    "Propósito: Recuperar las parejas letales sintéticas de los genes de la lista dada utilizando el algoritmo DAISY.\n",
    "Notas: Según el autor puede ejecutarse en MyBinder.\n",
    "```\n",
    "[![Binder](https://mybinder.org/badge_logo.svg)](https://mybinder.org/v2/gh/isb-cgc/Community-Notebooks/HEAD?labpath=SL-Cloud%2FMyBinder_Authentication.ipynb)"
   ]
  },
  {
   "cell_type": "markdown",
   "metadata": {
    "tags": []
   },
   "source": [
    "Si alguna parte de este análisis se utiliza en una publicación, por favor cite lo siguiente:\n",
    "\n",
    "Para el algoritmo DAISY:  \n",
    "\n",
    "Jerby-Arnon, L., Pfetzer, N., Waldman, Y. Y., McGarry, L., James, D., Shanks, E., ... & Gottlieb, E. (2014). Predicting cancer-specific vulnerability via data-driven detection of synthetic lethality. Cell, 158(5), 1199-1209.\n",
    "\n",
    "Para los datos ómicos de la Cancer Cell Line Encyclopedia (CCLE):\n",
    "\n",
    "Ghandi, M., Huang, F.W., Jané-Valbuena, J. et al. Next-generation characterization of the Cancer Cell Line Encyclopedia. Nature 569, 503–508 (2019). https://doi.org/10.1038/s41586-019-1186-3\n",
    "\n",
    "Para datos de cribado funcional obtenidos con CRISPR: \n",
    "\n",
    "Robin M. Meyers, Jordan G. Bryan, James M. McFarland, Barbara A. Weir, ... David E. Root, William C. Hahn, Aviad Tsherniak. Computational correction of copy number effect improves specificity of CRISPR-Cas9 essentiality screens in cancer cells. Nature Genetics 2017 October 49:1779–1784. doi:10.1038/ng.3984\n",
    "\n",
    "Dempster, J. M., Rossen, J., Kazachkova, M., Pan, J., Kugener, G., Root, D. E., & Tsherniak, A. (2019). Extracting Biological Insights from the Project Achilles Genome-Scale CRISPR Screens in Cancer Cell Lines. BioRxiv, 720243.\n",
    "\n",
    "Para datos de cribado funcional generados mediante ARNhc (\"shRNA\" en inglés):\n",
    "\n",
    "James M. McFarland, Zandra V. Ho, Guillaume Kugener, Joshua M. Dempster, Phillip G. Montgomery, Jordan G. Bryan, John M. Krill-Burger, Thomas M. Green, Francisca Vazquez, Jesse S. Boehm, Todd R. Golub, William C. Hahn, David E. Root, Aviad Tsherniak. (2018). Improved estimation of cancer dependencies from large-scale RNAi screens using model-based normalization and data integration. Nature Communications 9, 1. https://doi.org/10.1038/s41467-018-06916-5\n",
    "\n",
    "Para el ISB Cancer Gateway in the Cloud (ISB-CGC):\n",
    "\n",
    "Reynolds, S. M., Miller, M., Lee, P., Leinonen, K., Paquette, S. M., Rodebaugh, Z., ... & Shmulevich, I. (2017). The ISB Cancer Genomics Cloud: a flexible cloud-based platform for cancer genomics research. Cancer research, 77(21), e7-e10.\n",
    "\n",
    "Para los datos del Pan-Cancer Atlas (PanCanAtlas):\n",
    "\n",
    "Hutter, C., and Zenklusen, J.C. (2018). The Cancer Genome Atlas: Creating Lasting Value beyond Its Data. Cell 173, 283–285.\n",
    "\n",
    "Este cuaderno es una reimplementación del algoritmo de predicción de pares letales sintéticos DAISY.\n",
    "\n",
    "Consta de 3 módulos: \n",
    "\n",
    "1. Determinación de candidatos a \"SL/SDL\" mediante coexpresión génica\n",
    "2. Determinación de candidatos a \"SL/SDL\" mediante la supervivencia del más apto (SoF)\n",
    "3. Determinación de candidatos a \"SL/SDL\" mediante experimentos con CRISPR y ARNhc (FunEx)\n",
    "\n",
    "* A continuación, los resultados de los tres módulos se agregaron en una lista de pares letales sintéticos (\"SL\") o letales sintéticos de dosis (\"SDL\") candidatos.\n",
    "\n",
    "Parámetros de entrada:\n",
    "* Tipo de cáncer \n",
    "* Los genes cuyas parejas \"SL\" o \"SDL\" se buscan\n",
    "\n",
    "Datos de entrada (disponibles en las tablas de BigQuery):\n",
    "* Datos de expresión génica \n",
    "* Datos de mutación genética\n",
    "* Datos de variación del número de copias\n",
    "* Datos de efecto génico (CRISPR)\n",
    "* Datos de puntuaciones de dependencia génica (ARNhc)\n",
    "\n",
    "Salida\n",
    "* Lista de pares \"SL\" o \"SDL\" candidatos\n",
    "\n",
    "Póngase en contacto con Bahar Tercan btercan@systemsbiology.org para cualquier pregunta o información detallada. "
   ]
  },
  {
   "cell_type": "code",
   "execution_count": 1,
   "metadata": {
    "tags": []
   },
   "outputs": [
    {
     "name": "stdout",
     "output_type": "stream",
     "text": [
      "Collecting google.cloud\n",
      "  Downloading google_cloud-0.34.0-py2.py3-none-any.whl.metadata (2.7 kB)\n",
      "Downloading google_cloud-0.34.0-py2.py3-none-any.whl (1.8 kB)\n",
      "Installing collected packages: google.cloud\n",
      "Successfully installed google.cloud-0.34.0\n",
      "Collecting importlib\n",
      "  Downloading importlib-1.0.4.zip (7.1 kB)\n",
      "  Preparing metadata (setup.py) ... \u001b[?25ldone\n",
      "\u001b[?25hBuilding wheels for collected packages: importlib\n",
      "  Building wheel for importlib (setup.py) ... \u001b[?25ldone\n",
      "\u001b[?25h  Created wheel for importlib: filename=importlib-1.0.4-py3-none-any.whl size=5851 sha256=4c085866fd7a3d263bad11db404af8a275560978a9ee023c14188b3aea9c4642\n",
      "  Stored in directory: /home/jupyter/.cache/pip/wheels/0f/77/67/b2657372b2523148d81dcdd875916a417f047849169567cb2e\n",
      "Successfully built importlib\n",
      "Installing collected packages: importlib\n",
      "Successfully installed importlib-1.0.4\n",
      "Requirement already satisfied: pandas in /opt/conda/lib/python3.10/site-packages (2.2.0)\n",
      "Requirement already satisfied: numpy<2,>=1.22.4 in /opt/conda/lib/python3.10/site-packages (from pandas) (1.25.2)\n",
      "Requirement already satisfied: python-dateutil>=2.8.2 in /opt/conda/lib/python3.10/site-packages (from pandas) (2.8.2)\n",
      "Requirement already satisfied: pytz>=2020.1 in /opt/conda/lib/python3.10/site-packages (from pandas) (2024.1)\n",
      "Requirement already satisfied: tzdata>=2022.7 in /opt/conda/lib/python3.10/site-packages (from pandas) (2024.1)\n",
      "Requirement already satisfied: six>=1.5 in /opt/conda/lib/python3.10/site-packages (from python-dateutil>=2.8.2->pandas) (1.16.0)\n",
      "Requirement already satisfied: ipywidgets in /opt/conda/lib/python3.10/site-packages (8.1.2)\n",
      "Requirement already satisfied: comm>=0.1.3 in /opt/conda/lib/python3.10/site-packages (from ipywidgets) (0.2.1)\n",
      "Requirement already satisfied: ipython>=6.1.0 in /opt/conda/lib/python3.10/site-packages (from ipywidgets) (8.21.0)\n",
      "Requirement already satisfied: traitlets>=4.3.1 in /opt/conda/lib/python3.10/site-packages (from ipywidgets) (5.14.1)\n",
      "Requirement already satisfied: widgetsnbextension~=4.0.10 in /opt/conda/lib/python3.10/site-packages (from ipywidgets) (4.0.10)\n",
      "Requirement already satisfied: jupyterlab-widgets~=3.0.10 in /opt/conda/lib/python3.10/site-packages (from ipywidgets) (3.0.10)\n",
      "Requirement already satisfied: decorator in /opt/conda/lib/python3.10/site-packages (from ipython>=6.1.0->ipywidgets) (5.1.1)\n",
      "Requirement already satisfied: jedi>=0.16 in /opt/conda/lib/python3.10/site-packages (from ipython>=6.1.0->ipywidgets) (0.19.1)\n",
      "Requirement already satisfied: matplotlib-inline in /opt/conda/lib/python3.10/site-packages (from ipython>=6.1.0->ipywidgets) (0.1.6)\n",
      "Requirement already satisfied: prompt-toolkit<3.1.0,>=3.0.41 in /opt/conda/lib/python3.10/site-packages (from ipython>=6.1.0->ipywidgets) (3.0.42)\n",
      "Requirement already satisfied: pygments>=2.4.0 in /opt/conda/lib/python3.10/site-packages (from ipython>=6.1.0->ipywidgets) (2.17.2)\n",
      "Requirement already satisfied: stack-data in /opt/conda/lib/python3.10/site-packages (from ipython>=6.1.0->ipywidgets) (0.6.2)\n",
      "Requirement already satisfied: exceptiongroup in /opt/conda/lib/python3.10/site-packages (from ipython>=6.1.0->ipywidgets) (1.2.0)\n",
      "Requirement already satisfied: pexpect>4.3 in /opt/conda/lib/python3.10/site-packages (from ipython>=6.1.0->ipywidgets) (4.9.0)\n",
      "Requirement already satisfied: parso<0.9.0,>=0.8.3 in /opt/conda/lib/python3.10/site-packages (from jedi>=0.16->ipython>=6.1.0->ipywidgets) (0.8.3)\n",
      "Requirement already satisfied: ptyprocess>=0.5 in /opt/conda/lib/python3.10/site-packages (from pexpect>4.3->ipython>=6.1.0->ipywidgets) (0.7.0)\n",
      "Requirement already satisfied: wcwidth in /opt/conda/lib/python3.10/site-packages (from prompt-toolkit<3.1.0,>=3.0.41->ipython>=6.1.0->ipywidgets) (0.2.13)\n",
      "Requirement already satisfied: executing>=1.2.0 in /opt/conda/lib/python3.10/site-packages (from stack-data->ipython>=6.1.0->ipywidgets) (2.0.1)\n",
      "Requirement already satisfied: asttokens>=2.1.0 in /opt/conda/lib/python3.10/site-packages (from stack-data->ipython>=6.1.0->ipywidgets) (2.4.1)\n",
      "Requirement already satisfied: pure-eval in /opt/conda/lib/python3.10/site-packages (from stack-data->ipython>=6.1.0->ipywidgets) (0.2.2)\n",
      "Requirement already satisfied: six>=1.12.0 in /opt/conda/lib/python3.10/site-packages (from asttokens>=2.1.0->stack-data->ipython>=6.1.0->ipywidgets) (1.16.0)\n",
      "Requirement already satisfied: numpy in /opt/conda/lib/python3.10/site-packages (1.25.2)\n",
      "Requirement already satisfied: statsmodels in /opt/conda/lib/python3.10/site-packages (0.14.1)\n",
      "Requirement already satisfied: numpy<2,>=1.18 in /opt/conda/lib/python3.10/site-packages (from statsmodels) (1.25.2)\n",
      "Requirement already satisfied: scipy!=1.9.2,>=1.4 in /opt/conda/lib/python3.10/site-packages (from statsmodels) (1.11.4)\n",
      "Requirement already satisfied: pandas!=2.1.0,>=1.0 in /opt/conda/lib/python3.10/site-packages (from statsmodels) (2.2.0)\n",
      "Requirement already satisfied: patsy>=0.5.4 in /opt/conda/lib/python3.10/site-packages (from statsmodels) (0.5.6)\n",
      "Requirement already satisfied: packaging>=21.3 in /opt/conda/lib/python3.10/site-packages (from statsmodels) (23.2)\n",
      "Requirement already satisfied: python-dateutil>=2.8.2 in /opt/conda/lib/python3.10/site-packages (from pandas!=2.1.0,>=1.0->statsmodels) (2.8.2)\n",
      "Requirement already satisfied: pytz>=2020.1 in /opt/conda/lib/python3.10/site-packages (from pandas!=2.1.0,>=1.0->statsmodels) (2024.1)\n",
      "Requirement already satisfied: tzdata>=2022.7 in /opt/conda/lib/python3.10/site-packages (from pandas!=2.1.0,>=1.0->statsmodels) (2024.1)\n",
      "Requirement already satisfied: six in /opt/conda/lib/python3.10/site-packages (from patsy>=0.5.4->statsmodels) (1.16.0)\n",
      "Requirement already satisfied: google-cloud-bigquery in /opt/conda/lib/python3.10/site-packages (3.17.2)\n",
      "Collecting google-cloud-bigquery\n",
      "  Downloading google_cloud_bigquery-3.18.0-py2.py3-none-any.whl.metadata (8.8 kB)\n",
      "Requirement already satisfied: google-api-core!=2.0.*,!=2.1.*,!=2.2.*,!=2.3.0,<3.0.0dev,>=1.31.5 in /opt/conda/lib/python3.10/site-packages (from google-cloud-bigquery) (1.34.1)\n",
      "Requirement already satisfied: google-cloud-core<3.0.0dev,>=1.6.0 in /opt/conda/lib/python3.10/site-packages (from google-cloud-bigquery) (2.4.1)\n",
      "Requirement already satisfied: google-resumable-media<3.0dev,>=0.6.0 in /opt/conda/lib/python3.10/site-packages (from google-cloud-bigquery) (2.7.0)\n",
      "Requirement already satisfied: packaging>=20.0.0 in /opt/conda/lib/python3.10/site-packages (from google-cloud-bigquery) (23.2)\n",
      "Requirement already satisfied: python-dateutil<3.0dev,>=2.7.2 in /opt/conda/lib/python3.10/site-packages (from google-cloud-bigquery) (2.8.2)\n",
      "Requirement already satisfied: requests<3.0.0dev,>=2.21.0 in /opt/conda/lib/python3.10/site-packages (from google-cloud-bigquery) (2.31.0)\n",
      "Requirement already satisfied: googleapis-common-protos<2.0dev,>=1.56.2 in /opt/conda/lib/python3.10/site-packages (from google-api-core!=2.0.*,!=2.1.*,!=2.2.*,!=2.3.0,<3.0.0dev,>=1.31.5->google-cloud-bigquery) (1.62.0)\n",
      "Requirement already satisfied: protobuf!=3.20.0,!=3.20.1,!=4.21.0,!=4.21.1,!=4.21.2,!=4.21.3,!=4.21.4,!=4.21.5,<4.0.0dev,>=3.19.5 in /opt/conda/lib/python3.10/site-packages (from google-api-core!=2.0.*,!=2.1.*,!=2.2.*,!=2.3.0,<3.0.0dev,>=1.31.5->google-cloud-bigquery) (3.20.3)\n",
      "Requirement already satisfied: google-auth<3.0dev,>=1.25.0 in /opt/conda/lib/python3.10/site-packages (from google-api-core!=2.0.*,!=2.1.*,!=2.2.*,!=2.3.0,<3.0.0dev,>=1.31.5->google-cloud-bigquery) (2.27.0)\n",
      "Requirement already satisfied: google-crc32c<2.0dev,>=1.0 in /opt/conda/lib/python3.10/site-packages (from google-resumable-media<3.0dev,>=0.6.0->google-cloud-bigquery) (1.5.0)\n",
      "Requirement already satisfied: six>=1.5 in /opt/conda/lib/python3.10/site-packages (from python-dateutil<3.0dev,>=2.7.2->google-cloud-bigquery) (1.16.0)\n",
      "Requirement already satisfied: charset-normalizer<4,>=2 in /opt/conda/lib/python3.10/site-packages (from requests<3.0.0dev,>=2.21.0->google-cloud-bigquery) (3.3.2)\n",
      "Requirement already satisfied: idna<4,>=2.5 in /opt/conda/lib/python3.10/site-packages (from requests<3.0.0dev,>=2.21.0->google-cloud-bigquery) (3.6)\n",
      "Requirement already satisfied: urllib3<3,>=1.21.1 in /opt/conda/lib/python3.10/site-packages (from requests<3.0.0dev,>=2.21.0->google-cloud-bigquery) (1.26.18)\n",
      "Requirement already satisfied: certifi>=2017.4.17 in /opt/conda/lib/python3.10/site-packages (from requests<3.0.0dev,>=2.21.0->google-cloud-bigquery) (2024.2.2)\n",
      "Requirement already satisfied: cachetools<6.0,>=2.0.0 in /opt/conda/lib/python3.10/site-packages (from google-auth<3.0dev,>=1.25.0->google-api-core!=2.0.*,!=2.1.*,!=2.2.*,!=2.3.0,<3.0.0dev,>=1.31.5->google-cloud-bigquery) (5.3.2)\n",
      "Requirement already satisfied: pyasn1-modules>=0.2.1 in /opt/conda/lib/python3.10/site-packages (from google-auth<3.0dev,>=1.25.0->google-api-core!=2.0.*,!=2.1.*,!=2.2.*,!=2.3.0,<3.0.0dev,>=1.31.5->google-cloud-bigquery) (0.3.0)\n",
      "Requirement already satisfied: rsa<5,>=3.1.4 in /opt/conda/lib/python3.10/site-packages (from google-auth<3.0dev,>=1.25.0->google-api-core!=2.0.*,!=2.1.*,!=2.2.*,!=2.3.0,<3.0.0dev,>=1.31.5->google-cloud-bigquery) (4.9)\n",
      "Requirement already satisfied: pyasn1<0.6.0,>=0.4.6 in /opt/conda/lib/python3.10/site-packages (from pyasn1-modules>=0.2.1->google-auth<3.0dev,>=1.25.0->google-api-core!=2.0.*,!=2.1.*,!=2.2.*,!=2.3.0,<3.0.0dev,>=1.31.5->google-cloud-bigquery) (0.5.1)\n",
      "Downloading google_cloud_bigquery-3.18.0-py2.py3-none-any.whl (230 kB)\n",
      "\u001b[2K   \u001b[90m━━━━━━━━━━━━━━━━━━━━━━━━━━━━━━━━━━━━━━━━\u001b[0m \u001b[32m230.5/230.5 kB\u001b[0m \u001b[31m9.1 MB/s\u001b[0m eta \u001b[36m0:00:00\u001b[0m\n",
      "\u001b[?25hInstalling collected packages: google-cloud-bigquery\n",
      "  Attempting uninstall: google-cloud-bigquery\n",
      "    Found existing installation: google-cloud-bigquery 3.17.2\n",
      "    Uninstalling google-cloud-bigquery-3.17.2:\n",
      "      Successfully uninstalled google-cloud-bigquery-3.17.2\n",
      "Successfully installed google-cloud-bigquery-3.18.0\n",
      "Requirement already satisfied: pyarrow in /opt/conda/lib/python3.10/site-packages (15.0.0)\n",
      "Requirement already satisfied: numpy<2,>=1.16.6 in /opt/conda/lib/python3.10/site-packages (from pyarrow) (1.25.2)\n",
      "Collecting pandas-gbq\n",
      "  Downloading pandas_gbq-0.21.0-py2.py3-none-any.whl.metadata (3.4 kB)\n",
      "Requirement already satisfied: setuptools in /opt/conda/lib/python3.10/site-packages (from pandas-gbq) (69.0.3)\n",
      "Requirement already satisfied: db-dtypes<2.0.0,>=1.0.4 in /opt/conda/lib/python3.10/site-packages (from pandas-gbq) (1.2.0)\n",
      "Requirement already satisfied: numpy>=1.16.6 in /opt/conda/lib/python3.10/site-packages (from pandas-gbq) (1.25.2)\n",
      "Requirement already satisfied: pandas>=1.1.4 in /opt/conda/lib/python3.10/site-packages (from pandas-gbq) (2.2.0)\n",
      "Requirement already satisfied: pyarrow>=3.0.0 in /opt/conda/lib/python3.10/site-packages (from pandas-gbq) (15.0.0)\n",
      "Collecting pydata-google-auth>=1.5.0 (from pandas-gbq)\n",
      "  Downloading pydata_google_auth-1.8.2-py2.py3-none-any.whl.metadata (3.2 kB)\n",
      "Collecting google-api-core<3.0.0dev,>=2.10.2 (from pandas-gbq)\n",
      "  Downloading google_api_core-2.17.1-py3-none-any.whl.metadata (2.7 kB)\n",
      "Requirement already satisfied: google-auth>=2.13.0 in /opt/conda/lib/python3.10/site-packages (from pandas-gbq) (2.27.0)\n",
      "Requirement already satisfied: google-auth-oauthlib>=0.7.0 in /opt/conda/lib/python3.10/site-packages (from pandas-gbq) (1.2.0)\n",
      "Requirement already satisfied: google-cloud-bigquery<4.0.0dev,>=3.3.5 in /opt/conda/lib/python3.10/site-packages (from pandas-gbq) (3.18.0)\n",
      "Requirement already satisfied: google-cloud-bigquery-storage<3.0.0dev,>=2.16.2 in /opt/conda/lib/python3.10/site-packages (from pandas-gbq) (2.24.0)\n",
      "Requirement already satisfied: packaging>=20.0.0 in /opt/conda/lib/python3.10/site-packages (from pandas-gbq) (23.2)\n",
      "Requirement already satisfied: googleapis-common-protos<2.0.dev0,>=1.56.2 in /opt/conda/lib/python3.10/site-packages (from google-api-core<3.0.0dev,>=2.10.2->pandas-gbq) (1.62.0)\n",
      "Requirement already satisfied: protobuf!=3.20.0,!=3.20.1,!=4.21.0,!=4.21.1,!=4.21.2,!=4.21.3,!=4.21.4,!=4.21.5,<5.0.0.dev0,>=3.19.5 in /opt/conda/lib/python3.10/site-packages (from google-api-core<3.0.0dev,>=2.10.2->pandas-gbq) (3.20.3)\n",
      "Requirement already satisfied: requests<3.0.0.dev0,>=2.18.0 in /opt/conda/lib/python3.10/site-packages (from google-api-core<3.0.0dev,>=2.10.2->pandas-gbq) (2.31.0)\n",
      "Requirement already satisfied: cachetools<6.0,>=2.0.0 in /opt/conda/lib/python3.10/site-packages (from google-auth>=2.13.0->pandas-gbq) (5.3.2)\n",
      "Requirement already satisfied: pyasn1-modules>=0.2.1 in /opt/conda/lib/python3.10/site-packages (from google-auth>=2.13.0->pandas-gbq) (0.3.0)\n",
      "Requirement already satisfied: rsa<5,>=3.1.4 in /opt/conda/lib/python3.10/site-packages (from google-auth>=2.13.0->pandas-gbq) (4.9)\n",
      "Requirement already satisfied: requests-oauthlib>=0.7.0 in /opt/conda/lib/python3.10/site-packages (from google-auth-oauthlib>=0.7.0->pandas-gbq) (1.3.1)\n",
      "Requirement already satisfied: google-cloud-core<3.0.0dev,>=1.6.0 in /opt/conda/lib/python3.10/site-packages (from google-cloud-bigquery<4.0.0dev,>=3.3.5->pandas-gbq) (2.4.1)\n",
      "Requirement already satisfied: google-resumable-media<3.0dev,>=0.6.0 in /opt/conda/lib/python3.10/site-packages (from google-cloud-bigquery<4.0.0dev,>=3.3.5->pandas-gbq) (2.7.0)\n",
      "Requirement already satisfied: python-dateutil<3.0dev,>=2.7.2 in /opt/conda/lib/python3.10/site-packages (from google-cloud-bigquery<4.0.0dev,>=3.3.5->pandas-gbq) (2.8.2)\n",
      "Requirement already satisfied: proto-plus<2.0.0dev,>=1.22.0 in /opt/conda/lib/python3.10/site-packages (from google-cloud-bigquery-storage<3.0.0dev,>=2.16.2->pandas-gbq) (1.23.0)\n",
      "Requirement already satisfied: pytz>=2020.1 in /opt/conda/lib/python3.10/site-packages (from pandas>=1.1.4->pandas-gbq) (2024.1)\n",
      "Requirement already satisfied: tzdata>=2022.7 in /opt/conda/lib/python3.10/site-packages (from pandas>=1.1.4->pandas-gbq) (2024.1)\n",
      "Requirement already satisfied: grpcio<2.0dev,>=1.33.2 in /opt/conda/lib/python3.10/site-packages (from google-api-core[grpc]!=2.0.*,!=2.1.*,!=2.10.*,!=2.2.*,!=2.3.*,!=2.4.*,!=2.5.*,!=2.6.*,!=2.7.*,!=2.8.*,!=2.9.*,<3.0.0dev,>=1.34.0->google-cloud-bigquery-storage<3.0.0dev,>=2.16.2->pandas-gbq) (1.60.1)\n",
      "Requirement already satisfied: grpcio-status<2.0.dev0,>=1.33.2 in /opt/conda/lib/python3.10/site-packages (from google-api-core[grpc]!=2.0.*,!=2.1.*,!=2.10.*,!=2.2.*,!=2.3.*,!=2.4.*,!=2.5.*,!=2.6.*,!=2.7.*,!=2.8.*,!=2.9.*,<3.0.0dev,>=1.34.0->google-cloud-bigquery-storage<3.0.0dev,>=2.16.2->pandas-gbq) (1.48.2)\n",
      "Requirement already satisfied: google-crc32c<2.0dev,>=1.0 in /opt/conda/lib/python3.10/site-packages (from google-resumable-media<3.0dev,>=0.6.0->google-cloud-bigquery<4.0.0dev,>=3.3.5->pandas-gbq) (1.5.0)\n",
      "Requirement already satisfied: pyasn1<0.6.0,>=0.4.6 in /opt/conda/lib/python3.10/site-packages (from pyasn1-modules>=0.2.1->google-auth>=2.13.0->pandas-gbq) (0.5.1)\n",
      "Requirement already satisfied: six>=1.5 in /opt/conda/lib/python3.10/site-packages (from python-dateutil<3.0dev,>=2.7.2->google-cloud-bigquery<4.0.0dev,>=3.3.5->pandas-gbq) (1.16.0)\n",
      "Requirement already satisfied: charset-normalizer<4,>=2 in /opt/conda/lib/python3.10/site-packages (from requests<3.0.0.dev0,>=2.18.0->google-api-core<3.0.0dev,>=2.10.2->pandas-gbq) (3.3.2)\n",
      "Requirement already satisfied: idna<4,>=2.5 in /opt/conda/lib/python3.10/site-packages (from requests<3.0.0.dev0,>=2.18.0->google-api-core<3.0.0dev,>=2.10.2->pandas-gbq) (3.6)\n",
      "Requirement already satisfied: urllib3<3,>=1.21.1 in /opt/conda/lib/python3.10/site-packages (from requests<3.0.0.dev0,>=2.18.0->google-api-core<3.0.0dev,>=2.10.2->pandas-gbq) (1.26.18)\n",
      "Requirement already satisfied: certifi>=2017.4.17 in /opt/conda/lib/python3.10/site-packages (from requests<3.0.0.dev0,>=2.18.0->google-api-core<3.0.0dev,>=2.10.2->pandas-gbq) (2024.2.2)\n",
      "Requirement already satisfied: oauthlib>=3.0.0 in /opt/conda/lib/python3.10/site-packages (from requests-oauthlib>=0.7.0->google-auth-oauthlib>=0.7.0->pandas-gbq) (3.2.2)\n",
      "Downloading pandas_gbq-0.21.0-py2.py3-none-any.whl (26 kB)\n",
      "Downloading google_api_core-2.17.1-py3-none-any.whl (137 kB)\n",
      "\u001b[2K   \u001b[90m━━━━━━━━━━━━━━━━━━━━━━━━━━━━━━━━━━━━━━━━\u001b[0m \u001b[32m137.0/137.0 kB\u001b[0m \u001b[31m13.5 MB/s\u001b[0m eta \u001b[36m0:00:00\u001b[0m\n",
      "\u001b[?25hDownloading pydata_google_auth-1.8.2-py2.py3-none-any.whl (15 kB)\n",
      "Installing collected packages: google-api-core, pydata-google-auth, pandas-gbq\n",
      "  Attempting uninstall: google-api-core\n",
      "    Found existing installation: google-api-core 1.34.1\n",
      "    Uninstalling google-api-core-1.34.1:\n",
      "      Successfully uninstalled google-api-core-1.34.1\n",
      "\u001b[33m  WARNING: Failed to remove contents in a temporary directory '/opt/conda/lib/python3.10/site-packages/google/~pi_core'.\n",
      "  You can safely remove it manually.\u001b[0m\u001b[33m\n",
      "\u001b[0m\u001b[31mERROR: pip's dependency resolver does not currently take into account all the packages that are installed. This behaviour is the source of the following dependency conflicts.\n",
      "google-api-python-client 1.8.0 requires google-api-core<2dev,>=1.13.0, but you have google-api-core 2.17.1 which is incompatible.\u001b[0m\u001b[31m\n",
      "\u001b[0mSuccessfully installed google-api-core-2.17.1 pandas-gbq-0.21.0 pydata-google-auth-1.8.2\n",
      "Collecting openpyxl\n",
      "  Downloading openpyxl-3.1.2-py2.py3-none-any.whl.metadata (2.5 kB)\n",
      "Collecting et-xmlfile (from openpyxl)\n",
      "  Downloading et_xmlfile-1.1.0-py3-none-any.whl.metadata (1.8 kB)\n",
      "Downloading openpyxl-3.1.2-py2.py3-none-any.whl (249 kB)\n",
      "\u001b[2K   \u001b[90m━━━━━━━━━━━━━━━━━━━━━━━━━━━━━━━━━━━━━━━━\u001b[0m \u001b[32m250.0/250.0 kB\u001b[0m \u001b[31m12.0 MB/s\u001b[0m eta \u001b[36m0:00:00\u001b[0m\n",
      "\u001b[?25hDownloading et_xmlfile-1.1.0-py3-none-any.whl (4.7 kB)\n",
      "Installing collected packages: et-xmlfile, openpyxl\n",
      "Successfully installed et-xmlfile-1.1.0 openpyxl-3.1.2\n"
     ]
    }
   ],
   "source": [
    "# Por favor, no corra este bloque de código si está ejecutando el cuaderno en el binder asociado de los Community-Notebooks del ISB-CGC.\n",
    "# Dicho bloque instala las dependencias necesarias. Por favor, descomente (quite la # de) las líneas de código (salvo las correspondientes a bibliotecas ya instaladas) y ejecútelo sólo una vez.\n",
    "\n",
    "!pip3 install google.cloud\n",
    "!pip3 install importlib\n",
    "!pip3 install pandas\n",
    "!pip3 install ipywidgets\n",
    "!pip3 install numpy\n",
    "!pip3 install statsmodels\n",
    "!pip3 install --upgrade google-cloud-bigquery\n",
    "!pip3 install pyarrow\n",
    "!pip3 install pandas-gbq \n",
    "!pip3 install openpyxl\n"
   ]
  },
  {
   "cell_type": "markdown",
   "metadata": {},
   "source": [
    "## 1. Importe bibliotecas de Python"
   ]
  },
  {
   "cell_type": "code",
   "execution_count": 2,
   "metadata": {
    "scrolled": true,
    "tags": []
   },
   "outputs": [],
   "source": [
    "import sys\n",
    "sys.path.append('../Scripts/') # Para poder utilizar los archivos .py de la carpeta ../Scripts\n",
    "from google.cloud import bigquery\n",
    "import importlib\n",
    "import pandas as pd\n",
    "import DAISY_operations(V3)\n",
    "importlib.reload(DAISY_operations(V3)\n",
    "from DAISY_operations(V3 import *\n",
    "import ipywidgets as widgets\n",
    "import openpyxl"
   ]
  },
  {
   "cell_type": "code",
   "execution_count": 3,
   "metadata": {
    "tags": []
   },
   "outputs": [],
   "source": [
    "if not sys.warnoptions:\n",
    "    import warnings\n",
    "    warnings.simplefilter(\"ignore\")"
   ]
  },
  {
   "cell_type": "markdown",
   "metadata": {
    "tags": []
   },
   "source": [
    "## 2. Autentificación de Google\n",
    "Ejecutar las celdas de BigQuery en este cuaderno requiere un proyecto de Google Cloud y las instrucciones para crear uno pueden encontrarse en la [documentación de Google](https://cloud.google.com/resource-manager/docs/creating-managing-projects#console). Además, la instancia debe estar autorizada para facturar las consultas del proyecto.\n",
    "Para más información sobre cómo iniciarse en la nube, consulte ['Quick Start Guide to ISB-CGC'](https://isb-cancer-genomics-cloud.readthedocs.io/en/latest/sections/HowToGetStartedonISB-CGC.html). Asimismo, puede localizar métodos de autenticación alternativos en la [documentación de Google](https://googleapis.dev/python/google-api-core/latest/auth.html)."
   ]
  },
  {
   "cell_type": "markdown",
   "metadata": {},
   "source": [
    "### * Si está ejecutando este cuaderno en un entorno de máquina virtual de Google (Compute Engine, App Engine, Cloud Run, Cloud Functions): \n",
    "La autenticación debería \"simplemente funcionar\"."
   ]
  },
  {
   "cell_type": "markdown",
   "metadata": {
    "tags": []
   },
   "source": [
    "### * Si la ejecución se realiza en un entorno local: \n",
    "La forma más sencilla de autenticarse es emplear el SDK de Google Cloud."
   ]
  },
  {
   "cell_type": "code",
   "execution_count": null,
   "metadata": {},
   "outputs": [],
   "source": [
    "#Por favor, no corra este bloque de código si ya lo ejecutó en el cuaderno MyBinder.\n",
    "#Si no está ejecutando el cuaderno en MyBinder, por favor asegúrese de que ha instalado Cloud SDK.\n",
    "#Consulte la documentación sobre cómo efectuar la instalción en: https://cloud.google.com/sdk/docs/install\n",
    "#!pip3 install --upgrade google-auth\n",
    "\n",
    "!gcloud auth application-default login\n"
   ]
  },
  {
   "cell_type": "markdown",
   "metadata": {},
   "source": [
    "## 3. Acceda a Google BigQuery con el ID del proyecto\n",
    "Conexión a Bigquery\n",
    "\n"
   ]
  },
  {
   "cell_type": "code",
   "execution_count": 4,
   "metadata": {
    "scrolled": true,
    "tags": []
   },
   "outputs": [],
   "source": [
    "#Sustituya \"my-google-project\" por el identificador de su proyecto.\n",
    "project_id='my-google-project'\n",
    "client = bigquery.Client(project_id)"
   ]
  },
  {
   "cell_type": "markdown",
   "metadata": {},
   "source": [
    "## 4. Predicción de parejas letales sintéticas utilizando diferentes módulos en DAISY"
   ]
  },
  {
   "cell_type": "markdown",
   "metadata": {},
   "source": [
    "Hay tres módulos para inferencias de pares letales sintéticos/letales sintéticos de dosis en DAISY:\n",
    "1. Coexpresión génica por pares. \n",
    "\n",
    "2. Supervivencia genómica del más apto (SoF). \n",
    "\n",
    "3. Examen funcional (FunEx) basado en ARNhc o CRISPR.\n",
    "Puede obtener más información en el artículo original: https://www.sciencedirect.com/science/article/pii/S0092867414009775.\n",
    "\n",
    "En el módulo de coexpresión génica por pares y en el módulo de supervivencia genómica del más apto, utilizaremos los datos del Pan-Cancer Atlas y de la CCLE.<br>\n",
    "En el módulo de examen funcional, utilizaremos datos CRISPR y ARNhc junto con datos de la CCLE. <br>\n",
    "Los datos ómicos utilizados proceden de la versión [DepMap_public_23Q4](https://depmap.org/portal/data_page/?tab=allData), a excepión de los del cribado con ARNi, que emplean la versión 6 de los conjuntos de datos de [DEMETER2](https://depmap.org/R2-D2/).\n",
    "\n",
    "Los códigos Python necesarios se encuentran en la carpeta ../Scripts/ y son importados al principio."
   ]
  },
  {
   "cell_type": "markdown",
   "metadata": {},
   "source": [
    "### 4.0. Parámetros por defecto para DAISY (puede editarlos)\n",
    "Para la predicción de SDL, sustituya \"SL\" por \"SDL\" e \"Inactive\" por \"Overactive\" en las siguientes líneas de código.\n",
    "\n",
    "Para los procedimientos SOF y FuncExamination, input_mutations es un parámetro opcional. Si no desea utilizarlo, puede omitirlo. "
   ]
  },
  {
   "cell_type": "code",
   "execution_count": 37,
   "metadata": {
    "tags": []
   },
   "outputs": [],
   "source": [
    "input_mutations = ['Missense_Mutation', 'Nonsense_Mutation', 'Frame_Shift_Del', 'Frame_Shift_Ins', 'In_Frame_Del', 'Splice_Site',\n",
    "     'Nonstop_Mutation']\n",
    "# Parámetros por defecto de DAISY para la predicción de \"SL\":\n",
    "percentile_threshold = 10 # Usado para decidir si el gen está inactivo.\n",
    "cn_threshold = -0.3 # Utilizado para decidir si el gen está inactivo.\n",
    "cor_threshold = 0.5 # Empleado para inferir si dos genes están en una relación de \"SL\".\n",
    "p_threshold = 0.05\n",
    "pval_correction = 'Bonferroni'\n",
    "fdr_level='gene_level' #Puede ser \"gene_level\" o \"analysis_level\".\n",
    "\n",
    "# Para la predicción de \"SDL\", los parámetros de DAISY son:\n",
    "#percentile_threshold = 90\n",
    "#cn_threshold = 0.3 \n",
    "#cor_threshold = 0.5\n",
    "#p_threshold = 0.05\n"
   ]
  },
  {
   "cell_type": "markdown",
   "metadata": {},
   "source": [
    "Los tipos de tumor (\"tumor type\") son los tipos de cáncer del TCGA. Los tipos de cáncer que tienen línes celulares correspondientes se enumeran en el \"combobox\". Haga clic en el tejido o tejidos en los que desea realizar el análisis."
   ]
  },
  {
   "cell_type": "code",
   "execution_count": 6,
   "metadata": {
    "scrolled": true,
    "tags": []
   },
   "outputs": [
    {
     "data": {
      "application/vnd.jupyter.widget-view+json": {
       "model_id": "9d0bbf9370de483ba7d9a10500a12495",
       "version_major": 2,
       "version_minor": 0
      },
      "text/plain": [
       "SelectMultiple(description='Tumor type', options=('pancancer', 'OV', 'LAML', 'COAD', 'SKCM', 'BLCA', 'LUAD', '…"
      ]
     },
     "metadata": {},
     "output_type": "display_data"
    }
   ],
   "source": [
    "TCGA_list=GetTCGASubtypes(client)\n",
    "TCGA_list = [i for i in TCGA_list if i]\n",
    "\n",
    "tumor_type = widgets.SelectMultiple(\n",
    "    options=['pancancer'] + TCGA_list,\n",
    "    value=[],\n",
    "    description='Tumor type',\n",
    "    disabled=False\n",
    ")\n",
    "display(tumor_type)"
   ]
  },
  {
   "cell_type": "markdown",
   "metadata": {},
   "source": [
    "A continuación, tiene que introducir la lista de genes para los que le gustaría encontrar parejas de \"SL/SDL\". \n",
    "Si es posible, emplee sus correspondientes símbolos (abreviaturas) de la HUGO (Organización del Genoma Humano); es decir, los aprobados por el HGNC o HUGO Gene Nomenclature Committee (Comité de Nomenclatura de Genes de HUGO)."
   ]
  },
  {
   "cell_type": "code",
   "execution_count": 38,
   "metadata": {
    "tags": []
   },
   "outputs": [],
   "source": [
    "# Para utilizar su propia lista de genes, cópiela en la carpeta \"Listas_genes\" y reemplace el nombre del archivo_actual (\"Genes_AmiGO2_ruta_biosintesis_NAD.txt\") por el del suyo.\n",
    "# Función para cambiar el formato de la lista de caracteres\n",
    "def cambiar_formato_lista(lista):\n",
    "    # Dividir la lista en líneas y eliminar líneas vacías\n",
    "    lineas = lista.split('\\n')\n",
    "    lineas = [linea.strip() for linea in lineas if linea.strip()]\n",
    "\n",
    "    # Devolver la lista en el formato deseado\n",
    "    return lineas\n",
    "\n",
    "# Ruta del archivo que contiene la lista en el formato actual\n",
    "archivo_actual = 'Listas_genes/Genes_Nexa_HPV positive p16-up.txt'\n",
    "\n",
    "# Lee la lista en el formato actual desde el archivo\n",
    "lista_actual = \"\"\n",
    "with open(archivo_actual, 'r') as archivo:\n",
    "    lista_actual = archivo.read()\n",
    "\n",
    "# Cambia el formato de la lista\n",
    "gene_list = cambiar_formato_lista(lista_actual)"
   ]
  },
  {
   "cell_type": "code",
   "execution_count": 39,
   "metadata": {
    "tags": []
   },
   "outputs": [
    {
     "name": "stdout",
     "output_type": "stream",
     "text": [
      "['DEK', 'C9ORF45', 'WDR76', 'UPF3B', 'PASK', 'GRIN2C', 'UPB1', 'WDR83', 'NCRNA00201', 'C19ORF48', 'SKAP1', 'ASF1B', 'ACOT4', 'ZNF396', 'WDR62', 'ADARB2', 'RNF5', 'MTMR7', 'NEURL1B', 'KIAA1328', 'CREB3L4', 'GPBP1', 'MYB', 'GPATCH1', 'NR2C2AP', 'C19ORF57', 'ZSCAN16', 'NKX2-3', 'ZNF266', 'C5ORF34', 'C5ORF33', 'TOE1', 'ABCA3', 'CNTD1', 'TSPYL2', 'TIGD7', 'ZNF10', 'WDR52', 'THAP10', 'SETMAR', 'GPR137C', 'SOX30', 'DHFR', 'FAM111B', 'ZNF37B', 'EZH1', 'EZH2', 'ATF5', 'WDR48', 'SFRS17A', 'LOC400657', 'LOC642846', 'LYPD6', 'C12ORF65', 'SUV420H2', 'CHTF18', 'RNF212', 'LIPE', 'PLAC8', 'C14ORF162', 'ALKBH2', 'STMN1', 'CEP70', 'NUP62', 'TIMM17B', 'ZNF367', 'CDK5RAP3', 'TCF19', 'CENPW', 'H3F3A', 'LRDD', 'OFD1', 'ABCA17P', 'NSUN7', 'CDC7', 'TACR2', 'PAX1', 'C9ORF84', 'C12ORF34', 'WDR34', 'C4ORF7', 'CENPH', 'TMSB15A', 'CENPJ', 'CENPK', 'PXMP2', 'CENPM', 'PHF17', 'MEI1', 'CENPQ', 'PHF19', 'LOC729678', 'C5ORF54', 'PAFAH1B3', 'SLBP', 'SKA1', 'ZNF473', 'MESP1', 'PRDM15', 'HSPB11', 'LDHC', 'SYCE2', 'C16ORF59', 'ZNF346', 'MBD4', 'HELLS', 'CDKN2C', 'CDKN2A', 'MAMDC4', 'PRSS36', 'FAM104B', 'DDB2', 'MORN1', 'APITD1', 'ANKRD43', 'TIMELESS', 'ZNF576', 'GCHFR', 'GCFC1', 'LOC100128191', 'ZNF691', 'OGG1', 'DPY19L2P2', 'UNG', 'ING5', 'TAF7L', 'ING4', 'NEFH', 'BRD8', 'C16ORF75', 'ZNF564', 'ZNF684', 'PPIL3', 'CRBN', 'DONSON', 'SAP30', 'CDC25C', 'OLFM1', 'CNOT8', 'PTTG3P', 'ZNF554', 'FKBP6', 'RNF32', 'C21ORF45', 'OXNAD1', 'CEP120', 'C1ORF77', 'C1ORF112', 'LOC100129534', 'GGA2', 'DSCR6', 'ASTE1', 'ANKRD32', 'USP1', 'SLC16A8', 'ZNF789', 'RBBP7', 'RAB28', 'HMGN3', 'HMGN1', 'HMGN2', 'C21ORF58', 'ZNF541', 'FANCL', 'TRAPPC2', 'TTC21A', 'FANCC', 'TRAF2', 'LSM3', 'FANCG', 'RPS10P7', 'KIFC1', 'LHX2', 'C18ORF55', 'KIAA1875', 'C18ORF54', 'TDRD10', 'LOC100190938', 'RNASEH2A', 'TCAM1P', 'BCAT2', 'MDM1', 'RAD9B', 'CUL9', 'TRIM74', 'C3ORF70', 'GMNN', 'RTKN2', 'C1ORF59', 'ZFP62', 'FBXO25', 'LRRC56', 'LOC100128788', 'ARHGAP4', 'CHAF1A', 'CHAF1B', 'TCEANC', 'OIP5', 'HACL1', 'ZNF766', 'BZRAP1', 'TCP11', 'PTPN18', 'RFC4', 'IQCB1', 'RFC5', 'MSL3', 'SMC1B', 'ZNF75A', 'ZNF519', 'SP5', 'DMRTA2', 'MYO3A', 'CDK3', 'ZNF879', 'ECHDC2', 'BCL2', 'CDK1', 'MCM5', 'SP9', 'MCM6', 'MCM7', 'DNAJC9', 'MCM2', 'MCM3', 'KHDRBS1', 'PPWD1', 'FBXO43', 'ACP6', 'DGCR8', 'CCDC34', 'KIAA1529', 'ZNF620', 'REC8', 'IRX6', 'GNRHR2', 'PVRIG', 'HAUS5', 'KIAA1683', 'MND1', 'CABLES2', 'LOC647946', 'HAUS1', 'GOLGA2B', 'DTL', 'SMPDL3B', 'SLC25A14', 'PRPS2', 'HDAC6', 'SYCP2', 'C15ORF21', 'KIAA0101', 'FOXRED2', 'WDR90', 'HIRIP3', 'CHADL', 'HAUS8', 'CECR7', 'FBXO5', 'WDR8', 'PCBD2', 'LOC401431', 'DEM1', 'SEC11C', 'JMJD5', 'DUT', 'HCG27', 'GPKOW', 'CIDEB', 'ASRGL1', 'PNMA3', 'RHEBL1', 'KATNAL2', 'HMSD', 'PPP1R3E', 'TP53', 'GLS2', 'TIFA', 'CALML4', 'NSL1', 'UXT', 'LOC401052', 'FRAT2', 'CYP4X1', 'RAD54L', 'E2F1', 'EXOSC9', 'E2F2', 'OXER1', 'ATXN7L2', 'ZNF700', 'RIBC2', 'RIBC1', 'ZFR2', 'APOBEC3H', 'LOC284900', 'SLC6A16', 'BCL11A', 'ALG6', 'EAF2', 'XRCC1', 'C7ORF46', 'IL17RB', 'KEL', 'LOC81691', 'STAG3', 'WNK3', 'SIM2', 'GCDH', 'LOC115110', 'C14ORF93', 'TXNDC16', 'OSGEP', 'TMPO', 'APOO', 'RINL', 'INPP5B', 'C22ORF46', 'CCDC99', 'RFPL1S', 'PATZ1', 'FOXD4', 'CDT1', 'FOXD3', 'C17ORF65', 'RANBP17', 'AKR1A1', 'C1ORF203', 'TYK2', 'ZWINT', 'RAD51C', 'CLDN10', 'PTMA', 'KCNS1', 'NMU', 'PDIK1L', 'DMC1', 'SFI1', 'GNRH1', 'GRIPAP1', 'HMX2', 'CCDC101', 'INTS10', 'SUV39H1', 'KIF15', 'TMPRSS2', 'C2CD4D', 'LIMD2', 'IER3IP1', 'OBFC2B', 'DSN1', 'SCAI', 'PSMC3IP', 'HLTF', 'LOC440944', 'ZYG11A', 'PARP2', 'PRMT2', 'GAD1', 'RPA2', 'TRAIP', 'SVIP', 'TXLNA', 'HNRNPH1', 'ZADH2', 'CCNE2', 'DHRS13', 'FEN1', 'C17ORF57', 'FOXA1', 'MLF1IP', 'TNFRSF13C', 'FAF1', 'PRIM1', 'PTN', 'ICA1', 'C7ORF13', 'NUDT6', 'C17ORF53', 'LOC541473', 'SCML1', 'SCML2', 'FAM3B', 'NUSAP1', 'CCHCR1', 'GINS2', 'CCDC157', 'ARHGEF33', 'BTNL9', 'GINS1', 'LIG1', 'GINS4', 'LMO4', 'ZNF76', 'HS3ST4', 'CDKAL1', 'ARHGAP26', 'PCP2', 'ARHGAP33', 'UBXN11', 'UBE2T', 'POLE2', 'FANCD2', 'YPEL1', 'FIZ1', 'ISCU', 'B9D2', 'GOLT1A', 'PPIH', 'CCDC150', 'PCNA', 'DCLRE1C', 'NDUFB11', 'PROCA1', 'KLHL35', 'TYMS', 'GCET2', 'CLGN', 'ZNF84', 'FAM184A', 'GPC2', 'PTTG1', 'DMAP1', 'KNTC1', 'ACBD7', 'KIF22', 'ARHGEF19', 'KIF24', 'NASP', 'C20ORF96', 'CDKN2BAS', 'DLG3', 'TLX3', 'MAP7D2', 'TLX2', 'MXD3', 'SAE1', 'ERO1LB', 'AMY2B', 'PODXL2', 'CCDC125', 'HOXB13', 'SEPSECS', 'ZMAT1', 'RNF5P1', 'RDM1', 'ZCWPW1', 'UBD', 'HADH', 'FAM81A', 'CNTLN', 'LOC100272146', 'CBX7', 'LOC254559', 'CBX5', 'IQCC', 'DTNBP1', 'C4ORF46', 'HPDL', 'POLA1', 'POLA2', 'MEIS1', 'MNS1', 'ZMYND10', 'PMF1', 'PSIP1', 'LMNB1', 'PIK3R3', 'HMGB2', 'DBP', 'SYNGR3', 'GRK6', 'RBM10', 'ISOC1', 'FAM83E', 'H2AFZ', 'DDX12', 'H2AFV', 'C4ORF27', 'C4ORF21', 'CORT', 'CHDH', 'RBMX', 'SIGIRR', 'ITGB3BP', 'HLF', 'C2ORF68', 'CCDC28A', 'YBX2', 'CCDC28B', 'POLE', 'CBS', 'POLD1', 'SAP30L', 'PDE6B', 'NOS2', 'PSTK', 'GUSB', 'POLH', 'POC1A']\n"
     ]
    }
   ],
   "source": [
    "# Opcionalmente puede ejecutarse este bloque de código, para verificar que la lista de genes se ha almacenado correctamente y que tiene el formato adecuado.\n",
    "# Concretamente, imprime la lista ya con el formato deseado.\n",
    "print (gene_list)\n",
    "\n",
    "# Si el resultado es el esperado, ['GENE1', 'GENE2', ... 'GENEn'], entoces puede correr el primer módulo de DAISY."
   ]
  },
  {
   "cell_type": "code",
   "execution_count": 3,
   "metadata": {},
   "outputs": [],
   "source": [
    "# Alternativamente, aunque solo se recomienda si su lista de genes es breve, puede introducir manualmente los genes cambiando el siguiente ejemplo:\n",
    "gene_list=[\"BRCA1\", \"BRCA2\", \"ARID1A\"]"
   ]
  },
  {
   "cell_type": "markdown",
   "metadata": {
    "tags": []
   },
   "source": [
    "### 4.1. Módulo de coexpresión génica por pares\n",
    "En el módulo de coexpresión por pares, DAISY realiza inferencias basadas en la suposición de que los pares de genes letales sintéticos desempeñan un papel en procesos biológicos relacionados y se coexpresan. La expresión génica se midió para datos derivados de pacientes del TCGA y de líneas celulares tumorales de la CCLE. La coexpresión por pares se estima a partir de la correlación de Spearman que calculamos entre cada gen de interés (cada elemento de la lista de genes de consulta) y todos los demás genes. Los pares de genes sintéticos letales candidatos son aquellos con un coeficiente de correlación superior a 0,5 y cuyo valor P corregido por Bonferroni es inferior a 0,05 por defecto (estos parámetros pueden ajustarse a continuación). "
   ]
  },
  {
   "cell_type": "markdown",
   "metadata": {
    "tags": []
   },
   "source": [
    "#### 4.1.1. Módulo de coexpresión génica por pares para el PanCanAtlas"
   ]
  },
  {
   "cell_type": "code",
   "execution_count": null,
   "metadata": {
    "scrolled": true,
    "tags": []
   },
   "outputs": [],
   "source": [
    "coexp_pancancer = CoexpressionAnalysis(client, 'SL', \"PanCancerAtlas\", gene_list , pval_correction, fdr_level, list(tumor_type.value))\n",
    "try:\n",
    "    coex_pan_intermediate_report=coexp_pancancer.loc[(coexp_pancancer['FDR'] < p_threshold)&(coexp_pancancer['Correlation'] > cor_threshold)]\n",
    "    coexp_pancancer_report=coex_pan_intermediate_report.groupby('Inactive').apply(lambda x: x.sort_values('FDR'))\n",
    "except:\n",
    "    coexp_pancancer_report=pd.DataFrame()\n",
    "    print(\"No results returned.\")\n",
    "    \n",
    "coexp_pancancer_report"
   ]
  },
  {
   "cell_type": "markdown",
   "metadata": {},
   "source": [
    "**Inactive/Overactive** (para \"SL\" y para \"SDL\" respectivamente): El nombre del gen procedente de la lista de entrada.\n",
    "\n",
    "**InactiveDB/OveractiveDB**: El nombre del gen correspondiente en el conjunto de datos (PanCanAtlas).\n",
    "\n",
    "**SL_Candidate**: El par \"SL\" candidato del gen en la misma fila. \n",
    "\n",
    "**#Samples**: El número de muestras que se han utilizado en el cálculo de la correlación.\n",
    "\n",
    "**Correlation**: La correlación rho de Spearman en la expresión génica.\n",
    "\n",
    "**PValue**: El valor p de la correlación de Spearman.\n",
    "\n",
    "**FDR**: Valor p corregido. \n",
    "\n",
    "**Tissue**: El/los tejido/s en el/los que se ha realizado el análisis."
   ]
  },
  {
   "cell_type": "code",
   "execution_count": 24,
   "metadata": {
    "tags": []
   },
   "outputs": [],
   "source": [
    "# Si quiere guardar esta tabla como un archivo de Excel, descomente (quite la #) y ejecute la siguiente línea de código.\n",
    "WriteToExcel(\"CEGP_PCA_SLoSDL_resultados.xlsx\", [coexp_pancancer_report], [\"Resultados CEGP PCA\"])\n",
    "\n",
    "# El libro de Excel resultante se almacena en la misma carpeta en la que se encuentra este flujo de trabajo; es decir, en este caso en \"Example_workflows\"."
   ]
  },
  {
   "cell_type": "markdown",
   "metadata": {},
   "source": [
    "#### 4.1.2. Módulo de coexpresión génica por pares con datos de la CCLE"
   ]
  },
  {
   "cell_type": "code",
   "execution_count": 47,
   "metadata": {
    "scrolled": true,
    "tags": []
   },
   "outputs": [
    {
     "data": {
      "text/html": [
       "<div>\n",
       "<style scoped>\n",
       "    .dataframe tbody tr th:only-of-type {\n",
       "        vertical-align: middle;\n",
       "    }\n",
       "\n",
       "    .dataframe tbody tr th {\n",
       "        vertical-align: top;\n",
       "    }\n",
       "\n",
       "    .dataframe thead th {\n",
       "        text-align: right;\n",
       "    }\n",
       "</style>\n",
       "<table border=\"1\" class=\"dataframe\">\n",
       "  <thead>\n",
       "    <tr style=\"text-align: right;\">\n",
       "      <th></th>\n",
       "      <th></th>\n",
       "      <th>Inactive</th>\n",
       "      <th>InactiveDB</th>\n",
       "      <th>SL_Candidate</th>\n",
       "      <th>#Samples</th>\n",
       "      <th>Correlation</th>\n",
       "      <th>PValue</th>\n",
       "      <th>FDR</th>\n",
       "      <th>Tissue</th>\n",
       "    </tr>\n",
       "    <tr>\n",
       "      <th>Inactive</th>\n",
       "      <th></th>\n",
       "      <th></th>\n",
       "      <th></th>\n",
       "      <th></th>\n",
       "      <th></th>\n",
       "      <th></th>\n",
       "      <th></th>\n",
       "      <th></th>\n",
       "      <th></th>\n",
       "    </tr>\n",
       "  </thead>\n",
       "  <tbody>\n",
       "    <tr>\n",
       "      <th rowspan=\"4\" valign=\"top\">ABCA3</th>\n",
       "      <th>0</th>\n",
       "      <td>ABCA3</td>\n",
       "      <td>ABCA3</td>\n",
       "      <td>CBX6</td>\n",
       "      <td>45</td>\n",
       "      <td>0.677102</td>\n",
       "      <td>3.553763e-07</td>\n",
       "      <td>0.006759</td>\n",
       "      <td>['HNSC']</td>\n",
       "    </tr>\n",
       "    <tr>\n",
       "      <th>1</th>\n",
       "      <td>ABCA3</td>\n",
       "      <td>ABCA3</td>\n",
       "      <td>FN3K</td>\n",
       "      <td>45</td>\n",
       "      <td>0.653956</td>\n",
       "      <td>1.189957e-06</td>\n",
       "      <td>0.022633</td>\n",
       "      <td>['HNSC']</td>\n",
       "    </tr>\n",
       "    <tr>\n",
       "      <th>2</th>\n",
       "      <td>ABCA3</td>\n",
       "      <td>ABCA3</td>\n",
       "      <td>MAPK3</td>\n",
       "      <td>45</td>\n",
       "      <td>0.644677</td>\n",
       "      <td>1.878155e-06</td>\n",
       "      <td>0.035723</td>\n",
       "      <td>['HNSC']</td>\n",
       "    </tr>\n",
       "    <tr>\n",
       "      <th>3</th>\n",
       "      <td>ABCA3</td>\n",
       "      <td>ABCA3</td>\n",
       "      <td>ZNF263</td>\n",
       "      <td>45</td>\n",
       "      <td>0.639557</td>\n",
       "      <td>2.400379e-06</td>\n",
       "      <td>0.045655</td>\n",
       "      <td>['HNSC']</td>\n",
       "    </tr>\n",
       "    <tr>\n",
       "      <th>ACBD7</th>\n",
       "      <th>19143</th>\n",
       "      <td>ACBD7</td>\n",
       "      <td>ACBD7</td>\n",
       "      <td>PCBD2</td>\n",
       "      <td>45</td>\n",
       "      <td>0.722559</td>\n",
       "      <td>2.352689e-08</td>\n",
       "      <td>0.000447</td>\n",
       "      <td>['HNSC']</td>\n",
       "    </tr>\n",
       "    <tr>\n",
       "      <th>...</th>\n",
       "      <th>...</th>\n",
       "      <td>...</td>\n",
       "      <td>...</td>\n",
       "      <td>...</td>\n",
       "      <td>...</td>\n",
       "      <td>...</td>\n",
       "      <td>...</td>\n",
       "      <td>...</td>\n",
       "      <td>...</td>\n",
       "    </tr>\n",
       "    <tr>\n",
       "      <th rowspan=\"5\" valign=\"top\">ZWINT</th>\n",
       "      <th>7709186</th>\n",
       "      <td>ZWINT</td>\n",
       "      <td>ZWINT</td>\n",
       "      <td>HNRNPC</td>\n",
       "      <td>45</td>\n",
       "      <td>0.637945</td>\n",
       "      <td>2.590836e-06</td>\n",
       "      <td>0.048223</td>\n",
       "      <td>['HNSC']</td>\n",
       "    </tr>\n",
       "    <tr>\n",
       "      <th>7709188</th>\n",
       "      <td>ZWINT</td>\n",
       "      <td>ZWINT</td>\n",
       "      <td>WDR73</td>\n",
       "      <td>45</td>\n",
       "      <td>0.637813</td>\n",
       "      <td>2.606999e-06</td>\n",
       "      <td>0.048524</td>\n",
       "      <td>['HNSC']</td>\n",
       "    </tr>\n",
       "    <tr>\n",
       "      <th>7709187</th>\n",
       "      <td>ZWINT</td>\n",
       "      <td>ZWINT</td>\n",
       "      <td>TRAPPC4</td>\n",
       "      <td>45</td>\n",
       "      <td>0.637813</td>\n",
       "      <td>2.606999e-06</td>\n",
       "      <td>0.048524</td>\n",
       "      <td>['HNSC']</td>\n",
       "    </tr>\n",
       "    <tr>\n",
       "      <th>7709189</th>\n",
       "      <td>ZWINT</td>\n",
       "      <td>ZWINT</td>\n",
       "      <td>PSMD12</td>\n",
       "      <td>45</td>\n",
       "      <td>0.637813</td>\n",
       "      <td>2.606999e-06</td>\n",
       "      <td>0.048524</td>\n",
       "      <td>['HNSC']</td>\n",
       "    </tr>\n",
       "    <tr>\n",
       "      <th>7709190</th>\n",
       "      <td>ZWINT</td>\n",
       "      <td>ZWINT</td>\n",
       "      <td>SRFBP1</td>\n",
       "      <td>45</td>\n",
       "      <td>0.637418</td>\n",
       "      <td>2.656052e-06</td>\n",
       "      <td>0.049437</td>\n",
       "      <td>['HNSC']</td>\n",
       "    </tr>\n",
       "  </tbody>\n",
       "</table>\n",
       "<p>105285 rows × 8 columns</p>\n",
       "</div>"
      ],
      "text/plain": [
       "                 Inactive InactiveDB SL_Candidate  #Samples  Correlation  \\\n",
       "Inactive                                                                   \n",
       "ABCA3    0          ABCA3      ABCA3         CBX6        45     0.677102   \n",
       "         1          ABCA3      ABCA3         FN3K        45     0.653956   \n",
       "         2          ABCA3      ABCA3        MAPK3        45     0.644677   \n",
       "         3          ABCA3      ABCA3       ZNF263        45     0.639557   \n",
       "ACBD7    19143      ACBD7      ACBD7        PCBD2        45     0.722559   \n",
       "...                   ...        ...          ...       ...          ...   \n",
       "ZWINT    7709186    ZWINT      ZWINT       HNRNPC        45     0.637945   \n",
       "         7709188    ZWINT      ZWINT        WDR73        45     0.637813   \n",
       "         7709187    ZWINT      ZWINT      TRAPPC4        45     0.637813   \n",
       "         7709189    ZWINT      ZWINT       PSMD12        45     0.637813   \n",
       "         7709190    ZWINT      ZWINT       SRFBP1        45     0.637418   \n",
       "\n",
       "                        PValue       FDR    Tissue  \n",
       "Inactive                                            \n",
       "ABCA3    0        3.553763e-07  0.006759  ['HNSC']  \n",
       "         1        1.189957e-06  0.022633  ['HNSC']  \n",
       "         2        1.878155e-06  0.035723  ['HNSC']  \n",
       "         3        2.400379e-06  0.045655  ['HNSC']  \n",
       "ACBD7    19143    2.352689e-08  0.000447  ['HNSC']  \n",
       "...                        ...       ...       ...  \n",
       "ZWINT    7709186  2.590836e-06  0.048223  ['HNSC']  \n",
       "         7709188  2.606999e-06  0.048524  ['HNSC']  \n",
       "         7709187  2.606999e-06  0.048524  ['HNSC']  \n",
       "         7709189  2.606999e-06  0.048524  ['HNSC']  \n",
       "         7709190  2.656052e-06  0.049437  ['HNSC']  \n",
       "\n",
       "[105285 rows x 8 columns]"
      ]
     },
     "execution_count": 47,
     "metadata": {},
     "output_type": "execute_result"
    }
   ],
   "source": [
    "coexp_CCLE=CoexpressionAnalysis(client, 'SL', 'CCLE', gene_list, pval_correction, fdr_level, list(tumor_type.value ))\n",
    "try: \n",
    "    coex_ccle_intermediate_report=coexp_CCLE.loc[(coexp_CCLE['FDR'] < p_threshold)&(coexp_CCLE['Correlation'] > cor_threshold)]\n",
    "    coexp_CCLE_report=coex_ccle_intermediate_report.groupby('Inactive').apply(lambda x: x.sort_values('FDR'))\n",
    "except:\n",
    "    coexp_CCLE_report=pd.DataFrame()\n",
    "    print(\"No results returned.\")\n",
    "coexp_CCLE_report\n",
    "    "
   ]
  },
  {
   "cell_type": "markdown",
   "metadata": {},
   "source": [
    "El mismo análisis/resultado que con el análisis de coexpresión del Pan-Cancer Atlas, excepto porque el conjunto de datos usado procede de la CCLE."
   ]
  },
  {
   "cell_type": "code",
   "execution_count": 48,
   "metadata": {
    "tags": []
   },
   "outputs": [],
   "source": [
    "# Si quiere almacenar esta tabla como un archivo de Excel, descomente (quite la #) y ejecute la siguiente línea de código.\n",
    "#WriteToExcel(\"CEGP_CCLE_SLoSDL_resultados.xlsx\", [coexp_CCLE_report], [\"Resultados CEGP CCLE\"])\n",
    "\n",
    "# El libro de Excel resultante se guarda en la misma carpeta en la que se ubica este flujo de trabajo; es decir, en este caso en \"Example_workflows\"."
   ]
  },
  {
   "cell_type": "markdown",
   "metadata": {
    "tags": []
   },
   "source": [
    "### 4.2. Módulo genómico de supervivencia del más apto\n",
    "El módulo de inferencia de la supervivencia genómica del más apto se basa en la alteración del número de copias del gen en el dominio de búsqueda, dado si el gen de interés es inactivo (o está sobreexpresado) o no. El gen de interés de una muestra se considera inactivo si su expresión es inferior al percentil 10 de todas las muestras y su alteración del número de copias es inferior a -0,3 o si tiene una mutación sin sentido, de desplazamiento de marco o de deleción de marco. El gen de interés de una muestra se considera sobreexpresado si su expresión supera el percentil 90 de todas las muestras y su alteración del número de copias es superior a 0,3 (la sobreexpresión se utiliza en la predicción de pares letales sintéticos de dosis).\n",
    "\n",
    "Se aplica la prueba de suma de rangos unilateral de Wilcoxon (U de Mann-Whitney) a la alteración del número de copias del par letal sintético candidato de cada gen de interés. El mayor número de copias del par letal sintético candidato para las muestras cuyo gen de interés es inactivo (o está sobreexpresado) se considera un indicador de que los genes se encuentran en una relación letal sintética o letal sintética de dosis. Se devuelven los pares \"SL/SDL\" cuyo p-valor corregido por Bonferroni es inferior a 0,05. Este procedimiento de inferencia se aplica a los datos del Pan-Cancer Atlas y de la CCLE por separado."
   ]
  },
  {
   "cell_type": "markdown",
   "metadata": {
    "tags": []
   },
   "source": [
    "#### 4.2.1. Módulo de supervivencia genómica del más apto para los datos del PanCanAtlas"
   ]
  },
  {
   "cell_type": "code",
   "execution_count": 45,
   "metadata": {
    "scrolled": true,
    "tags": []
   },
   "outputs": [
    {
     "data": {
      "text/html": [
       "<div>\n",
       "<style scoped>\n",
       "    .dataframe tbody tr th:only-of-type {\n",
       "        vertical-align: middle;\n",
       "    }\n",
       "\n",
       "    .dataframe tbody tr th {\n",
       "        vertical-align: top;\n",
       "    }\n",
       "\n",
       "    .dataframe thead th {\n",
       "        text-align: right;\n",
       "    }\n",
       "</style>\n",
       "<table border=\"1\" class=\"dataframe\">\n",
       "  <thead>\n",
       "    <tr style=\"text-align: right;\">\n",
       "      <th></th>\n",
       "      <th></th>\n",
       "      <th>Inactive</th>\n",
       "      <th>InactiveDB</th>\n",
       "      <th>SL_Candidate</th>\n",
       "      <th>#InactiveSamples</th>\n",
       "      <th>#Samples</th>\n",
       "      <th>PValue</th>\n",
       "      <th>FDR</th>\n",
       "      <th>Tissue</th>\n",
       "    </tr>\n",
       "    <tr>\n",
       "      <th>Inactive</th>\n",
       "      <th></th>\n",
       "      <th></th>\n",
       "      <th></th>\n",
       "      <th></th>\n",
       "      <th></th>\n",
       "      <th></th>\n",
       "      <th></th>\n",
       "      <th></th>\n",
       "      <th></th>\n",
       "    </tr>\n",
       "  </thead>\n",
       "  <tbody>\n",
       "    <tr>\n",
       "      <th rowspan=\"5\" valign=\"top\">AKR1A1</th>\n",
       "      <th>8271</th>\n",
       "      <td>AKR1A1</td>\n",
       "      <td>AKR1A1</td>\n",
       "      <td>RNF103-CHMP3</td>\n",
       "      <td>10</td>\n",
       "      <td>487</td>\n",
       "      <td>6.358961e-07</td>\n",
       "      <td>0.015979</td>\n",
       "      <td>['HNSC']</td>\n",
       "    </tr>\n",
       "    <tr>\n",
       "      <th>8272</th>\n",
       "      <td>AKR1A1</td>\n",
       "      <td>AKR1A1</td>\n",
       "      <td>RNF103</td>\n",
       "      <td>10</td>\n",
       "      <td>487</td>\n",
       "      <td>6.358961e-07</td>\n",
       "      <td>0.015979</td>\n",
       "      <td>['HNSC']</td>\n",
       "    </tr>\n",
       "    <tr>\n",
       "      <th>8273</th>\n",
       "      <td>AKR1A1</td>\n",
       "      <td>AKR1A1</td>\n",
       "      <td>RMND5A</td>\n",
       "      <td>10</td>\n",
       "      <td>487</td>\n",
       "      <td>6.358961e-07</td>\n",
       "      <td>0.015979</td>\n",
       "      <td>['HNSC']</td>\n",
       "    </tr>\n",
       "    <tr>\n",
       "      <th>8274</th>\n",
       "      <td>AKR1A1</td>\n",
       "      <td>AKR1A1</td>\n",
       "      <td>CD8A</td>\n",
       "      <td>10</td>\n",
       "      <td>487</td>\n",
       "      <td>6.358961e-07</td>\n",
       "      <td>0.015979</td>\n",
       "      <td>['HNSC']</td>\n",
       "    </tr>\n",
       "    <tr>\n",
       "      <th>8275</th>\n",
       "      <td>AKR1A1</td>\n",
       "      <td>AKR1A1</td>\n",
       "      <td>PTCD3</td>\n",
       "      <td>10</td>\n",
       "      <td>487</td>\n",
       "      <td>6.358961e-07</td>\n",
       "      <td>0.015979</td>\n",
       "      <td>['HNSC']</td>\n",
       "    </tr>\n",
       "    <tr>\n",
       "      <th>...</th>\n",
       "      <th>...</th>\n",
       "      <td>...</td>\n",
       "      <td>...</td>\n",
       "      <td>...</td>\n",
       "      <td>...</td>\n",
       "      <td>...</td>\n",
       "      <td>...</td>\n",
       "      <td>...</td>\n",
       "      <td>...</td>\n",
       "    </tr>\n",
       "    <tr>\n",
       "      <th>ZADH2</th>\n",
       "      <th>8971</th>\n",
       "      <td>ZADH2</td>\n",
       "      <td>ZADH2</td>\n",
       "      <td>LYN</td>\n",
       "      <td>40</td>\n",
       "      <td>487</td>\n",
       "      <td>1.623415e-06</td>\n",
       "      <td>0.040793</td>\n",
       "      <td>['HNSC']</td>\n",
       "    </tr>\n",
       "    <tr>\n",
       "      <th rowspan=\"4\" valign=\"top\">ZFR2</th>\n",
       "      <th>8987</th>\n",
       "      <td>ZFR2</td>\n",
       "      <td>ZFR2</td>\n",
       "      <td>MNAT1</td>\n",
       "      <td>23</td>\n",
       "      <td>487</td>\n",
       "      <td>1.639512e-06</td>\n",
       "      <td>0.041198</td>\n",
       "      <td>['HNSC']</td>\n",
       "    </tr>\n",
       "    <tr>\n",
       "      <th>9191</th>\n",
       "      <td>ZFR2</td>\n",
       "      <td>ZFR2</td>\n",
       "      <td>TRMT5</td>\n",
       "      <td>23</td>\n",
       "      <td>487</td>\n",
       "      <td>1.843993e-06</td>\n",
       "      <td>0.046336</td>\n",
       "      <td>['HNSC']</td>\n",
       "    </tr>\n",
       "    <tr>\n",
       "      <th>9192</th>\n",
       "      <td>ZFR2</td>\n",
       "      <td>ZFR2</td>\n",
       "      <td>SIX4</td>\n",
       "      <td>23</td>\n",
       "      <td>487</td>\n",
       "      <td>1.843993e-06</td>\n",
       "      <td>0.046336</td>\n",
       "      <td>['HNSC']</td>\n",
       "    </tr>\n",
       "    <tr>\n",
       "      <th>9193</th>\n",
       "      <td>ZFR2</td>\n",
       "      <td>ZFR2</td>\n",
       "      <td>SLC38A6</td>\n",
       "      <td>23</td>\n",
       "      <td>487</td>\n",
       "      <td>1.843993e-06</td>\n",
       "      <td>0.046336</td>\n",
       "      <td>['HNSC']</td>\n",
       "    </tr>\n",
       "  </tbody>\n",
       "</table>\n",
       "<p>9345 rows × 8 columns</p>\n",
       "</div>"
      ],
      "text/plain": [
       "              Inactive InactiveDB  SL_Candidate  #InactiveSamples  #Samples  \\\n",
       "Inactive                                                                      \n",
       "AKR1A1   8271   AKR1A1     AKR1A1  RNF103-CHMP3                10       487   \n",
       "         8272   AKR1A1     AKR1A1        RNF103                10       487   \n",
       "         8273   AKR1A1     AKR1A1        RMND5A                10       487   \n",
       "         8274   AKR1A1     AKR1A1          CD8A                10       487   \n",
       "         8275   AKR1A1     AKR1A1         PTCD3                10       487   \n",
       "...                ...        ...           ...               ...       ...   \n",
       "ZADH2    8971    ZADH2      ZADH2           LYN                40       487   \n",
       "ZFR2     8987     ZFR2       ZFR2         MNAT1                23       487   \n",
       "         9191     ZFR2       ZFR2         TRMT5                23       487   \n",
       "         9192     ZFR2       ZFR2          SIX4                23       487   \n",
       "         9193     ZFR2       ZFR2       SLC38A6                23       487   \n",
       "\n",
       "                     PValue       FDR    Tissue  \n",
       "Inactive                                         \n",
       "AKR1A1   8271  6.358961e-07  0.015979  ['HNSC']  \n",
       "         8272  6.358961e-07  0.015979  ['HNSC']  \n",
       "         8273  6.358961e-07  0.015979  ['HNSC']  \n",
       "         8274  6.358961e-07  0.015979  ['HNSC']  \n",
       "         8275  6.358961e-07  0.015979  ['HNSC']  \n",
       "...                     ...       ...       ...  \n",
       "ZADH2    8971  1.623415e-06  0.040793  ['HNSC']  \n",
       "ZFR2     8987  1.639512e-06  0.041198  ['HNSC']  \n",
       "         9191  1.843993e-06  0.046336  ['HNSC']  \n",
       "         9192  1.843993e-06  0.046336  ['HNSC']  \n",
       "         9193  1.843993e-06  0.046336  ['HNSC']  \n",
       "\n",
       "[9345 rows x 8 columns]"
      ]
     },
     "execution_count": 45,
     "metadata": {},
     "output_type": "execute_result"
    }
   ],
   "source": [
    "sof_pancancer = SurvivalOfFittest(client, 'SL', \"PanCancerAtlas\", gene_list, percentile_threshold, cn_threshold, pval_correction, fdr_level, list(tumor_type.value), input_mutations)\n",
    "try:\n",
    "    sof_pancancer_intermediate_report=sof_pancancer.loc[(sof_pancancer['FDR'] < p_threshold),]                \n",
    "    sof_pancancer_report=sof_pancancer_intermediate_report.groupby('Inactive').apply(lambda x: x.sort_values('FDR'))\n",
    "except:\n",
    "    sof_pancancer_report=pd.DataFrame()\n",
    "    print(\"No results returned.\") \n",
    "sof_pancancer_report"
   ]
  },
  {
   "cell_type": "markdown",
   "metadata": {},
   "source": [
    "**Inactive/Overactive** (para \"SL\" y para \"SDL\" respectivamente): El nombre del gen procedente de la lista de entrada.\n",
    "\n",
    "**InactiveDB/OveractiveDB**: El nombre del gen correspondiente en el conjunto de datos (Pan-Cancer Atlas).\n",
    "\n",
    "**SL_Candidate**: El par \"SL\" candidato del gen en la misma fila. \n",
    "\n",
    "**#InactiveSamples**: El número de muestras inactivas.\n",
    "\n",
    "**#Samples**: El número total de muestras sobre las que se realiza el análisis.\n",
    "\n",
    "**PValue**: Los valores p para la prueba unilateral no emparejada de Wilcoxon aplicada a los datos de alteración del número de copias somáticas.\n",
    "\n",
    "**FDR**: P-valor corregido.\n",
    "\n",
    "**Tissue**: El/los tejido/s en el/los que se ha efectuado el análisis."
   ]
  },
  {
   "cell_type": "code",
   "execution_count": 46,
   "metadata": {
    "tags": []
   },
   "outputs": [],
   "source": [
    "# Si quiere guardar esta tabla como un archivo de Excel, descomente (quite la #) y ejecute la siguiente línea de código.\n",
    "WriteToExcel(\"SoF_PCA_SLoSDL_resultados.xlsx\", [sof_pancancer_report], [\"Resultados SoF PCA\"])\n",
    "\n",
    "# El libro de Excel resultante se almacena en la misma carpeta en la que se localiza este flujo de trabajo; es decir, en este caso en \"Example_workflows\"."
   ]
  },
  {
   "cell_type": "markdown",
   "metadata": {
    "tags": []
   },
   "source": [
    "#### 4.2.2. Genomic survival of fittest module on CCLE data"
   ]
  },
  {
   "cell_type": "code",
   "execution_count": 43,
   "metadata": {
    "scrolled": true,
    "tags": []
   },
   "outputs": [
    {
     "data": {
      "text/html": [
       "<div>\n",
       "<style scoped>\n",
       "    .dataframe tbody tr th:only-of-type {\n",
       "        vertical-align: middle;\n",
       "    }\n",
       "\n",
       "    .dataframe tbody tr th {\n",
       "        vertical-align: top;\n",
       "    }\n",
       "\n",
       "    .dataframe thead th {\n",
       "        text-align: right;\n",
       "    }\n",
       "</style>\n",
       "<table border=\"1\" class=\"dataframe\">\n",
       "  <thead>\n",
       "    <tr style=\"text-align: right;\">\n",
       "      <th></th>\n",
       "      <th>Inactive</th>\n",
       "      <th>InactiveDB</th>\n",
       "      <th>SL_Candidate</th>\n",
       "      <th>#InactiveSamples</th>\n",
       "      <th>#Samples</th>\n",
       "      <th>PValue</th>\n",
       "      <th>FDR</th>\n",
       "      <th>Tissue</th>\n",
       "    </tr>\n",
       "    <tr>\n",
       "      <th>Inactive</th>\n",
       "      <th></th>\n",
       "      <th></th>\n",
       "      <th></th>\n",
       "      <th></th>\n",
       "      <th></th>\n",
       "      <th></th>\n",
       "      <th></th>\n",
       "      <th></th>\n",
       "    </tr>\n",
       "  </thead>\n",
       "  <tbody>\n",
       "  </tbody>\n",
       "</table>\n",
       "</div>"
      ],
      "text/plain": [
       "Empty DataFrame\n",
       "Columns: [Inactive, InactiveDB, SL_Candidate, #InactiveSamples, #Samples, PValue, FDR, Tissue]\n",
       "Index: []"
      ]
     },
     "execution_count": 43,
     "metadata": {},
     "output_type": "execute_result"
    }
   ],
   "source": [
    "sof_CCLE = SurvivalOfFittest(client, 'SL', \"CCLE\", gene_list,  percentile_threshold, cn_threshold, pval_correction, fdr_level, list(tumor_type.value), input_mutations)\n",
    "try: \n",
    "    sof_ccle_intermediate_report=sof_CCLE.loc[(sof_CCLE['FDR'] < p_threshold),]\n",
    "    sof_ccle_report=sof_ccle_intermediate_report.groupby('Inactive').apply(lambda x: x.sort_values('FDR'))\n",
    "except:\n",
    "    sof_ccle_report=pd.DataFrame()\n",
    "    print(\"No results returned.\")\n",
    "sof_ccle_report"
   ]
  },
  {
   "cell_type": "markdown",
   "metadata": {},
   "source": [
    "El mismo análisis/resultado que con el análisis de superivivencia del más apto apliacado al Pan-Cancer Atlas, excepto porque el conjunto de datos empleado proviene de la CCLE."
   ]
  },
  {
   "cell_type": "code",
   "execution_count": 44,
   "metadata": {
    "tags": []
   },
   "outputs": [],
   "source": [
    "# Si quiere almacenar esta tabla como un archivo de Excel, descomente (quite la #) y ejecute la siguiente línea de código.\n",
    "WriteToExcel(\"SoF_CCLE_SLoSDL_resultados.xlsx\", [sof_ccle_report], [\"Resultados SoF CCLE\"])\n",
    "\n",
    "# El libro de Excel resultante se guarda en la misma carpeta en la que se ecuentra este flujo de trabajo; es decir, en este caso en \"Example_workflows\"."
   ]
  },
  {
   "cell_type": "markdown",
   "metadata": {
    "tags": []
   },
   "source": [
    "### 4.3. Módulo de inferencia de examen funcional\n",
    "El fundamento del módulo de inferencia de examen funcional es que si la pareja letal sintética de un gen está inactiva en una muestra dada, la inactivación posterior de ese gen será letal. Por lo tanto, para un gen de interés, primero definimos dos grupos para la prueba, uno en el que el gen estaba inactivo y otro en el que no lo estaba. A continuación, realizamos una prueba de suma de rangos de Wilcoxon unilateral (U de Mann-Whitney) sobre la sensibilidad \"knockdown\"/\"knockout\" de los pares letales sintéticos candidatos de interés. Una menor viabilidad asociada a una mayor sensibilidad al silenciamiento/bloqueo génico es un indicador de una posible interacción de letalidad sintética (\"SLI\"). Se devuelven las parejas letales sintéticas para las que el valor P del resultado de la prueba es inferior a 0,05. Este procedimiento de inferencia se aplica a las puntuaciones de dependencia génica o de efecto génico para los conjuntos de datos de ARNhc y CRISPR por separado."
   ]
  },
  {
   "cell_type": "markdown",
   "metadata": {
    "tags": []
   },
   "source": [
    "#### 4.3.1. Módulo de inferencia de exámenes funcionales basado en CRISPR"
   ]
  },
  {
   "cell_type": "code",
   "execution_count": 40,
   "metadata": {
    "tags": []
   },
   "outputs": [
    {
     "data": {
      "text/html": [
       "<div>\n",
       "<style scoped>\n",
       "    .dataframe tbody tr th:only-of-type {\n",
       "        vertical-align: middle;\n",
       "    }\n",
       "\n",
       "    .dataframe tbody tr th {\n",
       "        vertical-align: top;\n",
       "    }\n",
       "\n",
       "    .dataframe thead th {\n",
       "        text-align: right;\n",
       "    }\n",
       "</style>\n",
       "<table border=\"1\" class=\"dataframe\">\n",
       "  <thead>\n",
       "    <tr style=\"text-align: right;\">\n",
       "      <th></th>\n",
       "      <th></th>\n",
       "      <th>Inactive</th>\n",
       "      <th>InactiveDB</th>\n",
       "      <th>SL_Candidate</th>\n",
       "      <th>#InactiveSamples</th>\n",
       "      <th>#Samples</th>\n",
       "      <th>PValue</th>\n",
       "      <th>FDR</th>\n",
       "      <th>Tissue</th>\n",
       "    </tr>\n",
       "    <tr>\n",
       "      <th>Inactive</th>\n",
       "      <th></th>\n",
       "      <th></th>\n",
       "      <th></th>\n",
       "      <th></th>\n",
       "      <th></th>\n",
       "      <th></th>\n",
       "      <th></th>\n",
       "      <th></th>\n",
       "      <th></th>\n",
       "    </tr>\n",
       "  </thead>\n",
       "  <tbody>\n",
       "    <tr>\n",
       "      <th rowspan=\"5\" valign=\"top\">ADARB2</th>\n",
       "      <th>17</th>\n",
       "      <td>ADARB2</td>\n",
       "      <td>ADARB2</td>\n",
       "      <td>CPS1</td>\n",
       "      <td>6</td>\n",
       "      <td>34</td>\n",
       "      <td>0.000414</td>\n",
       "      <td>1.0</td>\n",
       "      <td>['HNSC']</td>\n",
       "    </tr>\n",
       "    <tr>\n",
       "      <th>27</th>\n",
       "      <td>ADARB2</td>\n",
       "      <td>ADARB2</td>\n",
       "      <td>SLC31A1</td>\n",
       "      <td>6</td>\n",
       "      <td>34</td>\n",
       "      <td>0.000572</td>\n",
       "      <td>1.0</td>\n",
       "      <td>['HNSC']</td>\n",
       "    </tr>\n",
       "    <tr>\n",
       "      <th>34</th>\n",
       "      <td>ADARB2</td>\n",
       "      <td>ADARB2</td>\n",
       "      <td>FANCG</td>\n",
       "      <td>6</td>\n",
       "      <td>34</td>\n",
       "      <td>0.000670</td>\n",
       "      <td>1.0</td>\n",
       "      <td>['HNSC']</td>\n",
       "    </tr>\n",
       "    <tr>\n",
       "      <th>36</th>\n",
       "      <td>ADARB2</td>\n",
       "      <td>ADARB2</td>\n",
       "      <td>CAMSAP3</td>\n",
       "      <td>6</td>\n",
       "      <td>34</td>\n",
       "      <td>0.000670</td>\n",
       "      <td>1.0</td>\n",
       "      <td>['HNSC']</td>\n",
       "    </tr>\n",
       "    <tr>\n",
       "      <th>37</th>\n",
       "      <td>ADARB2</td>\n",
       "      <td>ADARB2</td>\n",
       "      <td>MAB21L2</td>\n",
       "      <td>6</td>\n",
       "      <td>34</td>\n",
       "      <td>0.000670</td>\n",
       "      <td>1.0</td>\n",
       "      <td>['HNSC']</td>\n",
       "    </tr>\n",
       "    <tr>\n",
       "      <th>...</th>\n",
       "      <th>...</th>\n",
       "      <td>...</td>\n",
       "      <td>...</td>\n",
       "      <td>...</td>\n",
       "      <td>...</td>\n",
       "      <td>...</td>\n",
       "      <td>...</td>\n",
       "      <td>...</td>\n",
       "      <td>...</td>\n",
       "    </tr>\n",
       "    <tr>\n",
       "      <th rowspan=\"5\" valign=\"top\">ZMAT1</th>\n",
       "      <th>8273</th>\n",
       "      <td>ZMAT1</td>\n",
       "      <td>ZMAT1</td>\n",
       "      <td>DHX38</td>\n",
       "      <td>10</td>\n",
       "      <td>33</td>\n",
       "      <td>0.049957</td>\n",
       "      <td>1.0</td>\n",
       "      <td>['HNSC']</td>\n",
       "    </tr>\n",
       "    <tr>\n",
       "      <th>8271</th>\n",
       "      <td>ZMAT1</td>\n",
       "      <td>ZMAT1</td>\n",
       "      <td>MED14</td>\n",
       "      <td>10</td>\n",
       "      <td>33</td>\n",
       "      <td>0.049957</td>\n",
       "      <td>1.0</td>\n",
       "      <td>['HNSC']</td>\n",
       "    </tr>\n",
       "    <tr>\n",
       "      <th>8279</th>\n",
       "      <td>ZMAT1</td>\n",
       "      <td>ZMAT1</td>\n",
       "      <td>HAT1</td>\n",
       "      <td>10</td>\n",
       "      <td>33</td>\n",
       "      <td>0.049957</td>\n",
       "      <td>1.0</td>\n",
       "      <td>['HNSC']</td>\n",
       "    </tr>\n",
       "    <tr>\n",
       "      <th>8274</th>\n",
       "      <td>ZMAT1</td>\n",
       "      <td>ZMAT1</td>\n",
       "      <td>POU5F1</td>\n",
       "      <td>10</td>\n",
       "      <td>33</td>\n",
       "      <td>0.049957</td>\n",
       "      <td>1.0</td>\n",
       "      <td>['HNSC']</td>\n",
       "    </tr>\n",
       "    <tr>\n",
       "      <th>8280</th>\n",
       "      <td>ZMAT1</td>\n",
       "      <td>ZMAT1</td>\n",
       "      <td>GPC4</td>\n",
       "      <td>10</td>\n",
       "      <td>33</td>\n",
       "      <td>0.049957</td>\n",
       "      <td>1.0</td>\n",
       "      <td>['HNSC']</td>\n",
       "    </tr>\n",
       "  </tbody>\n",
       "</table>\n",
       "<p>8281 rows × 8 columns</p>\n",
       "</div>"
      ],
      "text/plain": [
       "              Inactive InactiveDB SL_Candidate  #InactiveSamples  #Samples  \\\n",
       "Inactive                                                                     \n",
       "ADARB2   17     ADARB2     ADARB2         CPS1                 6        34   \n",
       "         27     ADARB2     ADARB2      SLC31A1                 6        34   \n",
       "         34     ADARB2     ADARB2        FANCG                 6        34   \n",
       "         36     ADARB2     ADARB2      CAMSAP3                 6        34   \n",
       "         37     ADARB2     ADARB2      MAB21L2                 6        34   \n",
       "...                ...        ...          ...               ...       ...   \n",
       "ZMAT1    8273    ZMAT1      ZMAT1        DHX38                10        33   \n",
       "         8271    ZMAT1      ZMAT1        MED14                10        33   \n",
       "         8279    ZMAT1      ZMAT1         HAT1                10        33   \n",
       "         8274    ZMAT1      ZMAT1       POU5F1                10        33   \n",
       "         8280    ZMAT1      ZMAT1         GPC4                10        33   \n",
       "\n",
       "                 PValue  FDR    Tissue  \n",
       "Inactive                                \n",
       "ADARB2   17    0.000414  1.0  ['HNSC']  \n",
       "         27    0.000572  1.0  ['HNSC']  \n",
       "         34    0.000670  1.0  ['HNSC']  \n",
       "         36    0.000670  1.0  ['HNSC']  \n",
       "         37    0.000670  1.0  ['HNSC']  \n",
       "...                 ...  ...       ...  \n",
       "ZMAT1    8273  0.049957  1.0  ['HNSC']  \n",
       "         8271  0.049957  1.0  ['HNSC']  \n",
       "         8279  0.049957  1.0  ['HNSC']  \n",
       "         8274  0.049957  1.0  ['HNSC']  \n",
       "         8280  0.049957  1.0  ['HNSC']  \n",
       "\n",
       "[8281 rows x 8 columns]"
      ]
     },
     "execution_count": 40,
     "metadata": {},
     "output_type": "execute_result"
    }
   ],
   "source": [
    "crispr_result = FunctionalExamination(client,'SL', \"CRISPR\", gene_list, percentile_threshold, \n",
    "                                      cn_threshold, pval_correction,  fdr_level, list(tumor_type.value), input_mutations )\n",
    "try:\n",
    "    crispr_intermediate_report=crispr_result.loc[(crispr_result['PValue'] < p_threshold),]\n",
    "    crispr_report=crispr_intermediate_report.groupby('Inactive').apply(lambda x: x.sort_values('PValue'))\n",
    "except:\n",
    "    crispr_report=pd.DataFrame()\n",
    "    print(\"No results returned.\")\n",
    "crispr_report   "
   ]
  },
  {
   "cell_type": "markdown",
   "metadata": {},
   "source": [
    "**Inactive/Overactive** (para \"SL\" y para \"SDL\" respectivamente): El nombre del gen procedente de la lista de entrada.\n",
    "\n",
    "**InactiveDB/OveractiveDB**: El nombre del gen correspondiente en el conjunto de datos (Pan-Cancer Atlas).\n",
    "\n",
    "**SL_Candidate**: El par SL candidato del gen en la misma fila.  \n",
    "\n",
    "**#InactiveSamples**: El número de muestras inactivas.\n",
    "\n",
    "**#Samples**: El número total de muestras sobre las que se lleva a cabo el análisis. \n",
    "\n",
    "**PValue**: Los p-valores para la prueba unilateral pareada de Wilcoxon sobre los datos de esencialidad del gen CRISPR.\n",
    "\n",
    "**FDR**: Valor p corregido.\n",
    "\n",
    "**Tissue**: El/los tejido/s en el/los que se ha realizado el análisis."
   ]
  },
  {
   "cell_type": "code",
   "execution_count": 41,
   "metadata": {
    "tags": []
   },
   "outputs": [],
   "source": [
    "# Si quiere guardar esta tabla como un archivo de Excel, descomente (quite la #) y ejecute la siguiente línea de código.\n",
    "WriteToExcel(\"FunEx_CRISPR_SLoSDL_resultados.xlsx\", [crispr_report], [\"Resultados FunEx CRISPR\"])\n",
    "\n",
    "# El libro de Excel resultante se almacena en la misma carpeta en la que se ubica este flujo de trabajo; es decir, en este caso en \"Example_workflows\"."
   ]
  },
  {
   "cell_type": "markdown",
   "metadata": {},
   "source": [
    "#### 4.3.2. Módulo de inferencia de exámenes funcionales basado en ARNhc"
   ]
  },
  {
   "cell_type": "code",
   "execution_count": 42,
   "metadata": {
    "scrolled": true,
    "tags": []
   },
   "outputs": [
    {
     "name": "stdout",
     "output_type": "stream",
     "text": [
      "Sample size needs to be greater than 20, it is 20\n",
      "No results returned.\n"
     ]
    },
    {
     "data": {
      "text/html": [
       "<div>\n",
       "<style scoped>\n",
       "    .dataframe tbody tr th:only-of-type {\n",
       "        vertical-align: middle;\n",
       "    }\n",
       "\n",
       "    .dataframe tbody tr th {\n",
       "        vertical-align: top;\n",
       "    }\n",
       "\n",
       "    .dataframe thead th {\n",
       "        text-align: right;\n",
       "    }\n",
       "</style>\n",
       "<table border=\"1\" class=\"dataframe\">\n",
       "  <thead>\n",
       "    <tr style=\"text-align: right;\">\n",
       "      <th></th>\n",
       "    </tr>\n",
       "  </thead>\n",
       "  <tbody>\n",
       "  </tbody>\n",
       "</table>\n",
       "</div>"
      ],
      "text/plain": [
       "Empty DataFrame\n",
       "Columns: []\n",
       "Index: []"
      ]
     },
     "execution_count": 42,
     "metadata": {},
     "output_type": "execute_result"
    }
   ],
   "source": [
    "shRNA_result = FunctionalExamination(client, 'SL', \"shRNA\", gene_list , percentile_threshold, \\\n",
    "                                     cn_threshold, pval_correction,  fdr_level, list(tumor_type.value),input_mutations)\n",
    "try:\n",
    "    shRNA_intermediate_report=shRNA_result.loc[(shRNA_result['PValue'] < p_threshold),]\n",
    "    shRNA_report=shRNA_intermediate_report.groupby('Inactive').apply(lambda x: x.sort_values('PValue'))\n",
    "    \n",
    "except:\n",
    "    shRNA_report=pd.DataFrame()\n",
    "    print(\"No results returned.\")\n",
    "shRNA_report"
   ]
  },
  {
   "cell_type": "markdown",
   "metadata": {},
   "source": [
    "El mismo análisis/resultado que con el análisis de Examen Funcional CRISPR, excepto que se usa el conjunto de datos \"shRNA- gene dependency\"."
   ]
  },
  {
   "cell_type": "code",
   "execution_count": null,
   "metadata": {},
   "outputs": [],
   "source": [
    "# Si quiere almacenar esta tabla como un archivo de Excel, descomente (quite la #) y ejecute la siguiente línea de código.\n",
    "#WriteToExcel(\"FunEx_ARNhc_SLoSDL_resultados.xlsx\", [shRNA_report], [\"Resultados FunEx ARNhc\"])\n",
    "\n",
    "# El libro de Excel resultante se guarda en la misma carpeta en la que se localiza este flujo de trabajo; es decir, en este caso en \"Example_workflows\"."
   ]
  },
  {
   "cell_type": "markdown",
   "metadata": {},
   "source": [
    "## 5. Integración de resultados"
   ]
  },
  {
   "cell_type": "markdown",
   "metadata": {},
   "source": [
    "### 5.1. Integración de los resultados de coexpresión génica por pares del PanCanAtlas y de la CCLE\n",
    "Se efectúa la unión de los resultados del Pan-Cancer Atlas y de la CCLE."
   ]
  },
  {
   "cell_type": "code",
   "execution_count": 31,
   "metadata": {
    "scrolled": true,
    "tags": []
   },
   "outputs": [
    {
     "name": "stdout",
     "output_type": "stream",
     "text": [
      "No Result From Pairwise Co-expression Inference Procedure\n"
     ]
    },
    {
     "data": {
      "text/html": [
       "<div>\n",
       "<style scoped>\n",
       "    .dataframe tbody tr th:only-of-type {\n",
       "        vertical-align: middle;\n",
       "    }\n",
       "\n",
       "    .dataframe tbody tr th {\n",
       "        vertical-align: top;\n",
       "    }\n",
       "\n",
       "    .dataframe thead th {\n",
       "        text-align: right;\n",
       "    }\n",
       "</style>\n",
       "<table border=\"1\" class=\"dataframe\">\n",
       "  <thead>\n",
       "    <tr style=\"text-align: right;\">\n",
       "      <th></th>\n",
       "    </tr>\n",
       "  </thead>\n",
       "  <tbody>\n",
       "  </tbody>\n",
       "</table>\n",
       "</div>"
      ],
      "text/plain": [
       "Empty DataFrame\n",
       "Columns: []\n",
       "Index: []"
      ]
     },
     "execution_count": 31,
     "metadata": {},
     "output_type": "execute_result"
    }
   ],
   "source": [
    "try:\n",
    "    coexpression_result = UnionResults([coexp_pancancer_report, coexp_CCLE_report],'SL', ['FDR', 'FDR'],  list(tumor_type.value))\n",
    "    coexpression_result=coexpression_result.sort_values('Inactive')\n",
    "except:\n",
    "    coexpression_result=pd.DataFrame()\n",
    "    print(\"No Result From Pairwise Co-expression Inference Procedure\")\n",
    "    \n",
    "coexpression_result"
   ]
  },
  {
   "cell_type": "markdown",
   "metadata": {},
   "source": [
    "**Inactive**: El gen de entrada del usuario.\n",
    "\n",
    "**SL_Candidate/SDL_Candidate**: El par \"SL\" o \"SDL\" candidato. \n",
    "\n",
    "**p values or FDRs**: El valor p agregado o FDR obtenido con el método de Fisher.\n",
    "\n",
    "**Tissue**: El/los tejido/s en el/los que se ha realizado el análisis."
   ]
  },
  {
   "cell_type": "code",
   "execution_count": null,
   "metadata": {},
   "outputs": [],
   "source": [
    "# Con este código puede obtener un libro de Excel con solo los resultados de este método de inferencia. Si no le interesa, puede omitirlo.\n",
    "WriteToExcel(\"CEGP_SLoSDL_resultados.xlsx\", [coexpression_result], [\"Resultados CEGP\"])\n",
    "\n",
    "# Dicho archivo de Excel resultante se almacena en la misma carpeta en la que se ecuentra este flujo de trabajo; es decir, en este caso en \"Example_workflows\"."
   ]
  },
  {
   "cell_type": "markdown",
   "metadata": {},
   "source": [
    "### 5.2. Integración de los resultados de supervivencia del más apto del PanCanAtlas y de la CCLE\n",
    "Se realiza la unión de los resultados del Pan-Cancer Atlas y de la CCLE. "
   ]
  },
  {
   "cell_type": "code",
   "execution_count": 32,
   "metadata": {
    "tags": []
   },
   "outputs": [
    {
     "data": {
      "text/html": [
       "<div>\n",
       "<style scoped>\n",
       "    .dataframe tbody tr th:only-of-type {\n",
       "        vertical-align: middle;\n",
       "    }\n",
       "\n",
       "    .dataframe tbody tr th {\n",
       "        vertical-align: top;\n",
       "    }\n",
       "\n",
       "    .dataframe thead th {\n",
       "        text-align: right;\n",
       "    }\n",
       "</style>\n",
       "<table border=\"1\" class=\"dataframe\">\n",
       "  <thead>\n",
       "    <tr style=\"text-align: right;\">\n",
       "      <th></th>\n",
       "      <th>Inactive</th>\n",
       "      <th>SL_Candidate</th>\n",
       "      <th>FDR0</th>\n",
       "      <th>Tissue</th>\n",
       "    </tr>\n",
       "  </thead>\n",
       "  <tbody>\n",
       "    <tr>\n",
       "      <th>0</th>\n",
       "      <td>ACOT9</td>\n",
       "      <td>RPA4</td>\n",
       "      <td>0.000666</td>\n",
       "      <td>['HNSC']</td>\n",
       "    </tr>\n",
       "    <tr>\n",
       "      <th>73</th>\n",
       "      <td>ACOT9</td>\n",
       "      <td>XKRX</td>\n",
       "      <td>0.001382</td>\n",
       "      <td>['HNSC']</td>\n",
       "    </tr>\n",
       "    <tr>\n",
       "      <th>72</th>\n",
       "      <td>ACOT9</td>\n",
       "      <td>TRMT2B</td>\n",
       "      <td>0.001382</td>\n",
       "      <td>['HNSC']</td>\n",
       "    </tr>\n",
       "    <tr>\n",
       "      <th>71</th>\n",
       "      <td>ACOT9</td>\n",
       "      <td>NOX1</td>\n",
       "      <td>0.001382</td>\n",
       "      <td>['HNSC']</td>\n",
       "    </tr>\n",
       "    <tr>\n",
       "      <th>70</th>\n",
       "      <td>ACOT9</td>\n",
       "      <td>TMEM35</td>\n",
       "      <td>0.001382</td>\n",
       "      <td>['HNSC']</td>\n",
       "    </tr>\n",
       "    <tr>\n",
       "      <th>...</th>\n",
       "      <td>...</td>\n",
       "      <td>...</td>\n",
       "      <td>...</td>\n",
       "      <td>...</td>\n",
       "    </tr>\n",
       "    <tr>\n",
       "      <th>1684</th>\n",
       "      <td>SLC16A1</td>\n",
       "      <td>IFT80</td>\n",
       "      <td>0.039263</td>\n",
       "      <td>['HNSC']</td>\n",
       "    </tr>\n",
       "    <tr>\n",
       "      <th>1685</th>\n",
       "      <td>SLC16A1</td>\n",
       "      <td>KPNA4</td>\n",
       "      <td>0.040382</td>\n",
       "      <td>['HNSC']</td>\n",
       "    </tr>\n",
       "    <tr>\n",
       "      <th>1686</th>\n",
       "      <td>SLC16A1</td>\n",
       "      <td>GRK7</td>\n",
       "      <td>0.041920</td>\n",
       "      <td>['HNSC']</td>\n",
       "    </tr>\n",
       "    <tr>\n",
       "      <th>1676</th>\n",
       "      <td>SLC16A1</td>\n",
       "      <td>MIR5704</td>\n",
       "      <td>0.037818</td>\n",
       "      <td>['HNSC']</td>\n",
       "    </tr>\n",
       "    <tr>\n",
       "      <th>1713</th>\n",
       "      <td>SLC16A1</td>\n",
       "      <td>OTOL1</td>\n",
       "      <td>0.048882</td>\n",
       "      <td>['HNSC']</td>\n",
       "    </tr>\n",
       "  </tbody>\n",
       "</table>\n",
       "<p>1714 rows × 4 columns</p>\n",
       "</div>"
      ],
      "text/plain": [
       "     Inactive SL_Candidate      FDR0    Tissue\n",
       "0       ACOT9         RPA4  0.000666  ['HNSC']\n",
       "73      ACOT9         XKRX  0.001382  ['HNSC']\n",
       "72      ACOT9       TRMT2B  0.001382  ['HNSC']\n",
       "71      ACOT9         NOX1  0.001382  ['HNSC']\n",
       "70      ACOT9       TMEM35  0.001382  ['HNSC']\n",
       "...       ...          ...       ...       ...\n",
       "1684  SLC16A1        IFT80  0.039263  ['HNSC']\n",
       "1685  SLC16A1        KPNA4  0.040382  ['HNSC']\n",
       "1686  SLC16A1         GRK7  0.041920  ['HNSC']\n",
       "1676  SLC16A1      MIR5704  0.037818  ['HNSC']\n",
       "1713  SLC16A1        OTOL1  0.048882  ['HNSC']\n",
       "\n",
       "[1714 rows x 4 columns]"
      ]
     },
     "execution_count": 32,
     "metadata": {},
     "output_type": "execute_result"
    }
   ],
   "source": [
    "try:\n",
    "    sof_result = UnionResults([sof_ccle_report, sof_pancancer_report],  'SL', ['FDR', 'FDR'], list(tumor_type.value))\n",
    "    sof_result=sof_result.sort_values('Inactive')\n",
    "except:\n",
    "    sof_result=pd.DataFrame()\n",
    "    print(\"No Result From Survival of Fittest Inference Procedure\")\n",
    "sof_result    "
   ]
  },
  {
   "cell_type": "markdown",
   "metadata": {},
   "source": [
    "**Inactive**: El nombre del gen inactivo.\n",
    "\n",
    "**SL_Candidate/SDL_Candidate**: La pareja \"SL\" o \"SDL\" candidata. \n",
    "\n",
    "**p values or FDRs**: El p-valor agregado o FDR obtenido con la prueba de Fisher.\n",
    "\n",
    "**Tissue**: El/los tejido/s en el/los que se llevó a cabo el análisis."
   ]
  },
  {
   "cell_type": "code",
   "execution_count": 33,
   "metadata": {
    "tags": []
   },
   "outputs": [],
   "source": [
    "# Con este código puede obtener un libro de Excel con solo los resultados de este método de inferencia. \n",
    "# Si no le interesa, puede saltarlo.\n",
    "WriteToExcel(\"SoF_SLoSDL_resultados.xlsx\", [sof_result], [\"Resultados SoF\"])\n",
    "\n",
    "# Dicho archivo de Excel resultante se guarda en la misma carpeta en la que se ubica este flujo de trabajo; es decir, en este caso en \"Example_workflows\"."
   ]
  },
  {
   "cell_type": "markdown",
   "metadata": {},
   "source": [
    "### 5.3. Integración del módulo de inferencia de examen funcional basado CRISPR y en ARNhc.\n",
    "Informamos de la unión de los resultados de los conjuntos de datos basados en CRISPR y ARNhc. "
   ]
  },
  {
   "cell_type": "code",
   "execution_count": 34,
   "metadata": {
    "tags": []
   },
   "outputs": [
    {
     "data": {
      "text/html": [
       "<div>\n",
       "<style scoped>\n",
       "    .dataframe tbody tr th:only-of-type {\n",
       "        vertical-align: middle;\n",
       "    }\n",
       "\n",
       "    .dataframe tbody tr th {\n",
       "        vertical-align: top;\n",
       "    }\n",
       "\n",
       "    .dataframe thead th {\n",
       "        text-align: right;\n",
       "    }\n",
       "</style>\n",
       "<table border=\"1\" class=\"dataframe\">\n",
       "  <thead>\n",
       "    <tr style=\"text-align: right;\">\n",
       "      <th></th>\n",
       "      <th>Inactive</th>\n",
       "      <th>SL_Candidate</th>\n",
       "      <th>PValue0</th>\n",
       "      <th>Tissue</th>\n",
       "    </tr>\n",
       "  </thead>\n",
       "  <tbody>\n",
       "    <tr>\n",
       "      <th>0</th>\n",
       "      <td>ANGPT2</td>\n",
       "      <td>THAP6</td>\n",
       "      <td>0.000032</td>\n",
       "      <td>['HNSC']</td>\n",
       "    </tr>\n",
       "    <tr>\n",
       "      <th>681</th>\n",
       "      <td>ANGPT2</td>\n",
       "      <td>CEP152</td>\n",
       "      <td>0.034749</td>\n",
       "      <td>['HNSC']</td>\n",
       "    </tr>\n",
       "    <tr>\n",
       "      <th>682</th>\n",
       "      <td>ANGPT2</td>\n",
       "      <td>NRL</td>\n",
       "      <td>0.034749</td>\n",
       "      <td>['HNSC']</td>\n",
       "    </tr>\n",
       "    <tr>\n",
       "      <th>683</th>\n",
       "      <td>ANGPT2</td>\n",
       "      <td>OR51B5</td>\n",
       "      <td>0.034749</td>\n",
       "      <td>['HNSC']</td>\n",
       "    </tr>\n",
       "    <tr>\n",
       "      <th>684</th>\n",
       "      <td>ANGPT2</td>\n",
       "      <td>TPRG1L</td>\n",
       "      <td>0.034749</td>\n",
       "      <td>['HNSC']</td>\n",
       "    </tr>\n",
       "    <tr>\n",
       "      <th>...</th>\n",
       "      <td>...</td>\n",
       "      <td>...</td>\n",
       "      <td>...</td>\n",
       "      <td>...</td>\n",
       "    </tr>\n",
       "    <tr>\n",
       "      <th>3463</th>\n",
       "      <td>NOX4</td>\n",
       "      <td>MARK3</td>\n",
       "      <td>0.017503</td>\n",
       "      <td>['HNSC']</td>\n",
       "    </tr>\n",
       "    <tr>\n",
       "      <th>3464</th>\n",
       "      <td>NOX4</td>\n",
       "      <td>CLIC3</td>\n",
       "      <td>0.017503</td>\n",
       "      <td>['HNSC']</td>\n",
       "    </tr>\n",
       "    <tr>\n",
       "      <th>3465</th>\n",
       "      <td>NOX4</td>\n",
       "      <td>ZNF681</td>\n",
       "      <td>0.017503</td>\n",
       "      <td>['HNSC']</td>\n",
       "    </tr>\n",
       "    <tr>\n",
       "      <th>3443</th>\n",
       "      <td>NOX4</td>\n",
       "      <td>CARMIL2</td>\n",
       "      <td>0.015743</td>\n",
       "      <td>['HNSC']</td>\n",
       "    </tr>\n",
       "    <tr>\n",
       "      <th>3977</th>\n",
       "      <td>NOX4</td>\n",
       "      <td>SHPRH</td>\n",
       "      <td>0.047125</td>\n",
       "      <td>['HNSC']</td>\n",
       "    </tr>\n",
       "  </tbody>\n",
       "</table>\n",
       "<p>3978 rows × 4 columns</p>\n",
       "</div>"
      ],
      "text/plain": [
       "     Inactive SL_Candidate   PValue0    Tissue\n",
       "0      ANGPT2        THAP6  0.000032  ['HNSC']\n",
       "681    ANGPT2       CEP152  0.034749  ['HNSC']\n",
       "682    ANGPT2          NRL  0.034749  ['HNSC']\n",
       "683    ANGPT2       OR51B5  0.034749  ['HNSC']\n",
       "684    ANGPT2       TPRG1L  0.034749  ['HNSC']\n",
       "...       ...          ...       ...       ...\n",
       "3463     NOX4        MARK3  0.017503  ['HNSC']\n",
       "3464     NOX4        CLIC3  0.017503  ['HNSC']\n",
       "3465     NOX4       ZNF681  0.017503  ['HNSC']\n",
       "3443     NOX4      CARMIL2  0.015743  ['HNSC']\n",
       "3977     NOX4        SHPRH  0.047125  ['HNSC']\n",
       "\n",
       "[3978 rows x 4 columns]"
      ]
     },
     "execution_count": 34,
     "metadata": {},
     "output_type": "execute_result"
    }
   ],
   "source": [
    "try:\n",
    "    functional_screening_result = UnionResults([crispr_report, shRNA_report],'SL', ['PValue', 'PValue'], list(tumor_type.value))\n",
    "    functional_screening_result=functional_screening_result.sort_values('Inactive')\n",
    "    \n",
    "except:\n",
    "    functional_screening_result=pd.DataFrame()\n",
    "    print(\"No Result From Functional Examination Inference Procedure\")\n",
    "functional_screening_result    "
   ]
  },
  {
   "cell_type": "markdown",
   "metadata": {},
   "source": [
    "**Inactive**: El nombre del gen inactivo.\n",
    "\n",
    "**SL_Candidate/SDL_Candidate**: El par \"SL\" o \"SDL\" candidato.\n",
    "\n",
    "**p values or FDRs**: El valor p agregado o FDR obtenido con la prueba de Fisher.\n",
    "\n",
    "**Tissue**: El/los tejido/s en el/los que se efectuó el análisis."
   ]
  },
  {
   "cell_type": "code",
   "execution_count": 35,
   "metadata": {
    "tags": []
   },
   "outputs": [],
   "source": [
    "# Con este código puede obtener un libro de Excel con solo los resultados de este método de inferencia. \n",
    "# Si no le interesa, puede omitirlo.\n",
    "WriteToExcel(\"FunEx_SLoSDL_resultados.xlsx\", [functional_screening_result], [\"Resultados FunEx\"])\n",
    "\n",
    "# Dicho archivo de Excel resultante se almacena en la misma carpeta en la que se localiza este flujo de trabajo; es decir, en este caso en \"Example_workflows\"."
   ]
  },
  {
   "cell_type": "markdown",
   "metadata": {},
   "source": [
    "### 5.4. Fusión de los resultados de los tres procedimientos de inferencia\n",
    "La intersección de pares de \"SL\" de los distintos procedimientos de inferencia compone la lista final."
   ]
  },
  {
   "cell_type": "code",
   "execution_count": 36,
   "metadata": {
    "scrolled": true,
    "tags": []
   },
   "outputs": [
    {
     "name": "stdout",
     "output_type": "stream",
     "text": [
      "At least one of the inference procedure did not return results\n",
      "No SL pairs found by every pipeline\n",
      "No results found\n"
     ]
    },
    {
     "data": {
      "text/html": [
       "<div>\n",
       "<style scoped>\n",
       "    .dataframe tbody tr th:only-of-type {\n",
       "        vertical-align: middle;\n",
       "    }\n",
       "\n",
       "    .dataframe tbody tr th {\n",
       "        vertical-align: top;\n",
       "    }\n",
       "\n",
       "    .dataframe thead th {\n",
       "        text-align: right;\n",
       "    }\n",
       "</style>\n",
       "<table border=\"1\" class=\"dataframe\">\n",
       "  <thead>\n",
       "    <tr style=\"text-align: right;\">\n",
       "      <th></th>\n",
       "    </tr>\n",
       "  </thead>\n",
       "  <tbody>\n",
       "  </tbody>\n",
       "</table>\n",
       "</div>"
      ],
      "text/plain": [
       "Empty DataFrame\n",
       "Columns: []\n",
       "Index: []"
      ]
     },
     "execution_count": 36,
     "metadata": {},
     "output_type": "execute_result"
    }
   ],
   "source": [
    "try:\n",
    "    all_merged_results = MergeResults([coexpression_result, sof_result, functional_screening_result], 'SL',  list(tumor_type.value))\n",
    "    all_merged_results=all_merged_results.sort_values('Inactive')\n",
    "except:\n",
    "    all_merged_results=pd.DataFrame()\n",
    "    print(\"No results found\")\n",
    "all_merged_results"
   ]
  },
  {
   "cell_type": "markdown",
   "metadata": {},
   "source": [
    "**Inactive/Overactive**: El gen de entrada del usuario.\n",
    "\n",
    "\n",
    "**SL/SDL candidate**: La pareja \"SL/SDL\" inferida del gen en la misma fila."
   ]
  },
  {
   "cell_type": "markdown",
   "metadata": {},
   "source": [
    "Los resultados también pueden guardarse en un archivo de Excel, el cual aparecerá en la misma carpeta en la que se encuentra este flujo de trabajo; es decir, en este caso en \"Example_workflows\"."
   ]
  },
  {
   "cell_type": "code",
   "execution_count": null,
   "metadata": {},
   "outputs": [],
   "source": [
    "WriteToExcel(\"DAISY_SLoSDL_resultados.xlsx\", [all_merged_results], [\"Resultados finales\"])"
   ]
  }
 ],
 "metadata": {
  "environment": {
   "kernel": "conda-root-py",
   "name": "workbench-notebooks.m117",
   "type": "gcloud",
   "uri": "us-docker.pkg.dev/deeplearning-platform-release/gcr.io/workbench-notebooks:m117"
  },
  "kernelspec": {
   "display_name": "Python 3 (ipykernel)",
   "language": "python",
   "name": "python3"
  },
  "language_info": {
   "codemirror_mode": {
    "name": "ipython",
    "version": 3
   },
   "file_extension": ".py",
   "mimetype": "text/x-python",
   "name": "python",
   "nbconvert_exporter": "python",
   "pygments_lexer": "ipython3",
   "version": "3.11.5"
  }
 },
 "nbformat": 4,
 "nbformat_minor": 4
}
