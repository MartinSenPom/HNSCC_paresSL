{
 "cells": [
  {
   "cell_type": "markdown",
   "metadata": {},
   "source": [
    "# Búsqueda de parejas letales sintéticas basada en la conservación \n",
    "```\n",
    "Título original: Conservation-based Synthetic Lethal Pair Search\n",
    "Autor: Taek-Kyun Kim\n",
    "Creado: 02-07-2022\n",
    "Cuaderno de Jupyter traducido y modificado por Martín Sende Pombo.\n",
    "Fecha de modificación: 17-02-2024\n",
    "Propósito: Obtención de parejas letales sintéticas de los genes de la lista dada, mediante el cribado de levaduras y la información de homología entre humanos y levaduras.\n",
    "Notas: Según el autor puede ejecutarse en MyBinder.\n",
    "```\n",
    "[![Binder](https://mybinder.org/badge_logo.svg)](https://mybinder.org/v2/gh/isb-cgc/Community-Notebooks/HEAD?labpath=SL-Cloud%2FMyBinder_Authentication.ipynb)"
   ]
  },
  {
   "cell_type": "markdown",
   "metadata": {},
   "source": [
    "## Introducción\n",
    "### Justificación\n",
    "### Casos de uso:\n",
    "* Priorizar las interacciones letales sintéticas candidatas humanas basándose en pruebas previas de interacción en cribados de SL en levadura.\n",
    "* Descubrimiento de novo de interacciones SL.\n",
    "### Aproximación\n",
    "Este cuaderno vuelve a implementar el enfoque descrito por Srivas et al. (2016).\n",
    "### Utilización:\n",
    "Añada los genes de interés a la variable \"inputGenes\" y ejecute el siguiente paso.\n",
    "### Resumen del flujo de trabajo\n",
    "### Conjuntos de datos\n",
    "#### Interacciones letales sintéticas de la levadura\n",
    "Constanzo et al. (2016)\n",
    "#### Cartografía de ortólogos entre humanos y levadura\n",
    "En el cuaderno adjunto (Mapping human to yeast orthologs) se explica cómo se han descargado y guardado en tablas de Bigquery los datos del mapeo de ortólogos entre humanos y levadura.\n",
    "### References\n",
    "* Costanzo M, VanderSluis B, Koch EN, Baryshnikova A, Pons C, Tan G, Wang W, Usaj M, Hanchard J, Lee SD, Pelechano V, Styles EB, Billmann M, van Leeuwen J, van Dyk N, Lin ZY, Kuzmin E, Nelson J, Piotrowski JS, Srikumar T, Bahr S, Chen Y, Deshpande R, Kurat CF, Li SC, Li Z, Usaj MM, Okada H, Pascoe N, San Luis BJ, Sharifpoor S, Shuteriqi E, Simpkins SW, Snider J, Suresh HG, Tan Y, Zhu H, Malod-Dognin N, Janjic V, Przulj N, Troyanskaya OG, Stagljar I, Xia T, Ohya Y, Gingras AC, Raught B, Boutros M, Steinmetz LM, Moore CL, Rosebrock AP, Caudy AA, Myers CL, Andrews B, Boone C. **A global genetic interaction network maps a wiring diagram of cellular function.** Science. 2016 Sep 23;353(6306). pii: aaf1420. PubMed PMID: 27708008; PubMed Central PMCID: PMC5661885.\n",
    "* Srivas R, Shen JP, Yang CC, Sun SM, Li J, Gross AM, Jensen J, Licon K, Bojorquez-Gomez A, Klepper K, Huang J, Pekin D, Xu JL, Yeerna H, Sivaganesh V, Kollenstart L, van Attikum H, Aza-Blanc P, Sobol RW, Ideker T. **A Network of Conserved Synthetic Lethal Interactions for Exploration of Precision Cancer Therapy**. Mol Cell. 2016 Aug 4;63(3):514-25. doi:10.1016/j.molcel.2016.06.022.Epub 2016 Jul 21. PubMed PMID: 27453043; PubMed Central PMCID: PMC5209245. "
   ]
  },
  {
   "cell_type": "markdown",
   "metadata": {},
   "source": [
    "## Preámbulo\n",
    "Esta sección describe cómo configurar el entorno de análisis, incluida la autenticación de la plataforma en la nube de Google y la importación de todas las bibliotecas de Python necesarias."
   ]
  },
  {
   "cell_type": "markdown",
   "metadata": {},
   "source": [
    "### Configuración del entorno de análisis"
   ]
  },
  {
   "cell_type": "code",
   "execution_count": 1,
   "metadata": {
    "tags": []
   },
   "outputs": [
    {
     "name": "stdout",
     "output_type": "stream",
     "text": [
      "Requirement already satisfied: google-cloud-bigquery in /opt/conda/lib/python3.10/site-packages (3.17.2)\n",
      "Requirement already satisfied: google-api-core!=2.0.*,!=2.1.*,!=2.2.*,!=2.3.0,<3.0.0dev,>=1.31.5 in /opt/conda/lib/python3.10/site-packages (from google-cloud-bigquery) (2.17.1)\n",
      "Requirement already satisfied: google-cloud-core<3.0.0dev,>=1.6.0 in /opt/conda/lib/python3.10/site-packages (from google-cloud-bigquery) (2.4.1)\n",
      "Requirement already satisfied: google-resumable-media<3.0dev,>=0.6.0 in /opt/conda/lib/python3.10/site-packages (from google-cloud-bigquery) (2.7.0)\n",
      "Requirement already satisfied: packaging>=20.0.0 in /opt/conda/lib/python3.10/site-packages (from google-cloud-bigquery) (23.2)\n",
      "Requirement already satisfied: python-dateutil<3.0dev,>=2.7.2 in /opt/conda/lib/python3.10/site-packages (from google-cloud-bigquery) (2.8.2)\n",
      "Requirement already satisfied: requests<3.0.0dev,>=2.21.0 in /opt/conda/lib/python3.10/site-packages (from google-cloud-bigquery) (2.31.0)\n",
      "Requirement already satisfied: googleapis-common-protos<2.0.dev0,>=1.56.2 in /opt/conda/lib/python3.10/site-packages (from google-api-core!=2.0.*,!=2.1.*,!=2.2.*,!=2.3.0,<3.0.0dev,>=1.31.5->google-cloud-bigquery) (1.62.0)\n",
      "Requirement already satisfied: protobuf!=3.20.0,!=3.20.1,!=4.21.0,!=4.21.1,!=4.21.2,!=4.21.3,!=4.21.4,!=4.21.5,<5.0.0.dev0,>=3.19.5 in /opt/conda/lib/python3.10/site-packages (from google-api-core!=2.0.*,!=2.1.*,!=2.2.*,!=2.3.0,<3.0.0dev,>=1.31.5->google-cloud-bigquery) (3.20.3)\n",
      "Requirement already satisfied: google-auth<3.0.dev0,>=2.14.1 in /opt/conda/lib/python3.10/site-packages (from google-api-core!=2.0.*,!=2.1.*,!=2.2.*,!=2.3.0,<3.0.0dev,>=1.31.5->google-cloud-bigquery) (2.28.1)\n",
      "Requirement already satisfied: google-crc32c<2.0dev,>=1.0 in /opt/conda/lib/python3.10/site-packages (from google-resumable-media<3.0dev,>=0.6.0->google-cloud-bigquery) (1.5.0)\n",
      "Requirement already satisfied: six>=1.5 in /opt/conda/lib/python3.10/site-packages (from python-dateutil<3.0dev,>=2.7.2->google-cloud-bigquery) (1.16.0)\n",
      "Requirement already satisfied: charset-normalizer<4,>=2 in /opt/conda/lib/python3.10/site-packages (from requests<3.0.0dev,>=2.21.0->google-cloud-bigquery) (3.3.2)\n",
      "Requirement already satisfied: idna<4,>=2.5 in /opt/conda/lib/python3.10/site-packages (from requests<3.0.0dev,>=2.21.0->google-cloud-bigquery) (3.6)\n",
      "Requirement already satisfied: urllib3<3,>=1.21.1 in /opt/conda/lib/python3.10/site-packages (from requests<3.0.0dev,>=2.21.0->google-cloud-bigquery) (1.26.18)\n",
      "Requirement already satisfied: certifi>=2017.4.17 in /opt/conda/lib/python3.10/site-packages (from requests<3.0.0dev,>=2.21.0->google-cloud-bigquery) (2024.2.2)\n",
      "Requirement already satisfied: cachetools<6.0,>=2.0.0 in /opt/conda/lib/python3.10/site-packages (from google-auth<3.0.dev0,>=2.14.1->google-api-core!=2.0.*,!=2.1.*,!=2.2.*,!=2.3.0,<3.0.0dev,>=1.31.5->google-cloud-bigquery) (5.3.2)\n",
      "Requirement already satisfied: pyasn1-modules>=0.2.1 in /opt/conda/lib/python3.10/site-packages (from google-auth<3.0.dev0,>=2.14.1->google-api-core!=2.0.*,!=2.1.*,!=2.2.*,!=2.3.0,<3.0.0dev,>=1.31.5->google-cloud-bigquery) (0.3.0)\n",
      "Requirement already satisfied: rsa<5,>=3.1.4 in /opt/conda/lib/python3.10/site-packages (from google-auth<3.0.dev0,>=2.14.1->google-api-core!=2.0.*,!=2.1.*,!=2.2.*,!=2.3.0,<3.0.0dev,>=1.31.5->google-cloud-bigquery) (4.9)\n",
      "Requirement already satisfied: pyasn1<0.6.0,>=0.4.6 in /opt/conda/lib/python3.10/site-packages (from pyasn1-modules>=0.2.1->google-auth<3.0.dev0,>=2.14.1->google-api-core!=2.0.*,!=2.1.*,!=2.2.*,!=2.3.0,<3.0.0dev,>=1.31.5->google-cloud-bigquery) (0.5.1)\n",
      "Requirement already satisfied: matplotlib in /opt/conda/lib/python3.10/site-packages (3.8.3)\n",
      "Requirement already satisfied: contourpy>=1.0.1 in /opt/conda/lib/python3.10/site-packages (from matplotlib) (1.2.0)\n",
      "Requirement already satisfied: cycler>=0.10 in /opt/conda/lib/python3.10/site-packages (from matplotlib) (0.12.1)\n",
      "Requirement already satisfied: fonttools>=4.22.0 in /opt/conda/lib/python3.10/site-packages (from matplotlib) (4.48.1)\n",
      "Requirement already satisfied: kiwisolver>=1.3.1 in /opt/conda/lib/python3.10/site-packages (from matplotlib) (1.4.5)\n",
      "Requirement already satisfied: numpy<2,>=1.21 in /opt/conda/lib/python3.10/site-packages (from matplotlib) (1.25.2)\n",
      "Requirement already satisfied: packaging>=20.0 in /opt/conda/lib/python3.10/site-packages (from matplotlib) (23.2)\n",
      "Requirement already satisfied: pillow>=8 in /opt/conda/lib/python3.10/site-packages (from matplotlib) (10.2.0)\n",
      "Requirement already satisfied: pyparsing>=2.3.1 in /opt/conda/lib/python3.10/site-packages (from matplotlib) (3.1.1)\n",
      "Requirement already satisfied: python-dateutil>=2.7 in /opt/conda/lib/python3.10/site-packages (from matplotlib) (2.8.2)\n",
      "Requirement already satisfied: six>=1.5 in /opt/conda/lib/python3.10/site-packages (from python-dateutil>=2.7->matplotlib) (1.16.0)\n",
      "Requirement already satisfied: plotly in /opt/conda/lib/python3.10/site-packages (5.18.0)\n",
      "Requirement already satisfied: tenacity>=6.2.0 in /opt/conda/lib/python3.10/site-packages (from plotly) (8.2.3)\n",
      "Requirement already satisfied: packaging in /opt/conda/lib/python3.10/site-packages (from plotly) (23.2)\n",
      "Requirement already satisfied: scipy in /opt/conda/lib/python3.10/site-packages (1.11.4)\n",
      "Requirement already satisfied: numpy<1.28.0,>=1.21.6 in /opt/conda/lib/python3.10/site-packages (from scipy) (1.25.2)\n",
      "Requirement already satisfied: statsmodels in /opt/conda/lib/python3.10/site-packages (0.14.1)\n",
      "Requirement already satisfied: numpy<2,>=1.18 in /opt/conda/lib/python3.10/site-packages (from statsmodels) (1.25.2)\n",
      "Requirement already satisfied: scipy!=1.9.2,>=1.4 in /opt/conda/lib/python3.10/site-packages (from statsmodels) (1.11.4)\n",
      "Requirement already satisfied: pandas!=2.1.0,>=1.0 in /opt/conda/lib/python3.10/site-packages (from statsmodels) (2.2.0)\n",
      "Requirement already satisfied: patsy>=0.5.4 in /opt/conda/lib/python3.10/site-packages (from statsmodels) (0.5.6)\n",
      "Requirement already satisfied: packaging>=21.3 in /opt/conda/lib/python3.10/site-packages (from statsmodels) (23.2)\n",
      "Requirement already satisfied: python-dateutil>=2.8.2 in /opt/conda/lib/python3.10/site-packages (from pandas!=2.1.0,>=1.0->statsmodels) (2.8.2)\n",
      "Requirement already satisfied: pytz>=2020.1 in /opt/conda/lib/python3.10/site-packages (from pandas!=2.1.0,>=1.0->statsmodels) (2024.1)\n",
      "Requirement already satisfied: tzdata>=2022.7 in /opt/conda/lib/python3.10/site-packages (from pandas!=2.1.0,>=1.0->statsmodels) (2024.1)\n",
      "Requirement already satisfied: six in /opt/conda/lib/python3.10/site-packages (from patsy>=0.5.4->statsmodels) (1.16.0)\n",
      "Requirement already satisfied: ipywidgets in /opt/conda/lib/python3.10/site-packages (8.1.2)\n",
      "Requirement already satisfied: comm>=0.1.3 in /opt/conda/lib/python3.10/site-packages (from ipywidgets) (0.2.1)\n",
      "Requirement already satisfied: ipython>=6.1.0 in /opt/conda/lib/python3.10/site-packages (from ipywidgets) (8.21.0)\n",
      "Requirement already satisfied: traitlets>=4.3.1 in /opt/conda/lib/python3.10/site-packages (from ipywidgets) (5.14.1)\n",
      "Requirement already satisfied: widgetsnbextension~=4.0.10 in /opt/conda/lib/python3.10/site-packages (from ipywidgets) (4.0.10)\n",
      "Requirement already satisfied: jupyterlab-widgets~=3.0.10 in /opt/conda/lib/python3.10/site-packages (from ipywidgets) (3.0.10)\n",
      "Requirement already satisfied: decorator in /opt/conda/lib/python3.10/site-packages (from ipython>=6.1.0->ipywidgets) (5.1.1)\n",
      "Requirement already satisfied: jedi>=0.16 in /opt/conda/lib/python3.10/site-packages (from ipython>=6.1.0->ipywidgets) (0.19.1)\n",
      "Requirement already satisfied: matplotlib-inline in /opt/conda/lib/python3.10/site-packages (from ipython>=6.1.0->ipywidgets) (0.1.6)\n",
      "Requirement already satisfied: prompt-toolkit<3.1.0,>=3.0.41 in /opt/conda/lib/python3.10/site-packages (from ipython>=6.1.0->ipywidgets) (3.0.42)\n",
      "Requirement already satisfied: pygments>=2.4.0 in /opt/conda/lib/python3.10/site-packages (from ipython>=6.1.0->ipywidgets) (2.17.2)\n",
      "Requirement already satisfied: stack-data in /opt/conda/lib/python3.10/site-packages (from ipython>=6.1.0->ipywidgets) (0.6.2)\n",
      "Requirement already satisfied: exceptiongroup in /opt/conda/lib/python3.10/site-packages (from ipython>=6.1.0->ipywidgets) (1.2.0)\n",
      "Requirement already satisfied: pexpect>4.3 in /opt/conda/lib/python3.10/site-packages (from ipython>=6.1.0->ipywidgets) (4.9.0)\n",
      "Requirement already satisfied: parso<0.9.0,>=0.8.3 in /opt/conda/lib/python3.10/site-packages (from jedi>=0.16->ipython>=6.1.0->ipywidgets) (0.8.3)\n",
      "Requirement already satisfied: ptyprocess>=0.5 in /opt/conda/lib/python3.10/site-packages (from pexpect>4.3->ipython>=6.1.0->ipywidgets) (0.7.0)\n",
      "Requirement already satisfied: wcwidth in /opt/conda/lib/python3.10/site-packages (from prompt-toolkit<3.1.0,>=3.0.41->ipython>=6.1.0->ipywidgets) (0.2.13)\n",
      "Requirement already satisfied: executing>=1.2.0 in /opt/conda/lib/python3.10/site-packages (from stack-data->ipython>=6.1.0->ipywidgets) (2.0.1)\n",
      "Requirement already satisfied: asttokens>=2.1.0 in /opt/conda/lib/python3.10/site-packages (from stack-data->ipython>=6.1.0->ipywidgets) (2.4.1)\n",
      "Requirement already satisfied: pure-eval in /opt/conda/lib/python3.10/site-packages (from stack-data->ipython>=6.1.0->ipywidgets) (0.2.2)\n",
      "Requirement already satisfied: six>=1.12.0 in /opt/conda/lib/python3.10/site-packages (from asttokens>=2.1.0->stack-data->ipython>=6.1.0->ipywidgets) (1.16.0)\n"
     ]
    }
   ],
   "source": [
    "# Este bloque de código instala las dependencias necesarias. Por favor, ejecútelo solo una vez, la primera ocasión que ejecute este cuaderno.\n",
    "# Por favor, no lo ejecute si está corriendo el cuaderno en MyBinder.\n",
    "\n",
    "!pip3 install google-cloud-bigquery\n",
    "!pip3 install matplotlib\n",
    "!pip3 install plotly\n",
    "!pip3 install scipy\n",
    "!pip3 install statsmodels\n",
    "!pip3 install ipywidgets"
   ]
  },
  {
   "cell_type": "code",
   "execution_count": 2,
   "metadata": {
    "tags": []
   },
   "outputs": [],
   "source": [
    "# Importación de los módulos\n",
    "from google.cloud import bigquery\n",
    "import sys\n",
    "import matplotlib.pyplot as plt\n",
    "import pandas as pd\n",
    "import scipy\n",
    "from scipy import stats \n",
    "import numpy as np\n",
    "import json\n",
    "import statsmodels.stats.multitest as multi\n",
    "import matplotlib.pyplot as plt\n",
    "import math\n",
    "import ipywidgets as widgets\n",
    "import plotly\n",
    "import plotly.express as px\n",
    "import pyarrow\n"
   ]
  },
  {
   "cell_type": "markdown",
   "metadata": {},
   "source": [
    "### Autentificación de Google\n",
    "Ejecutar las celdas de BigQuery en este cuaderno requiere un proyecto de Google Cloud y las instrucciones para crear uno pueden encontrarse en la [documentación de Google](https://cloud.google.com/resource-manager/docs/creating-managing-projects#console). Además, la instancia debe estar autorizada para facturar las consultas del proyecto.\n",
    "Para más información sobre cómo iniciarse en la nube, consulte ['Quick Start Guide to ISB-CGC'](https://isb-cancer-genomics-cloud.readthedocs.io/en/latest/sections/HowToGetStartedonISB-CGC.html). Asimismo, puede localizar métodos de autenticación alternativos en la [documentación de Google](https://googleapis.dev/python/google-api-core/latest/auth.html)."
   ]
  },
  {
   "cell_type": "markdown",
   "metadata": {},
   "source": [
    "#### * Si está ejecutando este cuaderno en un entorno de máquina virtual de Google (Compute Engine, App Engine, Cloud Run, Cloud Functions): \n",
    "La autenticación debería \"simplemente funcionar\"."
   ]
  },
  {
   "cell_type": "markdown",
   "metadata": {
    "jp-MarkdownHeadingCollapsed": true,
    "tags": []
   },
   "source": [
    "#### * Si la ejecución se realiza en un entorno local: \n",
    "La forma más sencilla de autenticarse es emplear el SDK de Google Cloud."
   ]
  },
  {
   "cell_type": "code",
   "execution_count": null,
   "metadata": {
    "scrolled": true
   },
   "outputs": [],
   "source": [
    "#Por favor, no ejecute este bloque de código si está corriendo el cuaderno en MyBinder.\n",
    "#Los usuarios deben ejecutar el siguiente comando en su máquina local o a través del cuaderno.\n",
    "#Asegúrese de instalar la nube de Google en el entorno local. Para más detalles sobre la instalación de gcloud, consulte el soporte en https://cloud.google.com/sdk/docs/install\n",
    "\n",
    "!gcloud auth application-default login"
   ]
  },
  {
   "cell_type": "markdown",
   "metadata": {},
   "source": [
    "###"
   ]
  },
  {
   "cell_type": "code",
   "execution_count": 3,
   "metadata": {
    "tags": []
   },
   "outputs": [],
   "source": [
    "# Sustituya syntheticlethality por el ID de su proyecto\n",
    "project_id='crucial-minutia-407312'\n",
    "client = bigquery.Client(project_id) "
   ]
  },
  {
   "cell_type": "code",
   "execution_count": 4,
   "metadata": {
    "tags": []
   },
   "outputs": [
    {
     "name": "stdout",
     "output_type": "stream",
     "text": [
      "The google.cloud.bigquery extension is already loaded. To reload it, use:\n",
      "  %reload_ext google.cloud.bigquery\n"
     ]
    }
   ],
   "source": [
    "%load_ext google.cloud.bigquery"
   ]
  },
  {
   "cell_type": "code",
   "execution_count": 5,
   "metadata": {
    "tags": []
   },
   "outputs": [],
   "source": [
    "# Para utilizar su propia lista de genes, cópiela en la carpeta \"Listas_genes\" y reemplace el nombre del archivo_actual (\"Genes_AmiGO2_ruta_biosintesis_NAD.txt\") por el del suyo.\n",
    "# Abrir el archivo de genes\n",
    "archivo_actual = 'Listas_genes/Genes_sobreexpresados_UALCAN_HNSC.txt'\n",
    "with open(archivo_actual, 'r') as file:\n",
    "    # Leer las líneas del archivo y eliminar los espacios en blanco al principio y al final de cada línea\n",
    "    genes = [line.strip() for line in file.readlines()]\n",
    "\n",
    "# Unir los genes en una sola cadena utilizando comillas simples y separados por comas\n",
    "inputGenes = ','.join([f\"'{gene}'\" for gene in genes])"
   ]
  },
  {
   "cell_type": "code",
   "execution_count": 6,
   "metadata": {
    "tags": []
   },
   "outputs": [
    {
     "data": {
      "text/plain": [
       "\"'CA9','MMP11','INHBA','MMP9','HOXD11','MMP12','ADAM12','LAMC2','HOXB7','ISG15','POSTN','AIM2','CDKN2A','MMP1','PTHLH','TGFBI','COL5A2','TM4SF19','COL5A1','COL1A1','NELL2','MMP3','FN1','IFI6','PCSK9','MFAP2','LOXL2','CXCL10','SERPINE1','MMP10','COL4A6','CTHRC1','LAMA3','COL12A1','CXCL13','ENO2','FST','C1QTNF6','GBP5','C7orf10','LEPREL1','COL3A1','COL4A1','SPP1','BST2','OASL','COL1A2','UCHL1','PLAU','FAP','IGF2BP2','RSAD2','CHST2','COL6A3','LY6K','NRG1','ANO1','NXPH4','COL7A1','ITGA5','CXCL9','AMIGO2','SULF1','ODZ2','SERPINH1','FSTL3','COL5A3','PMEPA1','IFIT1','MYBL2','COL4A2','COL4A5','DFNA5','RPL39L','IFIT3','COL27A1','COL6A1','IFI44','FEZ1','TNC','RBP1','PDPN','GREM1','IFI27','FOXM1','IDO1','NETO2','CHST11','PKMYT1','CDCA5','CDH11','PXDN','AKR1C1','EPSTI1','AKR1C3','NID1','BIRC5','TROAP','MCM2','SPARC','ITGA6','ADAM8','ALG1L','RFC4','CSPG4','CDC45','SOCS1','USP18','DCBLD1','LUM','PLEK2','CDC6','CENPA','KIF2C','GNLY','NPNT','ODC1','FADS3','AURKB','TK1','CTSL2','CEP55','UBE2C','FADD','MICAL2','TPX2','LAMB3','CCL5','FKBP10','ORC6L','APOBEC3B','SC65','KIF4A','XAF1','SLC15A3','LTBP1','CD276','TRIP13','BMP1','CDCA3','GTSE1','PHLDB2','WARS','AURKA','VAV2','TREM2','LEPRE1','CERCAM','ECT2','RCN3','C16orf74','NDC80','TTYH3','CAV1','THBS2','C16orf75','PLOD3','MELK','SLC2A1','SNAI2','UBE2S','TUBB3','OAS2','UHRF1','PLK1','PGF','HIST1H2BK','WDR66','SLC7A8','HOMER3','FSCN1','KYNU','NEK2','ITGA3','CDC20','SPAG5','KLF7','GPNMB','PROCR','NUF2','LPCAT1','TRAM2','ARSI','CDKN3','LAMP3','PLOD2','COL17A1','ATAD2','ASF1B','VCAN','DDX60','MYO1B','C6orf150','FCGR3A','MSC','PTK7','TMEM132A','GINS2','SLC38A5','TGFB1','APOL1','AGRN','ADA','COL6A2','COL16A1','BGN','EPR1','RAC2','TNFRSF18','NT5E','OAS3','IL8','PPFIA1','IQCG','IFI35','ORAOV1','CCNB2','PRKCDBP','BASP1','CDCA8','ULBP2','PSMB9','DDX58','CCL20','NCAPH','UBE2T','DLGAP5','AKR1C2','CDT1','AEBP1','BUB1','IL1B','EIF2AK2','MMP14','DCBLD2','C5orf13','GLT25D1','ATHL1','PRR11','KIF23','GINS1','LGALS1','CKS1B','TOP2A','PLOD1','RAD51','KRT17','CHTF18','CENPF','MMP28'\""
      ]
     },
     "execution_count": 6,
     "metadata": {},
     "output_type": "execute_result"
    }
   ],
   "source": [
    "# Opcionalmente puede ejecutarse este bloque de código, para verificar que la lista de genes se ha almacenado correctamente y que tiene el formato adecuado.\n",
    "inputGenes\n",
    "# Si el resultado es el esperado, \"'GENE1', 'GENE2', ... 'GENEn'\", entoces puede proseguir con el el siguiente paso."
   ]
  },
  {
   "cell_type": "code",
   "execution_count": 16,
   "metadata": {
    "tags": []
   },
   "outputs": [
    {
     "data": {
      "text/plain": [
       "\"'DDX3X','DICER1','DROSHA','TNFRSF14','TRAF7','TSC1','POLG','FBXO11','PRDM1','RFWD3','AMER1','LZTR1','ATP2B3'\""
      ]
     },
     "execution_count": 16,
     "metadata": {},
     "output_type": "execute_result"
    }
   ],
   "source": [
    "# Alternativamente, aunque solo se recomienda si su lista de genes es breve, puede introducir manualmente los genes cambiando el siguiente ejemplo: \n",
    "inputGenes = [\"DDX3X\",\"DICER1\",\"DROSHA\",\"TNFRSF14\",\"TRAF7\",\"TSC1\",'POLG',\n",
    "              \"FBXO11\",\"PRDM1\",\"RFWD3\",\"AMER1\",\"LZTR1\",\"ATP2B3\"]\n",
    "inputGenes = [\"'\"+x+\"'\" for x in inputGenes]\n",
    "inputGenes = ','.join(inputGenes)\n",
    "inputGenes"
   ]
  },
  {
   "cell_type": "markdown",
   "metadata": {},
   "source": [
    "## Mapear ortólogos de levadura y obtener insteracciones SL\n",
    "Para inferir las interacciones genéticas, se compara el crecimiento de las colonias de cepas doblemente mutantes con el de las cepas mutantes simples como medida de la aptitud del organismo debido a la esencialidad de los genes. Si la viabilidad celular de una colonia de mutantes dobles es mayor o menor que la de dos mutantes simples, se deducen interacciones genéticas positivas o negativas utilizando una métrica cuantitativa de fitness o puntuación genérica de interacción. Las interacciones letales sintéticas se definen como las interacciones genéticas con puntuaciones negativas bajas (< -0,35) en el extremo de la distribución de puntuaciones de interacción. Aprovechando este conjunto de datos, mapeamos genes de levadura con genes humanos utilizando información ortológica levadura-humano para identificar presuntos pares letales sintéticos humanos conservados. Los parámetros configurables son los siguientes:"
   ]
  },
  {
   "cell_type": "markdown",
   "metadata": {},
   "source": [
    "Encontrar las parejas letales sintéticas de los genes de la lista proporcionada.\n",
    "\n",
    "**Parámetros:**\n",
    "\n",
    "**cutoff_algorithmMatchNo**: es el umbral mínimo de coincidencia deseado para que una comparación de genes levadura-humano se considere un ortólogo.\n",
    "\n",
    "**cutoff_score**: el límite deseado de la métrica de aptitud cuantitativa. El valor predeterminado es (< 0,35), que corresponde a la cola izquierda de la distribución (<-0,35).\n",
    "\n",
    "**cutoff_p**: el umbral de significación deseado. El valor por defecto es p < 0,05.\n"
   ]
  },
  {
   "cell_type": "code",
   "execution_count": 7,
   "metadata": {
    "tags": []
   },
   "outputs": [],
   "source": [
    "sql = '''\n",
    "WITH\n",
    "--- Retrieve YeastSymbols mapped to HumanSymbols for the input genes\n",
    "INPUT_H2Y AS (\n",
    "  SELECT YeastSymbol\n",
    "    FROM `isb-cgc-bq.annotations_versioned.Human2Yeast_mapping_Alliance_for_Genome_Resources_R3_0_1`\n",
    "    \n",
    "   WHERE HumanSymbol IN (__INPUTGENES__) AND\n",
    "         AlgorithmsMatch >= __ALGORITHMCUTOFF__\n",
    "),\n",
    "\n",
    "--- Identify protein-protein interactions using the YeastSymbols (left match)\n",
    "Yeast_ITX1 AS (\n",
    "  SELECT UPPER(Query_allele_name)       AS Interactor1, \n",
    "         UPPER(Array_allele_name)       AS Interactor2,\n",
    "         Genetic_interaction_score_____ AS Interaction_score,\n",
    "         P_value\n",
    "    FROM `isb-cgc-bq.supplementary_tables.Constanzo_etal_Science_2016_SGA_Genetic_Interactions`\n",
    "   WHERE (Genetic_interaction_score_____ < __SCORECUTOFF__ AND P_value < __PvalueCUTOFF__) AND\n",
    "         (UPPER(Query_allele_name) IN (SELECT YeastSymbol FROM INPUT_H2Y))\n",
    "   \n",
    "),\n",
    "\n",
    "--- Identify protein-protein interactions using the YeastSymbols (right match)\n",
    "Yeast_ITX2 AS (\n",
    "  SELECT UPPER(Array_allele_name)       AS Interactor1, \n",
    "         UPPER(Query_allele_name)       AS Interactor2,\n",
    "         Genetic_interaction_score_____ AS Interaction_score,\n",
    "         P_value\n",
    "    FROM `isb-cgc-bq.supplementary_tables.Constanzo_etal_Science_2016_SGA_Genetic_Interactions`\n",
    "   WHERE (Genetic_interaction_score_____ < __SCORECUTOFF__ AND P_value < __PvalueCUTOFF__) AND\n",
    "         (UPPER(Array_allele_name) IN (SELECT YeastSymbol FROM INPUT_H2Y))\n",
    "   \n",
    "),\n",
    "\n",
    "--- Union interaction tables\n",
    "Union_ITX AS (\n",
    "  SELECT * FROM Yeast_ITX1\n",
    "   UNION ALL\n",
    "  SELECT * FROM Yeast_ITX2\n",
    ")\n",
    "\n",
    "--- Convert YeastSymbols to HumanSymbols in the protein-protein interations\n",
    "SELECT DISTINCT \n",
    "       GINFO1.EntrezID        AS EntrezID_Input,\n",
    "       H2Y1.HumanSymbol       AS Gene_Input,\n",
    "---       Add if you want to know what yeast genes are involved\n",
    "---       YITX.Interactor1       AS Gene_Input_Yeast,\n",
    "       GINFO2.EntrezID        AS EntrezID_SL_Candidate,\n",
    "       H2Y2.HumanSymbol       AS Gene_SL_Candidate,\n",
    "---       Add if you want to know what yeast genes are involved\n",
    "---       YITX.Interactor2       AS Gene_SL_Candidate_Yeast,\n",
    "       YITX.Interaction_score AS Interaction_score,\n",
    "       YITX.P_value           AS P_value\n",
    "       \n",
    "  FROM Union_ITX AS YITX\n",
    "       LEFT JOIN `isb-cgc-bq.annotations_versioned.Human2Yeast_mapping_Alliance_for_Genome_Resources_R3_0_1`                      AS H2Y1   ON YITX.Interactor1 = H2Y1.YeastSymbol\n",
    "       LEFT JOIN `isb-cgc-bq.annotations_versioned.Human2Yeast_mapping_Alliance_for_Genome_Resources_R3_0_1`                      AS H2Y2   ON YITX.Interactor2 = H2Y2.YeastSymbol\n",
    "       LEFT JOIN `isb-cgc-bq.synthetic_lethality.gene_info_human_HGNC_NCBI_2020_07` AS GINFO1 ON H2Y1.HumanID = GINFO1.HGNCID\n",
    "       LEFT JOIN  `isb-cgc-bq.synthetic_lethality.gene_info_human_HGNC_NCBI_2020_07` AS GINFO2 ON H2Y2.HumanID = GINFO2.HGNCID\n",
    "       \n",
    " WHERE (H2Y1.HumanSymbol IS NOT NULL AND YITX.Interactor1 IS NOT NULL) AND\n",
    "       (H2Y2.HumanSymbol IS NOT NULL AND YITX.Interactor2 IS NOT NULL)\n",
    "\n",
    "'''\n",
    "# Seleccione los umbrales a utilizar\n",
    "cutoff_algorithmMatchNo = \"3\"\n",
    "cutoff_score = \"-0.35\"\n",
    "cutoff_p = \"0.01\"\n",
    "\n",
    "sql = sql.replace(\"__INPUTGENES__\", inputGenes)\n",
    "sql = sql.replace(\"__ALGORITHMCUTOFF__\", cutoff_algorithmMatchNo)\n",
    "sql = sql.replace(\"__SCORECUTOFF__\", cutoff_score)\n",
    "sql = sql.replace(\"__PvalueCUTOFF__\", cutoff_p)\n",
    "\n",
    "res = client.query(sql).to_dataframe()"
   ]
  },
  {
   "cell_type": "markdown",
   "metadata": {},
   "source": [
    "## Get Yeast SL Interactions"
   ]
  },
  {
   "cell_type": "code",
   "execution_count": 8,
   "metadata": {
    "scrolled": true,
    "tags": []
   },
   "outputs": [
    {
     "data": {
      "text/html": [
       "<div>\n",
       "<style scoped>\n",
       "    .dataframe tbody tr th:only-of-type {\n",
       "        vertical-align: middle;\n",
       "    }\n",
       "\n",
       "    .dataframe tbody tr th {\n",
       "        vertical-align: top;\n",
       "    }\n",
       "\n",
       "    .dataframe thead th {\n",
       "        text-align: right;\n",
       "    }\n",
       "</style>\n",
       "<table border=\"1\" class=\"dataframe\">\n",
       "  <thead>\n",
       "    <tr style=\"text-align: right;\">\n",
       "      <th></th>\n",
       "      <th>EntrezID_Input</th>\n",
       "      <th>Gene_Input</th>\n",
       "      <th>EntrezID_SL_Candidate</th>\n",
       "      <th>Gene_SL_Candidate</th>\n",
       "      <th>Interaction_score</th>\n",
       "      <th>P_value</th>\n",
       "    </tr>\n",
       "  </thead>\n",
       "  <tbody>\n",
       "    <tr>\n",
       "      <th>0</th>\n",
       "      <td>4751</td>\n",
       "      <td>NEK2</td>\n",
       "      <td>891</td>\n",
       "      <td>CCNB1</td>\n",
       "      <td>-0.5950</td>\n",
       "      <td>6.059000e-19</td>\n",
       "    </tr>\n",
       "    <tr>\n",
       "      <th>1</th>\n",
       "      <td>4751</td>\n",
       "      <td>NEK2</td>\n",
       "      <td>9133</td>\n",
       "      <td>CCNB2</td>\n",
       "      <td>-0.5950</td>\n",
       "      <td>6.059000e-19</td>\n",
       "    </tr>\n",
       "    <tr>\n",
       "      <th>2</th>\n",
       "      <td>63922</td>\n",
       "      <td>CHTF18</td>\n",
       "      <td>51371</td>\n",
       "      <td>POMP</td>\n",
       "      <td>-0.3510</td>\n",
       "      <td>1.728000e-47</td>\n",
       "    </tr>\n",
       "    <tr>\n",
       "      <th>3</th>\n",
       "      <td>891</td>\n",
       "      <td>CCNB1</td>\n",
       "      <td>292</td>\n",
       "      <td>SLC25A5</td>\n",
       "      <td>-0.4290</td>\n",
       "      <td>1.705000e-03</td>\n",
       "    </tr>\n",
       "    <tr>\n",
       "      <th>4</th>\n",
       "      <td>891</td>\n",
       "      <td>CCNB1</td>\n",
       "      <td>291</td>\n",
       "      <td>SLC25A4</td>\n",
       "      <td>-0.4290</td>\n",
       "      <td>1.705000e-03</td>\n",
       "    </tr>\n",
       "    <tr>\n",
       "      <th>...</th>\n",
       "      <td>...</td>\n",
       "      <td>...</td>\n",
       "      <td>...</td>\n",
       "      <td>...</td>\n",
       "      <td>...</td>\n",
       "      <td>...</td>\n",
       "    </tr>\n",
       "    <tr>\n",
       "      <th>615</th>\n",
       "      <td>6545</td>\n",
       "      <td>SLC7A4</td>\n",
       "      <td>5723</td>\n",
       "      <td>PSPH</td>\n",
       "      <td>-0.6843</td>\n",
       "      <td>0.000000e+00</td>\n",
       "    </tr>\n",
       "    <tr>\n",
       "      <th>616</th>\n",
       "      <td>6542</td>\n",
       "      <td>SLC7A2</td>\n",
       "      <td>5723</td>\n",
       "      <td>PSPH</td>\n",
       "      <td>-0.6843</td>\n",
       "      <td>0.000000e+00</td>\n",
       "    </tr>\n",
       "    <tr>\n",
       "      <th>617</th>\n",
       "      <td>6541</td>\n",
       "      <td>SLC7A1</td>\n",
       "      <td>5723</td>\n",
       "      <td>PSPH</td>\n",
       "      <td>-0.6843</td>\n",
       "      <td>0.000000e+00</td>\n",
       "    </tr>\n",
       "    <tr>\n",
       "      <th>618</th>\n",
       "      <td>57709</td>\n",
       "      <td>SLC7A14</td>\n",
       "      <td>5723</td>\n",
       "      <td>PSPH</td>\n",
       "      <td>-0.6843</td>\n",
       "      <td>0.000000e+00</td>\n",
       "    </tr>\n",
       "    <tr>\n",
       "      <th>619</th>\n",
       "      <td>255738</td>\n",
       "      <td>PCSK9</td>\n",
       "      <td>29960</td>\n",
       "      <td>MRM2</td>\n",
       "      <td>-0.4241</td>\n",
       "      <td>0.000000e+00</td>\n",
       "    </tr>\n",
       "  </tbody>\n",
       "</table>\n",
       "<p>620 rows × 6 columns</p>\n",
       "</div>"
      ],
      "text/plain": [
       "     EntrezID_Input Gene_Input  EntrezID_SL_Candidate Gene_SL_Candidate  \\\n",
       "0              4751       NEK2                    891             CCNB1   \n",
       "1              4751       NEK2                   9133             CCNB2   \n",
       "2             63922     CHTF18                  51371              POMP   \n",
       "3               891      CCNB1                    292           SLC25A5   \n",
       "4               891      CCNB1                    291           SLC25A4   \n",
       "..              ...        ...                    ...               ...   \n",
       "615            6545     SLC7A4                   5723              PSPH   \n",
       "616            6542     SLC7A2                   5723              PSPH   \n",
       "617            6541     SLC7A1                   5723              PSPH   \n",
       "618           57709    SLC7A14                   5723              PSPH   \n",
       "619          255738      PCSK9                  29960              MRM2   \n",
       "\n",
       "     Interaction_score       P_value  \n",
       "0              -0.5950  6.059000e-19  \n",
       "1              -0.5950  6.059000e-19  \n",
       "2              -0.3510  1.728000e-47  \n",
       "3              -0.4290  1.705000e-03  \n",
       "4              -0.4290  1.705000e-03  \n",
       "..                 ...           ...  \n",
       "615            -0.6843  0.000000e+00  \n",
       "616            -0.6843  0.000000e+00  \n",
       "617            -0.6843  0.000000e+00  \n",
       "618            -0.6843  0.000000e+00  \n",
       "619            -0.4241  0.000000e+00  \n",
       "\n",
       "[620 rows x 6 columns]"
      ]
     },
     "execution_count": 8,
     "metadata": {},
     "output_type": "execute_result"
    }
   ],
   "source": [
    "# Lista de pares SL para los genes de entrada.\n",
    "res"
   ]
  },
  {
   "cell_type": "markdown",
   "metadata": {},
   "source": [
    "**Gene_Input**: la lista de genes introducida por el usuario cuya(s) pareja(s) letal(es) sintética(s) se busca(n).\n",
    "\n",
    "**EntrezID_Input**: muestra los identificadores Entrez de los genes de la lista de genes introducida por el usuario.\n",
    "\n",
    "**EntrezID_SL_Candidate and Gene_SL_Candidate**: son los identificadores Entrez y los símbolos del HGNC para los pares letales sintéticos inferidos. \n",
    "\n",
    "**Interaction_score and P_value**: la estimación de la fuerza de interacción entre el gen de entrada y su pareja SL en la tabla isb-cgc-bq.supplementary_tables.Constanzo_etal_Science_2016_SGA_Genetic_Interactions."
   ]
  },
  {
   "cell_type": "markdown",
   "metadata": {},
   "source": [
    "Los resultados pueden guardarse en un archivo CSV y/o Excel."
   ]
  },
  {
   "cell_type": "code",
   "execution_count": 10,
   "metadata": {
    "tags": []
   },
   "outputs": [],
   "source": [
    "#res.to_csv(path_or_buf='conserved_SL_output.csv', index=False)\n",
    "res.to_excel(excel_writer='conserved_SL_output.xlsx', index=False)"
   ]
  }
 ],
 "metadata": {
  "environment": {
   "kernel": "conda-root-py",
   "name": "workbench-notebooks.m117",
   "type": "gcloud",
   "uri": "us-docker.pkg.dev/deeplearning-platform-release/gcr.io/workbench-notebooks:m117"
  },
  "kernelspec": {
   "display_name": "Python 3 (ipykernel) (Local)",
   "language": "python",
   "name": "conda-root-py"
  },
  "language_info": {
   "codemirror_mode": {
    "name": "ipython",
    "version": 3
   },
   "file_extension": ".py",
   "mimetype": "text/x-python",
   "name": "python",
   "nbconvert_exporter": "python",
   "pygments_lexer": "ipython3",
   "version": "3.10.13"
  }
 },
 "nbformat": 4,
 "nbformat_minor": 4
}
