{
 "cells": [
  {
   "cell_type": "markdown",
   "id": "married-trinidad",
   "metadata": {},
   "source": [
    "# Tubería de letalidad sintética dependiente de mutaciones\n",
    "```\n",
    "Título original: Mutation dependent synthetic lethal pipeline\n",
    "Autor: Guangrong Qin\n",
    "Contacto: gqin@systemsbiology.org\n",
    "Cuaderno de Jupyter traducido y modificado por Martín Sende Pombo.\n",
    "Fecha de modificación: 17-02-2024     \n",
    "Descripción: Este cuaderno se utiliza para responder qué inactivaciones (\"knockouts\") o silenciamientos (\"knockdowns\") de genes es probable que muestren sensibilidad a mutaciones en genes específicos.  \n",
    "```\n",
    "Citas: Los datos de cribado funcional y los datos ómicos de las líneas celulares proceden de los proyectos Depmap y CCLE del Broad Institute (DepMap Public 20Q3). Para utilizar este cuaderno Jupyter y los datos que se utilizan en él, por favor cite los siguientes artículos:<br/>\n",
    "\n",
    "Bahar Tercan, Guangrong Qin, Taek-Kyun Kim, Boris Aguilar, Christopher J. Kemp, Nyasha Chambwe, Ilya Shmulevich. SL-Cloud: A Computational Resource to Support Synthetic Lethal Interaction Discovery. BioRxiv 2021.09.18.459450; doi: https://doi.org/10.1101/2021.09.18.459450\n",
    "\n",
    "Para esta versión de DepMap:\n",
    "DepMap, Broad (2020): DepMap 20Q3 Public. figshare. Dataset doi:10.6084/m9.figshare.11791698.v2.\n",
    "\n",
    "Para los conjuntos de datos de CRISPR:\n",
    "Robin M. Meyers, Jordan G. Bryan, James M. McFarland, Barbara A. Weir, ... David E. Root, William C. Hahn, Aviad Tsherniak. Computational correction of copy number effect improves specificity of CRISPR-Cas9 essentiality screens in cancer cells. Nature Genetics 2017 October 49:1779–1784. doi:10.1038/ng.3984. PMID: 29083409\n",
    "\n",
    "Dempster, J. M., Rossen, J., Kazachkova, M., Pan, J., Kugener, G., Root, D. E., & Tsherniak, A. (2019). Extracting Biological Insights from the Project Achilles Genome-Scale CRISPR Screens in Cancer Cell Lines. BioRxiv, 720243.\n",
    "\n",
    "Para conjuntos de datos ómicos:\n",
    "Mahmoud Ghandi, Franklin W. Huang, Judit Jané-Valbuena, Gregory V. Kryukov, ... Todd R. Golub, Levi A. Garraway & William R. Sellers. 2019. Next-generation characterization of the Cancer Cell Line Encyclopedia. Nature 569, 503–508 (2019).PMID: 31068700\n"
   ]
  },
  {
   "cell_type": "code",
   "execution_count": 1,
   "id": "55de3f61",
   "metadata": {
    "tags": []
   },
   "outputs": [
    {
     "name": "stdout",
     "output_type": "stream",
     "text": [
      "Collecting google-cloud-bigquery\n",
      "  Obtaining dependency information for google-cloud-bigquery from https://files.pythonhosted.org/packages/49/dc/df04020251473cacbb0001bc8c1c065ea46d6ce4d4dd218b3bfa246bdb5a/google_cloud_bigquery-3.17.2-py2.py3-none-any.whl.metadata\n",
      "  Downloading google_cloud_bigquery-3.17.2-py2.py3-none-any.whl.metadata (8.8 kB)\n",
      "Collecting google-api-core!=2.0.*,!=2.1.*,!=2.2.*,!=2.3.0,<3.0.0dev,>=1.31.5 (from google-cloud-bigquery)\n",
      "  Obtaining dependency information for google-api-core!=2.0.*,!=2.1.*,!=2.2.*,!=2.3.0,<3.0.0dev,>=1.31.5 from https://files.pythonhosted.org/packages/0f/87/373ab788a4682adc1a6900e54d54c750b7bd4be456d75b8bf64eccc23ef9/google_api_core-2.17.1-py3-none-any.whl.metadata\n",
      "  Downloading google_api_core-2.17.1-py3-none-any.whl.metadata (2.7 kB)\n",
      "Collecting google-cloud-core<3.0.0dev,>=1.6.0 (from google-cloud-bigquery)\n",
      "  Obtaining dependency information for google-cloud-core<3.0.0dev,>=1.6.0 from https://files.pythonhosted.org/packages/5e/0f/2e2061e3fbcb9d535d5da3f58cc8de4947df1786fe6a1355960feb05a681/google_cloud_core-2.4.1-py2.py3-none-any.whl.metadata\n",
      "  Downloading google_cloud_core-2.4.1-py2.py3-none-any.whl.metadata (2.7 kB)\n",
      "Collecting google-resumable-media<3.0dev,>=0.6.0 (from google-cloud-bigquery)\n",
      "  Obtaining dependency information for google-resumable-media<3.0dev,>=0.6.0 from https://files.pythonhosted.org/packages/b2/c6/1202ef64a9336d846f713107dac1c7a0b016cb3840ca3d5615c7005a23d1/google_resumable_media-2.7.0-py2.py3-none-any.whl.metadata\n",
      "  Downloading google_resumable_media-2.7.0-py2.py3-none-any.whl.metadata (2.2 kB)\n",
      "Requirement already satisfied: packaging>=20.0.0 in c:\\users\\martin\\anaconda3\\lib\\site-packages (from google-cloud-bigquery) (23.1)\n",
      "Requirement already satisfied: python-dateutil<3.0dev,>=2.7.2 in c:\\users\\martin\\anaconda3\\lib\\site-packages (from google-cloud-bigquery) (2.8.2)\n",
      "Requirement already satisfied: requests<3.0.0dev,>=2.21.0 in c:\\users\\martin\\anaconda3\\lib\\site-packages (from google-cloud-bigquery) (2.31.0)\n",
      "Collecting googleapis-common-protos<2.0.dev0,>=1.56.2 (from google-api-core!=2.0.*,!=2.1.*,!=2.2.*,!=2.3.0,<3.0.0dev,>=1.31.5->google-cloud-bigquery)\n",
      "  Obtaining dependency information for googleapis-common-protos<2.0.dev0,>=1.56.2 from https://files.pythonhosted.org/packages/f0/43/c9d8f75ddf08e2a0a27db243c13a700c3cc7ec615b545b697cf6f715ad92/googleapis_common_protos-1.62.0-py2.py3-none-any.whl.metadata\n",
      "  Downloading googleapis_common_protos-1.62.0-py2.py3-none-any.whl.metadata (1.5 kB)\n",
      "Collecting protobuf!=3.20.0,!=3.20.1,!=4.21.0,!=4.21.1,!=4.21.2,!=4.21.3,!=4.21.4,!=4.21.5,<5.0.0.dev0,>=3.19.5 (from google-api-core!=2.0.*,!=2.1.*,!=2.2.*,!=2.3.0,<3.0.0dev,>=1.31.5->google-cloud-bigquery)\n",
      "  Obtaining dependency information for protobuf!=3.20.0,!=3.20.1,!=4.21.0,!=4.21.1,!=4.21.2,!=4.21.3,!=4.21.4,!=4.21.5,<5.0.0.dev0,>=3.19.5 from https://files.pythonhosted.org/packages/ad/6e/1bed3b7c904cc178cb8ee8dbaf72934964452b3de95b7a63412591edb93c/protobuf-4.25.3-cp310-abi3-win_amd64.whl.metadata\n",
      "  Downloading protobuf-4.25.3-cp310-abi3-win_amd64.whl.metadata (541 bytes)\n",
      "Collecting google-auth<3.0.dev0,>=2.14.1 (from google-api-core!=2.0.*,!=2.1.*,!=2.2.*,!=2.3.0,<3.0.0dev,>=1.31.5->google-cloud-bigquery)\n",
      "  Obtaining dependency information for google-auth<3.0.dev0,>=2.14.1 from https://files.pythonhosted.org/packages/ff/ce/1b4dc8b5ecdc9a99202b093729192b69301c33064d0e312fb8d9e384dbe0/google_auth-2.28.0-py2.py3-none-any.whl.metadata\n",
      "  Downloading google_auth-2.28.0-py2.py3-none-any.whl.metadata (4.7 kB)\n",
      "Collecting google-crc32c<2.0dev,>=1.0 (from google-resumable-media<3.0dev,>=0.6.0->google-cloud-bigquery)\n",
      "  Downloading google_crc32c-1.5.0-cp311-cp311-win_amd64.whl (27 kB)\n",
      "Requirement already satisfied: six>=1.5 in c:\\users\\martin\\anaconda3\\lib\\site-packages (from python-dateutil<3.0dev,>=2.7.2->google-cloud-bigquery) (1.16.0)\n",
      "Requirement already satisfied: charset-normalizer<4,>=2 in c:\\users\\martin\\anaconda3\\lib\\site-packages (from requests<3.0.0dev,>=2.21.0->google-cloud-bigquery) (2.0.4)\n",
      "Requirement already satisfied: idna<4,>=2.5 in c:\\users\\martin\\anaconda3\\lib\\site-packages (from requests<3.0.0dev,>=2.21.0->google-cloud-bigquery) (3.4)\n",
      "Requirement already satisfied: urllib3<3,>=1.21.1 in c:\\users\\martin\\anaconda3\\lib\\site-packages (from requests<3.0.0dev,>=2.21.0->google-cloud-bigquery) (1.26.16)\n",
      "Requirement already satisfied: certifi>=2017.4.17 in c:\\users\\martin\\anaconda3\\lib\\site-packages (from requests<3.0.0dev,>=2.21.0->google-cloud-bigquery) (2023.11.17)\n",
      "Collecting cachetools<6.0,>=2.0.0 (from google-auth<3.0.dev0,>=2.14.1->google-api-core!=2.0.*,!=2.1.*,!=2.2.*,!=2.3.0,<3.0.0dev,>=1.31.5->google-cloud-bigquery)\n",
      "  Obtaining dependency information for cachetools<6.0,>=2.0.0 from https://files.pythonhosted.org/packages/a2/91/2d843adb9fbd911e0da45fbf6f18ca89d07a087c3daa23e955584f90ebf4/cachetools-5.3.2-py3-none-any.whl.metadata\n",
      "  Downloading cachetools-5.3.2-py3-none-any.whl.metadata (5.2 kB)\n",
      "Requirement already satisfied: pyasn1-modules>=0.2.1 in c:\\users\\martin\\anaconda3\\lib\\site-packages (from google-auth<3.0.dev0,>=2.14.1->google-api-core!=2.0.*,!=2.1.*,!=2.2.*,!=2.3.0,<3.0.0dev,>=1.31.5->google-cloud-bigquery) (0.2.8)\n",
      "Collecting rsa<5,>=3.1.4 (from google-auth<3.0.dev0,>=2.14.1->google-api-core!=2.0.*,!=2.1.*,!=2.2.*,!=2.3.0,<3.0.0dev,>=1.31.5->google-cloud-bigquery)\n",
      "  Downloading rsa-4.9-py3-none-any.whl (34 kB)\n",
      "Requirement already satisfied: pyasn1<0.5.0,>=0.4.6 in c:\\users\\martin\\anaconda3\\lib\\site-packages (from pyasn1-modules>=0.2.1->google-auth<3.0.dev0,>=2.14.1->google-api-core!=2.0.*,!=2.1.*,!=2.2.*,!=2.3.0,<3.0.0dev,>=1.31.5->google-cloud-bigquery) (0.4.8)\n",
      "Downloading google_cloud_bigquery-3.17.2-py2.py3-none-any.whl (230 kB)\n",
      "   ---------------------------------------- 0.0/230.3 kB ? eta -:--:--\n",
      "   --------------------------------- ------ 194.6/230.3 kB 3.9 MB/s eta 0:00:01\n",
      "   ---------------------------------------- 230.3/230.3 kB 2.8 MB/s eta 0:00:00\n",
      "Downloading google_api_core-2.17.1-py3-none-any.whl (137 kB)\n",
      "   ---------------------------------------- 0.0/137.0 kB ? eta -:--:--\n",
      "   -------------------------------- ------- 112.6/137.0 kB 6.4 MB/s eta 0:00:01\n",
      "   ---------------------------------------- 137.0/137.0 kB 4.0 MB/s eta 0:00:00\n",
      "Downloading google_cloud_core-2.4.1-py2.py3-none-any.whl (29 kB)\n",
      "Downloading google_resumable_media-2.7.0-py2.py3-none-any.whl (80 kB)\n",
      "   ---------------------------------------- 0.0/80.6 kB ? eta -:--:--\n",
      "   ---------------------------------------- 80.6/80.6 kB 4.7 MB/s eta 0:00:00\n",
      "Downloading google_auth-2.28.0-py2.py3-none-any.whl (186 kB)\n",
      "   ---------------------------------------- 0.0/186.9 kB ? eta -:--:--\n",
      "   ------------------------------ --------- 143.4/186.9 kB 4.3 MB/s eta 0:00:01\n",
      "   ---------------------------------------- 186.9/186.9 kB 2.8 MB/s eta 0:00:00\n",
      "Downloading googleapis_common_protos-1.62.0-py2.py3-none-any.whl (228 kB)\n",
      "   ---------------------------------------- 0.0/228.7 kB ? eta -:--:--\n",
      "   --------------------- ------------------ 122.9/228.7 kB 3.6 MB/s eta 0:00:01\n",
      "   ---------------------------------------  225.3/228.7 kB 2.8 MB/s eta 0:00:01\n",
      "   ---------------------------------------- 228.7/228.7 kB 2.3 MB/s eta 0:00:00\n",
      "Downloading protobuf-4.25.3-cp310-abi3-win_amd64.whl (413 kB)\n",
      "   ---------------------------------------- 0.0/413.4 kB ? eta -:--:--\n",
      "   ---------- ----------------------------- 112.6/413.4 kB 3.3 MB/s eta 0:00:01\n",
      "   ----------- ---------------------------- 122.9/413.4 kB 2.4 MB/s eta 0:00:01\n",
      "   -------------- ------------------------- 153.6/413.4 kB 1.1 MB/s eta 0:00:01\n",
      "   -------------------------------- ------- 337.9/413.4 kB 1.9 MB/s eta 0:00:01\n",
      "   ---------------------------------------- 413.4/413.4 kB 2.0 MB/s eta 0:00:00\n",
      "Downloading cachetools-5.3.2-py3-none-any.whl (9.3 kB)\n",
      "Installing collected packages: rsa, protobuf, google-crc32c, cachetools, googleapis-common-protos, google-resumable-media, google-auth, google-api-core, google-cloud-core, google-cloud-bigquery\n",
      "Successfully installed cachetools-5.3.2 google-api-core-2.17.1 google-auth-2.28.0 google-cloud-bigquery-3.17.2 google-cloud-core-2.4.1 google-crc32c-1.5.0 google-resumable-media-2.7.0 googleapis-common-protos-1.62.0 protobuf-4.25.3 rsa-4.9\n",
      "El módulo 'ipywidgets' está instalado\n",
      "El módulo 'pyarrow' está instalado\n",
      "El módulo 'pandas' está instalado\n",
      "El módulo 'numpy' está instalado\n",
      "El módulo 'scipy' está instalado\n",
      "El módulo 'statsmodels' está instalado\n",
      "Looking in indexes: https://test.pypi.org/simple/\n",
      "Collecting MDSLP==0.4\n",
      "  Downloading https://test-files.pythonhosted.org/packages/4e/a5/05aea02b4233582e25c74166c1aec6711b6dc9489c9af6a1611cede733e5/MDSLP-0.4-py3-none-any.whl (6.5 kB)\n",
      "Installing collected packages: MDSLP\n",
      "Successfully installed MDSLP-0.4\n"
     ]
    }
   ],
   "source": [
    "# Comprobación de las bibliotecas requeridas.\n",
    "try:\n",
    "    from google.cloud import bigquery\n",
    "    print(\"El módulo 'google-cloud-bigquery' está instalado.\")\n",
    "except ModuleNotFoundError:\n",
    "    !pip3 install google-cloud-bigquery\n",
    "    from google.cloud import bigquery\n",
    "\n",
    "try:\n",
    "    import ipywidgets as widgets\n",
    "    print(\"El módulo 'ipywidgets' está instalado.\")\n",
    "except ModuleNotFoundError:\n",
    "    !pip3 install ipywidgets\n",
    "    import ipywidgets as widgets\n",
    "\n",
    "try:\n",
    "    import pyarrow\n",
    "    print(\"El módulo 'pyarrow' está instalado.\")\n",
    "except ModuleNotFoundError:\n",
    "    !pip3 install pyarrow\n",
    "    import pyarrow\n",
    "\n",
    "try:\n",
    "    import pandas as pd\n",
    "    print(\"El módulo 'pandas' está instalado.\")\n",
    "except ModuleNotFoundError:\n",
    "    !pip3 install pandas\n",
    "    import pandas as pd\n",
    "\n",
    "try:\n",
    "    import numpy as np\n",
    "    print(\"El módulo 'numpy' está instalado.\")\n",
    "except ModuleNotFoundError:\n",
    "    !pip3 install numpy\n",
    "    import numpy as np\n",
    "\n",
    "try:\n",
    "    from scipy import stats    \n",
    "    print(\"El módulo 'scipy' está instalado.\")\n",
    "except ModuleNotFoundError:\n",
    "    !pip3 install scipy\n",
    "    from scipy import stats    \n",
    "\n",
    "try:\n",
    "    import statsmodels.stats.multitest as multi   \n",
    "    print(\"El módulo 'statsmodels' está instalado.\")\n",
    "except ModuleNotFoundError:\n",
    "    !pip3 install statsmodels\n",
    "    import statsmodels.stats.multitest as multi\n",
    "\n",
    "!pip3 install -i https://test.pypi.org/simple/ MDSLP==0.4\n",
    "from MDSLP import MDSLP\n"
   ]
  },
  {
   "cell_type": "markdown",
   "id": "a06fd05f-fc2f-411a-b137-7781d18d87f1",
   "metadata": {},
   "source": [
    "## Autentificación de Google\n",
    "Ejecutar las celdas de BigQuery en este cuaderno requiere un proyecto de Google Cloud y las instrucciones para crear uno pueden encontrarse en la [documentación de Google](https://cloud.google.com/resource-manager/docs/creating-managing-projects#console). Además, la instancia debe estar autorizada para facturar las consultas del proyecto.\n",
    "Para más información sobre cómo iniciarse en la nube, consulte ['Quick Start Guide to ISB-CGC'](https://isb-cancer-genomics-cloud.readthedocs.io/en/latest/sections/HowToGetStartedonISB-CGC.html). Asimismo, puede localizar métodos de autenticación alternativos en la [documentación de Google](https://googleapis.dev/python/google-api-core/latest/auth.html)."
   ]
  },
  {
   "cell_type": "markdown",
   "id": "d637603b-2119-4626-bdc7-6f642c44ba89",
   "metadata": {
    "jp-MarkdownHeadingCollapsed": true,
    "tags": []
   },
   "source": [
    "### * Si está ejecutando este cuaderno en un entorno de máquina virtual de Google (Compute Engine, App Engine, Cloud Run, Cloud Functions): \n",
    "La autenticación debería \"simplemente funcionar\"."
   ]
  },
  {
   "cell_type": "markdown",
   "id": "592ce288-fd10-47c5-bbd9-e9858b81881d",
   "metadata": {
    "tags": []
   },
   "source": [
    "### * Si la ejecución se realiza en un entorno local: \n",
    "La forma más sencilla de autenticarse es emplear el SDK de Google Cloud."
   ]
  },
  {
   "cell_type": "code",
   "execution_count": 4,
   "id": "a092723e",
   "metadata": {
    "tags": []
   },
   "outputs": [
    {
     "name": "stderr",
     "output_type": "stream",
     "text": [
      "\"gcloud\" no se reconoce como un comando interno o externo,\n",
      "programa o archivo por lotes ejecutable.\n"
     ]
    }
   ],
   "source": [
    "# Los usuarios necesitan ejecutar el siguiente bloque de código en su máquina local o a través del cuaderno.\n",
    "# Asegúrese de instalar la nube de google en el entorno local. Para más detalles sobre la instalación de gcloud, consulte el soporte en https://cloud.google.com/sdk/docs/install\n",
    "\n",
    "#!pip3 install --upgrade google-auth\n",
    "!gcloud auth application-default login"
   ]
  },
  {
   "cell_type": "markdown",
   "id": "831064a7-f96e-4058-b4b5-94e7f9839ccd",
   "metadata": {
    "tags": []
   },
   "source": [
    "###"
   ]
  },
  {
   "cell_type": "code",
   "execution_count": null,
   "id": "527f016d",
   "metadata": {},
   "outputs": [],
   "source": [
    "%load_ext google.cloud.bigquery"
   ]
  },
  {
   "cell_type": "markdown",
   "id": "463ef8ac",
   "metadata": {},
   "source": [
    "## Establecer la entrada 1 del usuario:\n",
    "1. Data_source: la fuente de datos deseada, ya sea ARNhc o CRISPR. Tipo de dato: cadena de caracteres (\"string\").\n",
    "2. Genes mutados que deben investigarse: una lista de un solo gen o de varios genes. Tipo de dato: lista."
   ]
  },
  {
   "cell_type": "code",
   "execution_count": null,
   "id": "interpreted-lewis",
   "metadata": {},
   "outputs": [],
   "source": [
    "# Los usuarios deben autenticarse con su proyecto en la nube de Google para consultar los datos de las tablas de BigQuery. \n",
    "project_id='crucial-minutia-407312' # Sustituye este identificador por el del proyecto de Google del usuario\n",
    "client = bigquery.Client(project_id)\n",
    "\n",
    "# Entrada del usuario; La pregunta en lenguaje natural que planteamos aquí es qué gen muestra una interacción letal sintética con el gen diana.\n",
    "Data_source = \"shRNA\" # Sólo hay dos opciones disponibles, \"shRNA\" o \"Crispr\", tipo de dato: string\n",
    "\n",
    "#Gene_list = ['BRCA2'] # Tipo de dato: lista de símbolos de genes"
   ]
  },
  {
   "cell_type": "code",
   "execution_count": null,
   "id": "e0ef97cc-964e-4a36-be0e-441d5cfe0124",
   "metadata": {},
   "outputs": [],
   "source": [
    "# Para utilizar su propia lista de genes, cópiela en la carpeta \"Listas_genes\" y reemplace el nombre del archivo_actual (\"Genes_AmiGO2_ruta_biosintesis_NAD.txt\") por el del suyo.\n",
    "# Función para cambiar el formato de la lista de caracteres\n",
    "def cambiar_formato_lista(lista):\n",
    "    # Dividir la lista en líneas y eliminar líneas vacías\n",
    "    lineas = lista.split('\\n')\n",
    "    lineas = [linea.strip() for linea in lineas if linea.strip()]\n",
    "\n",
    "    # Devolver la lista en el formato deseado\n",
    "    return lineas\n",
    "\n",
    "# Ruta del archivo que contiene la lista en el formato actual\n",
    "archivo_actual = 'Listas_genes/Genes_AmiGO2_ruta_biosintesis_NAD.txt'\n",
    "\n",
    "# Lee la lista en el formato actual desde el archivo\n",
    "lista_actual = \"\"\n",
    "with open(archivo_actual, 'r') as archivo:\n",
    "    lista_actual = archivo.read()\n",
    "\n",
    "# Cambia el formato de la lista\n",
    "Gene_list = cambiar_formato_lista(lista_actual)"
   ]
  },
  {
   "cell_type": "code",
   "execution_count": null,
   "id": "17f5283b-05d0-4bda-ba4c-f0c48be63d1d",
   "metadata": {},
   "outputs": [],
   "source": [
    "# Opcionalmente puede ejecutarse este bloque de código, para verificar que la lista de genes se ha almacenado correctamente y que tiene el formato adecuado.\n",
    "# Concretamente, imprime la lista ya con el formato deseado.\n",
    "print (Gene_list)\n",
    "\n",
    "# Si el resultado es el esperado, ['GENE1', 'GENE2', ... 'GENEn'], entoces puede proceder con el siguiente paso."
   ]
  },
  {
   "cell_type": "markdown",
   "id": "04b454d7",
   "metadata": {},
   "source": [
    "## Fijar la entrada 2 del usuario:\n",
    "Tipos de tumores considerados. Los usuarios pueden seleccionar uno o varios tipos de tumores para su análisis."
   ]
  },
  {
   "cell_type": "code",
   "execution_count": null,
   "id": "34b41692",
   "metadata": {},
   "outputs": [],
   "source": [
    "query = ''' \n",
    "SELECT DepMap_ID, primary_disease,TCGA_subtype\n",
    "FROM `syntheticlethality.DepMap_public_20Q3.sample_info_Depmap_withTCGA_labels` \n",
    "'''\n",
    "sample_info = client.query(query).result().to_dataframe()\n",
    "\n",
    "pancancer_cls = sample_info.loc[~sample_info['primary_disease'].isin(['Non-Cancerous','Unknown','Engineered','Immortalized'])]\n",
    "pancancer_cls = pancancer_cls.loc[~(pancancer_cls['primary_disease'].isna())]\n",
    "\n",
    "TCGA_list = [x for x in list(set(pancancer_cls['primary_disease'])) if x == x]\n",
    "\n",
    "Not_none_values = filter(None.__ne__, TCGA_list)\n",
    "TCGA_list = list(Not_none_values)\n",
    "\n",
    "tumor_type = widgets.SelectMultiple(\n",
    "    options=['pancancer'] + TCGA_list  ,\n",
    "    value=[],\n",
    "    description='Tumor type',\n",
    "    disabled=False\n",
    ")\n",
    "display(tumor_type)"
   ]
  },
  {
   "cell_type": "markdown",
   "id": "pregnant-material",
   "metadata": {},
   "source": [
    "#### Obtenga datos de mutación de la CCLE, efectos del \"knockout\" de genes con CRISPR del Depmap y, datos de dependencia génica de genes silenciados con ARNhc de DEMETER2 v6.\n",
    "La versión 20Q3 de Depmap se utilizará en el siguiente análisis."
   ]
  },
  {
   "cell_type": "code",
   "execution_count": null,
   "id": "unique-jacob",
   "metadata": {},
   "outputs": [],
   "source": [
    "# Consulta de recursos de datos para análisis posteriores\n",
    "client = bigquery.Client(project_id)\n",
    "\n",
    "# Asignación de ID entre la anotación de la CCLE y los símbolos genéticos de entrada\n",
    "id_mapping, Gene_list_matched = MDSLP.GeneSymbol_standardization(Gene_list, project_id)\n",
    "\n",
    "# Obtener los datos de mutación, los datos de ARNhc o el conjunto de datos CRISPR\n",
    "Mut_mat = MDSLP.get_ccle_mutation_data(project_id) # Obtiene la tabla de mutaciones de las líneas celulares de la CCLE (versión: Depmap 20Q3)\n",
    "\n",
    "if Data_source == \"shRNA\" :\n",
    "    Demeter_data = MDSLP.get_demeter_shRNA_data(project_id) # Obtiene los efectos del silenciamiento génico basado en ARNhc del proyecto Depmap (DEMETER2)\n",
    "elif Data_source == \"Crispr\": \n",
    "    Depmap_matrix = MDSLP.get_depmap_crispr_data(project_id) # Obtiene los efectos del bloqueo génico basado en CRISPR del proyecto Depmap (versión: Depmap 20Q3)\n",
    "else:\n",
    "    print(\"Data_source sólo tiene dos opciones: shRNA or Crispr\")\n"
   ]
  },
  {
   "cell_type": "markdown",
   "id": "cef59eb5",
   "metadata": {},
   "source": [
    "##### \n",
    "Usted está esperando ver el mensaje anterior de la siguiente manera:\n",
    "\n",
    "Unnamed: 0 <br/>\n",
    "AZ521_STOMACH<br/>\n",
    "GISTT1_GASTROINTESTINAL_TRACT<br/>\n",
    "MB157_BREAST<br/>\n",
    "SW527_BREAST<br/>\n",
    "<br/>\n",
    "Significa que estas líneas celulares no se incluyen en el análisis, ya que muestran anotaciones no coincidentes de diferentes conjuntos de datos.\n"
   ]
  },
  {
   "cell_type": "markdown",
   "id": "written-winter",
   "metadata": {},
   "source": [
    "## Seleccione el conjunto de datos de ARNhc o CRISPR para inferir pares de letalidad sintética para genes mutados."
   ]
  },
  {
   "cell_type": "code",
   "execution_count": null,
   "id": "normal-quality",
   "metadata": {},
   "outputs": [],
   "source": [
    "if Data_source == \"shRNA\":\n",
    "    result = MDSLP.Mutational_based_SL_pipeline(list(tumor_type.value), Gene_list_matched, Mut_mat, Demeter_data, Data_source,project_id)\n",
    "    if result.shape[0] > 0:\n",
    "        result_sig = result.loc[result['FDR_all_exp'] < 0.05]\n",
    "        result_sig = result_sig.loc[result_sig['ES']<0] # ES < 0 representa los pares SL\n",
    "    else:\n",
    "        result_sig = pd.DataFrame()\n",
    "        \n",
    "elif  Data_source == \"Crispr\":\n",
    "    result = MDSLP.Mutational_based_SL_pipeline(list(tumor_type.value), Gene_list_matched, Mut_mat, Depmap_matrix, Data_source,project_id)\n",
    "    if result.shape[0] > 0:\n",
    "        result_sig = result.loc[result['FDR_all_exp'] < 0.05]\n",
    "        result_sig = result_sig.loc[result_sig['ES'] < 0]  # ES < 0 representa los pares SL\n",
    "    else:\n",
    "        result_sig = pd.DataFrame()\n",
    "\n",
    "else:\n",
    "    print(\"El tipo de fuente de datos no existe.\")"
   ]
  },
  {
   "cell_type": "code",
   "execution_count": null,
   "id": "8033ed99",
   "metadata": {},
   "outputs": [],
   "source": [
    "result_sig.sort_values(by = ['FDR_all_exp'])"
   ]
  },
  {
   "cell_type": "code",
   "execution_count": 5,
   "id": "textile-demographic",
   "metadata": {
    "tags": []
   },
   "outputs": [
    {
     "ename": "NameError",
     "evalue": "name 'result_sig' is not defined",
     "output_type": "error",
     "traceback": [
      "\u001b[1;31m---------------------------------------------------------------------------\u001b[0m",
      "\u001b[1;31mNameError\u001b[0m                                 Traceback (most recent call last)",
      "Cell \u001b[1;32mIn[5], line 1\u001b[0m\n\u001b[1;32m----> 1\u001b[0m result_sig\u001b[38;5;241m.\u001b[39mto_csv(\u001b[38;5;124m\"\u001b[39m\u001b[38;5;124mresult_sig.csv\u001b[39m\u001b[38;5;124m\"\u001b[39m)\n",
      "\u001b[1;31mNameError\u001b[0m: name 'result_sig' is not defined"
     ]
    }
   ],
   "source": [
    "result_sig.to_csv(\"result_sig.csv\")\n",
    "result_sig.to_excel(\"result_sig.xlsx\")"
   ]
  },
  {
   "cell_type": "markdown",
   "id": "resident-edwards",
   "metadata": {},
   "source": [
    "**Interpretación de resultados**\n",
    "\n",
    "La tabla result_sig contiene los pares de genes letales sintéticos predichos a partir de este \"pipeline\".<br/>\n",
    "**Anotación en la tabla:**\n",
    "\n",
    "Gene_mut: genes mutados.<br/>\n",
    "Gene_kd: gen \"knockdown\" o \"knockout\". <br/>\n",
    "Mutated_samples: número de líneas celulares mutadas en el tipo de tumor seleccionado.<br/>\n",
    "pvalue: valor-p resultante de la prueba t.<br/>\n",
    "ES: tamaño del efecto de los genes entre el grupo mutado y el grupo de tipo salvaje.<br/>\n",
    "FDR_all_exp: FDR para el p-valor de todos los análisis.<br/>\n",
    "FDR_by_gene: FDR para el valor P por cada mutación de un gen.<br/>\n",
    "Tumor_type: tipos de tumores en análisis."
   ]
  }
 ],
 "metadata": {
  "kernelspec": {
   "display_name": "Python 3 (ipykernel)",
   "language": "python",
   "name": "python3"
  },
  "language_info": {
   "codemirror_mode": {
    "name": "ipython",
    "version": 3
   },
   "file_extension": ".py",
   "mimetype": "text/x-python",
   "name": "python",
   "nbconvert_exporter": "python",
   "pygments_lexer": "ipython3",
   "version": "3.11.5"
  }
 },
 "nbformat": 4,
 "nbformat_minor": 5
}
