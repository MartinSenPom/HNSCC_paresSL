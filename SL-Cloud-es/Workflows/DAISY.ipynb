{
 "cells": [
  {
   "cell_type": "markdown",
   "metadata": {},
   "source": [
    "# DAISY - El proceso de minería de datos para la identificación de letalidad sintética\n",
    "```\n",
    "Título original: Data Mining Synthetic Lethality Identification Pipeline (DAISY)\n",
    "Autor: Bahar Tercan\n",
    "Fecha de creación: 02-07-2022\n",
    "Cuaderno de Jupyter traducido y modificado por Martín Sende Pombo. También se empleó ChatGPT 3.5 como asistente de programación.\n",
    "Fecha de modificación: 06-03-2024\n",
    "Propósito: Recuperar las parejas letales sintéticas de los genes de la lista dada utilizando el algoritmo DAISY.\n",
    "Notas: Según el autor puede ejecutarse en MyBinder.\n",
    "```\n",
    "[![Binder](https://mybinder.org/badge_logo.svg)](https://mybinder.org/v2/gh/isb-cgc/Community-Notebooks/HEAD?labpath=SL-Cloud%2FMyBinder_Authentication.ipynb)"
   ]
  },
  {
   "cell_type": "markdown",
   "metadata": {
    "jupyter": {
     "source_hidden": true
    },
    "tags": []
   },
   "source": [
    "Si alguna parte de este análisis se utiliza en una publicación, por favor cite lo siguiente:\n",
    "\n",
    "Para el algoritmo DAISY:  \n",
    "\n",
    "Jerby-Arnon, L., Pfetzer, N., Waldman, Y. Y., McGarry, L., James, D., Shanks, E., ... & Gottlieb, E. (2014). Predicting cancer-specific vulnerability via data-driven detection of synthetic lethality. Cell, 158(5), 1199-1209.\n",
    "\n",
    "Para los datos ómicos de la Cancer Cell Line Encyclopedia (CCLE):\n",
    "\n",
    "Ghandi, M., Huang, F.W., Jané-Valbuena, J. et al. Next-generation characterization of the Cancer Cell Line Encyclopedia. Nature 569, 503–508 (2019). https://doi.org/10.1038/s41586-019-1186-3\n",
    "\n",
    "Para datos de cribado funcional obtenidos con CRISPR: \n",
    "\n",
    "Robin M. Meyers, Jordan G. Bryan, James M. McFarland, Barbara A. Weir, ... David E. Root, William C. Hahn, Aviad Tsherniak. Computational correction of copy number effect improves specificity of CRISPR-Cas9 essentiality screens in cancer cells. Nature Genetics 2017 October 49:1779–1784. doi:10.1038/ng.3984\n",
    "\n",
    "Dempster, J. M., Rossen, J., Kazachkova, M., Pan, J., Kugener, G., Root, D. E., & Tsherniak, A. (2019). Extracting Biological Insights from the Project Achilles Genome-Scale CRISPR Screens in Cancer Cell Lines. BioRxiv, 720243.\n",
    "\n",
    "Para datos de cribado funcional generados mediante ARNhc (\"shRNA\" en inglés):\n",
    "\n",
    "James M. McFarland, Zandra V. Ho, Guillaume Kugener, Joshua M. Dempster, Phillip G. Montgomery, Jordan G. Bryan, John M. Krill-Burger, Thomas M. Green, Francisca Vazquez, Jesse S. Boehm, Todd R. Golub, William C. Hahn, David E. Root, Aviad Tsherniak. (2018). Improved estimation of cancer dependencies from large-scale RNAi screens using model-based normalization and data integration. Nature Communications 9, 1. https://doi.org/10.1038/s41467-018-06916-5\n",
    "\n",
    "Para el ISB Cancer Gateway in the Cloud (ISB-CGC):\n",
    "\n",
    "Reynolds, S. M., Miller, M., Lee, P., Leinonen, K., Paquette, S. M., Rodebaugh, Z., ... & Shmulevich, I. (2017). The ISB Cancer Genomics Cloud: a flexible cloud-based platform for cancer genomics research. Cancer research, 77(21), e7-e10.\n",
    "\n",
    "Para los datos del Pan-Cancer Atlas (PanCanAtlas):\n",
    "\n",
    "Hutter, C., and Zenklusen, J.C. (2018). The Cancer Genome Atlas: Creating Lasting Value beyond Its Data. Cell 173, 283–285.\n",
    "\n",
    "Este cuaderno es una reimplementación del algoritmo de predicción de pares letales sintéticos DAISY.\n",
    "\n",
    "Consta de 3 módulos: \n",
    "\n",
    "1. Determinación de candidatos a \"SL/SDL\" mediante coexpresión génica\n",
    "2. Determinación de candidatos a \"SL/SDL\" mediante la supervivencia del más apto (SoF)\n",
    "3. Determinación de candidatos a \"SL/SDL\" mediante experimentos con CRISPR y ARNhc (FunEx)\n",
    "\n",
    "* A continuación, los resultados de los tres módulos se agregaron en una lista de pares letales sintéticos (\"SL\") o letales sintéticos de dosis (\"SDL\") candidatos.\n",
    "\n",
    "Parámetros de entrada:\n",
    "* Tipo de cáncer \n",
    "* Los genes cuyas parejas \"SL\" o \"SDL\" se buscan\n",
    "\n",
    "Datos de entrada (disponibles en las tablas de BigQuery):\n",
    "* Datos de expresión génica \n",
    "* Datos de mutación genética\n",
    "* Datos de variación del número de copias\n",
    "* Datos de efecto génico (CRISPR)\n",
    "* Datos de puntuaciones de dependencia génica (ARNhc)\n",
    "\n",
    "Salida\n",
    "* Lista de pares \"SL\" o \"SDL\" candidatos\n",
    "\n",
    "Póngase en contacto con Bahar Tercan btercan@systemsbiology.org para cualquier pregunta o información detallada. "
   ]
  },
  {
   "cell_type": "code",
   "execution_count": 1,
   "metadata": {},
   "outputs": [
    {
     "name": "stdout",
     "output_type": "stream",
     "text": [
      "Requirement already satisfied: importlib in c:\\users\\martin\\anaconda3\\lib\\site-packages (1.0.4)\n",
      "Requirement already satisfied: ipywidgets in c:\\users\\martin\\anaconda3\\lib\\site-packages (8.0.4)\n",
      "Requirement already satisfied: ipykernel>=4.5.1 in c:\\users\\martin\\anaconda3\\lib\\site-packages (from ipywidgets) (6.25.0)\n",
      "Requirement already satisfied: ipython>=6.1.0 in c:\\users\\martin\\anaconda3\\lib\\site-packages (from ipywidgets) (8.15.0)\n",
      "Requirement already satisfied: traitlets>=4.3.1 in c:\\users\\martin\\anaconda3\\lib\\site-packages (from ipywidgets) (5.7.1)\n",
      "Requirement already satisfied: widgetsnbextension~=4.0 in c:\\users\\martin\\anaconda3\\lib\\site-packages (from ipywidgets) (4.0.5)\n",
      "Requirement already satisfied: jupyterlab-widgets~=3.0 in c:\\users\\martin\\anaconda3\\lib\\site-packages (from ipywidgets) (3.0.5)\n",
      "Requirement already satisfied: comm>=0.1.1 in c:\\users\\martin\\anaconda3\\lib\\site-packages (from ipykernel>=4.5.1->ipywidgets) (0.1.2)\n",
      "Requirement already satisfied: debugpy>=1.6.5 in c:\\users\\martin\\anaconda3\\lib\\site-packages (from ipykernel>=4.5.1->ipywidgets) (1.6.7)\n",
      "Requirement already satisfied: jupyter-client>=6.1.12 in c:\\users\\martin\\anaconda3\\lib\\site-packages (from ipykernel>=4.5.1->ipywidgets) (7.4.9)\n",
      "Requirement already satisfied: jupyter-core!=5.0.*,>=4.12 in c:\\users\\martin\\anaconda3\\lib\\site-packages (from ipykernel>=4.5.1->ipywidgets) (5.3.0)\n",
      "Requirement already satisfied: matplotlib-inline>=0.1 in c:\\users\\martin\\anaconda3\\lib\\site-packages (from ipykernel>=4.5.1->ipywidgets) (0.1.6)\n",
      "Requirement already satisfied: nest-asyncio in c:\\users\\martin\\anaconda3\\lib\\site-packages (from ipykernel>=4.5.1->ipywidgets) (1.5.6)\n",
      "Requirement already satisfied: packaging in c:\\users\\martin\\anaconda3\\lib\\site-packages (from ipykernel>=4.5.1->ipywidgets) (23.1)\n",
      "Requirement already satisfied: psutil in c:\\users\\martin\\anaconda3\\lib\\site-packages (from ipykernel>=4.5.1->ipywidgets) (5.9.0)\n",
      "Requirement already satisfied: pyzmq>=20 in c:\\users\\martin\\anaconda3\\lib\\site-packages (from ipykernel>=4.5.1->ipywidgets) (23.2.0)\n",
      "Requirement already satisfied: tornado>=6.1 in c:\\users\\martin\\anaconda3\\lib\\site-packages (from ipykernel>=4.5.1->ipywidgets) (6.3.2)\n",
      "Requirement already satisfied: backcall in c:\\users\\martin\\anaconda3\\lib\\site-packages (from ipython>=6.1.0->ipywidgets) (0.2.0)\n",
      "Requirement already satisfied: decorator in c:\\users\\martin\\anaconda3\\lib\\site-packages (from ipython>=6.1.0->ipywidgets) (5.1.1)\n",
      "Requirement already satisfied: jedi>=0.16 in c:\\users\\martin\\anaconda3\\lib\\site-packages (from ipython>=6.1.0->ipywidgets) (0.18.1)\n",
      "Requirement already satisfied: pickleshare in c:\\users\\martin\\anaconda3\\lib\\site-packages (from ipython>=6.1.0->ipywidgets) (0.7.5)\n",
      "Requirement already satisfied: prompt-toolkit!=3.0.37,<3.1.0,>=3.0.30 in c:\\users\\martin\\anaconda3\\lib\\site-packages (from ipython>=6.1.0->ipywidgets) (3.0.36)\n",
      "Requirement already satisfied: pygments>=2.4.0 in c:\\users\\martin\\anaconda3\\lib\\site-packages (from ipython>=6.1.0->ipywidgets) (2.15.1)\n",
      "Requirement already satisfied: stack-data in c:\\users\\martin\\anaconda3\\lib\\site-packages (from ipython>=6.1.0->ipywidgets) (0.2.0)\n",
      "Requirement already satisfied: colorama in c:\\users\\martin\\anaconda3\\lib\\site-packages (from ipython>=6.1.0->ipywidgets) (0.4.6)\n",
      "Requirement already satisfied: parso<0.9.0,>=0.8.0 in c:\\users\\martin\\anaconda3\\lib\\site-packages (from jedi>=0.16->ipython>=6.1.0->ipywidgets) (0.8.3)\n",
      "Requirement already satisfied: entrypoints in c:\\users\\martin\\anaconda3\\lib\\site-packages (from jupyter-client>=6.1.12->ipykernel>=4.5.1->ipywidgets) (0.4)\n",
      "Requirement already satisfied: python-dateutil>=2.8.2 in c:\\users\\martin\\anaconda3\\lib\\site-packages (from jupyter-client>=6.1.12->ipykernel>=4.5.1->ipywidgets) (2.8.2)\n",
      "Requirement already satisfied: platformdirs>=2.5 in c:\\users\\martin\\anaconda3\\lib\\site-packages (from jupyter-core!=5.0.*,>=4.12->ipykernel>=4.5.1->ipywidgets) (3.10.0)\n",
      "Requirement already satisfied: pywin32>=300 in c:\\users\\martin\\anaconda3\\lib\\site-packages (from jupyter-core!=5.0.*,>=4.12->ipykernel>=4.5.1->ipywidgets) (305.1)\n",
      "Requirement already satisfied: wcwidth in c:\\users\\martin\\anaconda3\\lib\\site-packages (from prompt-toolkit!=3.0.37,<3.1.0,>=3.0.30->ipython>=6.1.0->ipywidgets) (0.2.5)\n",
      "Requirement already satisfied: executing in c:\\users\\martin\\anaconda3\\lib\\site-packages (from stack-data->ipython>=6.1.0->ipywidgets) (0.8.3)\n",
      "Requirement already satisfied: asttokens in c:\\users\\martin\\anaconda3\\lib\\site-packages (from stack-data->ipython>=6.1.0->ipywidgets) (2.0.5)\n",
      "Requirement already satisfied: pure-eval in c:\\users\\martin\\anaconda3\\lib\\site-packages (from stack-data->ipython>=6.1.0->ipywidgets) (0.2.2)\n",
      "Requirement already satisfied: six>=1.5 in c:\\users\\martin\\anaconda3\\lib\\site-packages (from python-dateutil>=2.8.2->jupyter-client>=6.1.12->ipykernel>=4.5.1->ipywidgets) (1.16.0)\n",
      "Requirement already satisfied: numpy in c:\\users\\martin\\anaconda3\\lib\\site-packages (1.24.3)\n",
      "Requirement already satisfied: statsmodels in c:\\users\\martin\\anaconda3\\lib\\site-packages (0.14.0)\n",
      "Requirement already satisfied: numpy>=1.18 in c:\\users\\martin\\anaconda3\\lib\\site-packages (from statsmodels) (1.24.3)\n",
      "Requirement already satisfied: scipy!=1.9.2,>=1.4 in c:\\users\\martin\\anaconda3\\lib\\site-packages (from statsmodels) (1.11.1)\n",
      "Requirement already satisfied: pandas>=1.0 in c:\\users\\martin\\anaconda3\\lib\\site-packages (from statsmodels) (2.0.3)\n",
      "Requirement already satisfied: patsy>=0.5.2 in c:\\users\\martin\\anaconda3\\lib\\site-packages (from statsmodels) (0.5.3)\n",
      "Requirement already satisfied: packaging>=21.3 in c:\\users\\martin\\anaconda3\\lib\\site-packages (from statsmodels) (23.1)\n",
      "Requirement already satisfied: python-dateutil>=2.8.2 in c:\\users\\martin\\anaconda3\\lib\\site-packages (from pandas>=1.0->statsmodels) (2.8.2)\n",
      "Requirement already satisfied: pytz>=2020.1 in c:\\users\\martin\\anaconda3\\lib\\site-packages (from pandas>=1.0->statsmodels) (2023.3.post1)\n",
      "Requirement already satisfied: tzdata>=2022.1 in c:\\users\\martin\\anaconda3\\lib\\site-packages (from pandas>=1.0->statsmodels) (2023.3)\n",
      "Requirement already satisfied: six in c:\\users\\martin\\anaconda3\\lib\\site-packages (from patsy>=0.5.2->statsmodels) (1.16.0)\n",
      "Requirement already satisfied: google-cloud-bigquery in c:\\users\\martin\\anaconda3\\lib\\site-packages (3.25.0)\n",
      "Requirement already satisfied: google-api-core[grpc]!=2.0.*,!=2.1.*,!=2.10.*,!=2.2.*,!=2.3.*,!=2.4.*,!=2.5.*,!=2.6.*,!=2.7.*,!=2.8.*,!=2.9.*,<3.0.0dev,>=1.34.1 in c:\\users\\martin\\anaconda3\\lib\\site-packages (from google-cloud-bigquery) (2.17.1)\n",
      "Requirement already satisfied: google-auth<3.0.0dev,>=2.14.1 in c:\\users\\martin\\anaconda3\\lib\\site-packages (from google-cloud-bigquery) (2.28.0)\n",
      "Requirement already satisfied: google-cloud-core<3.0.0dev,>=1.6.0 in c:\\users\\martin\\anaconda3\\lib\\site-packages (from google-cloud-bigquery) (2.4.1)\n",
      "Requirement already satisfied: google-resumable-media<3.0dev,>=0.6.0 in c:\\users\\martin\\anaconda3\\lib\\site-packages (from google-cloud-bigquery) (2.7.0)\n",
      "Requirement already satisfied: packaging>=20.0.0 in c:\\users\\martin\\anaconda3\\lib\\site-packages (from google-cloud-bigquery) (23.1)\n",
      "Requirement already satisfied: python-dateutil<3.0dev,>=2.7.2 in c:\\users\\martin\\anaconda3\\lib\\site-packages (from google-cloud-bigquery) (2.8.2)\n",
      "Requirement already satisfied: requests<3.0.0dev,>=2.21.0 in c:\\users\\martin\\anaconda3\\lib\\site-packages (from google-cloud-bigquery) (2.31.0)\n",
      "Requirement already satisfied: googleapis-common-protos<2.0.dev0,>=1.56.2 in c:\\users\\martin\\anaconda3\\lib\\site-packages (from google-api-core[grpc]!=2.0.*,!=2.1.*,!=2.10.*,!=2.2.*,!=2.3.*,!=2.4.*,!=2.5.*,!=2.6.*,!=2.7.*,!=2.8.*,!=2.9.*,<3.0.0dev,>=1.34.1->google-cloud-bigquery) (1.62.0)\n",
      "Requirement already satisfied: protobuf!=3.20.0,!=3.20.1,!=4.21.0,!=4.21.1,!=4.21.2,!=4.21.3,!=4.21.4,!=4.21.5,<5.0.0.dev0,>=3.19.5 in c:\\users\\martin\\anaconda3\\lib\\site-packages (from google-api-core[grpc]!=2.0.*,!=2.1.*,!=2.10.*,!=2.2.*,!=2.3.*,!=2.4.*,!=2.5.*,!=2.6.*,!=2.7.*,!=2.8.*,!=2.9.*,<3.0.0dev,>=1.34.1->google-cloud-bigquery) (4.25.3)\n",
      "Requirement already satisfied: grpcio<2.0dev,>=1.33.2 in c:\\users\\martin\\anaconda3\\lib\\site-packages (from google-api-core[grpc]!=2.0.*,!=2.1.*,!=2.10.*,!=2.2.*,!=2.3.*,!=2.4.*,!=2.5.*,!=2.6.*,!=2.7.*,!=2.8.*,!=2.9.*,<3.0.0dev,>=1.34.1->google-cloud-bigquery) (1.62.0)\n",
      "Requirement already satisfied: grpcio-status<2.0.dev0,>=1.33.2 in c:\\users\\martin\\anaconda3\\lib\\site-packages (from google-api-core[grpc]!=2.0.*,!=2.1.*,!=2.10.*,!=2.2.*,!=2.3.*,!=2.4.*,!=2.5.*,!=2.6.*,!=2.7.*,!=2.8.*,!=2.9.*,<3.0.0dev,>=1.34.1->google-cloud-bigquery) (1.62.0)\n",
      "Requirement already satisfied: cachetools<6.0,>=2.0.0 in c:\\users\\martin\\anaconda3\\lib\\site-packages (from google-auth<3.0.0dev,>=2.14.1->google-cloud-bigquery) (5.3.2)\n",
      "Requirement already satisfied: pyasn1-modules>=0.2.1 in c:\\users\\martin\\anaconda3\\lib\\site-packages (from google-auth<3.0.0dev,>=2.14.1->google-cloud-bigquery) (0.2.8)\n",
      "Requirement already satisfied: rsa<5,>=3.1.4 in c:\\users\\martin\\anaconda3\\lib\\site-packages (from google-auth<3.0.0dev,>=2.14.1->google-cloud-bigquery) (4.9)\n",
      "Requirement already satisfied: google-crc32c<2.0dev,>=1.0 in c:\\users\\martin\\anaconda3\\lib\\site-packages (from google-resumable-media<3.0dev,>=0.6.0->google-cloud-bigquery) (1.5.0)\n",
      "Requirement already satisfied: six>=1.5 in c:\\users\\martin\\anaconda3\\lib\\site-packages (from python-dateutil<3.0dev,>=2.7.2->google-cloud-bigquery) (1.16.0)\n",
      "Requirement already satisfied: charset-normalizer<4,>=2 in c:\\users\\martin\\anaconda3\\lib\\site-packages (from requests<3.0.0dev,>=2.21.0->google-cloud-bigquery) (2.0.4)\n",
      "Requirement already satisfied: idna<4,>=2.5 in c:\\users\\martin\\anaconda3\\lib\\site-packages (from requests<3.0.0dev,>=2.21.0->google-cloud-bigquery) (3.4)\n",
      "Requirement already satisfied: urllib3<3,>=1.21.1 in c:\\users\\martin\\anaconda3\\lib\\site-packages (from requests<3.0.0dev,>=2.21.0->google-cloud-bigquery) (1.26.16)\n",
      "Requirement already satisfied: certifi>=2017.4.17 in c:\\users\\martin\\anaconda3\\lib\\site-packages (from requests<3.0.0dev,>=2.21.0->google-cloud-bigquery) (2024.2.2)\n",
      "Requirement already satisfied: pyasn1<0.5.0,>=0.4.6 in c:\\users\\martin\\anaconda3\\lib\\site-packages (from pyasn1-modules>=0.2.1->google-auth<3.0.0dev,>=2.14.1->google-cloud-bigquery) (0.4.8)\n",
      "Requirement already satisfied: pyarrow in c:\\users\\martin\\anaconda3\\lib\\site-packages (11.0.0)\n",
      "Requirement already satisfied: numpy>=1.16.6 in c:\\users\\martin\\anaconda3\\lib\\site-packages (from pyarrow) (1.24.3)\n",
      "Requirement already satisfied: pandas-gbq in c:\\users\\martin\\anaconda3\\lib\\site-packages (0.21.0)\n",
      "Requirement already satisfied: setuptools in c:\\users\\martin\\anaconda3\\lib\\site-packages (from pandas-gbq) (68.0.0)\n",
      "Requirement already satisfied: db-dtypes<2.0.0,>=1.0.4 in c:\\users\\martin\\anaconda3\\lib\\site-packages (from pandas-gbq) (1.2.0)\n",
      "Requirement already satisfied: numpy>=1.16.6 in c:\\users\\martin\\anaconda3\\lib\\site-packages (from pandas-gbq) (1.24.3)\n",
      "Requirement already satisfied: pandas>=1.1.4 in c:\\users\\martin\\anaconda3\\lib\\site-packages (from pandas-gbq) (2.0.3)\n",
      "Requirement already satisfied: pyarrow>=3.0.0 in c:\\users\\martin\\anaconda3\\lib\\site-packages (from pandas-gbq) (11.0.0)\n",
      "Requirement already satisfied: pydata-google-auth>=1.5.0 in c:\\users\\martin\\anaconda3\\lib\\site-packages (from pandas-gbq) (1.8.2)\n",
      "Requirement already satisfied: google-api-core<3.0.0dev,>=2.10.2 in c:\\users\\martin\\anaconda3\\lib\\site-packages (from pandas-gbq) (2.17.1)\n",
      "Requirement already satisfied: google-auth>=2.13.0 in c:\\users\\martin\\anaconda3\\lib\\site-packages (from pandas-gbq) (2.28.0)\n",
      "Requirement already satisfied: google-auth-oauthlib>=0.7.0 in c:\\users\\martin\\anaconda3\\lib\\site-packages (from pandas-gbq) (1.2.0)\n",
      "Requirement already satisfied: google-cloud-bigquery<4.0.0dev,>=3.3.5 in c:\\users\\martin\\anaconda3\\lib\\site-packages (from pandas-gbq) (3.25.0)\n",
      "Requirement already satisfied: google-cloud-bigquery-storage<3.0.0dev,>=2.16.2 in c:\\users\\martin\\anaconda3\\lib\\site-packages (from pandas-gbq) (2.24.0)\n",
      "Requirement already satisfied: packaging>=20.0.0 in c:\\users\\martin\\anaconda3\\lib\\site-packages (from pandas-gbq) (23.1)\n",
      "Requirement already satisfied: googleapis-common-protos<2.0.dev0,>=1.56.2 in c:\\users\\martin\\anaconda3\\lib\\site-packages (from google-api-core<3.0.0dev,>=2.10.2->pandas-gbq) (1.62.0)\n",
      "Requirement already satisfied: protobuf!=3.20.0,!=3.20.1,!=4.21.0,!=4.21.1,!=4.21.2,!=4.21.3,!=4.21.4,!=4.21.5,<5.0.0.dev0,>=3.19.5 in c:\\users\\martin\\anaconda3\\lib\\site-packages (from google-api-core<3.0.0dev,>=2.10.2->pandas-gbq) (4.25.3)\n",
      "Requirement already satisfied: requests<3.0.0.dev0,>=2.18.0 in c:\\users\\martin\\anaconda3\\lib\\site-packages (from google-api-core<3.0.0dev,>=2.10.2->pandas-gbq) (2.31.0)\n",
      "Requirement already satisfied: cachetools<6.0,>=2.0.0 in c:\\users\\martin\\anaconda3\\lib\\site-packages (from google-auth>=2.13.0->pandas-gbq) (5.3.2)\n",
      "Requirement already satisfied: pyasn1-modules>=0.2.1 in c:\\users\\martin\\anaconda3\\lib\\site-packages (from google-auth>=2.13.0->pandas-gbq) (0.2.8)\n",
      "Requirement already satisfied: rsa<5,>=3.1.4 in c:\\users\\martin\\anaconda3\\lib\\site-packages (from google-auth>=2.13.0->pandas-gbq) (4.9)\n",
      "Requirement already satisfied: requests-oauthlib>=0.7.0 in c:\\users\\martin\\anaconda3\\lib\\site-packages (from google-auth-oauthlib>=0.7.0->pandas-gbq) (1.3.1)\n",
      "Requirement already satisfied: google-cloud-core<3.0.0dev,>=1.6.0 in c:\\users\\martin\\anaconda3\\lib\\site-packages (from google-cloud-bigquery<4.0.0dev,>=3.3.5->pandas-gbq) (2.4.1)\n",
      "Requirement already satisfied: google-resumable-media<3.0dev,>=0.6.0 in c:\\users\\martin\\anaconda3\\lib\\site-packages (from google-cloud-bigquery<4.0.0dev,>=3.3.5->pandas-gbq) (2.7.0)\n",
      "Requirement already satisfied: python-dateutil<3.0dev,>=2.7.2 in c:\\users\\martin\\anaconda3\\lib\\site-packages (from google-cloud-bigquery<4.0.0dev,>=3.3.5->pandas-gbq) (2.8.2)\n",
      "Requirement already satisfied: proto-plus<2.0.0dev,>=1.22.0 in c:\\users\\martin\\anaconda3\\lib\\site-packages (from google-cloud-bigquery-storage<3.0.0dev,>=2.16.2->pandas-gbq) (1.23.0)\n",
      "Requirement already satisfied: pytz>=2020.1 in c:\\users\\martin\\anaconda3\\lib\\site-packages (from pandas>=1.1.4->pandas-gbq) (2023.3.post1)\n",
      "Requirement already satisfied: tzdata>=2022.1 in c:\\users\\martin\\anaconda3\\lib\\site-packages (from pandas>=1.1.4->pandas-gbq) (2023.3)\n",
      "Requirement already satisfied: grpcio<2.0dev,>=1.33.2 in c:\\users\\martin\\anaconda3\\lib\\site-packages (from google-api-core<3.0.0dev,>=2.10.2->pandas-gbq) (1.62.0)\n",
      "Requirement already satisfied: grpcio-status<2.0.dev0,>=1.33.2 in c:\\users\\martin\\anaconda3\\lib\\site-packages (from google-api-core<3.0.0dev,>=2.10.2->pandas-gbq) (1.62.0)\n",
      "Requirement already satisfied: google-crc32c<2.0dev,>=1.0 in c:\\users\\martin\\anaconda3\\lib\\site-packages (from google-resumable-media<3.0dev,>=0.6.0->google-cloud-bigquery<4.0.0dev,>=3.3.5->pandas-gbq) (1.5.0)\n",
      "Requirement already satisfied: pyasn1<0.5.0,>=0.4.6 in c:\\users\\martin\\anaconda3\\lib\\site-packages (from pyasn1-modules>=0.2.1->google-auth>=2.13.0->pandas-gbq) (0.4.8)\n",
      "Requirement already satisfied: six>=1.5 in c:\\users\\martin\\anaconda3\\lib\\site-packages (from python-dateutil<3.0dev,>=2.7.2->google-cloud-bigquery<4.0.0dev,>=3.3.5->pandas-gbq) (1.16.0)\n",
      "Requirement already satisfied: charset-normalizer<4,>=2 in c:\\users\\martin\\anaconda3\\lib\\site-packages (from requests<3.0.0.dev0,>=2.18.0->google-api-core<3.0.0dev,>=2.10.2->pandas-gbq) (2.0.4)\n",
      "Requirement already satisfied: idna<4,>=2.5 in c:\\users\\martin\\anaconda3\\lib\\site-packages (from requests<3.0.0.dev0,>=2.18.0->google-api-core<3.0.0dev,>=2.10.2->pandas-gbq) (3.4)\n",
      "Requirement already satisfied: urllib3<3,>=1.21.1 in c:\\users\\martin\\anaconda3\\lib\\site-packages (from requests<3.0.0.dev0,>=2.18.0->google-api-core<3.0.0dev,>=2.10.2->pandas-gbq) (1.26.16)\n",
      "Requirement already satisfied: certifi>=2017.4.17 in c:\\users\\martin\\anaconda3\\lib\\site-packages (from requests<3.0.0.dev0,>=2.18.0->google-api-core<3.0.0dev,>=2.10.2->pandas-gbq) (2024.2.2)\n",
      "Requirement already satisfied: oauthlib>=3.0.0 in c:\\users\\martin\\anaconda3\\lib\\site-packages (from requests-oauthlib>=0.7.0->google-auth-oauthlib>=0.7.0->pandas-gbq) (3.2.2)\n",
      "Requirement already satisfied: openpyxl in c:\\users\\martin\\anaconda3\\lib\\site-packages (3.0.10)\n",
      "Requirement already satisfied: et_xmlfile in c:\\users\\martin\\anaconda3\\lib\\site-packages (from openpyxl) (1.1.0)\n"
     ]
    }
   ],
   "source": [
    "# Por favor, no corra este bloque de código si está ejecutando el cuaderno en el binder asociado de los Community-Notebooks del ISB-CGC.\n",
    "# Dicho bloque instala las dependencias necesarias. Por favor, descomente (quite la # de) las líneas de código (salvo las correspondientes a bibliotecas ya instaladas) y ejecútelo sólo una vez.\n",
    "\n",
    "#!pip3 install google.cloud\n",
    "!pip3 install importlib\n",
    "#!pip3 install pandas\n",
    "!pip3 install ipywidgets\n",
    "!pip3 install numpy\n",
    "!pip3 install statsmodels\n",
    "!pip3 install --upgrade google-cloud-bigquery\n",
    "!pip3 install pyarrow\n",
    "!pip3 install pandas-gbq \n",
    "!pip3 install openpyxl\n"
   ]
  },
  {
   "cell_type": "markdown",
   "metadata": {},
   "source": [
    "## 1. Importe bibliotecas de Python"
   ]
  },
  {
   "cell_type": "code",
   "execution_count": 3,
   "metadata": {
    "scrolled": true
   },
   "outputs": [],
   "source": [
    "import sys\n",
    "sys.path.append('../Scripts/') # Para poder utilizar los archivos .py de la carpeta ../Scripts\n",
    "from google.cloud import bigquery\n",
    "import importlib\n",
    "import pandas as pd\n",
    "import DAISY_operations\n",
    "importlib.reload(DAISY_operations)\n",
    "from DAISY_operations import *\n",
    "import ipywidgets as widgets\n",
    "import openpyxl"
   ]
  },
  {
   "cell_type": "code",
   "execution_count": null,
   "metadata": {},
   "outputs": [],
   "source": [
    "if not sys.warnoptions:\n",
    "    import warnings\n",
    "    warnings.simplefilter(\"ignore\")"
   ]
  },
  {
   "cell_type": "markdown",
   "metadata": {
    "tags": []
   },
   "source": [
    "## 2. Autentificación de Google\n",
    "Ejecutar las celdas de BigQuery en este cuaderno requiere un proyecto de Google Cloud y las instrucciones para crear uno pueden encontrarse en la [documentación de Google](https://cloud.google.com/resource-manager/docs/creating-managing-projects#console). Además, la instancia debe estar autorizada para facturar las consultas del proyecto.\n",
    "Para más información sobre cómo iniciarse en la nube, consulte ['Quick Start Guide to ISB-CGC'](https://isb-cancer-genomics-cloud.readthedocs.io/en/latest/sections/HowToGetStartedonISB-CGC.html). Asimismo, puede localizar métodos de autenticación alternativos en la [documentación de Google](https://googleapis.dev/python/google-api-core/latest/auth.html)."
   ]
  },
  {
   "cell_type": "markdown",
   "metadata": {},
   "source": [
    "### * Si está ejecutando este cuaderno en un entorno de máquina virtual de Google (Compute Engine, App Engine, Cloud Run, Cloud Functions): \n",
    "La autenticación debería \"simplemente funcionar\"."
   ]
  },
  {
   "cell_type": "markdown",
   "metadata": {
    "tags": []
   },
   "source": [
    "### * Si la ejecución se realiza en un entorno local: \n",
    "La forma más sencilla de autenticarse es emplear el SDK de Google Cloud."
   ]
  },
  {
   "cell_type": "code",
   "execution_count": null,
   "metadata": {},
   "outputs": [],
   "source": [
    "#Por favor, no corra este bloque de código si ya lo ejecutó en el cuaderno MyBinder.\n",
    "#Si no está ejecutando el cuaderno en MyBinder, por favor asegúrese de que ha instalado Cloud SDK.\n",
    "#Consulte la documentación sobre cómo efectuar la instalción en: https://cloud.google.com/sdk/docs/install\n",
    "#!pip3 install --upgrade google-auth\n",
    "\n",
    "!gcloud auth application-default login\n"
   ]
  },
  {
   "cell_type": "markdown",
   "metadata": {},
   "source": [
    "## 3. Acceda a Google BigQuery con el ID del proyecto\n",
    "Conexión a Bigquery\n",
    "\n"
   ]
  },
  {
   "cell_type": "code",
   "execution_count": null,
   "metadata": {
    "scrolled": true
   },
   "outputs": [],
   "source": [
    "#Sustituya \"my-google-project\" por el identificador de su proyecto.\n",
    "project_id='my-google-project'\n",
    "client = bigquery.Client(project_id)"
   ]
  },
  {
   "cell_type": "markdown",
   "metadata": {},
   "source": [
    "## 4. Predicción de parejas letales sintéticas utilizando diferentes módulos en DAISY"
   ]
  },
  {
   "cell_type": "markdown",
   "metadata": {},
   "source": [
    "Hay tres módulos para inferencias de pares letales sintéticos/letales sintéticos de dosis en DAISY:\n",
    "1. Coexpresión génica por pares. \n",
    "\n",
    "2. Supervivencia genómica del más apto (SoF). \n",
    "\n",
    "3. Examen funcional (FunEx) basado en ARNhc o CRISPR.\n",
    "Puede obtener más información en el artículo original: https://www.sciencedirect.com/science/article/pii/S0092867414009775.\n",
    "\n",
    "En el módulo de coexpresión génica por pares y en el módulo de supervivencia genómica del más apto, utilizaremos los datos del Pan-Cancer Atlas y de la CCLE.<br>\n",
    "En el módulo de examen funcional, utilizaremos datos CRISPR y ARNhc junto con datos de la CCLE. <br>\n",
    "Los datos ómicos utilizados proceden de la versión [DepMapPublic_20Q3](https://depmap.org/portal/data_page/?tab=allData), a excepión de los del cribado con ARNi, que emplean la versión 6 de los conjuntos de datos de [DEMETER2](https://depmap.org/R2-D2/).\n",
    "\n",
    "Los códigos Python necesarios se encuentran en la carpeta ../Scripts/ y son importados al principio."
   ]
  },
  {
   "cell_type": "markdown",
   "metadata": {},
   "source": [
    "### 4.0. Parámetros por defecto para DAISY (puede editarlos)\n",
    "Para la predicción de SDL, sustituya \"SL\" por \"SDL\" e \"Inactive\" por \"Overactive\" en las siguientes líneas de código.\n",
    "\n",
    "Para los procedimientos SOF y FuncExamination, input_mutations es un parámetro opcional. Si no desea utilizarlo, puede omitirlo. "
   ]
  },
  {
   "cell_type": "code",
   "execution_count": null,
   "metadata": {},
   "outputs": [],
   "source": [
    "input_mutations = ['Nonsense_Mutation', 'Frame_Shift_Ins', 'Frame_Shift_Del'] \n",
    "# Parámetros por defecto de DAISY para la predicción de \"SL\":\n",
    "percentile_threshold = 10 # Usado para decidir si el gen está inactivo.\n",
    "cn_threshold = -0.3 # Utilizado para decidir si el gen está inactivo.\n",
    "cor_threshold = 0.5 # Empleado para inferir si dos genes están en una relación de \"SL\".\n",
    "p_threshold = 0.05\n",
    "pval_correction = 'Bonferroni'\n",
    "fdr_level='gene_level' #Puede ser \"gene_level\" o \"analysis_level\".\n",
    "\n",
    "# Para la predicción de \"SDL\", los parámetros de DAISY son:\n",
    "#percentile_threshold = 90\n",
    "#cn_threshold = 0.3 \n",
    "#cor_threshold = 0.5\n",
    "#p_threshold = 0.05\n"
   ]
  },
  {
   "cell_type": "markdown",
   "metadata": {},
   "source": [
    "Los tipos de tumor (\"tumor type\") son los tipos de cáncer del TCGA. Los tipos de cáncer que tienen línes celulares correspondientes se enumeran en el \"combobox\". Haga clic en el tejido o tejidos en los que desea realizar el análisis."
   ]
  },
  {
   "cell_type": "code",
   "execution_count": null,
   "metadata": {
    "scrolled": true
   },
   "outputs": [],
   "source": [
    "TCGA_list=GetTCGASubtypes(client)\n",
    "TCGA_list = [i for i in TCGA_list if i]\n",
    "\n",
    "tumor_type = widgets.SelectMultiple(\n",
    "    options=['pancancer'] + TCGA_list,\n",
    "    value=[],\n",
    "    description='Tumor type',\n",
    "    disabled=False\n",
    ")\n",
    "display(tumor_type)"
   ]
  },
  {
   "cell_type": "markdown",
   "metadata": {},
   "source": [
    "A continuación, tiene que introducir la lista de genes para los que le gustaría encontrar parejas de \"SL/SDL\". \n",
    "Si es posible, emplee sus correspondientes símbolos (abreviaturas) de la HUGO (Organización del Genoma Humano); es decir, los aprobados por el HGNC o HUGO Gene Nomenclature Committee (Comité de Nomenclatura de Genes de HUGO)."
   ]
  },
  {
   "cell_type": "code",
   "execution_count": 1,
   "metadata": {
    "tags": []
   },
   "outputs": [],
   "source": [
    "# Para utilizar su propia lista de genes, cópiela en la carpeta \"Listas_genes\" y reemplace el nombre del archivo_actual (\"Genes_AmiGO2_ruta_biosintesis_NAD.txt\") por el del suyo.\n",
    "# Función para cambiar el formato de la lista de caracteres\n",
    "def cambiar_formato_lista(lista):\n",
    "    # Dividir la lista en líneas y eliminar líneas vacías\n",
    "    lineas = lista.split('\\n')\n",
    "    lineas = [linea.strip() for linea in lineas if linea.strip()]\n",
    "\n",
    "    # Devolver la lista en el formato deseado\n",
    "    return lineas\n",
    "\n",
    "# Ruta del archivo que contiene la lista en el formato actual\n",
    "archivo_actual = 'Listas_genes/Genes_AmiGO2_ruta_biosintesis_NAD.txt'\n",
    "\n",
    "# Lee la lista en el formato actual desde el archivo\n",
    "lista_actual = \"\"\n",
    "with open(archivo_actual, 'r') as archivo:\n",
    "    lista_actual = archivo.read()\n",
    "\n",
    "# Cambia el formato de la lista\n",
    "gene_list = cambiar_formato_lista(lista_actual)"
   ]
  },
  {
   "cell_type": "code",
   "execution_count": 6,
   "metadata": {},
   "outputs": [
    {
     "name": "stdout",
     "output_type": "stream",
     "text": [
      "['NAPRT', 'NADSYN1', 'PTGIS', 'AFMID', 'KMO', 'NMNAT1', 'SLC22A13', 'NNMT', 'PARP16', 'SLC5A8', 'NMRK1', 'HAAO', 'NAMPT', 'ASPDH', 'PARP9', 'NMNAT2', 'PARP10', 'QPRT', 'IDO1', 'NMRK2', 'NMNAT3', 'NAXD', 'KYNU', 'NUDT12', 'IDO2']\n"
     ]
    }
   ],
   "source": [
    "# Opcionalmente puede ejecutarse este bloque de código, para verificar que la lista de genes se ha almacenado correctamente y que tiene el formato adecuado.\n",
    "# Concretamente, imprime la lista ya con el formato deseado.\n",
    "print (gene_list)\n",
    "\n",
    "# Si el resultado es el esperado, ['GENE1', 'GENE2', ... 'GENEn'], entoces puede correr el primer módulo de DAISY."
   ]
  },
  {
   "cell_type": "code",
   "execution_count": 3,
   "metadata": {},
   "outputs": [],
   "source": [
    "# Alternativamente, aunque solo se recomienda si su lista de genes es breve, puede introducir manualmente los genes cambiando el siguiente ejemplo:\n",
    "gene_list=[\"BRCA1\", \"BRCA2\", \"ARID1A\"]"
   ]
  },
  {
   "cell_type": "markdown",
   "metadata": {
    "tags": []
   },
   "source": [
    "### 4.1. Módulo de coexpresión génica por pares\n",
    "En el módulo de coexpresión por pares, DAISY realiza inferencias basadas en la suposición de que los pares de genes letales sintéticos desempeñan un papel en procesos biológicos relacionados y se coexpresan. La expresión génica se midió para datos derivados de pacientes del TCGA y de líneas celulares tumorales de la CCLE. La coexpresión por pares se estima a partir de la correlación de Spearman que calculamos entre cada gen de interés (cada elemento de la lista de genes de consulta) y todos los demás genes. Los pares de genes sintéticos letales candidatos son aquellos con un coeficiente de correlación superior a 0,5 y cuyo valor P corregido por Bonferroni es inferior a 0,05 por defecto (estos parámetros pueden ajustarse a continuación). "
   ]
  },
  {
   "cell_type": "markdown",
   "metadata": {
    "tags": []
   },
   "source": [
    "#### 4.1.1. Módulo de coexpresión génica por pares para el PanCanAtlas"
   ]
  },
  {
   "cell_type": "code",
   "execution_count": null,
   "metadata": {
    "scrolled": true
   },
   "outputs": [],
   "source": [
    "coexp_pancancer = CoexpressionAnalysis(client, 'SL', \"PanCancerAtlas\", gene_list , pval_correction, fdr_level, list(tumor_type.value))\n",
    "try:\n",
    "    coex_pan_intermediate_report=coexp_pancancer.loc[(coexp_pancancer['FDR'] < p_threshold)&(coexp_pancancer['Correlation'] > cor_threshold)]\n",
    "    coexp_pancancer_report=coex_pan_intermediate_report.groupby('Inactive').apply(lambda x: x.sort_values('FDR'))\n",
    "except:\n",
    "    coexp_pancancer_report=pd.DataFrame()\n",
    "    print(\"No results returned.\")\n",
    "    \n",
    "coexp_pancancer_report"
   ]
  },
  {
   "cell_type": "markdown",
   "metadata": {},
   "source": [
    "**Inactive/Overactive** (para \"SL\" y para \"SDL\" respectivamente): El nombre del gen procedente de la lista de entrada.\n",
    "\n",
    "**InactiveDB/OveractiveDB**: El nombre del gen correspondiente en el conjunto de datos (PanCanAtlas).\n",
    "\n",
    "**SL_Candidate**: El par \"SL\" candidato del gen en la misma fila. \n",
    "\n",
    "**#Samples**: El número de muestras que se han utilizado en el cálculo de la correlación.\n",
    "\n",
    "**Correlation**: La correlación rho de Spearman en la expresión génica.\n",
    "\n",
    "**PValue**: El valor p de la correlación de Spearman.\n",
    "\n",
    "**FDR**: Valor p corregido. \n",
    "\n",
    "**Tissue**: El/los tejido/s en el/los que se ha realizado el análisis."
   ]
  },
  {
   "cell_type": "code",
   "execution_count": null,
   "metadata": {},
   "outputs": [],
   "source": [
    "# Si quiere guardar esta tabla como un archivo de Excel, descomente (quite la #) y ejecute la siguiente línea de código.\n",
    "#WriteToExcel(\"CEGP_PCA_SLoSDL_resultados.xlsx\", [coexp_pancancer_report], [\"Resultados CEGP PCA\"])\n",
    "\n",
    "# El libro de Excel resultante se almacena en la misma carpeta en la que se encuentra este flujo de trabajo; es decir, en este caso en \"Example_workflows\"."
   ]
  },
  {
   "cell_type": "markdown",
   "metadata": {},
   "source": [
    "#### 4.1.2. Módulo de coexpresión génica por pares con datos de la CCLE"
   ]
  },
  {
   "cell_type": "code",
   "execution_count": null,
   "metadata": {
    "scrolled": true
   },
   "outputs": [],
   "source": [
    "coexp_CCLE=CoexpressionAnalysis(client, 'SL', 'CCLE', gene_list, pval_correction, fdr_level, list(tumor_type.value ))\n",
    "try: \n",
    "    coex_ccle_intermediate_report=coexp_CCLE.loc[(coexp_CCLE['FDR'] < p_threshold)&(coexp_CCLE['Correlation'] > cor_threshold)]\n",
    "    coexp_CCLE_report=coex_ccle_intermediate_report.groupby('Inactive').apply(lambda x: x.sort_values('FDR'))\n",
    "except:\n",
    "    coexp_CCLE_report=pd.DataFrame()\n",
    "    print(\"No results returned.\")\n",
    "coexp_CCLE_report\n",
    "    "
   ]
  },
  {
   "cell_type": "markdown",
   "metadata": {},
   "source": [
    "El mismo análisis/resultado que con el análisis de coexpresión del Pan-Cancer Atlas, excepto porque el conjunto de datos usado procede de la CCLE."
   ]
  },
  {
   "cell_type": "code",
   "execution_count": null,
   "metadata": {},
   "outputs": [],
   "source": [
    "# Si quiere almacenar esta tabla como un archivo de Excel, descomente (quite la #) y ejecute la siguiente línea de código.\n",
    "#WriteToExcel(\"CEGP_CCLE_SLoSDL_resultados.xlsx\", [coexp_CCLE_report], [\"Resultados CEGP CCLE\"])\n",
    "\n",
    "# El libro de Excel resultante se guarda en la misma carpeta en la que se ubica este flujo de trabajo; es decir, en este caso en \"Example_workflows\"."
   ]
  },
  {
   "cell_type": "markdown",
   "metadata": {
    "tags": []
   },
   "source": [
    "### 4.2. Módulo genómico de supervivencia del más apto\n",
    "El módulo de inferencia de la supervivencia genómica del más apto se basa en la alteración del número de copias del gen en el dominio de búsqueda, dado si el gen de interés es inactivo (o está sobreexpresado) o no. El gen de interés de una muestra se considera inactivo si su expresión es inferior al percentil 10 de todas las muestras y su alteración del número de copias es inferior a -0,3 o si tiene una mutación sin sentido, de desplazamiento de marco o de deleción de marco. El gen de interés de una muestra se considera sobreexpresado si su expresión supera el percentil 90 de todas las muestras y su alteración del número de copias es superior a 0,3 (la sobreexpresión se utiliza en la predicción de pares letales sintéticos de dosis).\n",
    "\n",
    "Se aplica la prueba de suma de rangos unilateral de Wilcoxon (U de Mann-Whitney) a la alteración del número de copias del par letal sintético candidato de cada gen de interés. El mayor número de copias del par letal sintético candidato para las muestras cuyo gen de interés es inactivo (o está sobreexpresado) se considera un indicador de que los genes se encuentran en una relación letal sintética o letal sintética de dosis. Se devuelven los pares \"SL/SDL\" cuyo p-valor corregido por Bonferroni es inferior a 0,05. Este procedimiento de inferencia se aplica a los datos del Pan-Cancer Atlas y de la CCLE por separado."
   ]
  },
  {
   "cell_type": "markdown",
   "metadata": {
    "tags": []
   },
   "source": [
    "#### 4.2.1. Módulo de supervivencia genómica del más apto para los datos del PanCanAtlas"
   ]
  },
  {
   "cell_type": "code",
   "execution_count": null,
   "metadata": {
    "scrolled": true
   },
   "outputs": [],
   "source": [
    "sof_pancancer = SurvivalOfFittest(client, 'SL', \"PanCancerAtlas\", gene_list, percentile_threshold, cn_threshold, pval_correction, fdr_level, list(tumor_type.value), input_mutations)\n",
    "try:\n",
    "    sof_pancancer_intermediate_report=sof_pancancer.loc[(sof_pancancer['FDR'] < p_threshold),]                \n",
    "    sof_pancancer_report=sof_pancancer_intermediate_report.groupby('Inactive').apply(lambda x: x.sort_values('FDR'))\n",
    "except:\n",
    "    sof_pancancer_report=pd.DataFrame()\n",
    "    print(\"No results returned.\") \n",
    "sof_pancancer_report"
   ]
  },
  {
   "cell_type": "markdown",
   "metadata": {},
   "source": [
    "**Inactive/Overactive** (para \"SL\" y para \"SDL\" respectivamente): El nombre del gen procedente de la lista de entrada.\n",
    "\n",
    "**InactiveDB/OveractiveDB**: El nombre del gen correspondiente en el conjunto de datos (Pan-Cancer Atlas).\n",
    "\n",
    "**SL_Candidate**: El par \"SL\" candidato del gen en la misma fila. \n",
    "\n",
    "**#InactiveSamples**: El número de muestras inactivas.\n",
    "\n",
    "**#Samples**: El número total de muestras sobre las que se realiza el análisis.\n",
    "\n",
    "**PValue**: Los valores p para la prueba unilateral no emparejada de Wilcoxon aplicada a los datos de alteración del número de copias somáticas.\n",
    "\n",
    "**FDR**: P-valor corregido.\n",
    "\n",
    "**Tissue**: El/los tejido/s en el/los que se ha efectuado el análisis."
   ]
  },
  {
   "cell_type": "code",
   "execution_count": null,
   "metadata": {},
   "outputs": [],
   "source": [
    "# Si quiere guardar esta tabla como un archivo de Excel, descomente (quite la #) y ejecute la siguiente línea de código.\n",
    "#WriteToExcel(\"SoF_PCA_SLoSDL_resultados.xlsx\", [sof_pancancer_report], [\"Resultados SoF PCA\"])\n",
    "\n",
    "# El libro de Excel resultante se almacena en la misma carpeta en la que se localiza este flujo de trabajo; es decir, en este caso en \"Example_workflows\"."
   ]
  },
  {
   "cell_type": "markdown",
   "metadata": {
    "tags": []
   },
   "source": [
    "#### 4.2.2. Genomic survival of fittest module on CCLE data"
   ]
  },
  {
   "cell_type": "code",
   "execution_count": null,
   "metadata": {
    "scrolled": true
   },
   "outputs": [],
   "source": [
    "sof_CCLE = SurvivalOfFittest(client, 'SL', \"CCLE\", gene_list,  percentile_threshold, cn_threshold, pval_correction, fdr_level, list(tumor_type.value), input_mutations)\n",
    "try: \n",
    "    sof_ccle_intermediate_report=sof_CCLE.loc[(sof_CCLE['FDR'] < p_threshold),]\n",
    "    sof_ccle_report=sof_ccle_intermediate_report.groupby('Inactive').apply(lambda x: x.sort_values('FDR'))\n",
    "except:\n",
    "    sof_ccle_report=pd.DataFrame()\n",
    "    print(\"No results returned.\")\n",
    "sof_ccle_report"
   ]
  },
  {
   "cell_type": "markdown",
   "metadata": {},
   "source": [
    "El mismo análisis/resultado que con el análisis de superivivencia del más apto apliacado al Pan-Cancer Atlas, excepto porque el conjunto de datos empleado proviene de la CCLE."
   ]
  },
  {
   "cell_type": "code",
   "execution_count": null,
   "metadata": {},
   "outputs": [],
   "source": [
    "# Si quiere almacenar esta tabla como un archivo de Excel, descomente (quite la #) y ejecute la siguiente línea de código.\n",
    "#WriteToExcel(\"SoF_CCLE_SLoSDL_resultados.xlsx\", [sof_ccle_report], [\"Resultados SoF CCLE\"])\n",
    "\n",
    "# El libro de Excel resultante se guarda en la misma carpeta en la que se ecuentra este flujo de trabajo; es decir, en este caso en \"Example_workflows\"."
   ]
  },
  {
   "cell_type": "markdown",
   "metadata": {
    "tags": []
   },
   "source": [
    "### 4.3. Módulo de inferencia de examen funcional\n",
    "El fundamento del módulo de inferencia de examen funcional es que si la pareja letal sintética de un gen está inactiva en una muestra dada, la inactivación posterior de ese gen será letal. Por lo tanto, para un gen de interés, primero definimos dos grupos para la prueba, uno en el que el gen estaba inactivo y otro en el que no lo estaba. A continuación, realizamos una prueba de suma de rangos de Wilcoxon unilateral (U de Mann-Whitney) sobre la sensibilidad \"knockdown\"/\"knockout\" de los pares letales sintéticos candidatos de interés. Una menor viabilidad asociada a una mayor sensibilidad al silenciamiento/bloqueo génico es un indicador de una posible interacción de letalidad sintética (\"SLI\"). Se devuelven las parejas letales sintéticas para las que el valor P del resultado de la prueba es inferior a 0,05. Este procedimiento de inferencia se aplica a las puntuaciones de dependencia génica o de efecto génico para los conjuntos de datos de ARNhc y CRISPR por separado."
   ]
  },
  {
   "cell_type": "markdown",
   "metadata": {
    "tags": []
   },
   "source": [
    "#### 4.3.1. Módulo de inferencia de exámenes funcionales basado en CRISPR"
   ]
  },
  {
   "cell_type": "code",
   "execution_count": null,
   "metadata": {},
   "outputs": [],
   "source": [
    "crispr_result = FunctionalExamination(client,'SL', \"CRISPR\", gene_list, percentile_threshold, \n",
    "                                      cn_threshold, pval_correction,  fdr_level, list(tumor_type.value), input_mutations )\n",
    "try:\n",
    "    crispr_intermediate_report=crispr_result.loc[(crispr_result['PValue'] < p_threshold),]\n",
    "    crispr_report=crispr_intermediate_report.groupby('Inactive').apply(lambda x: x.sort_values('PValue'))\n",
    "except:\n",
    "    crispr_report=pd.DataFrame()\n",
    "    print(\"No results returned.\")\n",
    "crispr_report   "
   ]
  },
  {
   "cell_type": "markdown",
   "metadata": {},
   "source": [
    "**Inactive/Overactive** (para \"SL\" y para \"SDL\" respectivamente): El nombre del gen procedente de la lista de entrada.\n",
    "\n",
    "**InactiveDB/OveractiveDB**: El nombre del gen correspondiente en el conjunto de datos (Pan-Cancer Atlas).\n",
    "\n",
    "**SL_Candidate**: El par SL candidato del gen en la misma fila.  \n",
    "\n",
    "**#InactiveSamples**: El número de muestras inactivas.\n",
    "\n",
    "**#Samples**: El número total de muestras sobre las que se lleva a cabo el análisis. \n",
    "\n",
    "**PValue**: Los p-valores para la prueba unilateral pareada de Wilcoxon sobre los datos de esencialidad del gen CRISPR.\n",
    "\n",
    "**FDR**: Valor p corregido.\n",
    "\n",
    "**Tissue**: El/los tejido/s en el/los que se ha realizado el análisis."
   ]
  },
  {
   "cell_type": "code",
   "execution_count": null,
   "metadata": {},
   "outputs": [],
   "source": [
    "# Si quiere guardar esta tabla como un archivo de Excel, descomente (quite la #) y ejecute la siguiente línea de código.\n",
    "#WriteToExcel(\"FunEx_CRISPR_SLoSDL_resultados.xlsx\", [crispr_report], [\"Resultados FunEx CRISPR\"])\n",
    "\n",
    "# El libro de Excel resultante se almacena en la misma carpeta en la que se ubica este flujo de trabajo; es decir, en este caso en \"Example_workflows\"."
   ]
  },
  {
   "cell_type": "markdown",
   "metadata": {},
   "source": [
    "#### 4.3.2. Módulo de inferencia de exámenes funcionales basado en ARNhc"
   ]
  },
  {
   "cell_type": "code",
   "execution_count": null,
   "metadata": {
    "scrolled": true
   },
   "outputs": [],
   "source": [
    "shRNA_result = FunctionalExamination(client, 'SL', \"shRNA\", gene_list , percentile_threshold, \\\n",
    "                                     cn_threshold, pval_correction,  fdr_level, list(tumor_type.value),input_mutations)\n",
    "try:\n",
    "    shRNA_intermediate_report=shRNA_result.loc[(shRNA_result['PValue'] < p_threshold),]\n",
    "    shRNA_report=shRNA_intermediate_report.groupby('Inactive').apply(lambda x: x.sort_values('PValue'))\n",
    "    \n",
    "except:\n",
    "    shRNA_report=pd.DataFrame()\n",
    "    print(\"No results returned.\")\n",
    "shRNA_report"
   ]
  },
  {
   "cell_type": "markdown",
   "metadata": {},
   "source": [
    "El mismo análisis/resultado que con el análisis de Examen Funcional CRISPR, excepto que se usa el conjunto de datos \"shRNA- gene dependency\"."
   ]
  },
  {
   "cell_type": "code",
   "execution_count": null,
   "metadata": {},
   "outputs": [],
   "source": [
    "# Si quiere almacenar esta tabla como un archivo de Excel, descomente (quite la #) y ejecute la siguiente línea de código.\n",
    "#WriteToExcel(\"FunEx_ARNhc_SLoSDL_resultados.xlsx\", [shRNA_report], [\"Resultados FunEx ARNhc\"])\n",
    "\n",
    "# El libro de Excel resultante se guarda en la misma carpeta en la que se localiza este flujo de trabajo; es decir, en este caso en \"Example_workflows\"."
   ]
  },
  {
   "cell_type": "markdown",
   "metadata": {},
   "source": [
    "## 5. Integración de resultados"
   ]
  },
  {
   "cell_type": "markdown",
   "metadata": {},
   "source": [
    "### 5.1. Integración de los resultados de coexpresión génica por pares del PanCanAtlas y de la CCLE\n",
    "Se efectúa la unión de los resultados del Pan-Cancer Atlas y de la CCLE."
   ]
  },
  {
   "cell_type": "code",
   "execution_count": null,
   "metadata": {
    "scrolled": true
   },
   "outputs": [],
   "source": [
    "try:\n",
    "    coexpression_result = UnionResults([coexp_pancancer_report, coexp_CCLE_report],'SL', ['FDR', 'FDR'],  list(tumor_type.value))\n",
    "    coexpression_result=coexpression_result.sort_values('Inactive')\n",
    "except:\n",
    "    coexpression_result=pd.DataFrame()\n",
    "    print(\"No Result From Pairwise Co-expression Inference Procedure\")\n",
    "    \n",
    "coexpression_result"
   ]
  },
  {
   "cell_type": "markdown",
   "metadata": {},
   "source": [
    "**Inactive**: El gen de entrada del usuario.\n",
    "\n",
    "**SL_Candidate/SDL_Candidate**: El par \"SL\" o \"SDL\" candidato. \n",
    "\n",
    "**p values or FDRs**: El valor p agregado o FDR obtenido con el método de Fisher.\n",
    "\n",
    "**Tissue**: El/los tejido/s en el/los que se ha realizado el análisis."
   ]
  },
  {
   "cell_type": "code",
   "execution_count": null,
   "metadata": {},
   "outputs": [],
   "source": [
    "# Con este código puede obtener un libro de Excel con solo los resultados de este método de inferencia. Si no le interesa, puede omitirlo.\n",
    "WriteToExcel(\"CEGP_SLoSDL_resultados.xlsx\", [coexpression_result], [\"Resultados CEGP\"])\n",
    "\n",
    "# Dicho archivo de Excel resultante se almacena en la misma carpeta en la que se ecuentra este flujo de trabajo; es decir, en este caso en \"Example_workflows\"."
   ]
  },
  {
   "cell_type": "markdown",
   "metadata": {},
   "source": [
    "### 5.2. Integración de los resultados de supervivencia del más apto del PanCanAtlas y de la CCLE\n",
    "Se realiza la unión de los resultados del Pan-Cancer Atlas y de la CCLE. "
   ]
  },
  {
   "cell_type": "code",
   "execution_count": null,
   "metadata": {},
   "outputs": [],
   "source": [
    "try:\n",
    "    sof_result = UnionResults([sof_ccle_report, sof_pancancer_report],  'SL', ['FDR', 'FDR'], list(tumor_type.value))\n",
    "    sof_result=sof_result.sort_values('Inactive')\n",
    "except:\n",
    "    sof_result=pd.DataFrame()\n",
    "    print(\"No Result From Survival of Fittest Inference Procedure\")\n",
    "sof_result    "
   ]
  },
  {
   "cell_type": "markdown",
   "metadata": {},
   "source": [
    "**Inactive**: El nombre del gen inactivo.\n",
    "\n",
    "**SL_Candidate/SDL_Candidate**: La pareja \"SL\" o \"SDL\" candidata. \n",
    "\n",
    "**p values or FDRs**: El p-valor agregado o FDR obtenido con la prueba de Fisher.\n",
    "\n",
    "**Tissue**: El/los tejido/s en el/los que se llevó a cabo el análisis."
   ]
  },
  {
   "cell_type": "code",
   "execution_count": null,
   "metadata": {},
   "outputs": [],
   "source": [
    "# Con este código puede obtener un libro de Excel con solo los resultados de este método de inferencia. \n",
    "# Si no le interesa, puede saltarlo.\n",
    "WriteToExcel(\"SoF_SLoSDL_resultados.xlsx\", [sof_result], [\"Resultados SoF\"])\n",
    "\n",
    "# Dicho archivo de Excel resultante se guarda en la misma carpeta en la que se ubica este flujo de trabajo; es decir, en este caso en \"Example_workflows\"."
   ]
  },
  {
   "cell_type": "markdown",
   "metadata": {},
   "source": [
    "### 5.3. Integración del módulo de inferencia de examen funcional basado CRISPR y en ARNhc.\n",
    "Informamos de la unión de los resultados de los conjuntos de datos basados en CRISPR y ARNhc. "
   ]
  },
  {
   "cell_type": "code",
   "execution_count": null,
   "metadata": {},
   "outputs": [],
   "source": [
    "try:\n",
    "    functional_screening_result = UnionResults([crispr_report, shRNA_report],'SL', ['PValue', 'PValue'], list(tumor_type.value))\n",
    "    functional_screening_result=functional_screening_result.sort_values('Inactive')\n",
    "    \n",
    "except:\n",
    "    functional_screening_result=pd.DataFrame()\n",
    "    print(\"No Result From Functional Examination Inference Procedure\")\n",
    "functional_screening_result    "
   ]
  },
  {
   "cell_type": "markdown",
   "metadata": {},
   "source": [
    "**Inactive**: El nombre del gen inactivo.\n",
    "\n",
    "**SL_Candidate/SDL_Candidate**: El par \"SL\" o \"SDL\" candidato.\n",
    "\n",
    "**p values or FDRs**: El valor p agregado o FDR obtenido con la prueba de Fisher.\n",
    "\n",
    "**Tissue**: El/los tejido/s en el/los que se efectuó el análisis."
   ]
  },
  {
   "cell_type": "code",
   "execution_count": null,
   "metadata": {},
   "outputs": [],
   "source": [
    "# Con este código puede obtener un libro de Excel con solo los resultados de este método de inferencia. \n",
    "# Si no le interesa, puede omitirlo.\n",
    "WriteToExcel(\"FunEx_SLoSDL_resultados.xlsx\", [functional_screening_result], [\"Resultados FunEx\"])\n",
    "\n",
    "# Dicho archivo de Excel resultante se almacena en la misma carpeta en la que se localiza este flujo de trabajo; es decir, en este caso en \"Example_workflows\"."
   ]
  },
  {
   "cell_type": "markdown",
   "metadata": {},
   "source": [
    "### 5.4. Fusión de los resultados de los tres procedimientos de inferencia\n",
    "La intersección de pares de \"SL\" de los distintos procedimientos de inferencia compone la lista final."
   ]
  },
  {
   "cell_type": "code",
   "execution_count": null,
   "metadata": {
    "scrolled": true
   },
   "outputs": [],
   "source": [
    "try:\n",
    "    all_merged_results = MergeResults([coexpression_result, sof_result, functional_screening_result], 'SL',  list(tumor_type.value))\n",
    "    all_merged_results=all_merged_results.sort_values('Inactive')\n",
    "except:\n",
    "    all_merged_results=pd.DataFrame()\n",
    "    print(\"No results found\")\n",
    "all_merged_results"
   ]
  },
  {
   "cell_type": "markdown",
   "metadata": {},
   "source": [
    "**Inactive/Overactive**: El gen de entrada del usuario.\n",
    "\n",
    "\n",
    "**SL/SDL candidate**: La pareja \"SL/SDL\" inferida del gen en la misma fila."
   ]
  },
  {
   "cell_type": "markdown",
   "metadata": {},
   "source": [
    "Los resultados también pueden guardarse en un archivo de Excel, el cual aparecerá en la misma carpeta en la que se encuentra este flujo de trabajo; es decir, en este caso en \"Example_workflows\"."
   ]
  },
  {
   "cell_type": "code",
   "execution_count": null,
   "metadata": {},
   "outputs": [],
   "source": [
    "WriteToExcel(\"DAISY_SLoSDL_resultados.xlsx\", [all_merged_results], [\"Resultados finales\"])"
   ]
  }
 ],
 "metadata": {
  "kernelspec": {
   "display_name": "Python 3 (ipykernel)",
   "language": "python",
   "name": "python3"
  },
  "language_info": {
   "codemirror_mode": {
    "name": "ipython",
    "version": 3
   },
   "file_extension": ".py",
   "mimetype": "text/x-python",
   "name": "python",
   "nbconvert_exporter": "python",
   "pygments_lexer": "ipython3",
   "version": "3.11.5"
  }
 },
 "nbformat": 4,
 "nbformat_minor": 4
}
