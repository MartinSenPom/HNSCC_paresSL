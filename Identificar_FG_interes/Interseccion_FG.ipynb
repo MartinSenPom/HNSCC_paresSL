{
 "cells": [
  {
   "cell_type": "markdown",
   "id": "09ea7f90-b580-43e7-920d-d6fd3248f0c1",
   "metadata": {},
   "source": [
    "# Herramientas para la búsqueda de firmas de genes comunes con pares SL relevantes\n",
    "```\n",
    "Autor:  Martín Sende Pombo (email: martinsendepombo@outlook.com)\n",
    "Se utilizó ChatGPT 3.5 como asistente de programación.\n",
    "Creado: 11-06-2024\n",
    "Última modificación: 13-08-2024\n",
    "Propósito: Este cuaderno de Jupyter contiene herramientas destinadas a facilitar la identificación de las firmas de expresión génica, que superaron tanto el cribado con blitzGSEA como con la API de STRING.\n",
    "```\n",
    "Copyright (C) 2024  Martín Sende Pombo\n",
    "\n",
    "    Este programa es software libre: puede redistribuirlo y/o modificarlo\n",
    "    bajo los términos de la Licencia Pública General de GNU publicada por la\n",
    "    Free Software Foundation, ya sea la versión 3 de la Licencia,\n",
    "    o (a su elección) cualquier versión posterior.\n",
    "\n",
    "    Este programa se distribuye con la esperanza de que sea útil,\n",
    "    pero SIN NINGUNA GARANTÍA; ni siquiera la garantía implícita\n",
    "    de COMERCIABILIDAD o IDONEIDAD PARA UN PROPÓSITO PARTICULAR.\n",
    "    Consulte la Licencia Pública General GNU para más detalles.\n",
    "\n",
    "    Debería haber recibido una copia de la Licencia Pública General\n",
    "    GNU junto con este programa. Si no es así, consulte <https://www.gnu.org/licenses/>."
   ]
  },
  {
   "cell_type": "markdown",
   "id": "eecf237c-29a4-429e-a782-d6d58580ec8a",
   "metadata": {},
   "source": [
    "## Generación de listas de genes con relevancia estadísica y funcional o de interés"
   ]
  },
  {
   "cell_type": "markdown",
   "id": "bd2c2fa0-6a5b-4a16-b745-342d9f24a755",
   "metadata": {},
   "source": [
    "Este script recorre los archivos en la carpeta indicada (corresponden a firmas de expresión génica), elimina la terminación presente en sus nombres y guarda la lista resultante en un archivo .txt en la carpeta de destino, con cada nombre de archivo separado por una tabulación."
   ]
  },
  {
   "cell_type": "markdown",
   "id": "380aa372-45b9-4cdf-95e2-8c01316f8ff7",
   "metadata": {},
   "source": [
    "Ejemplos de nombres: blitzGSEA_HPV+p16_V1_CEGP_MSigDB, STRING_PT_V1_CEGP, DAISY_HPV-p16_V2_SoF"
   ]
  },
  {
   "cell_type": "code",
   "execution_count": 36,
   "id": "6fb3f891-3d38-4329-a20a-cbb31a90fd8d",
   "metadata": {
    "tags": []
   },
   "outputs": [
    {
     "name": "stdin",
     "output_type": "stream",
     "text": [
      "Introduce el nombre del listado que se creará:  blitzGSEA_HPV+p16_V2_CEGP_MSigDB\n"
     ]
    },
    {
     "name": "stdout",
     "output_type": "stream",
     "text": [
      "Archivo guardado en: Listas_genes_relevantes\\blitzGSEA_HPV+p16_V2_CEGP_MSigDB.txt\n",
      "Proceso completado.\n"
     ]
    }
   ],
   "source": [
    "import os\n",
    "\n",
    "def listar_archivos_y_guardar(origen, destino, nombre_archivo_salida, terminaciones_eliminar):\n",
    "    # Ordenar las terminaciones de la más larga a la más corta para evitar coincidencias parciales incorrectas\n",
    "    terminaciones_eliminar.sort(key=len, reverse=True)\n",
    "    \n",
    "    # Listar todos los archivos en la carpeta origen\n",
    "    archivos = os.listdir(origen)\n",
    "    \n",
    "    # Crear una lista para almacenar los nombres de los archivos sin las terminaciones deseadas\n",
    "    lista_nombres = []\n",
    "    \n",
    "    # Procesar cada archivo\n",
    "    for archivo in archivos:\n",
    "        # Verificar si el archivo tiene alguna de las terminaciones en la lista terminaciones_eliminar\n",
    "        for terminacion in terminaciones_eliminar:\n",
    "            if archivo.endswith(terminacion):\n",
    "                # Eliminar la terminación y agregar el nombre a la lista\n",
    "                nombre_sin_terminacion = archivo[: -len(terminacion)]\n",
    "                lista_nombres.append(nombre_sin_terminacion)\n",
    "                break\n",
    "    \n",
    "    # Crear la ruta completa para el archivo de salida\n",
    "    ruta_archivo_salida = os.path.join(destino, nombre_archivo_salida)\n",
    "    \n",
    "    # Crear la carpeta de destino si no existe\n",
    "    os.makedirs(destino, exist_ok=True)\n",
    "    \n",
    "    # Guardar la lista de nombres en un archivo .txt con nombres separados por tabulación\n",
    "    with open(ruta_archivo_salida, 'w') as archivo_salida:\n",
    "        archivo_salida.write(\"\\t\".join(lista_nombres))\n",
    "    \n",
    "    print(f\"Archivo guardado en: {ruta_archivo_salida}\")\n",
    "\n",
    "# Ejemplo de uso\n",
    "carpeta_origen = \"Archivos_listar\"\n",
    "carpeta_destino = \"Listas_genes_relevantes\"\n",
    "terminaciones_eliminar = [\"_2_resultados_GSEA_significativos.xlsx\", \"_resultados_GSEA_significativos.xlsx\"]\n",
    "nombre_archivo_salida = input(\"Introduce el nombre del listado que se creará: \") + \".txt\"\n",
    "\n",
    "listar_archivos_y_guardar(carpeta_origen, carpeta_destino, nombre_archivo_salida, terminaciones_eliminar)\n",
    "\n",
    "print(\"Proceso completado.\")"
   ]
  },
  {
   "cell_type": "markdown",
   "id": "b37e3102-1d1e-488f-ad90-7d527057c8f4",
   "metadata": {
    "tags": []
   },
   "source": [
    "### Eliminación de archivos de la carpeta \"Archivos_listar\""
   ]
  },
  {
   "cell_type": "code",
   "execution_count": 38,
   "id": "d70a0da1-f0c9-4f0d-b3ca-3a630267529a",
   "metadata": {
    "tags": []
   },
   "outputs": [
    {
     "name": "stdout",
     "output_type": "stream",
     "text": [
      "Proceso completado.\n"
     ]
    }
   ],
   "source": [
    "import os\n",
    "\n",
    "# Carpeta que contiene lo archivos a borrar\n",
    "carpeta = \"Archivos_listar\"\n",
    "\n",
    "def eliminar_archivos(carpeta):\n",
    "    # Listar todos los elementos en la carpeta\n",
    "    for filename in os.listdir(carpeta):\n",
    "        file_path = os.path.join(carpeta, filename)\n",
    "        try:\n",
    "            # Verificar si es un archivo y eliminarlo\n",
    "            if os.path.isfile(file_path) or os.path.islink(file_path):\n",
    "                os.unlink(file_path)\n",
    "                #print(f'Archivo {file_path} eliminado')\n",
    "            # Si es un directorio, lo ignoramos\n",
    "        except Exception as e:\n",
    "            print(f'No se pudo eliminar {file_path}. Razón: {e}')\n",
    "\n",
    "# Eliminar archivos en la carpeta\n",
    "eliminar_archivos(carpeta)\n",
    "    \n",
    "print(\"Proceso completado.\")"
   ]
  },
  {
   "cell_type": "markdown",
   "id": "124179eb-c584-4484-946a-46522248b979",
   "metadata": {},
   "source": [
    "## Obtención de genes comunes entre varias listas de genes"
   ]
  },
  {
   "cell_type": "markdown",
   "id": "1e90e005-4d89-4556-a5ef-a9b6350c7ab8",
   "metadata": {},
   "source": [
    "Este script lee todos los archivos .txt presentes en la carpeta Lista_genes_relevantes, encuentra las cadenas de caracteres comunes a todos esos archivos, y guarda los términos comunes en un nuevo archivo .txt denominado Interseccion_genes en la carpeta Listas_genes_definitivas. Si no se encuentra ningún gen común, se indicará en pantalla."
   ]
  },
  {
   "cell_type": "markdown",
   "id": "7fd7b94c-d8a3-4512-a2ec-e3836a3e1af9",
   "metadata": {},
   "source": [
    "Ejemplos de nombres: DAISY_PT&HPV-_V2_SoF, STRING&blitzGSEA_HPV+_V1_CEGP_MSigDB, PT&HPV+(MSigDB)_V1_CEGP"
   ]
  },
  {
   "cell_type": "code",
   "execution_count": 44,
   "id": "f49db03e-c596-4744-b042-55e46ba0366d",
   "metadata": {
    "tags": []
   },
   "outputs": [
    {
     "name": "stdin",
     "output_type": "stream",
     "text": [
      "Escriba un nombre para el archivo resultante de la intersección de los genes de las listas:  PT&HPV+(MSigDB)_V2_CEGP\n"
     ]
    },
    {
     "name": "stdout",
     "output_type": "stream",
     "text": [
      "No se encontraron genes comunes en todas las listas.\n",
      "Proceso completado.\n"
     ]
    }
   ],
   "source": [
    "import os\n",
    "\n",
    "def leer_archivos_txt(carpeta):\n",
    "    listas = []\n",
    "    archivos = [f for f in os.listdir(carpeta) if f.endswith('.txt')]\n",
    "    \n",
    "    for archivo in archivos:\n",
    "        ruta_archivo = os.path.join(carpeta, archivo)\n",
    "        with open(ruta_archivo, 'r') as f:\n",
    "            contenido = f.read()\n",
    "            lista = contenido.split(\"\\t\")\n",
    "            listas.append(set(lista))\n",
    "    \n",
    "    return listas\n",
    "\n",
    "def encontrar_interseccion(listas):\n",
    "    if not listas:\n",
    "        return set()\n",
    "    \n",
    "    interseccion = listas[0]\n",
    "    for lista in listas[1:]:\n",
    "        interseccion &= lista\n",
    "    \n",
    "    return interseccion\n",
    "\n",
    "def guardar_interseccion(interseccion, destino, nombre_archivo):\n",
    "    ruta_archivo_salida = os.path.join(destino, nombre_archivo)\n",
    "    \n",
    "    # Crear la carpeta de destino si no existe\n",
    "    os.makedirs(destino, exist_ok=True)\n",
    "    \n",
    "    if interseccion:\n",
    "        with open(ruta_archivo_salida, 'w') as archivo_salida:\n",
    "            archivo_salida.write(\"\\t\".join(interseccion))\n",
    "        print(f\"Archivo guardado en: {ruta_archivo_salida}\")\n",
    "    else:\n",
    "        print(\"No se encontraron genes comunes en todas las listas.\")\n",
    "\n",
    "# Ejemplo de uso\n",
    "carpeta_origen = \"Listas_genes_relevantes\"\n",
    "carpeta_destino = \"Listas_genes_comunes\"\n",
    "nombre_archivo_salida = input(\"Escriba un nombre para el archivo resultante de la intersección de los genes de las listas: \") + \".txt\"\n",
    "\n",
    "listas = leer_archivos_txt(carpeta_origen)\n",
    "interseccion = encontrar_interseccion(listas)\n",
    "guardar_interseccion(interseccion, carpeta_destino, nombre_archivo_salida)\n",
    "\n",
    "print(\"Proceso completado.\")"
   ]
  },
  {
   "cell_type": "markdown",
   "id": "b82bda2b-2332-4687-80be-18d7bf9c31bd",
   "metadata": {},
   "source": [
    "## Vaciado de las carpetas de archivos\n",
    "Tras copiar los archivos que considere de interés a otra ubicación, puede ejecutar este código para borrar todos los archivos presentes en las carpetas indicadas en la \"Lista de las carpetas\"."
   ]
  },
  {
   "cell_type": "code",
   "execution_count": 46,
   "id": "d2ae4bdf-87cd-4e24-909e-2a20d89d896e",
   "metadata": {
    "tags": []
   },
   "outputs": [
    {
     "name": "stdout",
     "output_type": "stream",
     "text": [
      "Archivo Listas_genes_relevantes\\DAISY_PT&HPV+_V2_CEGP.txt eliminado\n",
      "Archivo Listas_genes_relevantes\\STRING&blitzGSEA_HPV+_V2_CEGP_MSigDB.txt eliminado\n",
      "Archivo Listas_genes_relevantes\\STRING&blitzGSEA_PT_V2_CEGP.txt eliminado\n",
      "Proceso completado.\n"
     ]
    }
   ],
   "source": [
    "import os\n",
    "\n",
    "# Lista de las carpetas\n",
    "carpetas = [\n",
    "    \"Archivos_listar\",\n",
    "    \"Listas_genes_relevantes\",\n",
    "    \"Listas_genes_comunes\"\n",
    "]\n",
    "\n",
    "def eliminar_archivos(carpeta):\n",
    "    # Listar todos los elementos en la carpeta\n",
    "    for filename in os.listdir(carpeta):\n",
    "        file_path = os.path.join(carpeta, filename)\n",
    "        try:\n",
    "            # Verificar si es un archivo y eliminarlo\n",
    "            if os.path.isfile(file_path) or os.path.islink(file_path):\n",
    "                os.unlink(file_path)\n",
    "                print(f'Archivo {file_path} eliminado')\n",
    "            # Si es un directorio, lo ignoramos\n",
    "        except Exception as e:\n",
    "            print(f'No se pudo eliminar {file_path}. Razón: {e}')\n",
    "\n",
    "# Eliminar archivos en cada carpeta\n",
    "for carpeta in carpetas:\n",
    "    eliminar_archivos(carpeta)\n",
    "    \n",
    "print(\"Proceso completado.\")"
   ]
  }
 ],
 "metadata": {
  "kernelspec": {
   "display_name": "Python 3 (ipykernel)",
   "language": "python",
   "name": "python3"
  },
  "language_info": {
   "codemirror_mode": {
    "name": "ipython",
    "version": 3
   },
   "file_extension": ".py",
   "mimetype": "text/x-python",
   "name": "python",
   "nbconvert_exporter": "python",
   "pygments_lexer": "ipython3",
   "version": "3.11.5"
  }
 },
 "nbformat": 4,
 "nbformat_minor": 5
}
