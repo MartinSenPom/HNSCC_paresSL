{
 "cells": [
  {
   "cell_type": "markdown",
   "id": "f0824571-b4e3-4afe-abfc-3049be435794",
   "metadata": {},
   "source": [
    "# Evaluación de la relevancia funcional de las parejas SL mediante STRING\n",
    "```\n",
    "Autor:  Martín Sende Pombo (email: martinsendepombo@outlook.com)\n",
    "Este cuaderno de Jupyter se basa en la documentación para desarrolladores sobre la API (Application Programming Interface) de STRING (Search Tool for the Retrieval of Interacting Genes/Proteins), dispoble en: https://string-db.org/help/api/#string-api\n",
    "Se utilizó ChatGPT 3.5 como asistente de programación. \n",
    "Creado: 09-05-2024\n",
    "Última modificación: 02-07-2024\n",
    "Propósito: Este cuaderno de Jupyter permite emplear las herramientas de la API de STRING, útiles para determinar si existen interacciones entre las proteínas codificadas por el gen de entrada de una firma de expresión génica, y cada uno de sus pares SL predichos computacionalmente.\n",
    "```\n",
    "Copyright (C) 2024  Martín Sende Pombo\n",
    "\n",
    "        Este programa es software libre: puede redistribuirlo y/o modificarlo\n",
    "        bajo los términos de la Licencia Pública General de GNU publicada por la\n",
    "        Free Software Foundation, ya sea la versión 3 de la Licencia,\n",
    "        o (a su elección) cualquier versión posterior.\n",
    "\n",
    "        Este programa se distribuye con la esperanza de que sea útil,\n",
    "        pero SIN NINGUNA GARANTÍA; ni siquiera la garantía implícita\n",
    "        de COMERCIABILIDAD o IDONEIDAD PARA UN PROPÓSITO PARTICULAR.\n",
    "        Consulte la Licencia Pública General GNU para más detalles.\n",
    "\n",
    "        Debería haber recibido una copia de la Licencia Pública General GNU\n",
    "        junto con este programa. Si no es así, consulte <https://www.gnu.org/licenses/>."
   ]
  },
  {
   "cell_type": "code",
   "execution_count": 1,
   "id": "7a74a61e-8390-4a60-b3ce-bca95dbe26a2",
   "metadata": {
    "tags": []
   },
   "outputs": [
    {
     "name": "stdout",
     "output_type": "stream",
     "text": [
      "Requirement already satisfied: requests in c:\\users\\martin\\anaconda3\\lib\\site-packages (2.31.0)\n",
      "Requirement already satisfied: charset-normalizer<4,>=2 in c:\\users\\martin\\anaconda3\\lib\\site-packages (from requests) (2.0.4)\n",
      "Requirement already satisfied: idna<4,>=2.5 in c:\\users\\martin\\anaconda3\\lib\\site-packages (from requests) (3.4)\n",
      "Requirement already satisfied: urllib3<3,>=1.21.1 in c:\\users\\martin\\anaconda3\\lib\\site-packages (from requests) (1.26.16)\n",
      "Requirement already satisfied: certifi>=2017.4.17 in c:\\users\\martin\\anaconda3\\lib\\site-packages (from requests) (2024.2.2)\n"
     ]
    }
   ],
   "source": [
    "!pip3 install requests"
   ]
  },
  {
   "cell_type": "code",
   "execution_count": 2,
   "id": "ba45055f-0a13-411b-bd80-6095d29cda53",
   "metadata": {
    "tags": []
   },
   "outputs": [
    {
     "name": "stdout",
     "output_type": "stream",
     "text": [
      "Requirement already satisfied: openpyxl in c:\\users\\martin\\anaconda3\\lib\\site-packages (3.0.10)\n",
      "Requirement already satisfied: et_xmlfile in c:\\users\\martin\\anaconda3\\lib\\site-packages (from openpyxl) (1.1.0)\n"
     ]
    }
   ],
   "source": [
    "!pip3 install openpyxl"
   ]
  },
  {
   "cell_type": "markdown",
   "id": "6dab178a-86f4-403d-a460-325e80674bcf",
   "metadata": {},
   "source": [
    "## Versión de STRING\n",
    "Versión estable más reciente: https://string-db.org/api/json/version"
   ]
  },
  {
   "cell_type": "code",
   "execution_count": 3,
   "id": "f9b31b5c-50c8-4040-902c-0dc7b07fb0a3",
   "metadata": {
    "tags": []
   },
   "outputs": [],
   "source": [
    "#Versión de STRING seleccionada\n",
    "string_api_url = \"https://version-12-0.string-db.org/api\""
   ]
  },
  {
   "cell_type": "markdown",
   "id": "f6c7e8b0-4d9c-419f-bec7-1f107bbc0300",
   "metadata": {},
   "source": [
    "## Identificador NCBI de la especie\n",
    "Uno de los parámetros que resulta más útil definir para interaccionar con STRING, a través de su API, es el correspondiente a los identificadores de los taxones asignados por el NCBI a las especies (véase el parámetro 'species'). Por ejemplo, el del ser humano (Homo sapiens) es 9606. Puede consultarse el de otros organismos presentes en STRING [aquí](https://string-db.org/cgi/input.pl?input_page_active_form=organisms). Alternativamente, puede buscarse este ID en el [Taxonomy Browser](https://www.ncbi.nlm.nih.gov/Taxonomy/Browser/wwwtax.cgi) del NCBI.\n",
    "\n",
    "Al especificar de qué especie proceden sus proteínas se garantiza una respuesta más rápida del servidor. Además, la API rechazará consultas para redes de más de 10 proteínas sin el organismo especificado."
   ]
  },
  {
   "cell_type": "markdown",
   "id": "3f25b0b3-5306-42f0-b7ad-653bb2582c91",
   "metadata": {
    "tags": []
   },
   "source": [
    "## Asignación de identificadores\n",
    "Puede llamar a nuestra API STRING con nombres comunes de genes, varios sinónimos o incluso identificadores UniProt y números de acceso. Sin embargo, STRING no siempre los entiende, lo que puede dar lugar a errores o incoherencias. Antes de utilizar otros métodos de la API siempre es ventajoso asignar sus identificadores a los que utiliza STRING. Además, STRING resolverá sus propios identificadores más rápidamente, por lo que su herramienta/sitio web verá un beneficio en velocidad si los utiliza. Para cada proteína de entrada STRING coloca el identificador que mejor coincide en la primera fila, por lo que la primera línea será normalmente la correcta.\n",
    "\n",
    "Para más información pulse [aquí](https://string-db.org/cgi/help.pl?subpage=api%23mapping-identifiers)."
   ]
  },
  {
   "cell_type": "markdown",
   "id": "452eb415-3062-41a4-b6d9-5632335c765b",
   "metadata": {
    "jp-MarkdownHeadingCollapsed": true,
    "tags": []
   },
   "source": [
    "### Formatos de salida disponibles:"
   ]
  },
  {
   "cell_type": "markdown",
   "id": "202ba351-4c72-438c-a147-622fdf44475c",
   "metadata": {},
   "source": [
    "| Formato | Descripción |\n",
    "|:--------|:------------|\n",
    "| `tsv`| Valores separados por tabuladores, con una línea de encabezamiento |\n",
    "| `tsv-no-header` | Valores separados por tabuladores, sin línea de encabezamiento |\n",
    "| `json` | Formato JSON |\n",
    "| `xml` | Formato XML |"
   ]
  },
  {
   "cell_type": "markdown",
   "id": "df0b6daa-9be0-4798-b806-f11e949fbba7",
   "metadata": {
    "jp-MarkdownHeadingCollapsed": true,
    "tags": []
   },
   "source": [
    "### Parámetros disponibles:"
   ]
  },
  {
   "cell_type": "markdown",
   "id": "e5816ce6-e468-4877-8c5c-70b2cb66f905",
   "metadata": {},
   "source": [
    "| Parámetro | Descripción |\n",
    "|:------|:------------|\n",
    "| `identifiers`| Parámetro obligatorio para varios elementos, por ejemplo, DRD1_HUMAN%0dDRD2_HUMAN |\n",
    "| `echo_query` | Inserta una columna con su identificador de entrada (toma los valores '0' o '1', por defecto es '0') |\n",
    "| `limit` | Limita el número de coincidencias por identificador de consulta (las mejores coincidencias van primero) |\n",
    "| `species` | Identificadores de taxones del NCBI (por ejemplo, Humano es 9606, véase: [organismos de STRING](https://string-db.org/cgi/input.pl?input_page_active_form=organisms)) |\n",
    "| `caller_identity`| Su identificador para la API de STRING |"
   ]
  },
  {
   "cell_type": "markdown",
   "id": "b6f15ff1-b060-4597-b90f-d72a7e90c79b",
   "metadata": {
    "jp-MarkdownHeadingCollapsed": true,
    "tags": []
   },
   "source": [
    "### Ejemplo de código python3"
   ]
  },
  {
   "cell_type": "code",
   "execution_count": 12,
   "id": "c890e76a-4269-4f75-a883-ea569c226ea8",
   "metadata": {
    "tags": []
   },
   "outputs": [
    {
     "name": "stdout",
     "output_type": "stream",
     "text": [
      "Input:\tp53\tSTRING:\t9606.ENSP00000269305\n",
      "Input:\tBRCA1\tSTRING:\t9606.ENSP00000418960\n",
      "Input:\tcdk2\tSTRING:\t9606.ENSP00000266970\n",
      "Input:\tQ99835\tSTRING:\t9606.ENSP00000249373\n"
     ]
    }
   ],
   "source": [
    "#!/usr/bin/env python3\n",
    "\n",
    "##########################################################\n",
    "## Para una lista dada de proteínas el script las resuelve\n",
    "## (si es posible) al identificador STRING que mejor coincida\n",
    "## e imprime el mapeo en pantalla en formato TSV\n",
    "##\n",
    "## Requiere el módulo requests:\n",
    "## escriba \"python -m pip install requests\" en la línea de comandos\n",
    "## (win) o terminal (mac/linux) para instalar el módulo\n",
    "###########################################################\n",
    "\n",
    "import requests ## python -m pip install requests\n",
    "\n",
    "string_api_url = \"https://version-11-5.string-db.org/api\"\n",
    "output_format = \"tsv-no-header\"\n",
    "method = \"get_string_ids\"\n",
    "\n",
    "##\n",
    "## Establecer parámetros\n",
    "##\n",
    "\n",
    "params = {\n",
    "\n",
    "    \"identifiers\" : \"\\r\".join([\"p53\", \"BRCA1\", \"cdk2\", \"Q99835\"]), # tu lista de proteínas\n",
    "    \"species\" : 9606, # identificador NCBI de la especie \n",
    "    \"limit\" : 1, # sólo un (el mejor) identificador por proteína de entrada\n",
    "    \"echo_query\" : 1, # ver sus identificadores de entrada en la salida\n",
    "    \"caller_identity\" : \"www.awesome_app.org\" # nombre de su aplicación\n",
    "\n",
    "}\n",
    "\n",
    "##\n",
    "## Construir URL\n",
    "##\n",
    "\n",
    "\n",
    "request_url = \"/\".join([string_api_url, output_format, method])\n",
    "\n",
    "##\n",
    "## Llamar a STRING\n",
    "##\n",
    "\n",
    "results = requests.post(request_url, data=params)\n",
    "\n",
    "##\n",
    "## Leer y analizar los resultados\n",
    "##\n",
    "\n",
    "for line in results.text.strip().split(\"\\n\"):\n",
    "    l = line.split(\"\\t\")\n",
    "    input_identifier, string_identifier = l[0], l[2]\n",
    "    print(\"Input:\", input_identifier, \"STRING:\", string_identifier, sep=\"\\t\")"
   ]
  },
  {
   "cell_type": "markdown",
   "id": "ff12818d-f090-4136-bb51-55d7ca859670",
   "metadata": {
    "tags": []
   },
   "source": [
    "### Código a ejecutar"
   ]
  },
  {
   "cell_type": "code",
   "execution_count": 7,
   "id": "547091bf-63aa-407a-9a28-27148b68901a",
   "metadata": {
    "tags": []
   },
   "outputs": [
    {
     "name": "stdin",
     "output_type": "stream",
     "text": [
      "¿Qué tipo de archivo son los identificadores: .rnk o .csv?  .csv\n"
     ]
    },
    {
     "name": "stdout",
     "output_type": "stream",
     "text": [
      "Los identificadores de STRING han sido guardados en archivos en la carpeta: Identificadores_STRING\n"
     ]
    }
   ],
   "source": [
    "#!/usr/bin/env python3\n",
    "\n",
    "##########################################################\n",
    "## Para una lista dada de proteínas el script las resuelve\n",
    "## (si es posible) al identificador STRING que mejor coincida\n",
    "## e imprime el mapeo en pantalla en formato TSV\n",
    "##\n",
    "## Requiere el módulo requests:\n",
    "## escriba \"python -m pip install requests\" en la línea de comandos\n",
    "## (win) o terminal (mac/linux) para instalar el módulo\n",
    "###########################################################\n",
    "import os\n",
    "import csv\n",
    "#!pip3 install requests\n",
    "import requests ## python -m pip install requests\n",
    "from time import sleep\n",
    "\n",
    "#string_api_url = \"https://version-12-0.string-db.org/api\"\n",
    "output_format = \"tsv-no-header\"\n",
    "method = \"get_string_ids\"\n",
    "\n",
    "def read_identifiers_from_rnk(file_path):\n",
    "    identifiers = []\n",
    "    with open(file_path, 'r') as file:\n",
    "        for line in file:\n",
    "            identifier = line.strip().split('\\t')[0]\n",
    "            identifiers.append(identifier)\n",
    "    return identifiers\n",
    "\n",
    "def read_identifiers_from_csv(file_path):\n",
    "    identifiers = []\n",
    "    with open(file_path, 'r') as file:\n",
    "        reader = csv.reader(file)\n",
    "        next(reader)  # Skip header\n",
    "        for row in reader:\n",
    "            identifier = row[0]\n",
    "            identifiers.append(identifier)\n",
    "    return identifiers\n",
    "\n",
    "def process_files_in_folder(folder_path, file_extension):\n",
    "    file_identifiers_map = {}\n",
    "    for file_name in os.listdir(folder_path):\n",
    "        if file_name.endswith(file_extension):\n",
    "            file_path = os.path.join(folder_path, file_name)\n",
    "            if file_extension == '.rnk':\n",
    "                identifiers = read_identifiers_from_rnk(file_path)\n",
    "            elif file_extension == '.csv':\n",
    "                identifiers = read_identifiers_from_csv(file_path)\n",
    "            file_identifiers_map[file_name] = identifiers\n",
    "    return file_identifiers_map\n",
    "\n",
    "# Solicitar la carpeta que contiene los archivos\n",
    "folder_path = 'Firmas_genes'\n",
    "\n",
    "# Solicitar el tipo de archivo\n",
    "file_extension = input(\"¿Qué tipo de archivo son los identificadores: .rnk o .csv? \")\n",
    "\n",
    "if file_extension not in ['.rnk', '.csv']:\n",
    "    print(\"Tipo de archivo no válido. Debe ser .rnk o .csv.\")\n",
    "    exit()\n",
    "\n",
    "# Procesar los archivos en la carpeta especificada\n",
    "file_identifiers_map = process_files_in_folder(folder_path, file_extension)\n",
    "\n",
    "##\n",
    "## Establecer parámetros\n",
    "##\n",
    "\n",
    "params = {\n",
    "    \"species\": 9606,  # identificador NCBI de la especie (p.ej., el del humano es 9606)\n",
    "    \"limit\": 1,  # sólo un (el mejor) identificador por proteína de entrada\n",
    "    \"echo_query\": 1,  # ver sus identificadores de entrada en la salida\n",
    "    \"caller_identity\": \"www.facebook.com/MSPCiencias/\"  # nombre de su aplicación\n",
    "}\n",
    "\n",
    "##\n",
    "## Construir URL\n",
    "##\n",
    "\n",
    "request_url = \"/\".join([string_api_url, output_format, method])\n",
    "\n",
    "##\n",
    "## Llamar a STRING y guardar los resultados en archivos .txt\n",
    "##\n",
    "\n",
    "output_folder = 'Identificadores_STRING'\n",
    "if not os.path.exists(output_folder):\n",
    "    os.makedirs(output_folder)\n",
    "\n",
    "for file_name, identifiers in file_identifiers_map.items():\n",
    "    params[\"identifiers\"] = \"\\r\\n\".join(identifiers)\n",
    "    results = requests.post(request_url, data=params)\n",
    "    output_file = os.path.join(output_folder, file_name.replace(file_extension, '_identificadores_STRING.txt'))\n",
    "    with open(output_file, 'w') as f:\n",
    "        for line in results.text.strip().split(\"\\n\"):\n",
    "            l = line.split(\"\\t\")\n",
    "            string_identifier = l[2]\n",
    "            f.write(f\"{string_identifier}\\n\")\n",
    "    # Esperar un segundo antes de la siguiente petición\n",
    "    sleep(1)\n",
    "\n",
    "print(\"Los identificadores de STRING han sido guardados en archivos en la carpeta:\", output_folder)"
   ]
  },
  {
   "cell_type": "markdown",
   "id": "444970e0-ee3b-4459-a356-b7d0a23e88d5",
   "metadata": {
    "jp-MarkdownHeadingCollapsed": true,
    "tags": []
   },
   "source": [
    "### Campos de salida:"
   ]
  },
  {
   "cell_type": "markdown",
   "id": "e65cd4ce-8172-4db8-84bb-6f8159be1106",
   "metadata": {},
   "source": [
    "| Campo | Descripción |\n",
    "|:------|:------------|\n",
    "| `queryItem`| (OPCIONAL) Su proteína de entrada |\n",
    "| `queryIndex` | Posición de la proteína en su entrada (empezando por la posición 0) |\n",
    "| `stringId` | Identificador de STRING |\n",
    "| `ncbiTaxonId` | Identificador de taxón del NCBI |\n",
    "| `taxonName`| Nombre de la especie |\n",
    "| `preferredName`| Nombre común de la proteína |\n",
    "| `annotation`| Anotación de la proteína |"
   ]
  },
  {
   "cell_type": "markdown",
   "id": "c6265069-cfe1-42de-b08e-a8f79342f501",
   "metadata": {
    "tags": []
   },
   "source": [
    "## Obtener el enriquecimiento de la interacción proteína-proteína (opcional)\n",
    "Incluso en ausencia de proteínas anotadas (por ejemplo, en genomas nuevos) STRING puede decirle si su subconjunto de proteínas está relacionado funcionalmente, es decir, si está enriquecido en interacciones en comparación con la distribución de interacciones de fondo en todo el proteoma. La descripción detallada del método de enriquecimiento PPI puede encontrarse [aquí](https://www.ncbi.nlm.nih.gov/pmc/articles/PMC3531103/).\n",
    "\n",
    "Para información adicional pulse [aquí](https://string-db.org/cgi/help.pl?subpage=api%23getting-protein-protein-interaction-enrichment)."
   ]
  },
  {
   "cell_type": "markdown",
   "id": "9de36956-7de0-4275-8334-fb00dd342d70",
   "metadata": {
    "jp-MarkdownHeadingCollapsed": true,
    "tags": []
   },
   "source": [
    "### Formatos de salida disponibles:"
   ]
  },
  {
   "cell_type": "markdown",
   "id": "ef4bcb2f-8dc1-4e18-a765-c4d7fb7d22f5",
   "metadata": {},
   "source": [
    "| Formato | Descripción |\n",
    "|:--------|:------------|\n",
    "| `tsv`| Valores separados por tabuladores, con una línea de encabezamiento |\n",
    "| `tsv-no-header` | Valores separados por tabuladores, sin línea de encabezamiento |\n",
    "| `json` | Formato JSON |\n",
    "| `xml` | Formato XML |"
   ]
  },
  {
   "cell_type": "markdown",
   "id": "004f6811-be70-413b-a639-dcccaab78f29",
   "metadata": {
    "jp-MarkdownHeadingCollapsed": true,
    "tags": []
   },
   "source": [
    "### Parámetros disponibles:"
   ]
  },
  {
   "cell_type": "markdown",
   "id": "92e5684b-7c54-48ef-9e55-9598e9d26074",
   "metadata": {},
   "source": [
    "| Parámetro | Descripción |\n",
    "|:------|:------------|\n",
    "| `identifiers`| Parámetro obligatorio para varios elementos, por ejemplo, DRD1_HUMAN%0dDRD2_HUMAN |\n",
    "| `species` | Identificadores de taxones del NCBI (por ejemplo, Humano es 9606, véase: [organismos de STRING](https://string-db.org/cgi/input.pl?input_page_active_form=organisms)) |\n",
    "| `required_score` | Umbral de significación para incluir una interacción, un número entre 0 y 1000 (por defecto depende de la red) |\n",
    "| `background_string_identifiers` | Con este parámetro puede especificar el proteoma de fondo de su experimento. Sólo se reconocerán los identificadores STRING (cada uno debe ir separado por \"%0d\"), por ejemplo '7227.FBpp0077451%0d7227.FBpp0074373'. Puede asignar identificadores STRING utilizando el método de [asignación de identificadores](https://string-db.org/cgi/help.pl?subpage=api%23mapping-identifiers). |\n",
    "| `caller_identity`| Su identificador para la API de STRING |"
   ]
  },
  {
   "cell_type": "markdown",
   "id": "36d9ecbe-44d1-4352-883e-5ccf01a5f52f",
   "metadata": {
    "jp-MarkdownHeadingCollapsed": true,
    "tags": []
   },
   "source": [
    "### Ejemplo de código python3"
   ]
  },
  {
   "cell_type": "code",
   "execution_count": null,
   "id": "0f71c720-8620-467b-850a-c15d354dd596",
   "metadata": {},
   "outputs": [],
   "source": [
    "#!/usr/bin/env python\n",
    "\n",
    "##############################################################\n",
    "## El script imprime el valor p de STRING proteína-proteína\n",
    "## método de enriquecimiento de interacciones para el conjunto dado de proteínas \n",
    "##\n",
    "## Requiere el módulo de solicitudes:\n",
    "## escriba \"python -m pip install requests\" en la línea de comandos (win)\n",
    "## o terminal (mac/linux) para instalar el módulo\n",
    "##############################################################\n",
    "\n",
    "import requests ## python -m pip install requests\n",
    "\n",
    "string_api_url = \"https://version-11-5.string-db.org/api\"\n",
    "output_format = \"tsv-no-header\"\n",
    "method = \"ppi_enrichment\"\n",
    "\n",
    "##\n",
    "## Construir la solicitud\n",
    "##\n",
    "\n",
    "request_url = \"/\".join([string_api_url, output_format, method])\n",
    "\n",
    "##\n",
    "## Establecer parámetros\n",
    "##\n",
    "\n",
    "my_genes = ['7227.FBpp0074373', '7227.FBpp0077451', '7227.FBpp0077788',\n",
    "            '7227.FBpp0078993', '7227.FBpp0079060', '7227.FBpp0079448']\n",
    "\n",
    "params = {\n",
    "\n",
    "    \"identifiers\" : \"%0d\".join(my_genes), # su/s proteína/s\n",
    "    \"species\" : 7227, # identificador NCBI de la especie  \n",
    "    \"caller_identity\" : \"www.awesome_app.org\" # nombre de su aplicación\n",
    "\n",
    "}\n",
    "\n",
    "##\n",
    "## Llamar a STRING\n",
    "##\n",
    "\n",
    "response = requests.post(request_url, data=params)\n",
    "\n",
    "##\n",
    "## Analiza e imprime la respuesta\n",
    "##\n",
    "\n",
    "for line in response.text.strip().split(\"\\n\"):\n",
    "    pvalue = line.split(\"\\t\")[5]\n",
    "    print(\"P-value:\", pvalue)"
   ]
  },
  {
   "cell_type": "markdown",
   "id": "d9f69586-f7ac-48ed-83ad-ebf8fa134d60",
   "metadata": {},
   "source": [
    "### Código a ejecutar"
   ]
  },
  {
   "cell_type": "code",
   "execution_count": 90,
   "id": "3996031c-1625-4315-a061-762d625cbf54",
   "metadata": {
    "tags": []
   },
   "outputs": [
    {
     "name": "stdout",
     "output_type": "stream",
     "text": [
      "Proceso completado.\n"
     ]
    }
   ],
   "source": [
    "#!/usr/bin/env python\n",
    "\n",
    "##############################################################\n",
    "## El script imprime el valor p de STRING proteína-proteína\n",
    "## método de enriquecimiento de interacciones para el conjunto dado de proteínas \n",
    "##\n",
    "## Requiere el módulo de solicitudes:\n",
    "## escriba \"python -m pip install requests\" en la línea de comandos (win)\n",
    "## o terminal (mac/linux) para instalar el módulo\n",
    "##############################################################\n",
    "import os\n",
    "#!pip3 install requests\n",
    "import requests ## python -m pip install requests\n",
    "import time\n",
    "\n",
    "# Directorio de entrada y salida\n",
    "input_directory = \"Identificadores_STRING\"\n",
    "output_directory = \"Resultados_EIPP\"\n",
    "\n",
    "# Crear el directorio de salida si no existe\n",
    "os.makedirs(output_directory, exist_ok=True)\n",
    "\n",
    "# Obtener la lista de archivos de entrada\n",
    "input_files = os.listdir(input_directory)\n",
    "\n",
    "# URL de la API de STRING\n",
    "#string_api_url = \"https://version-12-0.string-db.org/api\"\n",
    "\n",
    "# Formato de salida y método\n",
    "output_format = \"tsv-no-header\"\n",
    "method = \"ppi_enrichment\"\n",
    "\n",
    "# Iterar sobre cada archivo de entrada\n",
    "for input_file in input_files:\n",
    "    # Construir la ruta completa del archivo de entrada\n",
    "    input_file_path = os.path.join(input_directory, input_file)\n",
    "    \n",
    "    # Leer los identificadores del archivo\n",
    "    with open(input_file_path, \"r\") as file:\n",
    "        my_genes = file.read().strip().split(\"\\t\")\n",
    "    \n",
    "    # Construir la solicitud\n",
    "    request_url = \"/\".join([string_api_url, output_format, method])\n",
    "    \n",
    "    # Establecer parámetros\n",
    "    params = {\n",
    "        \"identifiers\" : \"%0d\".join(my_genes), # su/s proteína/s\n",
    "        \"species\" : 9606, # identificador NCBI de la especie (p.ej., el del humano es 9606)  \n",
    "        \"caller_identity\": \"www.facebook.com/MSPCiencias/\" # nombre de su aplicación\n",
    "    }\n",
    "    \n",
    "    # Llamar a STRING\n",
    "    response = requests.post(request_url, data=params)\n",
    "    \n",
    "    # Construir el nombre del archivo de salida\n",
    "    base_name = os.path.splitext(input_file)[0].replace(\"_identificadores_STRING\", \"\")\n",
    "    output_file_name = base_name + \"_EIPP.txt\"\n",
    "    output_file_path = os.path.join(output_directory, output_file_name)\n",
    "    \n",
    "    # Procesar la respuesta y escribir en el archivo de salida\n",
    "    with open(output_file_path, \"w\") as output_file:\n",
    "        for line in response.text.strip().split(\"\\n\"):\n",
    "            columns = line.split(\"\\t\")\n",
    "            if len(columns) >= 6:\n",
    "                number_of_nodes = columns[0]\n",
    "                number_of_edges = columns[1]\n",
    "                average_node_degree = columns[2]\n",
    "                local_clustering_coefficient = columns[3]\n",
    "                expected_number_of_edges = columns[4]\n",
    "                pvalue = columns[5]\n",
    "    \n",
    "                output_file.write(\"Número de nodos:\\t{}\\n\".format(number_of_nodes))\n",
    "                output_file.write(\"Número de aristas:\\t{}\\n\".format(number_of_edges))\n",
    "                output_file.write(\"Grado medio de los nodos:\\t{}\\n\".format(average_node_degree))\n",
    "                output_file.write(\"Coeficiente de agrupamiento local:\\t{}\\n\".format(local_clustering_coefficient))\n",
    "                output_file.write(\"Número de aristas esperado:\\t{}\\n\".format(expected_number_of_edges))\n",
    "                output_file.write(\"Valor p:\\t{}\\n\".format(pvalue))\n",
    "            else:\n",
    "                output_file.write(\"Error: La línea no tiene suficientes columnas.\\n\")\n",
    "    \n",
    "    # Pausa de 1 segundo antes de procesar el siguiente archivo\n",
    "    time.sleep(1)\n",
    "    \n",
    "print(\"Proceso completado.\")"
   ]
  },
  {
   "cell_type": "markdown",
   "id": "4f9df8e2-c44f-4d9f-8de8-4130e740fd7d",
   "metadata": {
    "jp-MarkdownHeadingCollapsed": true,
    "tags": []
   },
   "source": [
    "### Campos de salida:"
   ]
  },
  {
   "cell_type": "markdown",
   "id": "774ee71c-90d0-4238-b7da-69ffcd446fd5",
   "metadata": {},
   "source": [
    "| Campo | Descripción |\n",
    "|:------|:------------|\n",
    "| `number_of_nodes`| Número de proteínas en tu red |\n",
    "| `number_of_edges` | Número de aristas en la red |\n",
    "| `average_node_degree` | Grado medio de los nodos de la red |\n",
    "| `local_clustering_coefficient` | Coeficiente medio de agrupamiento local |\n",
    "| `expected_number_of_edges`| Número esperado de aristas en función de los grados de los nodos |\n",
    "| `p_value`| Significación de que su red tenga más interacciones de las esperadas |"
   ]
  },
  {
   "cell_type": "markdown",
   "id": "df123775-145c-4d9c-ba9e-da5dee727125",
   "metadata": {
    "tags": []
   },
   "source": [
    "## Obtención de las interacciones de la red STRING\n",
    "El método API de red también le permite recuperar su red de interacción STRING para una o múltiples proteínas en varios formatos de texto. Le indicará la puntuación combinada y todas las puntuaciones específicas del canal para el conjunto de proteínas. También puede ampliar el vecindario de la red configurando \"add_nodes\", que añadirá, a su red, nuevos socios de interacción en orden de confianza.\n",
    "\n",
    "Para más información pulse [aquí](https://string-db.org/cgi/help.pl?subpage=api%23getting-the-string-network-interactions)."
   ]
  },
  {
   "cell_type": "markdown",
   "id": "e457286c-6206-4728-8877-51aee2e90c73",
   "metadata": {
    "jp-MarkdownHeadingCollapsed": true,
    "tags": []
   },
   "source": [
    "### Formatos de salida disponibles:"
   ]
  },
  {
   "cell_type": "markdown",
   "id": "68555ab0-5ff8-484e-add2-d1c17ec3c5f3",
   "metadata": {},
   "source": [
    "| Formato | Descripción |\n",
    "|:--------|:------------|\n",
    "| `tsv`| Valores separados por tabuladores, con una línea de encabezamiento |\n",
    "| `tsv-no-header` | Valores separados por tabuladores, sin línea de encabezamiento |\n",
    "| `json` | Formato JSON |\n",
    "| `xml` | Formato XML |\n",
    "| `psi-mi` | Formato XML PSI-MI |\n",
    "| `psi-mi-tab` | Formato PSI-MITAB |"
   ]
  },
  {
   "cell_type": "markdown",
   "id": "0383dec2-7033-4e19-8356-48621c076927",
   "metadata": {
    "jp-MarkdownHeadingCollapsed": true,
    "tags": []
   },
   "source": [
    "### Parámetros disponibles:"
   ]
  },
  {
   "cell_type": "markdown",
   "id": "c4909823-b4df-410c-bf8c-0da165f6a0f9",
   "metadata": {},
   "source": [
    "| Parámetro | Descripción |\n",
    "|:------|:------------|\n",
    "| `identifiers`| Parámetro obligatorio para varios elementos, por ejemplo, DRD1_HUMAN%0dDRD2_HUMAN |\n",
    "| `species` | Identificadores de taxones del NCBI (por ejemplo, Humano es 9606, véase: [organismos de STRING](https://string-db.org/cgi/input.pl?input_page_active_form=organisms)) |\n",
    "| `required_score` | Umbral de significación para incluir una interacción, un número entre 0 y 1000 (por defecto depende de la red) |\n",
    "| `network_type` | Tipo de red: funcional (por defecto), física |\n",
    "| `add_nodes`| Añade un número de proteínas a la red en función de su puntuación de confianza |\n",
    "| `show_query_node_labels`| Cuando está habilitado, utiliza los nombres enviados en la columna preferredName cuando (0 o 1) (por defecto:0) |\n",
    "| `caller_identity`| Su identificador para la API de STRING |\n",
    "\n",
    "Si consulta la API con una proteína, el parámetro \"add_nodes\" se establece automáticamente en 10, de modo que puede obtener el vecindario de interacciones de su proteína de consulta. Sin embargo, al igual que en la página web de STRING, si consulta la API con más de una proteína, el método sólo mostrará las interacciones entre las proteínas de entrada. Por supuesto, siempre puede ampliar el vecindario de interacciones ajustando el parámetro \"add_nodes\" al valor deseado."
   ]
  },
  {
   "cell_type": "markdown",
   "id": "9378cc53-8bdd-4429-aa99-1f5e66b5c64c",
   "metadata": {
    "jp-MarkdownHeadingCollapsed": true,
    "tags": []
   },
   "source": [
    "### ¿Cómo puedo seleccionar un valor de corte razonable para mi análisis?"
   ]
  },
  {
   "cell_type": "markdown",
   "id": "1150c026-4939-4139-9248-334e25a099d9",
   "metadata": {},
   "source": [
    "Puede utilizar la puntuación de corte para limitar el número de interacciones a las que tienen mayor confianza y más probabilidades de ser verdaderos positivos. Establecer el límite más bajo aumentará la cobertura, pero también la fracción de falsos positivos. Debe elegir un número arbitrario basado en el número de interacciones que necesita para su análisis.\n",
    "\n",
    "Fuente de información: https://string-db.org/help//faq/#how-do-i-select-a-reasonable-score-cut-off-value-for-my-analysis"
   ]
  },
  {
   "cell_type": "markdown",
   "id": "ed5261fc-72e2-43f4-9736-a5af63509de5",
   "metadata": {
    "jp-MarkdownHeadingCollapsed": true,
    "tags": []
   },
   "source": [
    "### Ejemplo de código python3"
   ]
  },
  {
   "cell_type": "code",
   "execution_count": 7,
   "id": "036d11da-e085-47cd-a531-44725707d72f",
   "metadata": {
    "tags": []
   },
   "outputs": [
    {
     "name": "stdout",
     "output_type": "stream",
     "text": [
      "RAC2\tCDC42\texperimentally confirmed (prob. 0.481)\n",
      "RAC2\tCDC42\texperimentally confirmed (prob. 0.481)\n",
      "KIF23\tRACGAP1\texperimentally confirmed (prob. 0.993)\n",
      "KIF23\tRACGAP1\texperimentally confirmed (prob. 0.993)\n",
      "KIF23\tPLK1\texperimentally confirmed (prob. 0.621)\n",
      "KIF23\tPLK1\texperimentally confirmed (prob. 0.621)\n",
      "PLK1\tRACGAP1\texperimentally confirmed (prob. 0.721)\n",
      "PLK1\tRACGAP1\texperimentally confirmed (prob. 0.721)\n",
      "CDC42\tRHOA\texperimentally confirmed (prob. 0.705)\n",
      "CDC42\tRHOA\texperimentally confirmed (prob. 0.705)\n",
      "CDC42\tRACGAP1\texperimentally confirmed (prob. 0.820)\n",
      "CDC42\tRACGAP1\texperimentally confirmed (prob. 0.820)\n"
     ]
    }
   ],
   "source": [
    "#!/usr/bin/env python3\n",
    "\n",
    "##################################################################\n",
    "## Para la lista dada de proteinas imprime solo las interacciones\n",
    "## entre estas proteínas que tienen una confianza media o alta\n",
    "## puntuación experimental\n",
    "##\n",
    "## Requiere el módulo requests:\n",
    "## escriba \"python -m pip install requests\" en la linea de comandos (win)\n",
    "## o terminal (mac/linux) para instalar el módulo\n",
    "##################################################################\n",
    "\n",
    "import requests ## python -m pip install requests\n",
    "\n",
    "\n",
    "string_api_url = \"https://version-11-5.string-db.org/api\"\n",
    "output_format = \"tsv-no-header\"\n",
    "method = \"network\"\n",
    "\n",
    "##\n",
    "## Construir URL\n",
    "##\n",
    "\n",
    "request_url = \"/\".join([string_api_url, output_format, method])\n",
    "\n",
    "##\n",
    "## Establecer parámetros\n",
    "##\n",
    "\n",
    "my_genes = [\"CDC42\",\"CDK1\",\"KIF23\",\"PLK1\",\n",
    "            \"RAC2\",\"RACGAP1\",\"RHOA\",\"RHOB\"]\n",
    "\n",
    "params = {\n",
    "\n",
    "    \"identifiers\" : \"%0d\".join(my_genes), # su/s proteína/s\n",
    "    \"species\" : 9606, # identificador NCBI de la especie \n",
    "    \"caller_identity\" : \"www.awesome_app.org\" # nombre de su aplicación\n",
    "\n",
    "}\n",
    "\n",
    "##\n",
    "## Llamar a STRING\n",
    "##\n",
    "\n",
    "response = requests.post(request_url, data=params)\n",
    "\n",
    "for line in response.text.strip().split(\"\\n\"):\n",
    "\n",
    "    l = line.strip().split(\"\\t\")\n",
    "    p1, p2 = l[2], l[3]\n",
    "\n",
    "    ## filtrar la interacción según la puntuación experimental\n",
    "    experimental_score = float(l[10])\n",
    "    if experimental_score > 0.4:\n",
    "        ## print \n",
    "        print(\"\\t\".join([p1, p2, \"experimentally confirmed (prob. %.3f)\" % experimental_score]))"
   ]
  },
  {
   "cell_type": "markdown",
   "id": "48ff1dd7-692d-45bd-bb0d-70cced5e6c6e",
   "metadata": {},
   "source": [
    "### Código a ejecutar"
   ]
  },
  {
   "cell_type": "code",
   "execution_count": 91,
   "id": "e4b4b5d7-e548-4558-986e-e2ba63327443",
   "metadata": {
    "tags": []
   },
   "outputs": [
    {
     "name": "stdout",
     "output_type": "stream",
     "text": [
      "Los resultados del archivo ACOT9_2_identificadores_STRING.txt se han guardado en el archivo Excel: Interacciones_red\\ACOT9_2_interacciones_red.xlsx\n",
      "Los resultados del archivo MMP1_identificadores_STRING.txt se han guardado en el archivo Excel: Interacciones_red\\MMP1_interacciones_red.xlsx\n",
      "Los resultados del archivo MMP3_2_identificadores_STRING.txt se han guardado en el archivo Excel: Interacciones_red\\MMP3_2_interacciones_red.xlsx\n",
      "Los resultados del archivo NETO2_identificadores_STRING.txt se han guardado en el archivo Excel: Interacciones_red\\NETO2_interacciones_red.xlsx\n",
      "Los resultados del archivo PSMB2_2_identificadores_STRING.txt se han guardado en el archivo Excel: Interacciones_red\\PSMB2_2_interacciones_red.xlsx\n",
      "Los resultados del archivo SLC16A1_2_identificadores_STRING.txt se han guardado en el archivo Excel: Interacciones_red\\SLC16A1_2_interacciones_red.xlsx\n",
      "Proceso completado.\n"
     ]
    }
   ],
   "source": [
    "#!/usr/bin/env python3\n",
    "\n",
    "##################################################################\n",
    "## Para la lista dada de proteinas imprime solo las interacciones\n",
    "## entre estas proteínas que tienen una confianza media o alta\n",
    "## puntuación experimental\n",
    "##\n",
    "## Requiere el módulo requests:\n",
    "## escriba \"python -m pip install requests\" en la linea de comandos (win)\n",
    "## o terminal (mac/linux) para instalar el módulo\n",
    "##################################################################\n",
    "import os\n",
    "#!pip3 install requests\n",
    "import requests\n",
    "#!pip3 install openpyxl\n",
    "import openpyxl\n",
    "import time\n",
    "\n",
    "# Carpeta de entrada y salida\n",
    "input_folder = \"Identificadores_STRING\"\n",
    "output_folder = \"Interacciones_red\"\n",
    "\n",
    "# Verificar si la carpeta de salida existe, si no, crearla\n",
    "if not os.path.exists(output_folder):\n",
    "    os.makedirs(output_folder)\n",
    "\n",
    "# Obtener la lista de archivos .txt en la carpeta de entrada\n",
    "txt_files = [f for f in os.listdir(input_folder) if f.endswith('.txt')]\n",
    "\n",
    "# Iterar sobre cada archivo .txt\n",
    "for txt_file in txt_files:\n",
    "    try:\n",
    "        # Leer los identificadores del archivo .txt\n",
    "        file_path = os.path.join(input_folder, txt_file)\n",
    "        with open(file_path, \"r\") as file:\n",
    "            my_genes = file.read().strip().split(\"\\t\")\n",
    "\n",
    "        # Definir la URL de la API de STRING\n",
    "        #string_api_url = \"https://version-12-0.string-db.org/api\"\n",
    "        output_format = \"tsv-no-header\"\n",
    "        method = \"network\"\n",
    "        request_url = \"/\".join([string_api_url, output_format, method])\n",
    "\n",
    "        # Establecer parámetros\n",
    "        params = {\n",
    "            \"identifiers\": \"%0d\".join(my_genes), # su/s proteína/s\n",
    "            \"species\": 9606, # identificador NCBI de la especie (p.ej., el del humano es 9606) \n",
    "            \"caller_identity\": \"www.facebook.com/MSPCiencias/\" # nombre de su aplicación\n",
    "        }\n",
    "\n",
    "        # Llamar a STRING\n",
    "        response = requests.post(request_url, data=params)\n",
    "\n",
    "        # Verificar si la respuesta fue exitosa\n",
    "        response.raise_for_status()\n",
    "\n",
    "        # Crear un nuevo archivo Excel\n",
    "        wb = openpyxl.Workbook()\n",
    "        ws = wb.active\n",
    "        ws.append([\"ID STRING PA\", \"Proteína A\", \"Proteína B\", \"Confirmación experimental\", \"Probabilidad\", \"Interacciones de alta confianza\", \"Puntuación combinada\"])\n",
    "\n",
    "        # Procesar la respuesta y escribir en el archivo Excel\n",
    "        for line in response.text.strip().split(\"\\n\"):\n",
    "            l = line.strip().split(\"\\t\")\n",
    "            if len(l) >= 13:  # Verificar si hay suficientes columnas en la línea\n",
    "                stringId_A, preferredName_A, preferredName_B = l[0], l[2], l[3]\n",
    "                escore = float(l[10])\n",
    "                confirmation = \"Sí\" if escore > 0.5 else \"No\"\n",
    "                score = float(l[5])\n",
    "                high_confidence = \"Sí\" if score > 0.7 else \"No\"\n",
    "                ws.append([stringId_A, preferredName_A, preferredName_B, confirmation, \"%.3f\" % escore, high_confidence, \"%.3f\" % score])\n",
    "\n",
    "        # Guardar el archivo Excel\n",
    "        excel_file_name = txt_file.replace(\"_identificadores_STRING.txt\", \"_interacciones_red.xlsx\")\n",
    "        excel_file_path = os.path.join(output_folder, excel_file_name)\n",
    "        wb.save(excel_file_path)\n",
    "        print(\"Los resultados del archivo {} se han guardado en el archivo Excel: {}\".format(txt_file, excel_file_path))\n",
    "    except Exception as e:\n",
    "        print(\"Se produjo un error al procesar el archivo {}: {}\".format(txt_file, str(e)))\n",
    "        continue\n",
    "\n",
    "    # Hacer una pausa de 1 segundo antes de procesar el siguiente archivo\n",
    "    time.sleep(1)\n",
    "\n",
    "print(\"Proceso completado.\")"
   ]
  },
  {
   "cell_type": "markdown",
   "id": "c552419d-9485-4241-9411-f99d25aff22b",
   "metadata": {
    "jp-MarkdownHeadingCollapsed": true,
    "tags": []
   },
   "source": [
    "### Campos de salida (en formatos TSV y JSON):"
   ]
  },
  {
   "cell_type": "markdown",
   "id": "3b56df4a-db20-44f1-ba3f-cc00386d3965",
   "metadata": {},
   "source": [
    "| Campo | Descripción |\n",
    "|:------|:------------|\n",
    "| `stringId_A` | Identificador de STRING (proteína A) |\n",
    "| `stringId_B` | Identificador de STRING (proteína B) |\n",
    "| `preferredName_A` | Nombre común de la proteína (proteína A) |\n",
    "| `preferredName_B` | Nombre común de la proteína (proteína B) |\n",
    "| `ncbiTaxonId` | Identificador de taxón del NCBI |\n",
    "| `score` | Puntuación combinada |\n",
    "| `nscore` | Puntuación de vecindad de genes |\n",
    "| `fscore` | Puntuación de fusión de genes |\n",
    "| `pscore` | Puntuación del perfil filogenético |\n",
    "| `ascore` | Puntuación de coexpresión |\n",
    "| `escore` | Puntuación experimental |\n",
    "| `dscore` | Puntuación de la base de datos |\n",
    "| `tscore` | Puntuación de minería de textos |"
   ]
  },
  {
   "cell_type": "markdown",
   "id": "329721b4-4fdc-4ed7-a400-fbd932f61d9f",
   "metadata": {
    "jp-MarkdownHeadingCollapsed": true,
    "tags": []
   },
   "source": [
    "### ¿Qué significan las columnas de puntuación (por ejemplo, nscore, fscore, tscore, etc.)?"
   ]
  },
  {
   "cell_type": "markdown",
   "id": "8c5944c6-b740-4d9b-b188-6e172273776e",
   "metadata": {},
   "source": [
    "He aquí un resumen.\n",
    "* nscore - puntuación de vecindad, (calculada a partir del recuento de nucleótidos entre genes).\n",
    "* fscore - puntuación de fusión (derivada de proteínas fusionadas en otras especies).\n",
    "* pscore - puntuación de coocurrencia del perfil filético (derivada de patrones similares de ausencia/presencia de genes).\n",
    "* hscore - puntuación de homología, el grado de homología de los interactores (normalmente no se informa en STRING).\n",
    "* ascore - puntuación de coexpresión (derivada de patrones similares de expresión de ARNm medidos mediante matrices de ADN y tecnologías similares).\n",
    "* escore - puntuación experimental (derivada de datos experimentales, como cromatografía de afinidad).\n",
    "* dscore - puntuación de base de datos (derivada de datos curados de varias bases de datos).\n",
    "* tscore - puntuación de minería de textos (derivada de la co-ocurrencia de nombres de genes/proteínas en resúmenes)."
   ]
  },
  {
   "cell_type": "markdown",
   "id": "8f04bbc2-2297-46f8-b031-ea7838121e36",
   "metadata": {
    "jp-MarkdownHeadingCollapsed": true,
    "tags": []
   },
   "source": [
    "### ¿Cómo se calculan las puntuaciones?"
   ]
  },
  {
   "cell_type": "markdown",
   "id": "9b05a4fb-8b60-4469-951c-073f4e48ac44",
   "metadata": {},
   "source": [
    "La puntuación combinada (score) se calcula combinando las probabilidades de los distintos canales de evidencia y se corrige para tener en cuenta la probabilidad de observar aleatoriamente una interacción. Para una descripción más detallada, véase [von Mering, et al. Nucleic Acids Res. 2005](https://www.ncbi.nlm.nih.gov/pubmed/15608232).\n",
    "\n",
    "Para combinar las puntuaciones se suman las probabilidades de cada uno de los canales. A cada canal se le ha añadido un 'prior' para tener en cuenta la probabilidad de que dos proteínas elegidas al azar estén interactuando. Antes de combinar los canales, hay que eliminar el \"prior\" y volver a añadirlo a la puntuación combinada. Así es como se calcula la puntuación combinada para una interacción. De todos modos, dispone de más información en la sección de preguntas frecuentes [(FAQ)](https://string-db.org/help//faq/#how-are-the-scores-computed)."
   ]
  },
  {
   "cell_type": "markdown",
   "id": "178f4071-f1bb-4a4c-98b6-ffd5d4a23565",
   "metadata": {},
   "source": [
    "### ¿Cómo extraer interacciones de alta confianza (>0.7)?\n",
    "Tenga en cuenta que las puntuaciones se multiplican por 1000 para hacerlos enteros.\n",
    "\n",
    "Fuente: https://string-db.org/help//faq/#how-to-extract-high-confidence-07-interactions-from-information-on-combined-score-in-proteinlinkstxtgz"
   ]
  },
  {
   "cell_type": "code",
   "execution_count": 118,
   "id": "6818d1f3-1fd4-435d-9ed2-720679628cd6",
   "metadata": {
    "tags": []
   },
   "outputs": [
    {
     "name": "stdout",
     "output_type": "stream",
     "text": [
      "No se generó un nuevo archivo para SLC5A8_2_interacciones_red.xlsx porque no contenía interacciones de alta confianza.\n",
      "Proceso completado.\n"
     ]
    }
   ],
   "source": [
    "import os\n",
    "import pandas as pd\n",
    "\n",
    "# Ruta de la carpeta que contiene los archivos .xlsx\n",
    "folder_path = 'Interacciones_red'\n",
    "\n",
    "# Obtener la lista de todos los archivos .xlsx en la carpeta\n",
    "files = [f for f in os.listdir(folder_path) if f.endswith('.xlsx')]\n",
    "\n",
    "for file in files:\n",
    "    # Leer el archivo .xlsx\n",
    "    input_path = os.path.join(folder_path, file)\n",
    "    df = pd.read_excel(input_path)\n",
    "\n",
    "    # Filtrar las filas que cumplen las condiciones especificadas\n",
    "    filtered_df = df[(df['Probabilidad'] > 0.5) & (df['Puntuación combinada'] >= 0.7)]\n",
    "\n",
    "    # Eliminar las columnas \"Confirmación experimental\" e \"Interacciones de alta confianza\"\n",
    "    filtered_df = filtered_df.drop(columns=['Confirmación experimental', 'Interacciones de alta confianza'])\n",
    "\n",
    "    # Renombrar la columna \"Probabilidad\" a \"Probabilidad confirmación experimental\"\n",
    "    filtered_df = filtered_df.rename(columns={'Probabilidad': 'Probabilidad confirmación experimental'})\n",
    "\n",
    "    # Eliminar las filas que ocupan una posición par (índice par)\n",
    "    filtered_df = filtered_df.iloc[1::2]\n",
    "\n",
    "    # Verificar si el DataFrame resultante no está vacío antes de guardarlo\n",
    "    if not filtered_df.empty:\n",
    "        # Crear el nombre del archivo de salida\n",
    "        output_file_name = file.replace('.xlsx', '_AC.xlsx')\n",
    "        output_path = 'Interacciones_alta_confianza'\n",
    "        output_path = os.path.join(output_path, output_file_name)\n",
    "\n",
    "        # Escribir el DataFrame resultante a un nuevo archivo .xlsx\n",
    "        filtered_df.to_excel(output_path, index=False)\n",
    "\n",
    "        print(f\"El archivo contenía interacciones de alta confianza y ha sido guardado en: {output_path}\")\n",
    "    else:\n",
    "        print(f\"No se generó un nuevo archivo para {file} porque no contenía interacciones de alta confianza.\")\n",
    "        \n",
    "print(\"Proceso completado.\")"
   ]
  },
  {
   "cell_type": "markdown",
   "id": "dbf5c8fb-8944-440b-8002-e7cd2396622c",
   "metadata": {},
   "source": [
    "### Identificación de posibles parejas SL con relevancia funcional"
   ]
  },
  {
   "cell_type": "code",
   "execution_count": 81,
   "id": "0da880d5-956f-4fd1-9f46-a384000b8524",
   "metadata": {
    "tags": []
   },
   "outputs": [
    {
     "name": "stdout",
     "output_type": "stream",
     "text": [
      "El archivo ACOT9_2_interacciones_red-AC.xlsx no cumple la condición y no se ha creado un nuevo archivo.\n",
      "Archivo guardado: Interacciones_interes\\PSMB2_STRING_PP_SL.xlsx\n",
      "Proceso completado.\n"
     ]
    }
   ],
   "source": [
    "import os\n",
    "import pandas as pd\n",
    "\n",
    "# Directorios de entrada y salida\n",
    "input_directory = 'Interacciones_alta_confianza'\n",
    "output_directory = 'Interacciones_interes'\n",
    "\n",
    "# Crear el directorio de salida si no existe\n",
    "os.makedirs(output_directory, exist_ok=True)\n",
    "\n",
    "# Procesar cada archivo en la carpeta de entrada\n",
    "for filename in os.listdir(input_directory):\n",
    "    if filename.endswith('_interacciones_red_AC.xlsx') or filename.endswith('_2_interacciones_red_AC.xlsx'):\n",
    "        # Obtener el nombre base del archivo sin la terminación\n",
    "        if filename.endswith('_2_interacciones_red_AC.xlsx'):\n",
    "            base_name = filename.replace('_2_interacciones_red_AC.xlsx', '')\n",
    "        else:\n",
    "            base_name = filename.replace('_interacciones_red_AC.xlsx', '')\n",
    "\n",
    "        # Leer el archivo Excel\n",
    "        file_path = os.path.join(input_directory, filename)\n",
    "        df = pd.read_excel(file_path)\n",
    "\n",
    "        # Filtrar las filas que contengan la cadena en las columnas \"Proteína A\" o \"Proteína B\"\n",
    "        filtered_df = df[(df['Proteína A'].str.contains(base_name, na=False)) | (df['Proteína B'].str.contains(base_name, na=False))]\n",
    "\n",
    "        # Si hay al menos una fila que cumple la condición\n",
    "        if not filtered_df.empty:\n",
    "            # Crear el nuevo nombre del archivo\n",
    "            new_filename = f'{base_name}_STRING_PP_SL.xlsx'\n",
    "            output_path = os.path.join(output_directory, new_filename)\n",
    "            \n",
    "            # Guardar el DataFrame filtrado en un nuevo archivo Excel\n",
    "            filtered_df.to_excel(output_path, index=False)\n",
    "            print(f'Archivo guardado: {output_path}')\n",
    "        else:\n",
    "            # Imprimir mensaje si no hay filas que cumplan la condición\n",
    "            print(f'El archivo {filename} no cumple la condición y no se ha creado un nuevo archivo.')\n",
    "\n",
    "print(\"Proceso completado.\")"
   ]
  },
  {
   "cell_type": "markdown",
   "id": "7268430c-712f-42a2-9556-55c8a3c34f0b",
   "metadata": {},
   "source": [
    "## Selección de los identificadores de STRING de los posibles pares SL"
   ]
  },
  {
   "cell_type": "code",
   "execution_count": 82,
   "id": "8cef9097-227a-4cb7-9ae2-178ead5f1433",
   "metadata": {
    "tags": []
   },
   "outputs": [
    {
     "name": "stdout",
     "output_type": "stream",
     "text": [
      "Movido: PSMB2_2_identificadores_STRING.txt\n",
      "Proceso completado.\n"
     ]
    }
   ],
   "source": [
    "import os\n",
    "import shutil\n",
    "\n",
    "# Define los directorios\n",
    "interacciones_interes_dir = 'Interacciones_interes'\n",
    "identificadores_string_dir = 'Identificadores_STRING'\n",
    "identificadores_string_interes_dir = 'Identificadores_STRING_interes'\n",
    "\n",
    "# Crea una lista con los nombres de los archivos en la carpeta Interacciones_interes quitando la terminación \"_STRING_PP_SL.xlsxxx\"\n",
    "intereses_nombres = []\n",
    "for filename in os.listdir(interacciones_interes_dir):\n",
    "    if filename.endswith('_STRING_PP_SL.xlsx'):\n",
    "        intereses_nombres.append(filename.replace('_STRING_PP_SL.xlsx', ''))\n",
    "\n",
    "# Asegúrate de que el directorio Identificadores_STRING_interes exista\n",
    "if not os.path.exists(identificadores_string_interes_dir):\n",
    "    os.makedirs(identificadores_string_interes_dir)\n",
    "\n",
    "# Mueve los archivos cuyo nombre corresponda con alguno de los de la lista\n",
    "for filename in os.listdir(identificadores_string_dir):\n",
    "    base_name = filename.replace('_2_identificadores_STRING.txt', '').replace('_identificadores_STRING.txt', '')\n",
    "    if base_name in intereses_nombres:\n",
    "        src = os.path.join(identificadores_string_dir, filename)\n",
    "        dst = os.path.join(identificadores_string_interes_dir, filename)\n",
    "        shutil.move(src, dst)\n",
    "        print(f'Movido: {filename}')\n",
    "        \n",
    "print(\"Proceso completado.\")"
   ]
  },
  {
   "cell_type": "markdown",
   "id": "c82a22e5-feab-4c47-9490-67157d47366f",
   "metadata": {
    "tags": []
   },
   "source": [
    "## Obtención de la imagen de red STRING\n",
    "Con esta API puede recuperar una imagen de una red STRING de un vecindario que rodea una o más proteínas o pedir a STRING que muestre sólo la red de interacciones entre sus proteínas de entrada. Tanto los sabores de red (confianza y evidencia) como los tipos de red (funcional y física) son accesibles a través de la API. La API puede mostrar la imagen como un PNG (baja y alta resolución con canal alfa) o como un SVG (gráficos vectoriales que pueden ser modificados a través de scripts o en un software apropiado).\n",
    "\n",
    "Para más información pulse [aquí](https://string-db.org/cgi/help.pl?subpage=api%23getting-string-network-image)."
   ]
  },
  {
   "cell_type": "markdown",
   "id": "a570d486-a6e6-40ed-9a7d-5f4e0df81d00",
   "metadata": {
    "jp-MarkdownHeadingCollapsed": true,
    "tags": []
   },
   "source": [
    "### Formatos de salida disponibles:"
   ]
  },
  {
   "cell_type": "markdown",
   "id": "b5c0a49a-1582-4c0d-8543-6d4ea2f8156d",
   "metadata": {},
   "source": [
    "| Formato | Descripción |\n",
    "|:--------|:------------|\n",
    "| `image`| imagen PNG de red con canal alfa |\n",
    "| `highres_image` | Imagen PNG de red de alta resolución con canal alfa |\n",
    "| `svg` | Formato de gráficos vectoriales (SVG) |"
   ]
  },
  {
   "cell_type": "markdown",
   "id": "76482b8b-4f8d-4899-8b71-c2838e11ccc8",
   "metadata": {
    "jp-MarkdownHeadingCollapsed": true,
    "tags": []
   },
   "source": [
    "### Parámetros disponibles:"
   ]
  },
  {
   "cell_type": "markdown",
   "id": "2d31831d-11c5-4500-86b2-d30ffe37f790",
   "metadata": {},
   "source": [
    "#### Datos\n",
    "| Parámetro | Descripción |\n",
    "|:------|:------------|\n",
    "| `identifiers`| Parámetro obligatorio para varios elementos, por ejemplo, DRD1_HUMAN%0dDRD2_HUMAN |\n",
    "| `species` | Identificadores de taxones del NCBI (por ejemplo, Humano es 9606, véase: [organismos de STRING](https://string-db.org/cgi/input.pl?input_page_active_form=organisms)) |\n",
    "| `add_color_nodes` | Añade nodos de color basados en puntuaciones a las proteínas de entrada |\n",
    "| `add_white_nodes` | Añade nodos blancos basados en puntuaciones a las proteínas de entrada (añadidos después de los nodos de color) |\n",
    "| `required_score`| Umbral de significación para incluir una interacción, un número entre 0 y 1000 (por defecto depende de la red) |\n",
    "| `network_type`| Tipo de red: \"functional\" (funcional, por defecto), \"physical\" (física) |\n",
    "| `caller_identity`| Su identificador para la API de STRING |"
   ]
  },
  {
   "cell_type": "markdown",
   "id": "6f6b30ad-1f14-4e8d-9b31-eb2a8f2f98f9",
   "metadata": {
    "tags": []
   },
   "source": [
    "#### Visuales\n",
    "| Parámetro | Descripción |\n",
    "|:------|:------------|\n",
    "| `network_flavor`| El estilo de las aristas en la red: \"evidence\" (evidencia, por defecto), \"confidence\" (confianza), acciones |\n",
    "| `hide_node_labels` | Oculta todos los nombres de proteínas de la imagen (0 o 1) (por defecto: 0) |\n",
    "| `hide_disconnected_nodes` | Oculta todas las proteínas que no están conectadas a ninguna otra proteína de su red (0 o 1) (por defecto: 0) |\n",
    "| `show_query_node_labels` | Cuando se proporciona, utiliza los nombres presentados como etiquetas de proteínas en la imagen de red (0 o 1) (por defecto: 0) |\n",
    "| `block_structure_pics_in_bubbles` | Desactiva las imágenes de estructura dentro de la burbuja (0 o 1) (por defecto: 0) |\n",
    "| `flat_node_design` | Desactivar el diseño de burbujas 3D (0 o 1) (por defecto: 0) |\n",
    "| `center_node_labels` | Centrar los nombres de las proteínas en los nodos (0 o 1) (por defecto: 0) |\n",
    "| `custom_label_font_size` | Cambiar el tamaño de letra de los nombres de las proteínas (de 5 a 50) (por defecto: 12) |\n",
    "\n",
    "Si consulta la API con una proteína, el parámetro «add_white_nodes» se establece automáticamente en 10, para que pueda ver el vecindario de interacciones de su proteína de consulta. Sin embargo, al igual que en la página web de STRING, cuando se consulta la API con más de una proteína, sólo se muestran las interacciones entre las proteínas introducidas. Por supuesto, siempre puede ampliar el vecindario de interacciones ajustando el parámetro «add_color/white_nodes» al valor deseado."
   ]
  },
  {
   "cell_type": "markdown",
   "id": "195c2c27-a8ad-4678-ac77-b64c67e00cfe",
   "metadata": {
    "jp-MarkdownHeadingCollapsed": true,
    "tags": []
   },
   "source": [
    "### Ejemplo de código python3"
   ]
  },
  {
   "cell_type": "code",
   "execution_count": null,
   "id": "b009773a-aa94-482a-81c7-949dfa139b1b",
   "metadata": {},
   "outputs": [],
   "source": [
    "#!/usr/bin/env python3\n",
    "\n",
    "################################################################\n",
    "## Para cada proteína de una lista guardar la imagen PNG de\n",
    "## red STRING de sus 15 socios de interacción más seguros.\n",
    "##\n",
    "## Requiere el módulo requests:\n",
    "## escriba \"python -m pip install requests\" en la línea de comandos (win)\n",
    "## o terminal (mac/linux) para instalar el módulo\n",
    "################################################################\n",
    "\n",
    "import requests ## python -m pip install requests\n",
    "from time import sleep\n",
    "\n",
    "string_api_url = \"https://version-11-5.string-db.org/api\"\n",
    "output_format = \"image\"\n",
    "method = \"network\"\n",
    "\n",
    "my_genes = [\"YMR055C\", \"YFR028C\",\n",
    "            \"YNL161W\", \"YOR373W\",\n",
    "            \"YFL009W\", \"YBR202W\"]\n",
    "\n",
    "\n",
    "##\n",
    "## Construir URL\n",
    "##\n",
    "\n",
    "\n",
    "request_url = \"/\".join([string_api_url, output_format, method])\n",
    "\n",
    "## Para cada gen, llame a STRING\n",
    "\n",
    "for gene in my_genes:\n",
    "\n",
    "    ##\n",
    "    ## Establecer parámetros\n",
    "    ##\n",
    "\n",
    "    params = {\n",
    "\n",
    "        \"identifiers\" : gene, # su/s proteína/s\n",
    "        \"species\" : 4932, # identificador NCBI de la especie\n",
    "        \"add_white_nodes\": 15, # añadir 15 nodos blancos a mi proteína \n",
    "        \"network_flavor\": \"confidence\", # mostrar enlaces de confianza\n",
    "        \"caller_identity\" : \"www.awesome_app.org\" # nombre de su aplicación\n",
    "\n",
    "    }\n",
    "\n",
    "\n",
    "    ##\n",
    "    ## Llamar a STRING\n",
    "    ##\n",
    "\n",
    "    response = requests.post(request_url, data=params)\n",
    "\n",
    "    ##\n",
    "    ## Guardar la red en un archivo\n",
    "    ##\n",
    "\n",
    "    file_name = \"%s_network.png\" % gene\n",
    "    print(\"Saving interaction network to %s\" % file_name)\n",
    "\n",
    "    with open(file_name, 'wb') as fh:\n",
    "        fh.write(response.content)\n",
    "\n",
    "    sleep(1)"
   ]
  },
  {
   "cell_type": "markdown",
   "id": "1c5cdc0a-c8cd-41d5-902e-d3addf5a435e",
   "metadata": {},
   "source": [
    "### Código a ejecutar"
   ]
  },
  {
   "cell_type": "code",
   "execution_count": 9,
   "id": "baad2b87-2dda-40c4-81c2-619486261913",
   "metadata": {
    "tags": []
   },
   "outputs": [
    {
     "name": "stdout",
     "output_type": "stream",
     "text": [
      "Saving interaction network to Imagenes_red\\TP53_2_red.png\n",
      "Proceso completado.\n"
     ]
    }
   ],
   "source": [
    "#!/usr/bin/env python3\n",
    "\n",
    "################################################################\n",
    "## Para cada proteína de una lista guardar la imagen PNG de\n",
    "## red STRING de sus 15 socios de interacción más seguros.\n",
    "##\n",
    "## Requiere el módulo requests:\n",
    "## escriba \"python -m pip install requests\" en la línea de comandos (win)\n",
    "## o terminal (mac/linux) para instalar el módulo\n",
    "################################################################\n",
    "#!pip3 install requests\n",
    "import requests  # python -m pip install requests\n",
    "import os\n",
    "import glob\n",
    "from time import sleep\n",
    "\n",
    "# Definir el directorio de entrada y el directorio de salida\n",
    "input_directory = 'Identificadores_STRING_interes'\n",
    "output_directory = \"Imagenes_red\"\n",
    "os.makedirs(output_directory, exist_ok=True)\n",
    "\n",
    "# Leer genes desde el archivo\n",
    "def read_genes_from_file(file_path):\n",
    "    with open(file_path, 'r') as file:\n",
    "        genes = [line.strip() for line in file if line.strip()]\n",
    "    return genes\n",
    "\n",
    "#string_api_url = \"https://version-11-5.string-db.org/api\"\n",
    "output_format = \"image\"\n",
    "method = \"network\"\n",
    "\n",
    "def get_string_network(genes, output_file):\n",
    "    request_url = \"/\".join([string_api_url, output_format, method])\n",
    "    \n",
    "    params = {\n",
    "        \"identifiers\": genes,  # su/s proteína/s\n",
    "        \"species\": 9606,  # identificador NCBI de la especie (p.ej., el del humano es 9606)\n",
    "        \"add_white_nodes\": 5,  # añadir 5 nodos blancos a mi proteína\n",
    "        \"required_score\": 700,  # umbral de significación para incluir una interacción, un número entre 0 y 1000 (por defecto depende de la red)\n",
    "        \"network_type\": \"functional\",  # tipo de red: \"functional\" (por defecto), \"physical\"\n",
    "        \"network_flavor\": \"confidence\",  # mostrar enlaces de confianza\n",
    "        \"hide_disconnected_nodes\": \"1\",  # Oculta todas las proteínas que no están conectadas a ninguna otra proteína de su red (0 o 1) (por defecto:0).\n",
    "        \"caller_identity\": \"www.facebook.com/MSPCiencias/\"  # nombre de su aplicación\n",
    "    }\n",
    "    \n",
    "    try:\n",
    "        response = requests.post(request_url, data=params)\n",
    "        response.raise_for_status()\n",
    "    except requests.exceptions.RequestException as e:\n",
    "        print(f\"Error fetching data for genes {genes}: {e}\")\n",
    "        return\n",
    "    \n",
    "    print(f\"Saving interaction network to {output_file}\")\n",
    "    \n",
    "    with open(output_file, 'wb') as fh:\n",
    "        fh.write(response.content)\n",
    "\n",
    "# Procesar todos los archivos .txt en el directorio de entrada\n",
    "for input_file in glob.glob(os.path.join(input_directory, '*.txt')):\n",
    "    my_genes = read_genes_from_file(input_file)\n",
    "    joined_genes = \"%0d\".join(my_genes)\n",
    "    \n",
    "    # Generar el nombre del archivo de salida\n",
    "    base_name = os.path.basename(input_file)\n",
    "    output_file_name = base_name.replace('_identificadores_STRING', '').replace('.txt', '') + '_red.png'\n",
    "    output_file_path = os.path.join(output_directory, output_file_name)\n",
    "    \n",
    "    # Hacer una petición conjunta para todos los genes\n",
    "    get_string_network(joined_genes, output_file_path)\n",
    "    \n",
    "    # Esperar un segundo antes de la siguiente petición\n",
    "    sleep(1)\n",
    "    \n",
    "print(\"Proceso completado.\")"
   ]
  },
  {
   "cell_type": "markdown",
   "id": "acfc8f40-16fd-4114-9581-1560f003ab94",
   "metadata": {
    "tags": []
   },
   "source": [
    "## Recuperación de anotaciones funcionales.\n",
    "STRING mapea varias bases de datos en sus proteínas, esto incluye: [Gene Ontology](https://www.geneontology.org/), [rutas de KEGG](http://www.genome.jp/kegg/pathway.html), [palabras clave de UniProt](https://www.uniprot.org/help/keywords), publicaciones de [PubMed](https://www.ncbi.nlm.nih.gov/pubmed/), [dominios de Pfam](http://pfam.xfam.org/), [dominios de InterPro](https://www.ebi.ac.uk/interpro/), y [dominios de SMART](http://smart.embl.de/). Puede recuperar todas estas anotaciones (y no sólo el subconjunto enriquecido) para sus proteínas a través de esta API. Debido al gran tamaño potencial de las asignaciones PubMed (Publicaciones de Referencia), no se enviarán por defecto, pero puede volver a activarlas especificando el parámetro 'allow_pubmed=1'.\n",
    "\n",
    "Nota: las anotaciones KEGG no están disponibles debido a las restricciones de la licencia KEGG.\n",
    "\n",
    "Para información adicional pulse [aquí](https://string-db.org/cgi/help.pl?subpage=api%23retrieving-functional-annotation)."
   ]
  },
  {
   "cell_type": "markdown",
   "id": "b4b91465-7817-4bfb-a723-c0d77d1f4aaa",
   "metadata": {
    "jp-MarkdownHeadingCollapsed": true,
    "tags": []
   },
   "source": [
    "### Formatos de salida disponibles:"
   ]
  },
  {
   "cell_type": "markdown",
   "id": "e01cb765-7604-4667-a517-8378f1cff558",
   "metadata": {},
   "source": [
    "| Formato | Descripción |\n",
    "|:--------|:------------|\n",
    "| `tsv`| Valores separados por tabuladores, con una línea de encabezamiento |\n",
    "| `tsv-no-header` | Valores separados por tabuladores, sin línea de encabezamiento |\n",
    "| `json` | Formato JSON |\n",
    "| `xml` | Formato XML |"
   ]
  },
  {
   "cell_type": "markdown",
   "id": "7b6da9f3-4562-4de5-9d02-56109519290c",
   "metadata": {
    "jp-MarkdownHeadingCollapsed": true,
    "tags": []
   },
   "source": [
    "### Parámetros disponibles:"
   ]
  },
  {
   "cell_type": "markdown",
   "id": "f9f207ac-58b8-4cd7-a678-b7560c869e33",
   "metadata": {},
   "source": [
    "| Parámetro | Descripción |\n",
    "|:------|:------------|\n",
    "| `identifiers`| Parámetro obligatorio para varios elementos, por ejemplo, DRD1_HUMAN%0dDRD2_HUMAN |\n",
    "| `species` | Identificadores de taxones del NCBI (por ejemplo, Humano es 9606, véase: [organismos de STRING](https://string-db.org/cgi/input.pl?input_page_active_form=organisms)) |\n",
    "| `allow_pubmed` | \"1\" para imprimir también las anotaciones de PubMed además de otras categorías, por defecto es \"0\" |\n",
    "| `only_pubmed` | \"1\" para imprimir sólo las anotaciones de PubMed, por defecto es \"0\" |\n",
    "| `caller_identity`| Su identificador para la API de STRING |"
   ]
  },
  {
   "cell_type": "markdown",
   "id": "54528621-1f39-4c8a-846a-7a7ec206f9d9",
   "metadata": {},
   "source": [
    "### Ejemplo de llamada (anotación funcional de la CDK1 humana):\n",
    "https://string-db.org/api/tsv/functional_annotation?identifiers=cdk1"
   ]
  },
  {
   "cell_type": "markdown",
   "id": "0bd79456-64e1-4060-b441-57df2a7cc165",
   "metadata": {},
   "source": [
    "### Código a ejecutar"
   ]
  },
  {
   "cell_type": "code",
   "execution_count": 84,
   "id": "66d7c21c-e373-49fd-9d91-d6df76a94abc",
   "metadata": {
    "tags": []
   },
   "outputs": [
    {
     "name": "stdout",
     "output_type": "stream",
     "text": [
      "Los resultados del archivo PSMB2_2_identificadores_STRING.txt se han guardado en el archivo Excel: Anotaciones_funcionales\\PSMB2_2_anotaciones_funcionales.xlsx\n",
      "Proceso completado.\n"
     ]
    }
   ],
   "source": [
    "#!/usr/bin/env python3\n",
    "\n",
    "##################################################################\n",
    "## Para la lista dada de proteinas imprime sus correspondientes anotaciones\n",
    "## (y no sólo el subconjunto enriquecido)\n",
    "##\n",
    "## Requiere el módulo requests:\n",
    "## escriba \"python -m pip install requests\" en la linea de comandos (win)\n",
    "## o terminal (mac/linux) para instalar el módulo\n",
    "##################################################################\n",
    "import os\n",
    "#!pip3 install requests\n",
    "import requests\n",
    "#!pip3 install openpyxl\n",
    "import openpyxl\n",
    "import time\n",
    "\n",
    "# Carpeta de entrada y salida\n",
    "input_folder = \"Identificadores_STRING_interes\"\n",
    "output_folder = \"Anotaciones_funcionales\"\n",
    "\n",
    "# Verificar si la carpeta de salida existe, si no, crearla\n",
    "if not os.path.exists(output_folder):\n",
    "    os.makedirs(output_folder)\n",
    "\n",
    "# Obtener la lista de archivos .txt en la carpeta de entrada\n",
    "txt_files = [f for f in os.listdir(input_folder) if f.endswith('.txt')]\n",
    "\n",
    "# Iterar sobre cada archivo .txt\n",
    "for txt_file in txt_files:\n",
    "    try:\n",
    "        # Leer los identificadores del archivo .txt\n",
    "        file_path = os.path.join(input_folder, txt_file)\n",
    "        with open(file_path, \"r\") as file:\n",
    "            my_genes = file.read().strip().split(\"\\t\")\n",
    "\n",
    "        # Definir la URL de la API de STRING\n",
    "        #string_api_url = \"https://version-12-0.string-db.org/api\"\n",
    "        output_format = \"tsv-no-header\"\n",
    "        method = \"functional_annotation\"\n",
    "        request_url = \"/\".join([string_api_url, output_format, method])\n",
    "\n",
    "        # Establecer parámetros\n",
    "        params = {\n",
    "            \"identifiers\": \"%0d\".join(my_genes), # su/s proteína/s\n",
    "            \"species\": 9606, # identificador NCBI de la especie (p.ej., el del humano es 9606) \n",
    "            \"caller_identity\": \"www.facebook.com/MSPCiencias/\" # nombre de su aplicación\n",
    "        }\n",
    "\n",
    "        # Llamar a STRING\n",
    "        response = requests.post(request_url, data=params)\n",
    "\n",
    "        # Verificar si la respuesta fue exitosa\n",
    "        response.raise_for_status()\n",
    "\n",
    "        # Crear un nuevo archivo Excel\n",
    "        wb = openpyxl.Workbook()\n",
    "        ws = wb.active\n",
    "        ws.append([\"Categoría\", \"Término\", \"Nº de genes\", \"Proporción en el conjunto\", \"Identificador de taxón del NCBI\",\n",
    "        \"Genes de entrada\", \"Nombres preferidos\", \"Descripción\"])\n",
    "\n",
    "        # Procesar la respuesta y escribir en el archivo Excel\n",
    "        for line in response.text.strip().split(\"\\n\"):\n",
    "            l = line.strip().split(\"\\t\")\n",
    "            if len(l) >= 8:  # Verificar si hay suficientes columnas en la línea\n",
    "                category, term = l[0], l[1]\n",
    "                number_of_genes = int(l[2])\n",
    "                ratio_in_set = float(l[3])\n",
    "                ncbiTaxonId, inputGenes, preferredNames, description = l[4], l[5], l[6], l[7]\n",
    "                ws.append([category, term,  number_of_genes, \"%.2f\" % ratio_in_set, ncbiTaxonId, inputGenes, preferredNames, description])\n",
    "\n",
    "        # Guardar el archivo Excel\n",
    "        excel_file_name = txt_file.replace(\"_identificadores_STRING.txt\", \"_anotaciones_funcionales.xlsx\")\n",
    "        excel_file_path = os.path.join(output_folder, excel_file_name)\n",
    "        wb.save(excel_file_path)\n",
    "        print(\"Los resultados del archivo {} se han guardado en el archivo Excel: {}\".format(txt_file, excel_file_path))\n",
    "    except Exception as e:\n",
    "        print(\"Se produjo un error al procesar el archivo {}: {}\".format(txt_file, str(e)))\n",
    "        continue\n",
    "\n",
    "    # Hacer una pausa de 1 segundo antes de procesar el siguiente archivo\n",
    "    time.sleep(1)\n",
    "\n",
    "print(\"Proceso completado.\")"
   ]
  },
  {
   "cell_type": "markdown",
   "id": "2f378be3-338c-483a-9d8c-d307333ab183",
   "metadata": {
    "jp-MarkdownHeadingCollapsed": true,
    "tags": []
   },
   "source": [
    "### Campos de salida:"
   ]
  },
  {
   "cell_type": "markdown",
   "id": "9352573d-d853-43b4-8b22-314bdc4d9db6",
   "metadata": {},
   "source": [
    "| Campo | Descripción |\n",
    "|:------|:------------|\n",
    "| `category`| Categoría del término (p. ej., proceso GO, vías KEGG) |\n",
    "| `term` | Término enriquecido (término GO, dominio o ruta) |\n",
    "| `number_of_genes` | Número de genes de su lista de entrada con el término asignado |\n",
    "| `ratio_in_set` | Proporción de las proteínas de su lista de entrada con el término asignado |\n",
    "| `ncbiTaxonId`| Identificador de taxón del NCBI |\n",
    "| `inputGenes`| Nombres de los genes a partir de su entrada |\n",
    "| `preferredNames`| Nombres comunes de las proteínas (en el mismo orden que los genes introducidos) |\n",
    "| `description`| Descripción del término enriquecido |"
   ]
  },
  {
   "cell_type": "markdown",
   "id": "9d269dfd-df1b-4e07-a939-d92daf2f8f9a",
   "metadata": {},
   "source": [
    "## Vaciado de las carpetas de archivos\n",
    "Tras copiar los archivos que considere de interés a otra ubicación, puede ejecutar este código para borrar todos los archivos presentes en las carpetas indicadas en la \"Lista de las carpetas\"."
   ]
  },
  {
   "cell_type": "code",
   "execution_count": 85,
   "id": "5ba52a46-2641-4f1b-95ec-c6bcb7c9f09d",
   "metadata": {
    "tags": []
   },
   "outputs": [
    {
     "name": "stdout",
     "output_type": "stream",
     "text": [
      "Archivo Identificadores_STRING\\ACOT9_2_identificadores_STRING.txt eliminado\n",
      "Archivo Identificadores_STRING\\MMP1_identificadores_STRING.txt eliminado\n",
      "Archivo Identificadores_STRING\\MMP3_2_identificadores_STRING.txt eliminado\n",
      "Archivo Identificadores_STRING\\NETO2_identificadores_STRING.txt eliminado\n",
      "Archivo Identificadores_STRING\\SLC16A1_2_identificadores_STRING.txt eliminado\n",
      "Archivo Identificadores_STRING_interes\\PSMB2_2_identificadores_STRING.txt eliminado\n",
      "Archivo Imagenes_red\\PSMB2_2_red.png eliminado\n",
      "Archivo Interacciones_alta_confianza\\ACOT9_2_interacciones_red-AC.xlsx eliminado\n",
      "Archivo Interacciones_alta_confianza\\PSMB2_2_interacciones_red-AC.xlsx eliminado\n",
      "Archivo Interacciones_interes\\PSMB2_STRING_PP_SL.xlsx eliminado\n",
      "Archivo Anotaciones_funcionales\\PSMB2_2_anotaciones_funcionales.xlsx eliminado\n",
      "Proceso completado.\n"
     ]
    }
   ],
   "source": [
    "import os\n",
    "\n",
    "# Lista de las carpetas\n",
    "carpetas = [\n",
    "    \"Firmas_genes\",\n",
    "    \"Identificadores_STRING\",\n",
    "    \"Identificadores_STRING_interes\",\n",
    "    \"Imagenes_red\",\n",
    "    \"Interacciones_alta_confianza\",\n",
    "    \"Interacciones_interes\",\n",
    "    \"Interacciones_red\",\n",
    "    \"Resultados_EIPP\",\n",
    "    \"Anotaciones_funcionales\"\n",
    "]\n",
    "\n",
    "def eliminar_archivos(carpeta):\n",
    "    # Listar todos los elementos en la carpeta\n",
    "    for filename in os.listdir(carpeta):\n",
    "        file_path = os.path.join(carpeta, filename)\n",
    "        try:\n",
    "            # Verificar si es un archivo y eliminarlo\n",
    "            if os.path.isfile(file_path) or os.path.islink(file_path):\n",
    "                os.unlink(file_path)\n",
    "                print(f'Archivo {file_path} eliminado')\n",
    "            # Si es un directorio, lo ignoramos\n",
    "        except Exception as e:\n",
    "            print(f'No se pudo eliminar {file_path}. Razón: {e}')\n",
    "\n",
    "# Eliminar archivos en cada carpeta\n",
    "for carpeta in carpetas:\n",
    "    eliminar_archivos(carpeta)\n",
    "    \n",
    "print(\"Proceso completado.\")"
   ]
  },
  {
   "cell_type": "code",
   "execution_count": null,
   "id": "5d2303d1-7453-46f3-a38b-47822cb72b81",
   "metadata": {},
   "outputs": [],
   "source": []
  }
 ],
 "metadata": {
  "kernelspec": {
   "display_name": "Python 3 (ipykernel)",
   "language": "python",
   "name": "python3"
  },
  "language_info": {
   "codemirror_mode": {
    "name": "ipython",
    "version": 3
   },
   "file_extension": ".py",
   "mimetype": "text/x-python",
   "name": "python",
   "nbconvert_exporter": "python",
   "pygments_lexer": "ipython3",
   "version": "3.11.5"
  }
 },
 "nbformat": 4,
 "nbformat_minor": 5
}
